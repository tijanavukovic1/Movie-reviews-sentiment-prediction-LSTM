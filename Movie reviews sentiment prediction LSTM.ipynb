{
 "cells": [
  {
   "cell_type": "code",
   "execution_count": 1,
   "metadata": {},
   "outputs": [],
   "source": [
    "import numpy as np\n",
    "import math\n",
    "import torch\n",
    "from string import punctuation\n",
    "import torch.nn as nn\n",
    "from ray import tune\n",
    "import os"
   ]
  },
  {
   "cell_type": "markdown",
   "metadata": {},
   "source": [
    "## Reading text files for reviews and sentiments"
   ]
  },
  {
   "cell_type": "code",
   "execution_count": 2,
   "metadata": {},
   "outputs": [],
   "source": [
    "with open('data/reviews.txt') as f:\n",
    "    reviews=f.read()\n",
    "with open('data/labels.txt') as f:\n",
    "    labels=f.read()"
   ]
  },
  {
   "cell_type": "code",
   "execution_count": 3,
   "metadata": {},
   "outputs": [],
   "source": [
    "# make all words lowercase\n",
    "reviews=reviews.lower()\n",
    "\n",
    "#create reviews without punctuation and split it by new row\n",
    "all_text=''.join(c for c in reviews if c not in punctuation)\n",
    "all_text=all_text.split('\\n')\n",
    "final=''.join(all_text)\n",
    "\n",
    "# make list of all words in text\n",
    "final=final.split()\n"
   ]
  },
  {
   "cell_type": "markdown",
   "metadata": {},
   "source": [
    "We have 6 milion words in text."
   ]
  },
  {
   "cell_type": "code",
   "execution_count": 4,
   "metadata": {},
   "outputs": [
    {
     "data": {
      "text/plain": [
       "6020196"
      ]
     },
     "execution_count": 4,
     "metadata": {},
     "output_type": "execute_result"
    }
   ],
   "source": [
    "len(final)"
   ]
  },
  {
   "cell_type": "code",
   "execution_count": 5,
   "metadata": {},
   "outputs": [
    {
     "data": {
      "text/plain": [
       "['bromwell', 'high', 'is', 'a', 'cartoon', 'comedy']"
      ]
     },
     "execution_count": 5,
     "metadata": {},
     "output_type": "execute_result"
    }
   ],
   "source": [
    "final[:6]"
   ]
  },
  {
   "cell_type": "markdown",
   "metadata": {},
   "source": [
    "## Tokenize words\n",
    "\n",
    "Tokenize every word which appear in text to int value"
   ]
  },
  {
   "cell_type": "code",
   "execution_count": 6,
   "metadata": {},
   "outputs": [],
   "source": [
    "unique_words=set(final)\n",
    "pairs={w:i for (i,w) in enumerate(unique_words)}\n"
   ]
  },
  {
   "cell_type": "markdown",
   "metadata": {},
   "source": [
    "## Tokenize every review"
   ]
  },
  {
   "cell_type": "code",
   "execution_count": 7,
   "metadata": {},
   "outputs": [
    {
     "data": {
      "text/plain": [
       "[[21588,\n",
       "  34929,\n",
       "  71345,\n",
       "  54376,\n",
       "  53116,\n",
       "  45001,\n",
       "  616,\n",
       "  19645,\n",
       "  9477,\n",
       "  56308,\n",
       "  53180,\n",
       "  68148,\n",
       "  14528,\n",
       "  28088,\n",
       "  17168,\n",
       "  11183,\n",
       "  55873,\n",
       "  494,\n",
       "  18515,\n",
       "  31601,\n",
       "  14528,\n",
       "  11170,\n",
       "  58918,\n",
       "  54970,\n",
       "  6927,\n",
       "  56308,\n",
       "  8037,\n",
       "  68528,\n",
       "  54275,\n",
       "  27694,\n",
       "  45582,\n",
       "  32807,\n",
       "  8772,\n",
       "  21588,\n",
       "  34929,\n",
       "  73604,\n",
       "  5932,\n",
       "  71345,\n",
       "  19324,\n",
       "  63720,\n",
       "  45582,\n",
       "  74045,\n",
       "  43423,\n",
       "  71345,\n",
       "  11170,\n",
       "  56308,\n",
       "  32559,\n",
       "  45582,\n",
       "  40383,\n",
       "  51895,\n",
       "  56308,\n",
       "  24072,\n",
       "  55075,\n",
       "  22239,\n",
       "  28959,\n",
       "  12331,\n",
       "  69372,\n",
       "  72782,\n",
       "  65265,\n",
       "  39700,\n",
       "  11170,\n",
       "  51076,\n",
       "  56308,\n",
       "  15051,\n",
       "  43816,\n",
       "  56308,\n",
       "  59239,\n",
       "  22611,\n",
       "  24124,\n",
       "  70261,\n",
       "  27694,\n",
       "  43816,\n",
       "  56308,\n",
       "  58460,\n",
       "  36249,\n",
       "  61371,\n",
       "  58131,\n",
       "  65265,\n",
       "  55075,\n",
       "  55069,\n",
       "  36249,\n",
       "  34720,\n",
       "  56308,\n",
       "  65138,\n",
       "  6927,\n",
       "  15582,\n",
       "  54376,\n",
       "  37068,\n",
       "  70126,\n",
       "  3558,\n",
       "  45582,\n",
       "  2464,\n",
       "  56892,\n",
       "  56308,\n",
       "  494,\n",
       "  36249,\n",
       "  42228,\n",
       "  68594,\n",
       "  9477,\n",
       "  34929,\n",
       "  54376,\n",
       "  52116,\n",
       "  18143,\n",
       "  57198,\n",
       "  36249,\n",
       "  16007,\n",
       "  47800,\n",
       "  45582,\n",
       "  15867,\n",
       "  15486,\n",
       "  43816,\n",
       "  64196,\n",
       "  11170,\n",
       "  37068,\n",
       "  4394,\n",
       "  45582,\n",
       "  21588,\n",
       "  34929,\n",
       "  36249,\n",
       "  17264,\n",
       "  8772,\n",
       "  68961,\n",
       "  13264,\n",
       "  43816,\n",
       "  58918,\n",
       "  41040,\n",
       "  57450,\n",
       "  8772,\n",
       "  21588,\n",
       "  34929,\n",
       "  71345,\n",
       "  19637,\n",
       "  7954,\n",
       "  6468,\n",
       "  54376,\n",
       "  60478,\n",
       "  8772,\n",
       "  616,\n",
       "  3124,\n",
       "  33033],\n",
       " [30669,\n",
       "  43816,\n",
       "  54376,\n",
       "  15945,\n",
       "  22239,\n",
       "  24368,\n",
       "  49741,\n",
       "  3132,\n",
       "  45198,\n",
       "  54376,\n",
       "  11665,\n",
       "  65939,\n",
       "  14968,\n",
       "  26177,\n",
       "  54376,\n",
       "  73715,\n",
       "  31793,\n",
       "  8772,\n",
       "  71345,\n",
       "  54376,\n",
       "  61531,\n",
       "  61695,\n",
       "  43816,\n",
       "  64114,\n",
       "  45001,\n",
       "  54376,\n",
       "  45163,\n",
       "  55929,\n",
       "  3342,\n",
       "  71345,\n",
       "  51055,\n",
       "  37491,\n",
       "  43402,\n",
       "  44937,\n",
       "  40422,\n",
       "  27643,\n",
       "  28192,\n",
       "  56308,\n",
       "  17624,\n",
       "  39046,\n",
       "  43816,\n",
       "  616,\n",
       "  73604,\n",
       "  54828,\n",
       "  20433,\n",
       "  616,\n",
       "  24853,\n",
       "  64114,\n",
       "  56308,\n",
       "  59239,\n",
       "  68148,\n",
       "  26177,\n",
       "  67471,\n",
       "  63216,\n",
       "  13363,\n",
       "  34803,\n",
       "  9674,\n",
       "  616,\n",
       "  65052,\n",
       "  50245,\n",
       "  39245,\n",
       "  32301,\n",
       "  12301,\n",
       "  56110,\n",
       "  14082,\n",
       "  56308,\n",
       "  72366,\n",
       "  46579,\n",
       "  46006,\n",
       "  51055,\n",
       "  39245,\n",
       "  56308,\n",
       "  4413,\n",
       "  26576,\n",
       "  67706,\n",
       "  33521,\n",
       "  63233,\n",
       "  27984,\n",
       "  16212,\n",
       "  45582,\n",
       "  54376,\n",
       "  24883,\n",
       "  57874,\n",
       "  32505,\n",
       "  54376,\n",
       "  59826,\n",
       "  1301,\n",
       "  616,\n",
       "  73604,\n",
       "  52008,\n",
       "  43423,\n",
       "  62286,\n",
       "  34362,\n",
       "  57450,\n",
       "  26177,\n",
       "  28088,\n",
       "  44809,\n",
       "  42918,\n",
       "  28192,\n",
       "  12721,\n",
       "  883,\n",
       "  42826,\n",
       "  63230,\n",
       "  12721,\n",
       "  15192,\n",
       "  6681,\n",
       "  6195,\n",
       "  58131,\n",
       "  24575,\n",
       "  59751,\n",
       "  28959,\n",
       "  46006,\n",
       "  65716,\n",
       "  56038],\n",
       " [69791,\n",
       "  45457,\n",
       "  3904,\n",
       "  14528,\n",
       "  14241,\n",
       "  50950,\n",
       "  31796,\n",
       "  24368,\n",
       "  5983,\n",
       "  43402,\n",
       "  54616,\n",
       "  45198,\n",
       "  54970,\n",
       "  67816,\n",
       "  46543,\n",
       "  54376,\n",
       "  52403,\n",
       "  45582,\n",
       "  55664,\n",
       "  56110,\n",
       "  32505,\n",
       "  56308,\n",
       "  36820,\n",
       "  8772,\n",
       "  25046,\n",
       "  53839,\n",
       "  45196,\n",
       "  53068,\n",
       "  22239,\n",
       "  20879,\n",
       "  15679,\n",
       "  14082,\n",
       "  65010,\n",
       "  45582,\n",
       "  494,\n",
       "  10154,\n",
       "  45457,\n",
       "  42114,\n",
       "  45198,\n",
       "  56308,\n",
       "  3436,\n",
       "  65210,\n",
       "  18740,\n",
       "  57450,\n",
       "  43816,\n",
       "  56308,\n",
       "  45961,\n",
       "  14528,\n",
       "  65052,\n",
       "  54376,\n",
       "  17065,\n",
       "  54175,\n",
       "  7353,\n",
       "  41179,\n",
       "  55873,\n",
       "  26317,\n",
       "  31601,\n",
       "  14528,\n",
       "  7134,\n",
       "  56308,\n",
       "  38348,\n",
       "  32505,\n",
       "  57189,\n",
       "  11690,\n",
       "  59959,\n",
       "  45582,\n",
       "  44276,\n",
       "  14021,\n",
       "  56308,\n",
       "  6860,\n",
       "  1690,\n",
       "  45457,\n",
       "  41179,\n",
       "  24477,\n",
       "  59265,\n",
       "  15116,\n",
       "  46006,\n",
       "  39514,\n",
       "  45582,\n",
       "  7608,\n",
       "  23933,\n",
       "  32505,\n",
       "  56308,\n",
       "  50152,\n",
       "  40007,\n",
       "  40007,\n",
       "  67816,\n",
       "  6468,\n",
       "  24477,\n",
       "  62286,\n",
       "  25046,\n",
       "  5412,\n",
       "  54376,\n",
       "  5937,\n",
       "  45582,\n",
       "  50559,\n",
       "  32505,\n",
       "  56308,\n",
       "  50152,\n",
       "  45198,\n",
       "  54376,\n",
       "  67244,\n",
       "  55487,\n",
       "  56308,\n",
       "  9622,\n",
       "  62286,\n",
       "  53839,\n",
       "  73141,\n",
       "  14082,\n",
       "  54376,\n",
       "  27933,\n",
       "  56308,\n",
       "  52002,\n",
       "  60532,\n",
       "  54376,\n",
       "  37024,\n",
       "  62192,\n",
       "  32505,\n",
       "  56308,\n",
       "  15542,\n",
       "  54376,\n",
       "  57260,\n",
       "  58131,\n",
       "  15679,\n",
       "  62286,\n",
       "  53839,\n",
       "  13441,\n",
       "  45582,\n",
       "  12331,\n",
       "  6468,\n",
       "  616,\n",
       "  73604,\n",
       "  15106,\n",
       "  45582,\n",
       "  46006,\n",
       "  45961,\n",
       "  8772,\n",
       "  71345,\n",
       "  34107,\n",
       "  3588,\n",
       "  73604,\n",
       "  26376,\n",
       "  40007,\n",
       "  40007,\n",
       "  46502,\n",
       "  37647,\n",
       "  22239,\n",
       "  51611,\n",
       "  22239,\n",
       "  15192,\n",
       "  14528,\n",
       "  3588,\n",
       "  1392,\n",
       "  54376,\n",
       "  51683,\n",
       "  15945,\n",
       "  22239,\n",
       "  24368,\n",
       "  15679,\n",
       "  6927,\n",
       "  56308,\n",
       "  23090,\n",
       "  52744,\n",
       "  71870,\n",
       "  45582,\n",
       "  33521,\n",
       "  54376,\n",
       "  5937,\n",
       "  26177,\n",
       "  54376,\n",
       "  43983,\n",
       "  73880,\n",
       "  5432,\n",
       "  3529,\n",
       "  45582,\n",
       "  12331,\n",
       "  24477,\n",
       "  3139,\n",
       "  28959,\n",
       "  50559,\n",
       "  6927,\n",
       "  56308,\n",
       "  50152,\n",
       "  45198,\n",
       "  63602,\n",
       "  13475,\n",
       "  55487,\n",
       "  56308,\n",
       "  9622,\n",
       "  24477,\n",
       "  3588,\n",
       "  16553,\n",
       "  3139,\n",
       "  28959,\n",
       "  29945,\n",
       "  6468,\n",
       "  3139,\n",
       "  8730,\n",
       "  26177,\n",
       "  54376,\n",
       "  12721,\n",
       "  14035,\n",
       "  43816,\n",
       "  9674,\n",
       "  26168,\n",
       "  46594,\n",
       "  56308,\n",
       "  5937,\n",
       "  73604,\n",
       "  32505,\n",
       "  1400,\n",
       "  3588,\n",
       "  71345,\n",
       "  67648,\n",
       "  32505,\n",
       "  56308,\n",
       "  36820,\n",
       "  26177,\n",
       "  54376,\n",
       "  17182,\n",
       "  32505,\n",
       "  20606,\n",
       "  47997,\n",
       "  45582,\n",
       "  16994,\n",
       "  20606,\n",
       "  37914,\n",
       "  5982,\n",
       "  1400,\n",
       "  3139,\n",
       "  28959,\n",
       "  33033,\n",
       "  38062,\n",
       "  39245,\n",
       "  56308,\n",
       "  12299,\n",
       "  3139,\n",
       "  73604,\n",
       "  5412,\n",
       "  56308,\n",
       "  24772,\n",
       "  61348,\n",
       "  28192,\n",
       "  54376,\n",
       "  59046,\n",
       "  34825,\n",
       "  616,\n",
       "  73604,\n",
       "  59057,\n",
       "  32505,\n",
       "  20606,\n",
       "  24395,\n",
       "  1400,\n",
       "  3588,\n",
       "  880,\n",
       "  17168,\n",
       "  30242,\n",
       "  7783,\n",
       "  54376,\n",
       "  51259,\n",
       "  28192,\n",
       "  56308,\n",
       "  45434,\n",
       "  43816,\n",
       "  40141,\n",
       "  2232,\n",
       "  19877,\n",
       "  52741,\n",
       "  43402,\n",
       "  54244,\n",
       "  8893,\n",
       "  22239,\n",
       "  3042,\n",
       "  12918,\n",
       "  20980,\n",
       "  24215,\n",
       "  36922,\n",
       "  27933,\n",
       "  58131,\n",
       "  36922,\n",
       "  59006,\n",
       "  58021,\n",
       "  69786,\n",
       "  49978,\n",
       "  58131,\n",
       "  798,\n",
       "  40804,\n",
       "  19028,\n",
       "  22239,\n",
       "  66950,\n",
       "  71647,\n",
       "  37582,\n",
       "  45582,\n",
       "  56308,\n",
       "  50152,\n",
       "  59265,\n",
       "  8550,\n",
       "  43547,\n",
       "  3588,\n",
       "  3124,\n",
       "  33033,\n",
       "  3139,\n",
       "  73604,\n",
       "  16179,\n",
       "  37582,\n",
       "  45582,\n",
       "  50064,\n",
       "  52006,\n",
       "  34931,\n",
       "  15106,\n",
       "  3139,\n",
       "  53839,\n",
       "  20879,\n",
       "  55069,\n",
       "  43034,\n",
       "  51683,\n",
       "  1400,\n",
       "  616,\n",
       "  73604,\n",
       "  5565,\n",
       "  45457,\n",
       "  47159,\n",
       "  11899,\n",
       "  45457,\n",
       "  46006,\n",
       "  813,\n",
       "  40007,\n",
       "  40007,\n",
       "  7353,\n",
       "  56308,\n",
       "  7381,\n",
       "  38115,\n",
       "  51398,\n",
       "  40141,\n",
       "  58131,\n",
       "  3588,\n",
       "  20046,\n",
       "  33033,\n",
       "  60630,\n",
       "  45582,\n",
       "  16541,\n",
       "  36249,\n",
       "  72485,\n",
       "  18515,\n",
       "  15321,\n",
       "  45582,\n",
       "  46006,\n",
       "  15486,\n",
       "  43816,\n",
       "  46502,\n",
       "  37647,\n",
       "  36795,\n",
       "  45850,\n",
       "  1400,\n",
       "  7075,\n",
       "  45582,\n",
       "  43034,\n",
       "  54376,\n",
       "  45001,\n",
       "  616,\n",
       "  14481,\n",
       "  54376,\n",
       "  4900,\n",
       "  43751,\n",
       "  28787,\n",
       "  45582,\n",
       "  20606,\n",
       "  43571,\n",
       "  10154,\n",
       "  31601,\n",
       "  14528,\n",
       "  5872,\n",
       "  69750,\n",
       "  26786,\n",
       "  59873,\n",
       "  45457,\n",
       "  62523,\n",
       "  45198,\n",
       "  56308,\n",
       "  3436,\n",
       "  45582,\n",
       "  55404,\n",
       "  6468,\n",
       "  616,\n",
       "  73604,\n",
       "  15106,\n",
       "  45948,\n",
       "  48654,\n",
       "  13577,\n",
       "  20980,\n",
       "  24215,\n",
       "  616,\n",
       "  56308,\n",
       "  39514,\n",
       "  69472,\n",
       "  45457,\n",
       "  32505,\n",
       "  56308,\n",
       "  17168,\n",
       "  66083,\n",
       "  9674,\n",
       "  54376,\n",
       "  7733,\n",
       "  5937,\n",
       "  15106,\n",
       "  24124,\n",
       "  51683,\n",
       "  18740,\n",
       "  29945,\n",
       "  55069,\n",
       "  59265,\n",
       "  44711,\n",
       "  33033,\n",
       "  41844,\n",
       "  6468,\n",
       "  45582,\n",
       "  29945,\n",
       "  26177,\n",
       "  65265,\n",
       "  24333,\n",
       "  9015,\n",
       "  59265,\n",
       "  46579,\n",
       "  8349,\n",
       "  616,\n",
       "  45582,\n",
       "  56308,\n",
       "  45961,\n",
       "  70683,\n",
       "  43816,\n",
       "  20216,\n",
       "  616,\n",
       "  15106,\n",
       "  45639,\n",
       "  24333,\n",
       "  40007,\n",
       "  40007,\n",
       "  45457,\n",
       "  9015,\n",
       "  52546,\n",
       "  62674,\n",
       "  52774,\n",
       "  10741,\n",
       "  62286,\n",
       "  45582,\n",
       "  55664,\n",
       "  9832]]"
      ]
     },
     "execution_count": 7,
     "metadata": {},
     "output_type": "execute_result"
    }
   ],
   "source": [
    "tokenized=[]\n",
    "for review in all_text:\n",
    "    tokenized.append([pairs[i] for (w,i) in enumerate(review.split())])\n",
    "tokenized[:3]"
   ]
  },
  {
   "cell_type": "code",
   "execution_count": 8,
   "metadata": {},
   "outputs": [],
   "source": [
    "labels_split=labels.split('\\n')\n",
    "encoded_labels=np.array([1 if l=='positive' else 0 for l in labels_split])"
   ]
  },
  {
   "cell_type": "markdown",
   "metadata": {},
   "source": [
    "## Discard those reviews with zero length"
   ]
  },
  {
   "cell_type": "code",
   "execution_count": 9,
   "metadata": {},
   "outputs": [
    {
     "data": {
      "text/plain": [
       "1"
      ]
     },
     "execution_count": 9,
     "metadata": {},
     "output_type": "execute_result"
    }
   ],
   "source": [
    "from collections import Counter\n",
    "lengths=Counter([len(x) for x in tokenized])\n",
    "lengths[0]"
   ]
  },
  {
   "cell_type": "code",
   "execution_count": 10,
   "metadata": {},
   "outputs": [],
   "source": [
    "for (i,t) in enumerate(tokenized):\n",
    "    if(len(t)==0):\n",
    "        del tokenized[i]\n",
    "        encoded_labels=np.delete(encoded_labels,i)"
   ]
  },
  {
   "cell_type": "code",
   "execution_count": 11,
   "metadata": {},
   "outputs": [
    {
     "data": {
      "text/plain": [
       "0"
      ]
     },
     "execution_count": 11,
     "metadata": {},
     "output_type": "execute_result"
    }
   ],
   "source": [
    "lengths=Counter([len(x) for x in tokenized])\n",
    "lengths[0]\n"
   ]
  },
  {
   "cell_type": "markdown",
   "metadata": {},
   "source": [
    "## Clipping every review to array of fixed size\n",
    "Clip array to fixed size length or if length of array is lower than fixed length for the input to LSTM, then fill the beginning of the array with zeros."
   ]
  },
  {
   "cell_type": "code",
   "execution_count": 12,
   "metadata": {},
   "outputs": [],
   "source": [
    "def fixed_size_features(tokenized,length):\n",
    "    features=np.zeros((len(tokenized),length),dtype=int)\n",
    "    for i,t in enumerate(tokenized):\n",
    "        features[i,-len(t):]=np.array(t)[:length]\n",
    "    return features\n"
   ]
  },
  {
   "cell_type": "code",
   "execution_count": 13,
   "metadata": {},
   "outputs": [],
   "source": [
    "features=fixed_size_features(tokenized,200)"
   ]
  },
  {
   "cell_type": "markdown",
   "metadata": {},
   "source": [
    "## Packing features to training, validation and test set"
   ]
  },
  {
   "cell_type": "code",
   "execution_count": 14,
   "metadata": {},
   "outputs": [],
   "source": [
    "split_frac=0.8\n",
    "idx=np.arange(len(features))\n",
    "np.random.shuffle(idx)\n",
    "\n",
    "train_len=int((split_frac*len(features)))\n",
    "val_len=int(((1-split_frac)/2*len(features)))\n",
    "train_x=features[idx[:train_len],:]\n",
    "train_y=encoded_labels[idx[:train_len]]\n",
    "val_x=features[idx[train_len:train_len+val_len+1],:]\n",
    "val_y=encoded_labels[idx[train_len:train_len+val_len+1]]\n",
    "test_x=features[idx[train_len+val_len+1:],:]\n",
    "test_y=encoded_labels[idx[train_len+val_len+1:]]"
   ]
  },
  {
   "cell_type": "code",
   "execution_count": 15,
   "metadata": {},
   "outputs": [],
   "source": [
    "from torch.utils.data import DataLoader,TensorDataset\n",
    "\n",
    "trainset=TensorDataset(torch.from_numpy(train_x),torch.from_numpy(train_y))\n",
    "testset=TensorDataset(torch.from_numpy(test_x),torch.from_numpy(test_y))\n",
    "valset=TensorDataset(torch.from_numpy(val_x),torch.from_numpy(val_y))\n",
    "\n",
    "batch_size=50\n",
    "\n",
    "trainloader=DataLoader(trainset,batch_size=batch_size,shuffle=True)\n",
    "testloader=DataLoader(testset,batch_size=batch_size,shuffle=True)\n",
    "valloader=DataLoader(valset,batch_size=batch_size,shuffle=True)"
   ]
  },
  {
   "cell_type": "code",
   "execution_count": 16,
   "metadata": {},
   "outputs": [
    {
     "name": "stdout",
     "output_type": "stream",
     "text": [
      "Sample input size:  torch.Size([50, 200])\n",
      "Sample input: \n",
      " tensor([[    0,     0,     0,  ..., 46661,   883, 29805],\n",
      "        [    0,     0,     0,  ..., 31972, 66889, 72990],\n",
      "        [11397, 27555, 71345,  ..., 13739, 52546, 66430],\n",
      "        ...,\n",
      "        [    0,     0,     0,  ..., 66377, 50180, 14972],\n",
      "        [    0,     0,     0,  ..., 37918, 54376, 58602],\n",
      "        [    0,     0,     0,  ..., 63788, 40007, 40007]], dtype=torch.int32)\n",
      "\n",
      "Sample label size:  torch.Size([50])\n",
      "Sample label: \n",
      " tensor([1, 0, 1, 0, 1, 1, 1, 1, 1, 1, 1, 0, 1, 1, 1, 0, 1, 0, 1, 0, 0, 1, 0, 0,\n",
      "        1, 1, 1, 0, 0, 1, 1, 1, 1, 0, 0, 1, 1, 1, 0, 0, 1, 1, 0, 1, 0, 0, 0, 1,\n",
      "        1, 1], dtype=torch.int32)\n"
     ]
    }
   ],
   "source": [
    "# obtain one batch of training data\n",
    "dataiter = iter(trainloader)\n",
    "sample_x, sample_y = dataiter.next()\n",
    "\n",
    "print('Sample input size: ', sample_x.size()) # batch_size, seq_length\n",
    "print('Sample input: \\n', sample_x)\n",
    "print()\n",
    "print('Sample label size: ', sample_y.size()) # batch_size\n",
    "print('Sample label: \\n', sample_y)"
   ]
  },
  {
   "cell_type": "markdown",
   "metadata": {},
   "source": [
    "## Defining model\n",
    "\n",
    "First we need to convert our words to embeddings which are input to LSTM. Every word in sentence is input to different LSTM and hidden layer is sent from previous LSTM to current LSTM as information about history. Also we use Softmax activation function to predict probability if the sentiment of the sentence. So, we are applying softmax to output of the last LSTM and that is the probability that sentence is positive or negative. "
   ]
  },
  {
   "cell_type": "code",
   "execution_count": 17,
   "metadata": {},
   "outputs": [],
   "source": [
    "import torch.nn as nn\n",
    "class SentimentRNN(nn.Module):\n",
    "    def __init__(self,vocab_size,hidden_size,output_size,n_layers,embedding_size,dropout_p=0.5):\n",
    "        super(SentimentRNN,self).__init__()\n",
    "        self.n_layers=n_layers\n",
    "        self.hidden_size=hidden_size\n",
    "        self.embedding=nn.Embedding(vocab_size,embedding_size)\n",
    "        self.lstm=nn.LSTM(embedding_size,hidden_size,n_layers,batch_first=True,dropout=dropout_p)\n",
    "        self.dropout=nn.Dropout(0.3)\n",
    "        \n",
    "        self.fc=nn.Linear(hidden_size,output_size)\n",
    "        self.sigmoid=nn.Sigmoid()\n",
    "        \n",
    "    def forward(self,x,hidden):\n",
    "        batch_size=x.size(0)\n",
    "        x=self.embedding(x.long())\n",
    "        r_out,hidden=self.lstm(x,hidden)\n",
    "        \n",
    "        r_out=r_out.contiguous().view(-1,self.hidden_size)\n",
    "        out=self.fc(self.dropout(r_out))\n",
    "        out=self.sigmoid(out)\n",
    "        out=out.view(batch_size,-1)\n",
    "        out=out[:,-1]\n",
    "        return out,hidden\n",
    "    \n",
    "    def init_hidden(self,batch_size):\n",
    "        weights = next(self.parameters()).data\n",
    "        hidden=(weights.new(self.n_layers,batch_size,self.hidden_size).zero_(),\n",
    "                      weights.new(self.n_layers,batch_size,self.hidden_size).zero_())\n",
    "        return hidden\n",
    "        "
   ]
  },
  {
   "cell_type": "markdown",
   "metadata": {},
   "source": [
    "## Here is presented structure of our model\n",
    "\n",
    "vocab_size is how many different words we have in our dataset\n",
    "\n",
    "since we are predicting is the sentence positive or negative we have one output\n",
    "\n",
    "n_layers is set to 2 which means that we have 2 stacked LSTMs"
   ]
  },
  {
   "cell_type": "code",
   "execution_count": 18,
   "metadata": {},
   "outputs": [],
   "source": [
    "# Instantiate the model w/ hyperparams\n",
    "vocab_size = len(unique_words)+1 # +1 for the 0 padding + our word tokens\n",
    "output_size = 1\n",
    "embedding_size = 400\n",
    "hidden_size=256\n",
    "n_layers = 2"
   ]
  },
  {
   "cell_type": "markdown",
   "metadata": {},
   "source": [
    "## Training the model\n",
    "\n",
    "Since we have to predict 2 classes, we are using Binary CrossEntropy Loss, here I use Adam optimizer with different learning rates which are written in config. I am using ray for hyperparameter tuning.\n",
    "\n",
    "I tuned LSTM hyperparameters and also training hyperparameters."
   ]
  },
  {
   "cell_type": "code",
   "execution_count": 19,
   "metadata": {},
   "outputs": [],
   "source": [
    "def train_net(config,checkpoint_dir=None):\n",
    "    device = torch.device(\"cuda\" if torch.cuda.is_available() else \"cpu\")\n",
    "    net = SentimentRNN(vocab_size,hidden_size,output_size,n_layers,embedding_size,dropout_p=config[\"dropout\"])\n",
    "\n",
    "    net.cuda()\n",
    "    # training params\n",
    "    epochs = config[\"epochs\"] # 3-4 is approx where I noticed the validation loss stop decreasing\n",
    "\n",
    "    counter = 0\n",
    "    print_every = 100\n",
    "    clip=5 # gradient clipping\n",
    "    criterion=nn.BCELoss()\n",
    "    optimizer=torch.optim.Adam(net.parameters(),lr=config[\"lr\"])\n",
    "\n",
    "    net.train()\n",
    "    min_loss=math.inf\n",
    "    min_val_acc=math.inf\n",
    "    # train for some number of epochs\n",
    "    for e in range(epochs):\n",
    "        print(e)\n",
    "        # initialize hidden state\n",
    "        h = net.init_hidden(batch_size)\n",
    "\n",
    "        # batch loop\n",
    "        for inputs, labels in trainloader:\n",
    "            counter += 1\n",
    "            inputs,labels=inputs.cuda(),labels.cuda()\n",
    "\n",
    "            # Creating new variables for the hidden state, otherwise\n",
    "            # we'd backprop through the entire training history\n",
    "            h = tuple([each.data for each in h])\n",
    "\n",
    "            # zero accumulated gradients\n",
    "            net.zero_grad()\n",
    "\n",
    "            # get the output from the model\n",
    "            output, h = net(inputs, h)\n",
    "\n",
    "            # calculate the loss and perform backprop\n",
    "            loss = criterion(output.squeeze(), labels.float())\n",
    "            loss.backward()\n",
    "            # `clip_grad_norm` helps prevent the exploding gradient problem in RNNs / LSTMs.\n",
    "            nn.utils.clip_grad_norm_(net.parameters(), clip)\n",
    "            optimizer.step()\n",
    "\n",
    "            # loss stats\n",
    "            if counter % print_every == 0:\n",
    "                # Get validation loss\n",
    "                val_h = net.init_hidden(batch_size)\n",
    "                val_losses = []\n",
    "                val_acc=[]\n",
    "                corrects=0\n",
    "                net.eval()\n",
    "                for inputs, labels in valloader:\n",
    "                    inputs,labels=inputs.cuda(),labels.cuda()\n",
    "                    # Creating new variables for the hidden state, otherwise\n",
    "                    # we'd backprop through the entire training history\n",
    "                    val_h = tuple([each.data for each in val_h])\n",
    "\n",
    "                    output, val_h = net(inputs, val_h)\n",
    "                    val_loss = criterion(output, labels.float())\n",
    "                    pred=torch.round(output)\n",
    "                    correct_tensor = pred.eq(labels.float().view_as(pred))\n",
    "                    correct = np.squeeze(correct_tensor.cpu().numpy()) \n",
    "                    corrects+=np.sum(correct)\n",
    "                    val_losses.append(val_loss.item())\n",
    "                    \n",
    "                if(np.mean(val_losses)<min_loss):\n",
    "                    min_loss=np.mean(val_losses)\n",
    "                    min_val_acc=corrects/len(valloader.dataset)\n",
    "                    {\"min_loss\":min_loss}\n",
    "#                     torch.save(net.state_dict(), 'model.pt')\n",
    "                    with tune.checkpoint_dir(epochs) as checkpoint_dir:\n",
    "                        path = os.path.join(checkpoint_dir, \"checkpoint\")\n",
    "                        torch.save((net.state_dict(), optimizer.state_dict()), path)\n",
    "                tune.report(val_acc=min_val_acc,val_loss=min_loss)\n",
    "                net.train()\n",
    "                print(\"Epoch: {}/{}...\".format(e+1, epochs),\n",
    "                      \"Step: {}...\".format(counter),\n",
    "                      \"Loss: {:.6f}...\".format(loss.item()),\n",
    "                      \"Val Loss: {:.6f}\".format(np.mean(val_losses)))"
   ]
  },
  {
   "cell_type": "code",
   "execution_count": 20,
   "metadata": {},
   "outputs": [],
   "source": [
    "config={\n",
    "    \"lr\":tune.grid_search([0.001,0.01,0.1]),#\n",
    "    \"epochs\":tune.grid_search([3,5]),\n",
    "    \"dropout\":tune.grid_search([0.5]),\n",
    "}"
   ]
  },
  {
   "cell_type": "code",
   "execution_count": 21,
   "metadata": {},
   "outputs": [
    {
     "name": "stderr",
     "output_type": "stream",
     "text": [
      "2020-12-05 20:45:55,877\tINFO services.py:1090 -- View the Ray dashboard at \u001b[1m\u001b[32mhttp://127.0.0.1:8265\u001b[39m\u001b[22m\n",
      "2020-12-05 20:46:05,509\tERROR syncer.py:63 -- Log sync requires rsync to be installed.\n",
      "2020-12-05 20:46:05,858\tWARNING worker.py:1091 -- Warning: The actor ImplicitFunc has size 18097937 when pickled. It will be stored in Redis, which could cause memory issues. This may mean that its definition uses a large array or other object.\n"
     ]
    },
    {
     "data": {
      "text/html": [
       "== Status ==<br>Memory usage on this node: 5.8/13.9 GiB<br>Using FIFO scheduling algorithm.<br>Resources requested: 1/8 CPUs, 1/1 GPUs, 0.0/5.18 GiB heap, 0.0/1.76 GiB objects<br>Result logdir: C:\\Users\\Tijana Vukovic\\ray_results\\train_net_2020-12-05_20-46-04<br>Number of trials: 1/6 (1 RUNNING)<br><table>\n",
       "<thead>\n",
       "<tr><th>Trial name           </th><th>status  </th><th>loc  </th><th style=\"text-align: right;\">  dropout</th><th style=\"text-align: right;\">  epochs</th><th style=\"text-align: right;\">   lr</th></tr>\n",
       "</thead>\n",
       "<tbody>\n",
       "<tr><td>train_net_83017_00000</td><td>RUNNING </td><td>     </td><td style=\"text-align: right;\">      0.5</td><td style=\"text-align: right;\">       3</td><td style=\"text-align: right;\">0.001</td></tr>\n",
       "</tbody>\n",
       "</table><br><br>"
      ],
      "text/plain": [
       "<IPython.core.display.HTML object>"
      ]
     },
     "metadata": {},
     "output_type": "display_data"
    },
    {
     "name": "stdout",
     "output_type": "stream",
     "text": [
      "\u001b[2m\u001b[36m(pid=8592)\u001b[0m 0\n",
      "Result for train_net_83017_00000:\n",
      "  date: 2020-12-05_20-46-25\n",
      "  done: false\n",
      "  experiment_id: 076ef2c575d548d2bf386704622cdb4d\n",
      "  experiment_tag: 0_dropout=0.5,epochs=3,lr=0.001\n",
      "  hostname: DESKTOP-LTLCMDK\n",
      "  iterations_since_restore: 1\n",
      "  node_ip: 192.168.0.20\n",
      "  pid: 8592\n",
      "  should_checkpoint: true\n",
      "  time_since_restore: 16.681294679641724\n",
      "  time_this_iter_s: 16.681294679641724\n",
      "  time_total_s: 16.681294679641724\n",
      "  timestamp: 1607197585\n",
      "  timesteps_since_restore: 0\n",
      "  training_iteration: 1\n",
      "  trial_id: '83017_00000'\n",
      "  val_acc: 0.6416\n",
      "  val_loss: 0.633596373796463\n",
      "  \n"
     ]
    },
    {
     "data": {
      "text/html": [
       "== Status ==<br>Memory usage on this node: 8.0/13.9 GiB<br>Using FIFO scheduling algorithm.<br>Resources requested: 1/8 CPUs, 1/1 GPUs, 0.0/5.18 GiB heap, 0.0/1.76 GiB objects<br>Result logdir: C:\\Users\\Tijana Vukovic\\ray_results\\train_net_2020-12-05_20-46-04<br>Number of trials: 2/6 (1 PENDING, 1 RUNNING)<br><table>\n",
       "<thead>\n",
       "<tr><th>Trial name           </th><th>status  </th><th>loc              </th><th style=\"text-align: right;\">  dropout</th><th style=\"text-align: right;\">  epochs</th><th style=\"text-align: right;\">   lr</th><th style=\"text-align: right;\">  iter</th><th style=\"text-align: right;\">  total time (s)</th><th style=\"text-align: right;\">  val_acc</th><th style=\"text-align: right;\">  val_loss</th></tr>\n",
       "</thead>\n",
       "<tbody>\n",
       "<tr><td>train_net_83017_00000</td><td>RUNNING </td><td>192.168.0.20:8592</td><td style=\"text-align: right;\">      0.5</td><td style=\"text-align: right;\">       3</td><td style=\"text-align: right;\">0.001</td><td style=\"text-align: right;\">     1</td><td style=\"text-align: right;\">         16.6813</td><td style=\"text-align: right;\">   0.6416</td><td style=\"text-align: right;\">  0.633596</td></tr>\n",
       "<tr><td>train_net_83017_00001</td><td>PENDING </td><td>                 </td><td style=\"text-align: right;\">      0.5</td><td style=\"text-align: right;\">       5</td><td style=\"text-align: right;\">0.001</td><td style=\"text-align: right;\">      </td><td style=\"text-align: right;\">                </td><td style=\"text-align: right;\">         </td><td style=\"text-align: right;\">          </td></tr>\n",
       "</tbody>\n",
       "</table><br><br>"
      ],
      "text/plain": [
       "<IPython.core.display.HTML object>"
      ]
     },
     "metadata": {},
     "output_type": "display_data"
    },
    {
     "name": "stdout",
     "output_type": "stream",
     "text": [
      "\u001b[2m\u001b[36m(pid=8592)\u001b[0m Epoch: 1/3... Step: 100... Loss: 0.650763... Val Loss: 0.633596\n",
      "Result for train_net_83017_00000:\n",
      "  date: 2020-12-05_20-46-37\n",
      "  done: false\n",
      "  experiment_id: 076ef2c575d548d2bf386704622cdb4d\n",
      "  experiment_tag: 0_dropout=0.5,epochs=3,lr=0.001\n",
      "  hostname: DESKTOP-LTLCMDK\n",
      "  iterations_since_restore: 2\n",
      "  node_ip: 192.168.0.20\n",
      "  pid: 8592\n",
      "  should_checkpoint: true\n",
      "  time_since_restore: 28.997989177703857\n",
      "  time_this_iter_s: 12.316694498062134\n",
      "  time_total_s: 28.997989177703857\n",
      "  timestamp: 1607197597\n",
      "  timesteps_since_restore: 0\n",
      "  training_iteration: 2\n",
      "  trial_id: '83017_00000'\n",
      "  val_acc: 0.6908\n",
      "  val_loss: 0.5957593601942063\n",
      "  \n"
     ]
    },
    {
     "data": {
      "text/html": [
       "== Status ==<br>Memory usage on this node: 8.0/13.9 GiB<br>Using FIFO scheduling algorithm.<br>Resources requested: 1/8 CPUs, 1/1 GPUs, 0.0/5.18 GiB heap, 0.0/1.76 GiB objects<br>Result logdir: C:\\Users\\Tijana Vukovic\\ray_results\\train_net_2020-12-05_20-46-04<br>Number of trials: 2/6 (1 PENDING, 1 RUNNING)<br><table>\n",
       "<thead>\n",
       "<tr><th>Trial name           </th><th>status  </th><th>loc              </th><th style=\"text-align: right;\">  dropout</th><th style=\"text-align: right;\">  epochs</th><th style=\"text-align: right;\">   lr</th><th style=\"text-align: right;\">  iter</th><th style=\"text-align: right;\">  total time (s)</th><th style=\"text-align: right;\">  val_acc</th><th style=\"text-align: right;\">  val_loss</th></tr>\n",
       "</thead>\n",
       "<tbody>\n",
       "<tr><td>train_net_83017_00000</td><td>RUNNING </td><td>192.168.0.20:8592</td><td style=\"text-align: right;\">      0.5</td><td style=\"text-align: right;\">       3</td><td style=\"text-align: right;\">0.001</td><td style=\"text-align: right;\">     2</td><td style=\"text-align: right;\">          28.998</td><td style=\"text-align: right;\">   0.6908</td><td style=\"text-align: right;\">  0.595759</td></tr>\n",
       "<tr><td>train_net_83017_00001</td><td>PENDING </td><td>                 </td><td style=\"text-align: right;\">      0.5</td><td style=\"text-align: right;\">       5</td><td style=\"text-align: right;\">0.001</td><td style=\"text-align: right;\">      </td><td style=\"text-align: right;\">                </td><td style=\"text-align: right;\">         </td><td style=\"text-align: right;\">          </td></tr>\n",
       "</tbody>\n",
       "</table><br><br>"
      ],
      "text/plain": [
       "<IPython.core.display.HTML object>"
      ]
     },
     "metadata": {},
     "output_type": "display_data"
    },
    {
     "name": "stdout",
     "output_type": "stream",
     "text": [
      "\u001b[2m\u001b[36m(pid=8592)\u001b[0m Epoch: 1/3... Step: 200... Loss: 0.630369... Val Loss: 0.595759\n",
      "Result for train_net_83017_00000:\n",
      "  date: 2020-12-05_20-46-48\n",
      "  done: false\n",
      "  experiment_id: 076ef2c575d548d2bf386704622cdb4d\n",
      "  experiment_tag: 0_dropout=0.5,epochs=3,lr=0.001\n",
      "  hostname: DESKTOP-LTLCMDK\n",
      "  iterations_since_restore: 3\n",
      "  node_ip: 192.168.0.20\n",
      "  pid: 8592\n",
      "  time_since_restore: 39.85981750488281\n",
      "  time_this_iter_s: 10.861828327178955\n",
      "  time_total_s: 39.85981750488281\n",
      "  timestamp: 1607197608\n",
      "  timesteps_since_restore: 0\n",
      "  training_iteration: 3\n",
      "  trial_id: '83017_00000'\n",
      "  val_acc: 0.6908\n",
      "  val_loss: 0.5957593601942063\n",
      "  \n"
     ]
    },
    {
     "data": {
      "text/html": [
       "== Status ==<br>Memory usage on this node: 7.9/13.9 GiB<br>Using FIFO scheduling algorithm.<br>Resources requested: 1/8 CPUs, 1/1 GPUs, 0.0/5.18 GiB heap, 0.0/1.76 GiB objects<br>Result logdir: C:\\Users\\Tijana Vukovic\\ray_results\\train_net_2020-12-05_20-46-04<br>Number of trials: 2/6 (1 PENDING, 1 RUNNING)<br><table>\n",
       "<thead>\n",
       "<tr><th>Trial name           </th><th>status  </th><th>loc              </th><th style=\"text-align: right;\">  dropout</th><th style=\"text-align: right;\">  epochs</th><th style=\"text-align: right;\">   lr</th><th style=\"text-align: right;\">  iter</th><th style=\"text-align: right;\">  total time (s)</th><th style=\"text-align: right;\">  val_acc</th><th style=\"text-align: right;\">  val_loss</th></tr>\n",
       "</thead>\n",
       "<tbody>\n",
       "<tr><td>train_net_83017_00000</td><td>RUNNING </td><td>192.168.0.20:8592</td><td style=\"text-align: right;\">      0.5</td><td style=\"text-align: right;\">       3</td><td style=\"text-align: right;\">0.001</td><td style=\"text-align: right;\">     3</td><td style=\"text-align: right;\">         39.8598</td><td style=\"text-align: right;\">   0.6908</td><td style=\"text-align: right;\">  0.595759</td></tr>\n",
       "<tr><td>train_net_83017_00001</td><td>PENDING </td><td>                 </td><td style=\"text-align: right;\">      0.5</td><td style=\"text-align: right;\">       5</td><td style=\"text-align: right;\">0.001</td><td style=\"text-align: right;\">      </td><td style=\"text-align: right;\">                </td><td style=\"text-align: right;\">         </td><td style=\"text-align: right;\">          </td></tr>\n",
       "</tbody>\n",
       "</table><br><br>"
      ],
      "text/plain": [
       "<IPython.core.display.HTML object>"
      ]
     },
     "metadata": {},
     "output_type": "display_data"
    },
    {
     "name": "stdout",
     "output_type": "stream",
     "text": [
      "\u001b[2m\u001b[36m(pid=8592)\u001b[0m Epoch: 1/3... Step: 300... Loss: 0.621679... Val Loss: 0.611498\n",
      "Result for train_net_83017_00000:\n",
      "  date: 2020-12-05_20-47-00\n",
      "  done: false\n",
      "  experiment_id: 076ef2c575d548d2bf386704622cdb4d\n",
      "  experiment_tag: 0_dropout=0.5,epochs=3,lr=0.001\n",
      "  hostname: DESKTOP-LTLCMDK\n",
      "  iterations_since_restore: 4\n",
      "  node_ip: 192.168.0.20\n",
      "  pid: 8592\n",
      "  should_checkpoint: true\n",
      "  time_since_restore: 51.902639627456665\n",
      "  time_this_iter_s: 12.042822122573853\n",
      "  time_total_s: 51.902639627456665\n",
      "  timestamp: 1607197620\n",
      "  timesteps_since_restore: 0\n",
      "  training_iteration: 4\n",
      "  trial_id: '83017_00000'\n",
      "  val_acc: 0.7412\n",
      "  val_loss: 0.5631875741481781\n",
      "  \n"
     ]
    },
    {
     "data": {
      "text/html": [
       "== Status ==<br>Memory usage on this node: 8.0/13.9 GiB<br>Using FIFO scheduling algorithm.<br>Resources requested: 1/8 CPUs, 1/1 GPUs, 0.0/5.18 GiB heap, 0.0/1.76 GiB objects<br>Result logdir: C:\\Users\\Tijana Vukovic\\ray_results\\train_net_2020-12-05_20-46-04<br>Number of trials: 2/6 (1 PENDING, 1 RUNNING)<br><table>\n",
       "<thead>\n",
       "<tr><th>Trial name           </th><th>status  </th><th>loc              </th><th style=\"text-align: right;\">  dropout</th><th style=\"text-align: right;\">  epochs</th><th style=\"text-align: right;\">   lr</th><th style=\"text-align: right;\">  iter</th><th style=\"text-align: right;\">  total time (s)</th><th style=\"text-align: right;\">  val_acc</th><th style=\"text-align: right;\">  val_loss</th></tr>\n",
       "</thead>\n",
       "<tbody>\n",
       "<tr><td>train_net_83017_00000</td><td>RUNNING </td><td>192.168.0.20:8592</td><td style=\"text-align: right;\">      0.5</td><td style=\"text-align: right;\">       3</td><td style=\"text-align: right;\">0.001</td><td style=\"text-align: right;\">     4</td><td style=\"text-align: right;\">         51.9026</td><td style=\"text-align: right;\">   0.7412</td><td style=\"text-align: right;\">  0.563188</td></tr>\n",
       "<tr><td>train_net_83017_00001</td><td>PENDING </td><td>                 </td><td style=\"text-align: right;\">      0.5</td><td style=\"text-align: right;\">       5</td><td style=\"text-align: right;\">0.001</td><td style=\"text-align: right;\">      </td><td style=\"text-align: right;\">                </td><td style=\"text-align: right;\">         </td><td style=\"text-align: right;\">          </td></tr>\n",
       "</tbody>\n",
       "</table><br><br>"
      ],
      "text/plain": [
       "<IPython.core.display.HTML object>"
      ]
     },
     "metadata": {},
     "output_type": "display_data"
    },
    {
     "name": "stdout",
     "output_type": "stream",
     "text": [
      "\u001b[2m\u001b[36m(pid=8592)\u001b[0m Epoch: 1/3... Step: 400... Loss: 0.638846... Val Loss: 0.563188\n",
      "\u001b[2m\u001b[36m(pid=8592)\u001b[0m 1\n",
      "Result for train_net_83017_00000:\n",
      "  date: 2020-12-05_20-47-13\n",
      "  done: false\n",
      "  experiment_id: 076ef2c575d548d2bf386704622cdb4d\n",
      "  experiment_tag: 0_dropout=0.5,epochs=3,lr=0.001\n",
      "  hostname: DESKTOP-LTLCMDK\n",
      "  iterations_since_restore: 5\n",
      "  node_ip: 192.168.0.20\n",
      "  pid: 8592\n",
      "  should_checkpoint: true\n",
      "  time_since_restore: 64.86071991920471\n",
      "  time_this_iter_s: 12.958080291748047\n",
      "  time_total_s: 64.86071991920471\n",
      "  timestamp: 1607197633\n",
      "  timesteps_since_restore: 0\n",
      "  training_iteration: 5\n",
      "  trial_id: '83017_00000'\n",
      "  val_acc: 0.7232\n",
      "  val_loss: 0.5631406897306442\n",
      "  \n"
     ]
    },
    {
     "data": {
      "text/html": [
       "== Status ==<br>Memory usage on this node: 7.9/13.9 GiB<br>Using FIFO scheduling algorithm.<br>Resources requested: 1/8 CPUs, 1/1 GPUs, 0.0/5.18 GiB heap, 0.0/1.76 GiB objects<br>Result logdir: C:\\Users\\Tijana Vukovic\\ray_results\\train_net_2020-12-05_20-46-04<br>Number of trials: 2/6 (1 PENDING, 1 RUNNING)<br><table>\n",
       "<thead>\n",
       "<tr><th>Trial name           </th><th>status  </th><th>loc              </th><th style=\"text-align: right;\">  dropout</th><th style=\"text-align: right;\">  epochs</th><th style=\"text-align: right;\">   lr</th><th style=\"text-align: right;\">  iter</th><th style=\"text-align: right;\">  total time (s)</th><th style=\"text-align: right;\">  val_acc</th><th style=\"text-align: right;\">  val_loss</th></tr>\n",
       "</thead>\n",
       "<tbody>\n",
       "<tr><td>train_net_83017_00000</td><td>RUNNING </td><td>192.168.0.20:8592</td><td style=\"text-align: right;\">      0.5</td><td style=\"text-align: right;\">       3</td><td style=\"text-align: right;\">0.001</td><td style=\"text-align: right;\">     5</td><td style=\"text-align: right;\">         64.8607</td><td style=\"text-align: right;\">   0.7232</td><td style=\"text-align: right;\">  0.563141</td></tr>\n",
       "<tr><td>train_net_83017_00001</td><td>PENDING </td><td>                 </td><td style=\"text-align: right;\">      0.5</td><td style=\"text-align: right;\">       5</td><td style=\"text-align: right;\">0.001</td><td style=\"text-align: right;\">      </td><td style=\"text-align: right;\">                </td><td style=\"text-align: right;\">         </td><td style=\"text-align: right;\">          </td></tr>\n",
       "</tbody>\n",
       "</table><br><br>"
      ],
      "text/plain": [
       "<IPython.core.display.HTML object>"
      ]
     },
     "metadata": {},
     "output_type": "display_data"
    },
    {
     "name": "stdout",
     "output_type": "stream",
     "text": [
      "\u001b[2m\u001b[36m(pid=8592)\u001b[0m Epoch: 2/3... Step: 500... Loss: 0.534723... Val Loss: 0.563141\n",
      "Result for train_net_83017_00000:\n",
      "  date: 2020-12-05_20-47-26\n",
      "  done: false\n",
      "  experiment_id: 076ef2c575d548d2bf386704622cdb4d\n",
      "  experiment_tag: 0_dropout=0.5,epochs=3,lr=0.001\n",
      "  hostname: DESKTOP-LTLCMDK\n",
      "  iterations_since_restore: 6\n",
      "  node_ip: 192.168.0.20\n",
      "  pid: 8592\n",
      "  should_checkpoint: true\n",
      "  time_since_restore: 77.82746887207031\n",
      "  time_this_iter_s: 12.9667489528656\n",
      "  time_total_s: 77.82746887207031\n",
      "  timestamp: 1607197646\n",
      "  timesteps_since_restore: 0\n",
      "  training_iteration: 6\n",
      "  trial_id: '83017_00000'\n",
      "  val_acc: 0.7732\n",
      "  val_loss: 0.49781962275505065\n",
      "  \n"
     ]
    },
    {
     "data": {
      "text/html": [
       "== Status ==<br>Memory usage on this node: 7.9/13.9 GiB<br>Using FIFO scheduling algorithm.<br>Resources requested: 1/8 CPUs, 1/1 GPUs, 0.0/5.18 GiB heap, 0.0/1.76 GiB objects<br>Result logdir: C:\\Users\\Tijana Vukovic\\ray_results\\train_net_2020-12-05_20-46-04<br>Number of trials: 2/6 (1 PENDING, 1 RUNNING)<br><table>\n",
       "<thead>\n",
       "<tr><th>Trial name           </th><th>status  </th><th>loc              </th><th style=\"text-align: right;\">  dropout</th><th style=\"text-align: right;\">  epochs</th><th style=\"text-align: right;\">   lr</th><th style=\"text-align: right;\">  iter</th><th style=\"text-align: right;\">  total time (s)</th><th style=\"text-align: right;\">  val_acc</th><th style=\"text-align: right;\">  val_loss</th></tr>\n",
       "</thead>\n",
       "<tbody>\n",
       "<tr><td>train_net_83017_00000</td><td>RUNNING </td><td>192.168.0.20:8592</td><td style=\"text-align: right;\">      0.5</td><td style=\"text-align: right;\">       3</td><td style=\"text-align: right;\">0.001</td><td style=\"text-align: right;\">     6</td><td style=\"text-align: right;\">         77.8275</td><td style=\"text-align: right;\">   0.7732</td><td style=\"text-align: right;\">   0.49782</td></tr>\n",
       "<tr><td>train_net_83017_00001</td><td>PENDING </td><td>                 </td><td style=\"text-align: right;\">      0.5</td><td style=\"text-align: right;\">       5</td><td style=\"text-align: right;\">0.001</td><td style=\"text-align: right;\">      </td><td style=\"text-align: right;\">                </td><td style=\"text-align: right;\">         </td><td style=\"text-align: right;\">          </td></tr>\n",
       "</tbody>\n",
       "</table><br><br>"
      ],
      "text/plain": [
       "<IPython.core.display.HTML object>"
      ]
     },
     "metadata": {},
     "output_type": "display_data"
    },
    {
     "name": "stdout",
     "output_type": "stream",
     "text": [
      "\u001b[2m\u001b[36m(pid=8592)\u001b[0m Epoch: 2/3... Step: 600... Loss: 0.560210... Val Loss: 0.497820\n",
      "Result for train_net_83017_00000:\n",
      "  date: 2020-12-05_20-47-39\n",
      "  done: false\n",
      "  experiment_id: 076ef2c575d548d2bf386704622cdb4d\n",
      "  experiment_tag: 0_dropout=0.5,epochs=3,lr=0.001\n",
      "  hostname: DESKTOP-LTLCMDK\n",
      "  iterations_since_restore: 7\n",
      "  node_ip: 192.168.0.20\n",
      "  pid: 8592\n",
      "  should_checkpoint: true\n",
      "  time_since_restore: 90.56901955604553\n",
      "  time_this_iter_s: 12.74155068397522\n",
      "  time_total_s: 90.56901955604553\n",
      "  timestamp: 1607197659\n",
      "  timesteps_since_restore: 0\n",
      "  training_iteration: 7\n",
      "  trial_id: '83017_00000'\n",
      "  val_acc: 0.8072\n",
      "  val_loss: 0.4508850419521332\n",
      "  \n"
     ]
    },
    {
     "data": {
      "text/html": [
       "== Status ==<br>Memory usage on this node: 7.9/13.9 GiB<br>Using FIFO scheduling algorithm.<br>Resources requested: 1/8 CPUs, 1/1 GPUs, 0.0/5.18 GiB heap, 0.0/1.76 GiB objects<br>Result logdir: C:\\Users\\Tijana Vukovic\\ray_results\\train_net_2020-12-05_20-46-04<br>Number of trials: 2/6 (1 PENDING, 1 RUNNING)<br><table>\n",
       "<thead>\n",
       "<tr><th>Trial name           </th><th>status  </th><th>loc              </th><th style=\"text-align: right;\">  dropout</th><th style=\"text-align: right;\">  epochs</th><th style=\"text-align: right;\">   lr</th><th style=\"text-align: right;\">  iter</th><th style=\"text-align: right;\">  total time (s)</th><th style=\"text-align: right;\">  val_acc</th><th style=\"text-align: right;\">  val_loss</th></tr>\n",
       "</thead>\n",
       "<tbody>\n",
       "<tr><td>train_net_83017_00000</td><td>RUNNING </td><td>192.168.0.20:8592</td><td style=\"text-align: right;\">      0.5</td><td style=\"text-align: right;\">       3</td><td style=\"text-align: right;\">0.001</td><td style=\"text-align: right;\">     7</td><td style=\"text-align: right;\">          90.569</td><td style=\"text-align: right;\">   0.8072</td><td style=\"text-align: right;\">  0.450885</td></tr>\n",
       "<tr><td>train_net_83017_00001</td><td>PENDING </td><td>                 </td><td style=\"text-align: right;\">      0.5</td><td style=\"text-align: right;\">       5</td><td style=\"text-align: right;\">0.001</td><td style=\"text-align: right;\">      </td><td style=\"text-align: right;\">                </td><td style=\"text-align: right;\">         </td><td style=\"text-align: right;\">          </td></tr>\n",
       "</tbody>\n",
       "</table><br><br>"
      ],
      "text/plain": [
       "<IPython.core.display.HTML object>"
      ]
     },
     "metadata": {},
     "output_type": "display_data"
    },
    {
     "name": "stdout",
     "output_type": "stream",
     "text": [
      "\u001b[2m\u001b[36m(pid=8592)\u001b[0m Epoch: 2/3... Step: 700... Loss: 0.597004... Val Loss: 0.450885\n",
      "Result for train_net_83017_00000:\n",
      "  date: 2020-12-05_20-47-49\n",
      "  done: false\n",
      "  experiment_id: 076ef2c575d548d2bf386704622cdb4d\n",
      "  experiment_tag: 0_dropout=0.5,epochs=3,lr=0.001\n",
      "  hostname: DESKTOP-LTLCMDK\n",
      "  iterations_since_restore: 8\n",
      "  node_ip: 192.168.0.20\n",
      "  pid: 8592\n",
      "  time_since_restore: 101.38484525680542\n",
      "  time_this_iter_s: 10.815825700759888\n",
      "  time_total_s: 101.38484525680542\n",
      "  timestamp: 1607197669\n",
      "  timesteps_since_restore: 0\n",
      "  training_iteration: 8\n",
      "  trial_id: '83017_00000'\n",
      "  val_acc: 0.8072\n",
      "  val_loss: 0.4508850419521332\n",
      "  \n"
     ]
    },
    {
     "data": {
      "text/html": [
       "== Status ==<br>Memory usage on this node: 7.9/13.9 GiB<br>Using FIFO scheduling algorithm.<br>Resources requested: 1/8 CPUs, 1/1 GPUs, 0.0/5.18 GiB heap, 0.0/1.76 GiB objects<br>Result logdir: C:\\Users\\Tijana Vukovic\\ray_results\\train_net_2020-12-05_20-46-04<br>Number of trials: 2/6 (1 PENDING, 1 RUNNING)<br><table>\n",
       "<thead>\n",
       "<tr><th>Trial name           </th><th>status  </th><th>loc              </th><th style=\"text-align: right;\">  dropout</th><th style=\"text-align: right;\">  epochs</th><th style=\"text-align: right;\">   lr</th><th style=\"text-align: right;\">  iter</th><th style=\"text-align: right;\">  total time (s)</th><th style=\"text-align: right;\">  val_acc</th><th style=\"text-align: right;\">  val_loss</th></tr>\n",
       "</thead>\n",
       "<tbody>\n",
       "<tr><td>train_net_83017_00000</td><td>RUNNING </td><td>192.168.0.20:8592</td><td style=\"text-align: right;\">      0.5</td><td style=\"text-align: right;\">       3</td><td style=\"text-align: right;\">0.001</td><td style=\"text-align: right;\">     8</td><td style=\"text-align: right;\">         101.385</td><td style=\"text-align: right;\">   0.8072</td><td style=\"text-align: right;\">  0.450885</td></tr>\n",
       "<tr><td>train_net_83017_00001</td><td>PENDING </td><td>                 </td><td style=\"text-align: right;\">      0.5</td><td style=\"text-align: right;\">       5</td><td style=\"text-align: right;\">0.001</td><td style=\"text-align: right;\">      </td><td style=\"text-align: right;\">                </td><td style=\"text-align: right;\">         </td><td style=\"text-align: right;\">          </td></tr>\n",
       "</tbody>\n",
       "</table><br><br>"
      ],
      "text/plain": [
       "<IPython.core.display.HTML object>"
      ]
     },
     "metadata": {},
     "output_type": "display_data"
    },
    {
     "name": "stdout",
     "output_type": "stream",
     "text": [
      "\u001b[2m\u001b[36m(pid=8592)\u001b[0m Epoch: 2/3... Step: 800... Loss: 0.490857... Val Loss: 0.464318\n",
      "\u001b[2m\u001b[36m(pid=8592)\u001b[0m 2\n",
      "Result for train_net_83017_00000:\n",
      "  date: 2020-12-05_20-48-02\n",
      "  done: false\n",
      "  experiment_id: 076ef2c575d548d2bf386704622cdb4d\n",
      "  experiment_tag: 0_dropout=0.5,epochs=3,lr=0.001\n",
      "  hostname: DESKTOP-LTLCMDK\n",
      "  iterations_since_restore: 9\n",
      "  node_ip: 192.168.0.20\n",
      "  pid: 8592\n",
      "  should_checkpoint: true\n",
      "  time_since_restore: 114.01580810546875\n",
      "  time_this_iter_s: 12.63096284866333\n",
      "  time_total_s: 114.01580810546875\n",
      "  timestamp: 1607197682\n",
      "  timesteps_since_restore: 0\n",
      "  training_iteration: 9\n",
      "  trial_id: '83017_00000'\n",
      "  val_acc: 0.82\n",
      "  val_loss: 0.43933531165122985\n",
      "  \n"
     ]
    },
    {
     "data": {
      "text/html": [
       "== Status ==<br>Memory usage on this node: 8.0/13.9 GiB<br>Using FIFO scheduling algorithm.<br>Resources requested: 1/8 CPUs, 1/1 GPUs, 0.0/5.18 GiB heap, 0.0/1.76 GiB objects<br>Result logdir: C:\\Users\\Tijana Vukovic\\ray_results\\train_net_2020-12-05_20-46-04<br>Number of trials: 2/6 (1 PENDING, 1 RUNNING)<br><table>\n",
       "<thead>\n",
       "<tr><th>Trial name           </th><th>status  </th><th>loc              </th><th style=\"text-align: right;\">  dropout</th><th style=\"text-align: right;\">  epochs</th><th style=\"text-align: right;\">   lr</th><th style=\"text-align: right;\">  iter</th><th style=\"text-align: right;\">  total time (s)</th><th style=\"text-align: right;\">  val_acc</th><th style=\"text-align: right;\">  val_loss</th></tr>\n",
       "</thead>\n",
       "<tbody>\n",
       "<tr><td>train_net_83017_00000</td><td>RUNNING </td><td>192.168.0.20:8592</td><td style=\"text-align: right;\">      0.5</td><td style=\"text-align: right;\">       3</td><td style=\"text-align: right;\">0.001</td><td style=\"text-align: right;\">     9</td><td style=\"text-align: right;\">         114.016</td><td style=\"text-align: right;\">     0.82</td><td style=\"text-align: right;\">  0.439335</td></tr>\n",
       "<tr><td>train_net_83017_00001</td><td>PENDING </td><td>                 </td><td style=\"text-align: right;\">      0.5</td><td style=\"text-align: right;\">       5</td><td style=\"text-align: right;\">0.001</td><td style=\"text-align: right;\">      </td><td style=\"text-align: right;\">                </td><td style=\"text-align: right;\">         </td><td style=\"text-align: right;\">          </td></tr>\n",
       "</tbody>\n",
       "</table><br><br>"
      ],
      "text/plain": [
       "<IPython.core.display.HTML object>"
      ]
     },
     "metadata": {},
     "output_type": "display_data"
    },
    {
     "name": "stdout",
     "output_type": "stream",
     "text": [
      "\u001b[2m\u001b[36m(pid=8592)\u001b[0m Epoch: 3/3... Step: 900... Loss: 0.457637... Val Loss: 0.439335\n",
      "Result for train_net_83017_00000:\n",
      "  date: 2020-12-05_20-48-15\n",
      "  done: false\n",
      "  experiment_id: 076ef2c575d548d2bf386704622cdb4d\n",
      "  experiment_tag: 0_dropout=0.5,epochs=3,lr=0.001\n",
      "  hostname: DESKTOP-LTLCMDK\n",
      "  iterations_since_restore: 10\n",
      "  node_ip: 192.168.0.20\n",
      "  pid: 8592\n",
      "  should_checkpoint: true\n",
      "  time_since_restore: 126.86361527442932\n",
      "  time_this_iter_s: 12.847807168960571\n",
      "  time_total_s: 126.86361527442932\n",
      "  timestamp: 1607197695\n",
      "  timesteps_since_restore: 0\n",
      "  training_iteration: 10\n",
      "  trial_id: '83017_00000'\n",
      "  val_acc: 0.8256\n",
      "  val_loss: 0.419066478908062\n",
      "  \n"
     ]
    },
    {
     "data": {
      "text/html": [
       "== Status ==<br>Memory usage on this node: 8.0/13.9 GiB<br>Using FIFO scheduling algorithm.<br>Resources requested: 1/8 CPUs, 1/1 GPUs, 0.0/5.18 GiB heap, 0.0/1.76 GiB objects<br>Result logdir: C:\\Users\\Tijana Vukovic\\ray_results\\train_net_2020-12-05_20-46-04<br>Number of trials: 2/6 (1 PENDING, 1 RUNNING)<br><table>\n",
       "<thead>\n",
       "<tr><th>Trial name           </th><th>status  </th><th>loc              </th><th style=\"text-align: right;\">  dropout</th><th style=\"text-align: right;\">  epochs</th><th style=\"text-align: right;\">   lr</th><th style=\"text-align: right;\">  iter</th><th style=\"text-align: right;\">  total time (s)</th><th style=\"text-align: right;\">  val_acc</th><th style=\"text-align: right;\">  val_loss</th></tr>\n",
       "</thead>\n",
       "<tbody>\n",
       "<tr><td>train_net_83017_00000</td><td>RUNNING </td><td>192.168.0.20:8592</td><td style=\"text-align: right;\">      0.5</td><td style=\"text-align: right;\">       3</td><td style=\"text-align: right;\">0.001</td><td style=\"text-align: right;\">    10</td><td style=\"text-align: right;\">         126.864</td><td style=\"text-align: right;\">   0.8256</td><td style=\"text-align: right;\">  0.419066</td></tr>\n",
       "<tr><td>train_net_83017_00001</td><td>PENDING </td><td>                 </td><td style=\"text-align: right;\">      0.5</td><td style=\"text-align: right;\">       5</td><td style=\"text-align: right;\">0.001</td><td style=\"text-align: right;\">      </td><td style=\"text-align: right;\">                </td><td style=\"text-align: right;\">         </td><td style=\"text-align: right;\">          </td></tr>\n",
       "</tbody>\n",
       "</table><br><br>"
      ],
      "text/plain": [
       "<IPython.core.display.HTML object>"
      ]
     },
     "metadata": {},
     "output_type": "display_data"
    },
    {
     "name": "stdout",
     "output_type": "stream",
     "text": [
      "\u001b[2m\u001b[36m(pid=8592)\u001b[0m Epoch: 3/3... Step: 1000... Loss: 0.478226... Val Loss: 0.419066\n",
      "Result for train_net_83017_00000:\n",
      "  date: 2020-12-05_20-48-28\n",
      "  done: false\n",
      "  experiment_id: 076ef2c575d548d2bf386704622cdb4d\n",
      "  experiment_tag: 0_dropout=0.5,epochs=3,lr=0.001\n",
      "  hostname: DESKTOP-LTLCMDK\n",
      "  iterations_since_restore: 11\n",
      "  node_ip: 192.168.0.20\n",
      "  pid: 8592\n",
      "  should_checkpoint: true\n",
      "  time_since_restore: 139.65798234939575\n",
      "  time_this_iter_s: 12.79436707496643\n",
      "  time_total_s: 139.65798234939575\n",
      "  timestamp: 1607197708\n",
      "  timesteps_since_restore: 0\n",
      "  training_iteration: 11\n",
      "  trial_id: '83017_00000'\n",
      "  val_acc: 0.8224\n",
      "  val_loss: 0.3963902774453163\n",
      "  \n"
     ]
    },
    {
     "data": {
      "text/html": [
       "== Status ==<br>Memory usage on this node: 8.0/13.9 GiB<br>Using FIFO scheduling algorithm.<br>Resources requested: 1/8 CPUs, 1/1 GPUs, 0.0/5.18 GiB heap, 0.0/1.76 GiB objects<br>Result logdir: C:\\Users\\Tijana Vukovic\\ray_results\\train_net_2020-12-05_20-46-04<br>Number of trials: 2/6 (1 PENDING, 1 RUNNING)<br><table>\n",
       "<thead>\n",
       "<tr><th>Trial name           </th><th>status  </th><th>loc              </th><th style=\"text-align: right;\">  dropout</th><th style=\"text-align: right;\">  epochs</th><th style=\"text-align: right;\">   lr</th><th style=\"text-align: right;\">  iter</th><th style=\"text-align: right;\">  total time (s)</th><th style=\"text-align: right;\">  val_acc</th><th style=\"text-align: right;\">  val_loss</th></tr>\n",
       "</thead>\n",
       "<tbody>\n",
       "<tr><td>train_net_83017_00000</td><td>RUNNING </td><td>192.168.0.20:8592</td><td style=\"text-align: right;\">      0.5</td><td style=\"text-align: right;\">       3</td><td style=\"text-align: right;\">0.001</td><td style=\"text-align: right;\">    11</td><td style=\"text-align: right;\">         139.658</td><td style=\"text-align: right;\">   0.8224</td><td style=\"text-align: right;\">   0.39639</td></tr>\n",
       "<tr><td>train_net_83017_00001</td><td>PENDING </td><td>                 </td><td style=\"text-align: right;\">      0.5</td><td style=\"text-align: right;\">       5</td><td style=\"text-align: right;\">0.001</td><td style=\"text-align: right;\">      </td><td style=\"text-align: right;\">                </td><td style=\"text-align: right;\">         </td><td style=\"text-align: right;\">          </td></tr>\n",
       "</tbody>\n",
       "</table><br><br>"
      ],
      "text/plain": [
       "<IPython.core.display.HTML object>"
      ]
     },
     "metadata": {},
     "output_type": "display_data"
    },
    {
     "name": "stdout",
     "output_type": "stream",
     "text": [
      "\u001b[2m\u001b[36m(pid=8592)\u001b[0m Epoch: 3/3... Step: 1100... Loss: 0.388338... Val Loss: 0.396390\n",
      "Result for train_net_83017_00000:\n",
      "  date: 2020-12-05_20-48-39\n",
      "  done: false\n",
      "  experiment_id: 076ef2c575d548d2bf386704622cdb4d\n",
      "  experiment_tag: 0_dropout=0.5,epochs=3,lr=0.001\n",
      "  hostname: DESKTOP-LTLCMDK\n",
      "  iterations_since_restore: 12\n",
      "  node_ip: 192.168.0.20\n",
      "  pid: 8592\n",
      "  time_since_restore: 150.56781339645386\n",
      "  time_this_iter_s: 10.909831047058105\n",
      "  time_total_s: 150.56781339645386\n",
      "  timestamp: 1607197719\n",
      "  timesteps_since_restore: 0\n",
      "  training_iteration: 12\n",
      "  trial_id: '83017_00000'\n",
      "  val_acc: 0.8224\n",
      "  val_loss: 0.3963902774453163\n",
      "  \n"
     ]
    },
    {
     "data": {
      "text/html": [
       "== Status ==<br>Memory usage on this node: 7.9/13.9 GiB<br>Using FIFO scheduling algorithm.<br>Resources requested: 1/8 CPUs, 1/1 GPUs, 0.0/5.18 GiB heap, 0.0/1.76 GiB objects<br>Result logdir: C:\\Users\\Tijana Vukovic\\ray_results\\train_net_2020-12-05_20-46-04<br>Number of trials: 2/6 (1 PENDING, 1 RUNNING)<br><table>\n",
       "<thead>\n",
       "<tr><th>Trial name           </th><th>status  </th><th>loc              </th><th style=\"text-align: right;\">  dropout</th><th style=\"text-align: right;\">  epochs</th><th style=\"text-align: right;\">   lr</th><th style=\"text-align: right;\">  iter</th><th style=\"text-align: right;\">  total time (s)</th><th style=\"text-align: right;\">  val_acc</th><th style=\"text-align: right;\">  val_loss</th></tr>\n",
       "</thead>\n",
       "<tbody>\n",
       "<tr><td>train_net_83017_00000</td><td>RUNNING </td><td>192.168.0.20:8592</td><td style=\"text-align: right;\">      0.5</td><td style=\"text-align: right;\">       3</td><td style=\"text-align: right;\">0.001</td><td style=\"text-align: right;\">    12</td><td style=\"text-align: right;\">         150.568</td><td style=\"text-align: right;\">   0.8224</td><td style=\"text-align: right;\">   0.39639</td></tr>\n",
       "<tr><td>train_net_83017_00001</td><td>PENDING </td><td>                 </td><td style=\"text-align: right;\">      0.5</td><td style=\"text-align: right;\">       5</td><td style=\"text-align: right;\">0.001</td><td style=\"text-align: right;\">      </td><td style=\"text-align: right;\">                </td><td style=\"text-align: right;\">         </td><td style=\"text-align: right;\">          </td></tr>\n",
       "</tbody>\n",
       "</table><br><br>"
      ],
      "text/plain": [
       "<IPython.core.display.HTML object>"
      ]
     },
     "metadata": {},
     "output_type": "display_data"
    },
    {
     "name": "stdout",
     "output_type": "stream",
     "text": [
      "\u001b[2m\u001b[36m(pid=8592)\u001b[0m Epoch: 3/3... Step: 1200... Loss: 0.254248... Val Loss: 0.408158\n",
      "\u001b[2m\u001b[36m(pid=5076)\u001b[0m 0\n",
      "Result for train_net_83017_00001:\n",
      "  date: 2020-12-05_20-48-58\n",
      "  done: false\n",
      "  experiment_id: ef52b861ac84430a97c3bf4cb6114f71\n",
      "  experiment_tag: 1_dropout=0.5,epochs=5,lr=0.001\n",
      "  hostname: DESKTOP-LTLCMDK\n",
      "  iterations_since_restore: 1\n",
      "  node_ip: 192.168.0.20\n",
      "  pid: 5076\n",
      "  should_checkpoint: true\n",
      "  time_since_restore: 16.772253036499023\n",
      "  time_this_iter_s: 16.772253036499023\n",
      "  time_total_s: 16.772253036499023\n",
      "  timestamp: 1607197738\n",
      "  timesteps_since_restore: 0\n",
      "  training_iteration: 1\n",
      "  trial_id: '83017_00001'\n",
      "  val_acc: 0.6336\n",
      "  val_loss: 0.6432062661647797\n",
      "  \n"
     ]
    },
    {
     "data": {
      "text/html": [
       "== Status ==<br>Memory usage on this node: 7.9/13.9 GiB<br>Using FIFO scheduling algorithm.<br>Resources requested: 1/8 CPUs, 1/1 GPUs, 0.0/5.18 GiB heap, 0.0/1.76 GiB objects<br>Result logdir: C:\\Users\\Tijana Vukovic\\ray_results\\train_net_2020-12-05_20-46-04<br>Number of trials: 3/6 (1 PENDING, 1 RUNNING, 1 TERMINATED)<br><table>\n",
       "<thead>\n",
       "<tr><th>Trial name           </th><th>status    </th><th>loc              </th><th style=\"text-align: right;\">  dropout</th><th style=\"text-align: right;\">  epochs</th><th style=\"text-align: right;\">   lr</th><th style=\"text-align: right;\">  iter</th><th style=\"text-align: right;\">  total time (s)</th><th style=\"text-align: right;\">  val_acc</th><th style=\"text-align: right;\">  val_loss</th></tr>\n",
       "</thead>\n",
       "<tbody>\n",
       "<tr><td>train_net_83017_00001</td><td>RUNNING   </td><td>192.168.0.20:5076</td><td style=\"text-align: right;\">      0.5</td><td style=\"text-align: right;\">       5</td><td style=\"text-align: right;\">0.001</td><td style=\"text-align: right;\">     1</td><td style=\"text-align: right;\">         16.7723</td><td style=\"text-align: right;\">   0.6336</td><td style=\"text-align: right;\">  0.643206</td></tr>\n",
       "<tr><td>train_net_83017_00002</td><td>PENDING   </td><td>                 </td><td style=\"text-align: right;\">      0.5</td><td style=\"text-align: right;\">       3</td><td style=\"text-align: right;\">0.01 </td><td style=\"text-align: right;\">      </td><td style=\"text-align: right;\">                </td><td style=\"text-align: right;\">         </td><td style=\"text-align: right;\">          </td></tr>\n",
       "<tr><td>train_net_83017_00000</td><td>TERMINATED</td><td>                 </td><td style=\"text-align: right;\">      0.5</td><td style=\"text-align: right;\">       3</td><td style=\"text-align: right;\">0.001</td><td style=\"text-align: right;\">    12</td><td style=\"text-align: right;\">        150.568 </td><td style=\"text-align: right;\">   0.8224</td><td style=\"text-align: right;\">  0.39639 </td></tr>\n",
       "</tbody>\n",
       "</table><br><br>"
      ],
      "text/plain": [
       "<IPython.core.display.HTML object>"
      ]
     },
     "metadata": {},
     "output_type": "display_data"
    },
    {
     "name": "stdout",
     "output_type": "stream",
     "text": [
      "\u001b[2m\u001b[36m(pid=5076)\u001b[0m Epoch: 1/5... Step: 100... Loss: 0.641266... Val Loss: 0.643206\n",
      "Result for train_net_83017_00001:\n",
      "  date: 2020-12-05_20-49-11\n",
      "  done: false\n",
      "  experiment_id: ef52b861ac84430a97c3bf4cb6114f71\n",
      "  experiment_tag: 1_dropout=0.5,epochs=5,lr=0.001\n",
      "  hostname: DESKTOP-LTLCMDK\n",
      "  iterations_since_restore: 2\n",
      "  node_ip: 192.168.0.20\n",
      "  pid: 5076\n",
      "  should_checkpoint: true\n",
      "  time_since_restore: 29.235658645629883\n",
      "  time_this_iter_s: 12.46340560913086\n",
      "  time_total_s: 29.235658645629883\n",
      "  timestamp: 1607197751\n",
      "  timesteps_since_restore: 0\n",
      "  training_iteration: 2\n",
      "  trial_id: '83017_00001'\n",
      "  val_acc: 0.64\n",
      "  val_loss: 0.6302951312065125\n",
      "  \n"
     ]
    },
    {
     "data": {
      "text/html": [
       "== Status ==<br>Memory usage on this node: 7.9/13.9 GiB<br>Using FIFO scheduling algorithm.<br>Resources requested: 1/8 CPUs, 1/1 GPUs, 0.0/5.18 GiB heap, 0.0/1.76 GiB objects<br>Result logdir: C:\\Users\\Tijana Vukovic\\ray_results\\train_net_2020-12-05_20-46-04<br>Number of trials: 3/6 (1 PENDING, 1 RUNNING, 1 TERMINATED)<br><table>\n",
       "<thead>\n",
       "<tr><th>Trial name           </th><th>status    </th><th>loc              </th><th style=\"text-align: right;\">  dropout</th><th style=\"text-align: right;\">  epochs</th><th style=\"text-align: right;\">   lr</th><th style=\"text-align: right;\">  iter</th><th style=\"text-align: right;\">  total time (s)</th><th style=\"text-align: right;\">  val_acc</th><th style=\"text-align: right;\">  val_loss</th></tr>\n",
       "</thead>\n",
       "<tbody>\n",
       "<tr><td>train_net_83017_00001</td><td>RUNNING   </td><td>192.168.0.20:5076</td><td style=\"text-align: right;\">      0.5</td><td style=\"text-align: right;\">       5</td><td style=\"text-align: right;\">0.001</td><td style=\"text-align: right;\">     2</td><td style=\"text-align: right;\">         29.2357</td><td style=\"text-align: right;\">   0.64  </td><td style=\"text-align: right;\">  0.630295</td></tr>\n",
       "<tr><td>train_net_83017_00002</td><td>PENDING   </td><td>                 </td><td style=\"text-align: right;\">      0.5</td><td style=\"text-align: right;\">       3</td><td style=\"text-align: right;\">0.01 </td><td style=\"text-align: right;\">      </td><td style=\"text-align: right;\">                </td><td style=\"text-align: right;\">         </td><td style=\"text-align: right;\">          </td></tr>\n",
       "<tr><td>train_net_83017_00000</td><td>TERMINATED</td><td>                 </td><td style=\"text-align: right;\">      0.5</td><td style=\"text-align: right;\">       3</td><td style=\"text-align: right;\">0.001</td><td style=\"text-align: right;\">    12</td><td style=\"text-align: right;\">        150.568 </td><td style=\"text-align: right;\">   0.8224</td><td style=\"text-align: right;\">  0.39639 </td></tr>\n",
       "</tbody>\n",
       "</table><br><br>"
      ],
      "text/plain": [
       "<IPython.core.display.HTML object>"
      ]
     },
     "metadata": {},
     "output_type": "display_data"
    },
    {
     "name": "stdout",
     "output_type": "stream",
     "text": [
      "\u001b[2m\u001b[36m(pid=5076)\u001b[0m Epoch: 1/5... Step: 200... Loss: 0.701617... Val Loss: 0.630295\n",
      "Result for train_net_83017_00001:\n",
      "  date: 2020-12-05_20-49-22\n",
      "  done: false\n",
      "  experiment_id: ef52b861ac84430a97c3bf4cb6114f71\n",
      "  experiment_tag: 1_dropout=0.5,epochs=5,lr=0.001\n",
      "  hostname: DESKTOP-LTLCMDK\n",
      "  iterations_since_restore: 3\n",
      "  node_ip: 192.168.0.20\n",
      "  pid: 5076\n",
      "  time_since_restore: 40.13583993911743\n",
      "  time_this_iter_s: 10.900181293487549\n",
      "  time_total_s: 40.13583993911743\n",
      "  timestamp: 1607197762\n",
      "  timesteps_since_restore: 0\n",
      "  training_iteration: 3\n",
      "  trial_id: '83017_00001'\n",
      "  val_acc: 0.64\n",
      "  val_loss: 0.6302951312065125\n",
      "  \n"
     ]
    },
    {
     "data": {
      "text/html": [
       "== Status ==<br>Memory usage on this node: 7.9/13.9 GiB<br>Using FIFO scheduling algorithm.<br>Resources requested: 1/8 CPUs, 1/1 GPUs, 0.0/5.18 GiB heap, 0.0/1.76 GiB objects<br>Result logdir: C:\\Users\\Tijana Vukovic\\ray_results\\train_net_2020-12-05_20-46-04<br>Number of trials: 3/6 (1 PENDING, 1 RUNNING, 1 TERMINATED)<br><table>\n",
       "<thead>\n",
       "<tr><th>Trial name           </th><th>status    </th><th>loc              </th><th style=\"text-align: right;\">  dropout</th><th style=\"text-align: right;\">  epochs</th><th style=\"text-align: right;\">   lr</th><th style=\"text-align: right;\">  iter</th><th style=\"text-align: right;\">  total time (s)</th><th style=\"text-align: right;\">  val_acc</th><th style=\"text-align: right;\">  val_loss</th></tr>\n",
       "</thead>\n",
       "<tbody>\n",
       "<tr><td>train_net_83017_00001</td><td>RUNNING   </td><td>192.168.0.20:5076</td><td style=\"text-align: right;\">      0.5</td><td style=\"text-align: right;\">       5</td><td style=\"text-align: right;\">0.001</td><td style=\"text-align: right;\">     3</td><td style=\"text-align: right;\">         40.1358</td><td style=\"text-align: right;\">   0.64  </td><td style=\"text-align: right;\">  0.630295</td></tr>\n",
       "<tr><td>train_net_83017_00002</td><td>PENDING   </td><td>                 </td><td style=\"text-align: right;\">      0.5</td><td style=\"text-align: right;\">       3</td><td style=\"text-align: right;\">0.01 </td><td style=\"text-align: right;\">      </td><td style=\"text-align: right;\">                </td><td style=\"text-align: right;\">         </td><td style=\"text-align: right;\">          </td></tr>\n",
       "<tr><td>train_net_83017_00000</td><td>TERMINATED</td><td>                 </td><td style=\"text-align: right;\">      0.5</td><td style=\"text-align: right;\">       3</td><td style=\"text-align: right;\">0.001</td><td style=\"text-align: right;\">    12</td><td style=\"text-align: right;\">        150.568 </td><td style=\"text-align: right;\">   0.8224</td><td style=\"text-align: right;\">  0.39639 </td></tr>\n",
       "</tbody>\n",
       "</table><br><br>"
      ],
      "text/plain": [
       "<IPython.core.display.HTML object>"
      ]
     },
     "metadata": {},
     "output_type": "display_data"
    },
    {
     "name": "stdout",
     "output_type": "stream",
     "text": [
      "\u001b[2m\u001b[36m(pid=5076)\u001b[0m Epoch: 1/5... Step: 300... Loss: 0.712959... Val Loss: 0.686795\n",
      "Result for train_net_83017_00001:\n",
      "  date: 2020-12-05_20-49-32\n",
      "  done: false\n",
      "  experiment_id: ef52b861ac84430a97c3bf4cb6114f71\n",
      "  experiment_tag: 1_dropout=0.5,epochs=5,lr=0.001\n",
      "  hostname: DESKTOP-LTLCMDK\n",
      "  iterations_since_restore: 4\n",
      "  node_ip: 192.168.0.20\n",
      "  pid: 5076\n",
      "  time_since_restore: 50.75254201889038\n",
      "  time_this_iter_s: 10.61670207977295\n",
      "  time_total_s: 50.75254201889038\n",
      "  timestamp: 1607197772\n",
      "  timesteps_since_restore: 0\n",
      "  training_iteration: 4\n",
      "  trial_id: '83017_00001'\n",
      "  val_acc: 0.64\n",
      "  val_loss: 0.6302951312065125\n",
      "  \n"
     ]
    },
    {
     "data": {
      "text/html": [
       "== Status ==<br>Memory usage on this node: 7.8/13.9 GiB<br>Using FIFO scheduling algorithm.<br>Resources requested: 1/8 CPUs, 1/1 GPUs, 0.0/5.18 GiB heap, 0.0/1.76 GiB objects<br>Result logdir: C:\\Users\\Tijana Vukovic\\ray_results\\train_net_2020-12-05_20-46-04<br>Number of trials: 3/6 (1 PENDING, 1 RUNNING, 1 TERMINATED)<br><table>\n",
       "<thead>\n",
       "<tr><th>Trial name           </th><th>status    </th><th>loc              </th><th style=\"text-align: right;\">  dropout</th><th style=\"text-align: right;\">  epochs</th><th style=\"text-align: right;\">   lr</th><th style=\"text-align: right;\">  iter</th><th style=\"text-align: right;\">  total time (s)</th><th style=\"text-align: right;\">  val_acc</th><th style=\"text-align: right;\">  val_loss</th></tr>\n",
       "</thead>\n",
       "<tbody>\n",
       "<tr><td>train_net_83017_00001</td><td>RUNNING   </td><td>192.168.0.20:5076</td><td style=\"text-align: right;\">      0.5</td><td style=\"text-align: right;\">       5</td><td style=\"text-align: right;\">0.001</td><td style=\"text-align: right;\">     4</td><td style=\"text-align: right;\">         50.7525</td><td style=\"text-align: right;\">   0.64  </td><td style=\"text-align: right;\">  0.630295</td></tr>\n",
       "<tr><td>train_net_83017_00002</td><td>PENDING   </td><td>                 </td><td style=\"text-align: right;\">      0.5</td><td style=\"text-align: right;\">       3</td><td style=\"text-align: right;\">0.01 </td><td style=\"text-align: right;\">      </td><td style=\"text-align: right;\">                </td><td style=\"text-align: right;\">         </td><td style=\"text-align: right;\">          </td></tr>\n",
       "<tr><td>train_net_83017_00000</td><td>TERMINATED</td><td>                 </td><td style=\"text-align: right;\">      0.5</td><td style=\"text-align: right;\">       3</td><td style=\"text-align: right;\">0.001</td><td style=\"text-align: right;\">    12</td><td style=\"text-align: right;\">        150.568 </td><td style=\"text-align: right;\">   0.8224</td><td style=\"text-align: right;\">  0.39639 </td></tr>\n",
       "</tbody>\n",
       "</table><br><br>"
      ],
      "text/plain": [
       "<IPython.core.display.HTML object>"
      ]
     },
     "metadata": {},
     "output_type": "display_data"
    },
    {
     "name": "stdout",
     "output_type": "stream",
     "text": [
      "\u001b[2m\u001b[36m(pid=5076)\u001b[0m Epoch: 1/5... Step: 400... Loss: 0.625387... Val Loss: 0.649495\n",
      "\u001b[2m\u001b[36m(pid=5076)\u001b[0m 1\n",
      "Result for train_net_83017_00001:\n",
      "  date: 2020-12-05_20-49-45\n",
      "  done: false\n",
      "  experiment_id: ef52b861ac84430a97c3bf4cb6114f71\n",
      "  experiment_tag: 1_dropout=0.5,epochs=5,lr=0.001\n",
      "  hostname: DESKTOP-LTLCMDK\n",
      "  iterations_since_restore: 5\n",
      "  node_ip: 192.168.0.20\n",
      "  pid: 5076\n",
      "  should_checkpoint: true\n",
      "  time_since_restore: 62.87281799316406\n",
      "  time_this_iter_s: 12.120275974273682\n",
      "  time_total_s: 62.87281799316406\n",
      "  timestamp: 1607197785\n",
      "  timesteps_since_restore: 0\n",
      "  training_iteration: 5\n",
      "  trial_id: '83017_00001'\n",
      "  val_acc: 0.7088\n",
      "  val_loss: 0.5850548028945923\n",
      "  \n"
     ]
    },
    {
     "data": {
      "text/html": [
       "== Status ==<br>Memory usage on this node: 7.9/13.9 GiB<br>Using FIFO scheduling algorithm.<br>Resources requested: 1/8 CPUs, 1/1 GPUs, 0.0/5.18 GiB heap, 0.0/1.76 GiB objects<br>Result logdir: C:\\Users\\Tijana Vukovic\\ray_results\\train_net_2020-12-05_20-46-04<br>Number of trials: 3/6 (1 PENDING, 1 RUNNING, 1 TERMINATED)<br><table>\n",
       "<thead>\n",
       "<tr><th>Trial name           </th><th>status    </th><th>loc              </th><th style=\"text-align: right;\">  dropout</th><th style=\"text-align: right;\">  epochs</th><th style=\"text-align: right;\">   lr</th><th style=\"text-align: right;\">  iter</th><th style=\"text-align: right;\">  total time (s)</th><th style=\"text-align: right;\">  val_acc</th><th style=\"text-align: right;\">  val_loss</th></tr>\n",
       "</thead>\n",
       "<tbody>\n",
       "<tr><td>train_net_83017_00001</td><td>RUNNING   </td><td>192.168.0.20:5076</td><td style=\"text-align: right;\">      0.5</td><td style=\"text-align: right;\">       5</td><td style=\"text-align: right;\">0.001</td><td style=\"text-align: right;\">     5</td><td style=\"text-align: right;\">         62.8728</td><td style=\"text-align: right;\">   0.7088</td><td style=\"text-align: right;\">  0.585055</td></tr>\n",
       "<tr><td>train_net_83017_00002</td><td>PENDING   </td><td>                 </td><td style=\"text-align: right;\">      0.5</td><td style=\"text-align: right;\">       3</td><td style=\"text-align: right;\">0.01 </td><td style=\"text-align: right;\">      </td><td style=\"text-align: right;\">                </td><td style=\"text-align: right;\">         </td><td style=\"text-align: right;\">          </td></tr>\n",
       "<tr><td>train_net_83017_00000</td><td>TERMINATED</td><td>                 </td><td style=\"text-align: right;\">      0.5</td><td style=\"text-align: right;\">       3</td><td style=\"text-align: right;\">0.001</td><td style=\"text-align: right;\">    12</td><td style=\"text-align: right;\">        150.568 </td><td style=\"text-align: right;\">   0.8224</td><td style=\"text-align: right;\">  0.39639 </td></tr>\n",
       "</tbody>\n",
       "</table><br><br>"
      ],
      "text/plain": [
       "<IPython.core.display.HTML object>"
      ]
     },
     "metadata": {},
     "output_type": "display_data"
    },
    {
     "name": "stdout",
     "output_type": "stream",
     "text": [
      "\u001b[2m\u001b[36m(pid=5076)\u001b[0m Epoch: 2/5... Step: 500... Loss: 0.527617... Val Loss: 0.585055\n",
      "Result for train_net_83017_00001:\n",
      "  date: 2020-12-05_20-49-58\n",
      "  done: false\n",
      "  experiment_id: ef52b861ac84430a97c3bf4cb6114f71\n",
      "  experiment_tag: 1_dropout=0.5,epochs=5,lr=0.001\n",
      "  hostname: DESKTOP-LTLCMDK\n",
      "  iterations_since_restore: 6\n",
      "  node_ip: 192.168.0.20\n",
      "  pid: 5076\n",
      "  should_checkpoint: true\n",
      "  time_since_restore: 75.86490845680237\n",
      "  time_this_iter_s: 12.992090463638306\n",
      "  time_total_s: 75.86490845680237\n",
      "  timestamp: 1607197798\n",
      "  timesteps_since_restore: 0\n",
      "  training_iteration: 6\n",
      "  trial_id: '83017_00001'\n",
      "  val_acc: 0.7728\n",
      "  val_loss: 0.49818956971168515\n",
      "  \n"
     ]
    },
    {
     "data": {
      "text/html": [
       "== Status ==<br>Memory usage on this node: 7.9/13.9 GiB<br>Using FIFO scheduling algorithm.<br>Resources requested: 1/8 CPUs, 1/1 GPUs, 0.0/5.18 GiB heap, 0.0/1.76 GiB objects<br>Result logdir: C:\\Users\\Tijana Vukovic\\ray_results\\train_net_2020-12-05_20-46-04<br>Number of trials: 3/6 (1 PENDING, 1 RUNNING, 1 TERMINATED)<br><table>\n",
       "<thead>\n",
       "<tr><th>Trial name           </th><th>status    </th><th>loc              </th><th style=\"text-align: right;\">  dropout</th><th style=\"text-align: right;\">  epochs</th><th style=\"text-align: right;\">   lr</th><th style=\"text-align: right;\">  iter</th><th style=\"text-align: right;\">  total time (s)</th><th style=\"text-align: right;\">  val_acc</th><th style=\"text-align: right;\">  val_loss</th></tr>\n",
       "</thead>\n",
       "<tbody>\n",
       "<tr><td>train_net_83017_00001</td><td>RUNNING   </td><td>192.168.0.20:5076</td><td style=\"text-align: right;\">      0.5</td><td style=\"text-align: right;\">       5</td><td style=\"text-align: right;\">0.001</td><td style=\"text-align: right;\">     6</td><td style=\"text-align: right;\">         75.8649</td><td style=\"text-align: right;\">   0.7728</td><td style=\"text-align: right;\">   0.49819</td></tr>\n",
       "<tr><td>train_net_83017_00002</td><td>PENDING   </td><td>                 </td><td style=\"text-align: right;\">      0.5</td><td style=\"text-align: right;\">       3</td><td style=\"text-align: right;\">0.01 </td><td style=\"text-align: right;\">      </td><td style=\"text-align: right;\">                </td><td style=\"text-align: right;\">         </td><td style=\"text-align: right;\">          </td></tr>\n",
       "<tr><td>train_net_83017_00000</td><td>TERMINATED</td><td>                 </td><td style=\"text-align: right;\">      0.5</td><td style=\"text-align: right;\">       3</td><td style=\"text-align: right;\">0.001</td><td style=\"text-align: right;\">    12</td><td style=\"text-align: right;\">        150.568 </td><td style=\"text-align: right;\">   0.8224</td><td style=\"text-align: right;\">   0.39639</td></tr>\n",
       "</tbody>\n",
       "</table><br><br>"
      ],
      "text/plain": [
       "<IPython.core.display.HTML object>"
      ]
     },
     "metadata": {},
     "output_type": "display_data"
    },
    {
     "name": "stdout",
     "output_type": "stream",
     "text": [
      "\u001b[2m\u001b[36m(pid=5076)\u001b[0m Epoch: 2/5... Step: 600... Loss: 0.473427... Val Loss: 0.498190\n",
      "Result for train_net_83017_00001:\n",
      "  date: 2020-12-05_20-50-10\n",
      "  done: false\n",
      "  experiment_id: ef52b861ac84430a97c3bf4cb6114f71\n",
      "  experiment_tag: 1_dropout=0.5,epochs=5,lr=0.001\n",
      "  hostname: DESKTOP-LTLCMDK\n",
      "  iterations_since_restore: 7\n",
      "  node_ip: 192.168.0.20\n",
      "  pid: 5076\n",
      "  should_checkpoint: true\n",
      "  time_since_restore: 88.73798680305481\n",
      "  time_this_iter_s: 12.873078346252441\n",
      "  time_total_s: 88.73798680305481\n",
      "  timestamp: 1607197810\n",
      "  timesteps_since_restore: 0\n",
      "  training_iteration: 7\n",
      "  trial_id: '83017_00001'\n",
      "  val_acc: 0.776\n",
      "  val_loss: 0.47720217883586885\n",
      "  \n"
     ]
    },
    {
     "data": {
      "text/html": [
       "== Status ==<br>Memory usage on this node: 7.9/13.9 GiB<br>Using FIFO scheduling algorithm.<br>Resources requested: 1/8 CPUs, 1/1 GPUs, 0.0/5.18 GiB heap, 0.0/1.76 GiB objects<br>Result logdir: C:\\Users\\Tijana Vukovic\\ray_results\\train_net_2020-12-05_20-46-04<br>Number of trials: 3/6 (1 PENDING, 1 RUNNING, 1 TERMINATED)<br><table>\n",
       "<thead>\n",
       "<tr><th>Trial name           </th><th>status    </th><th>loc              </th><th style=\"text-align: right;\">  dropout</th><th style=\"text-align: right;\">  epochs</th><th style=\"text-align: right;\">   lr</th><th style=\"text-align: right;\">  iter</th><th style=\"text-align: right;\">  total time (s)</th><th style=\"text-align: right;\">  val_acc</th><th style=\"text-align: right;\">  val_loss</th></tr>\n",
       "</thead>\n",
       "<tbody>\n",
       "<tr><td>train_net_83017_00001</td><td>RUNNING   </td><td>192.168.0.20:5076</td><td style=\"text-align: right;\">      0.5</td><td style=\"text-align: right;\">       5</td><td style=\"text-align: right;\">0.001</td><td style=\"text-align: right;\">     7</td><td style=\"text-align: right;\">          88.738</td><td style=\"text-align: right;\">   0.776 </td><td style=\"text-align: right;\">  0.477202</td></tr>\n",
       "<tr><td>train_net_83017_00002</td><td>PENDING   </td><td>                 </td><td style=\"text-align: right;\">      0.5</td><td style=\"text-align: right;\">       3</td><td style=\"text-align: right;\">0.01 </td><td style=\"text-align: right;\">      </td><td style=\"text-align: right;\">                </td><td style=\"text-align: right;\">         </td><td style=\"text-align: right;\">          </td></tr>\n",
       "<tr><td>train_net_83017_00000</td><td>TERMINATED</td><td>                 </td><td style=\"text-align: right;\">      0.5</td><td style=\"text-align: right;\">       3</td><td style=\"text-align: right;\">0.001</td><td style=\"text-align: right;\">    12</td><td style=\"text-align: right;\">         150.568</td><td style=\"text-align: right;\">   0.8224</td><td style=\"text-align: right;\">  0.39639 </td></tr>\n",
       "</tbody>\n",
       "</table><br><br>"
      ],
      "text/plain": [
       "<IPython.core.display.HTML object>"
      ]
     },
     "metadata": {},
     "output_type": "display_data"
    },
    {
     "name": "stdout",
     "output_type": "stream",
     "text": [
      "\u001b[2m\u001b[36m(pid=5076)\u001b[0m Epoch: 2/5... Step: 700... Loss: 0.329957... Val Loss: 0.477202\n",
      "Result for train_net_83017_00001:\n",
      "  date: 2020-12-05_20-50-23\n",
      "  done: false\n",
      "  experiment_id: ef52b861ac84430a97c3bf4cb6114f71\n",
      "  experiment_tag: 1_dropout=0.5,epochs=5,lr=0.001\n",
      "  hostname: DESKTOP-LTLCMDK\n",
      "  iterations_since_restore: 8\n",
      "  node_ip: 192.168.0.20\n",
      "  pid: 5076\n",
      "  should_checkpoint: true\n",
      "  time_since_restore: 101.65686678886414\n",
      "  time_this_iter_s: 12.918879985809326\n",
      "  time_total_s: 101.65686678886414\n",
      "  timestamp: 1607197823\n",
      "  timesteps_since_restore: 0\n",
      "  training_iteration: 8\n",
      "  trial_id: '83017_00001'\n",
      "  val_acc: 0.796\n",
      "  val_loss: 0.4521937191486359\n",
      "  \n"
     ]
    },
    {
     "data": {
      "text/html": [
       "== Status ==<br>Memory usage on this node: 7.9/13.9 GiB<br>Using FIFO scheduling algorithm.<br>Resources requested: 1/8 CPUs, 1/1 GPUs, 0.0/5.18 GiB heap, 0.0/1.76 GiB objects<br>Result logdir: C:\\Users\\Tijana Vukovic\\ray_results\\train_net_2020-12-05_20-46-04<br>Number of trials: 3/6 (1 PENDING, 1 RUNNING, 1 TERMINATED)<br><table>\n",
       "<thead>\n",
       "<tr><th>Trial name           </th><th>status    </th><th>loc              </th><th style=\"text-align: right;\">  dropout</th><th style=\"text-align: right;\">  epochs</th><th style=\"text-align: right;\">   lr</th><th style=\"text-align: right;\">  iter</th><th style=\"text-align: right;\">  total time (s)</th><th style=\"text-align: right;\">  val_acc</th><th style=\"text-align: right;\">  val_loss</th></tr>\n",
       "</thead>\n",
       "<tbody>\n",
       "<tr><td>train_net_83017_00001</td><td>RUNNING   </td><td>192.168.0.20:5076</td><td style=\"text-align: right;\">      0.5</td><td style=\"text-align: right;\">       5</td><td style=\"text-align: right;\">0.001</td><td style=\"text-align: right;\">     8</td><td style=\"text-align: right;\">         101.657</td><td style=\"text-align: right;\">   0.796 </td><td style=\"text-align: right;\">  0.452194</td></tr>\n",
       "<tr><td>train_net_83017_00002</td><td>PENDING   </td><td>                 </td><td style=\"text-align: right;\">      0.5</td><td style=\"text-align: right;\">       3</td><td style=\"text-align: right;\">0.01 </td><td style=\"text-align: right;\">      </td><td style=\"text-align: right;\">                </td><td style=\"text-align: right;\">         </td><td style=\"text-align: right;\">          </td></tr>\n",
       "<tr><td>train_net_83017_00000</td><td>TERMINATED</td><td>                 </td><td style=\"text-align: right;\">      0.5</td><td style=\"text-align: right;\">       3</td><td style=\"text-align: right;\">0.001</td><td style=\"text-align: right;\">    12</td><td style=\"text-align: right;\">         150.568</td><td style=\"text-align: right;\">   0.8224</td><td style=\"text-align: right;\">  0.39639 </td></tr>\n",
       "</tbody>\n",
       "</table><br><br>"
      ],
      "text/plain": [
       "<IPython.core.display.HTML object>"
      ]
     },
     "metadata": {},
     "output_type": "display_data"
    },
    {
     "name": "stdout",
     "output_type": "stream",
     "text": [
      "\u001b[2m\u001b[36m(pid=5076)\u001b[0m Epoch: 2/5... Step: 800... Loss: 0.496882... Val Loss: 0.452194\n",
      "\u001b[2m\u001b[36m(pid=5076)\u001b[0m 2\n",
      "Result for train_net_83017_00001:\n",
      "  date: 2020-12-05_20-50-34\n",
      "  done: false\n",
      "  experiment_id: ef52b861ac84430a97c3bf4cb6114f71\n",
      "  experiment_tag: 1_dropout=0.5,epochs=5,lr=0.001\n",
      "  hostname: DESKTOP-LTLCMDK\n",
      "  iterations_since_restore: 9\n",
      "  node_ip: 192.168.0.20\n",
      "  pid: 5076\n",
      "  time_since_restore: 112.4796884059906\n",
      "  time_this_iter_s: 10.822821617126465\n",
      "  time_total_s: 112.4796884059906\n",
      "  timestamp: 1607197834\n",
      "  timesteps_since_restore: 0\n",
      "  training_iteration: 9\n",
      "  trial_id: '83017_00001'\n",
      "  val_acc: 0.796\n",
      "  val_loss: 0.4521937191486359\n",
      "  \n"
     ]
    },
    {
     "data": {
      "text/html": [
       "== Status ==<br>Memory usage on this node: 7.9/13.9 GiB<br>Using FIFO scheduling algorithm.<br>Resources requested: 1/8 CPUs, 1/1 GPUs, 0.0/5.18 GiB heap, 0.0/1.76 GiB objects<br>Result logdir: C:\\Users\\Tijana Vukovic\\ray_results\\train_net_2020-12-05_20-46-04<br>Number of trials: 3/6 (1 PENDING, 1 RUNNING, 1 TERMINATED)<br><table>\n",
       "<thead>\n",
       "<tr><th>Trial name           </th><th>status    </th><th>loc              </th><th style=\"text-align: right;\">  dropout</th><th style=\"text-align: right;\">  epochs</th><th style=\"text-align: right;\">   lr</th><th style=\"text-align: right;\">  iter</th><th style=\"text-align: right;\">  total time (s)</th><th style=\"text-align: right;\">  val_acc</th><th style=\"text-align: right;\">  val_loss</th></tr>\n",
       "</thead>\n",
       "<tbody>\n",
       "<tr><td>train_net_83017_00001</td><td>RUNNING   </td><td>192.168.0.20:5076</td><td style=\"text-align: right;\">      0.5</td><td style=\"text-align: right;\">       5</td><td style=\"text-align: right;\">0.001</td><td style=\"text-align: right;\">     9</td><td style=\"text-align: right;\">         112.48 </td><td style=\"text-align: right;\">   0.796 </td><td style=\"text-align: right;\">  0.452194</td></tr>\n",
       "<tr><td>train_net_83017_00002</td><td>PENDING   </td><td>                 </td><td style=\"text-align: right;\">      0.5</td><td style=\"text-align: right;\">       3</td><td style=\"text-align: right;\">0.01 </td><td style=\"text-align: right;\">      </td><td style=\"text-align: right;\">                </td><td style=\"text-align: right;\">         </td><td style=\"text-align: right;\">          </td></tr>\n",
       "<tr><td>train_net_83017_00000</td><td>TERMINATED</td><td>                 </td><td style=\"text-align: right;\">      0.5</td><td style=\"text-align: right;\">       3</td><td style=\"text-align: right;\">0.001</td><td style=\"text-align: right;\">    12</td><td style=\"text-align: right;\">         150.568</td><td style=\"text-align: right;\">   0.8224</td><td style=\"text-align: right;\">  0.39639 </td></tr>\n",
       "</tbody>\n",
       "</table><br><br>"
      ],
      "text/plain": [
       "<IPython.core.display.HTML object>"
      ]
     },
     "metadata": {},
     "output_type": "display_data"
    },
    {
     "name": "stdout",
     "output_type": "stream",
     "text": [
      "\u001b[2m\u001b[36m(pid=5076)\u001b[0m Epoch: 3/5... Step: 900... Loss: 0.400977... Val Loss: 0.456547\n",
      "Result for train_net_83017_00001:\n",
      "  date: 2020-12-05_20-50-45\n",
      "  done: false\n",
      "  experiment_id: ef52b861ac84430a97c3bf4cb6114f71\n",
      "  experiment_tag: 1_dropout=0.5,epochs=5,lr=0.001\n",
      "  hostname: DESKTOP-LTLCMDK\n",
      "  iterations_since_restore: 10\n",
      "  node_ip: 192.168.0.20\n",
      "  pid: 5076\n",
      "  time_since_restore: 123.12614321708679\n",
      "  time_this_iter_s: 10.646454811096191\n",
      "  time_total_s: 123.12614321708679\n",
      "  timestamp: 1607197845\n",
      "  timesteps_since_restore: 0\n",
      "  training_iteration: 10\n",
      "  trial_id: '83017_00001'\n",
      "  val_acc: 0.796\n",
      "  val_loss: 0.4521937191486359\n",
      "  \n"
     ]
    },
    {
     "data": {
      "text/html": [
       "== Status ==<br>Memory usage on this node: 7.8/13.9 GiB<br>Using FIFO scheduling algorithm.<br>Resources requested: 1/8 CPUs, 1/1 GPUs, 0.0/5.18 GiB heap, 0.0/1.76 GiB objects<br>Result logdir: C:\\Users\\Tijana Vukovic\\ray_results\\train_net_2020-12-05_20-46-04<br>Number of trials: 3/6 (1 PENDING, 1 RUNNING, 1 TERMINATED)<br><table>\n",
       "<thead>\n",
       "<tr><th>Trial name           </th><th>status    </th><th>loc              </th><th style=\"text-align: right;\">  dropout</th><th style=\"text-align: right;\">  epochs</th><th style=\"text-align: right;\">   lr</th><th style=\"text-align: right;\">  iter</th><th style=\"text-align: right;\">  total time (s)</th><th style=\"text-align: right;\">  val_acc</th><th style=\"text-align: right;\">  val_loss</th></tr>\n",
       "</thead>\n",
       "<tbody>\n",
       "<tr><td>train_net_83017_00001</td><td>RUNNING   </td><td>192.168.0.20:5076</td><td style=\"text-align: right;\">      0.5</td><td style=\"text-align: right;\">       5</td><td style=\"text-align: right;\">0.001</td><td style=\"text-align: right;\">    10</td><td style=\"text-align: right;\">         123.126</td><td style=\"text-align: right;\">   0.796 </td><td style=\"text-align: right;\">  0.452194</td></tr>\n",
       "<tr><td>train_net_83017_00002</td><td>PENDING   </td><td>                 </td><td style=\"text-align: right;\">      0.5</td><td style=\"text-align: right;\">       3</td><td style=\"text-align: right;\">0.01 </td><td style=\"text-align: right;\">      </td><td style=\"text-align: right;\">                </td><td style=\"text-align: right;\">         </td><td style=\"text-align: right;\">          </td></tr>\n",
       "<tr><td>train_net_83017_00000</td><td>TERMINATED</td><td>                 </td><td style=\"text-align: right;\">      0.5</td><td style=\"text-align: right;\">       3</td><td style=\"text-align: right;\">0.001</td><td style=\"text-align: right;\">    12</td><td style=\"text-align: right;\">         150.568</td><td style=\"text-align: right;\">   0.8224</td><td style=\"text-align: right;\">  0.39639 </td></tr>\n",
       "</tbody>\n",
       "</table><br><br>"
      ],
      "text/plain": [
       "<IPython.core.display.HTML object>"
      ]
     },
     "metadata": {},
     "output_type": "display_data"
    },
    {
     "name": "stdout",
     "output_type": "stream",
     "text": [
      "\u001b[2m\u001b[36m(pid=5076)\u001b[0m Epoch: 3/5... Step: 1000... Loss: 0.360516... Val Loss: 0.513238\n",
      "Result for train_net_83017_00001:\n",
      "  date: 2020-12-05_20-50-57\n",
      "  done: false\n",
      "  experiment_id: ef52b861ac84430a97c3bf4cb6114f71\n",
      "  experiment_tag: 1_dropout=0.5,epochs=5,lr=0.001\n",
      "  hostname: DESKTOP-LTLCMDK\n",
      "  iterations_since_restore: 11\n",
      "  node_ip: 192.168.0.20\n",
      "  pid: 5076\n",
      "  should_checkpoint: true\n",
      "  time_since_restore: 135.17334151268005\n",
      "  time_this_iter_s: 12.047198295593262\n",
      "  time_total_s: 135.17334151268005\n",
      "  timestamp: 1607197857\n",
      "  timesteps_since_restore: 0\n",
      "  training_iteration: 11\n",
      "  trial_id: '83017_00001'\n",
      "  val_acc: 0.8244\n",
      "  val_loss: 0.4176409354805946\n",
      "  \n"
     ]
    },
    {
     "data": {
      "text/html": [
       "== Status ==<br>Memory usage on this node: 7.7/13.9 GiB<br>Using FIFO scheduling algorithm.<br>Resources requested: 1/8 CPUs, 1/1 GPUs, 0.0/5.18 GiB heap, 0.0/1.76 GiB objects<br>Result logdir: C:\\Users\\Tijana Vukovic\\ray_results\\train_net_2020-12-05_20-46-04<br>Number of trials: 3/6 (1 PENDING, 1 RUNNING, 1 TERMINATED)<br><table>\n",
       "<thead>\n",
       "<tr><th>Trial name           </th><th>status    </th><th>loc              </th><th style=\"text-align: right;\">  dropout</th><th style=\"text-align: right;\">  epochs</th><th style=\"text-align: right;\">   lr</th><th style=\"text-align: right;\">  iter</th><th style=\"text-align: right;\">  total time (s)</th><th style=\"text-align: right;\">  val_acc</th><th style=\"text-align: right;\">  val_loss</th></tr>\n",
       "</thead>\n",
       "<tbody>\n",
       "<tr><td>train_net_83017_00001</td><td>RUNNING   </td><td>192.168.0.20:5076</td><td style=\"text-align: right;\">      0.5</td><td style=\"text-align: right;\">       5</td><td style=\"text-align: right;\">0.001</td><td style=\"text-align: right;\">    11</td><td style=\"text-align: right;\">         135.173</td><td style=\"text-align: right;\">   0.8244</td><td style=\"text-align: right;\">  0.417641</td></tr>\n",
       "<tr><td>train_net_83017_00002</td><td>PENDING   </td><td>                 </td><td style=\"text-align: right;\">      0.5</td><td style=\"text-align: right;\">       3</td><td style=\"text-align: right;\">0.01 </td><td style=\"text-align: right;\">      </td><td style=\"text-align: right;\">                </td><td style=\"text-align: right;\">         </td><td style=\"text-align: right;\">          </td></tr>\n",
       "<tr><td>train_net_83017_00000</td><td>TERMINATED</td><td>                 </td><td style=\"text-align: right;\">      0.5</td><td style=\"text-align: right;\">       3</td><td style=\"text-align: right;\">0.001</td><td style=\"text-align: right;\">    12</td><td style=\"text-align: right;\">         150.568</td><td style=\"text-align: right;\">   0.8224</td><td style=\"text-align: right;\">  0.39639 </td></tr>\n",
       "</tbody>\n",
       "</table><br><br>"
      ],
      "text/plain": [
       "<IPython.core.display.HTML object>"
      ]
     },
     "metadata": {},
     "output_type": "display_data"
    },
    {
     "name": "stdout",
     "output_type": "stream",
     "text": [
      "\u001b[2m\u001b[36m(pid=5076)\u001b[0m Epoch: 3/5... Step: 1100... Loss: 0.442616... Val Loss: 0.417641\n",
      "Result for train_net_83017_00001:\n",
      "  date: 2020-12-05_20-51-08\n",
      "  done: false\n",
      "  experiment_id: ef52b861ac84430a97c3bf4cb6114f71\n",
      "  experiment_tag: 1_dropout=0.5,epochs=5,lr=0.001\n",
      "  hostname: DESKTOP-LTLCMDK\n",
      "  iterations_since_restore: 12\n",
      "  node_ip: 192.168.0.20\n",
      "  pid: 5076\n",
      "  time_since_restore: 146.0511713027954\n",
      "  time_this_iter_s: 10.877829790115356\n",
      "  time_total_s: 146.0511713027954\n",
      "  timestamp: 1607197868\n",
      "  timesteps_since_restore: 0\n",
      "  training_iteration: 12\n",
      "  trial_id: '83017_00001'\n",
      "  val_acc: 0.8244\n",
      "  val_loss: 0.4176409354805946\n",
      "  \n"
     ]
    },
    {
     "data": {
      "text/html": [
       "== Status ==<br>Memory usage on this node: 7.7/13.9 GiB<br>Using FIFO scheduling algorithm.<br>Resources requested: 1/8 CPUs, 1/1 GPUs, 0.0/5.18 GiB heap, 0.0/1.76 GiB objects<br>Result logdir: C:\\Users\\Tijana Vukovic\\ray_results\\train_net_2020-12-05_20-46-04<br>Number of trials: 3/6 (1 PENDING, 1 RUNNING, 1 TERMINATED)<br><table>\n",
       "<thead>\n",
       "<tr><th>Trial name           </th><th>status    </th><th>loc              </th><th style=\"text-align: right;\">  dropout</th><th style=\"text-align: right;\">  epochs</th><th style=\"text-align: right;\">   lr</th><th style=\"text-align: right;\">  iter</th><th style=\"text-align: right;\">  total time (s)</th><th style=\"text-align: right;\">  val_acc</th><th style=\"text-align: right;\">  val_loss</th></tr>\n",
       "</thead>\n",
       "<tbody>\n",
       "<tr><td>train_net_83017_00001</td><td>RUNNING   </td><td>192.168.0.20:5076</td><td style=\"text-align: right;\">      0.5</td><td style=\"text-align: right;\">       5</td><td style=\"text-align: right;\">0.001</td><td style=\"text-align: right;\">    12</td><td style=\"text-align: right;\">         146.051</td><td style=\"text-align: right;\">   0.8244</td><td style=\"text-align: right;\">  0.417641</td></tr>\n",
       "<tr><td>train_net_83017_00002</td><td>PENDING   </td><td>                 </td><td style=\"text-align: right;\">      0.5</td><td style=\"text-align: right;\">       3</td><td style=\"text-align: right;\">0.01 </td><td style=\"text-align: right;\">      </td><td style=\"text-align: right;\">                </td><td style=\"text-align: right;\">         </td><td style=\"text-align: right;\">          </td></tr>\n",
       "<tr><td>train_net_83017_00000</td><td>TERMINATED</td><td>                 </td><td style=\"text-align: right;\">      0.5</td><td style=\"text-align: right;\">       3</td><td style=\"text-align: right;\">0.001</td><td style=\"text-align: right;\">    12</td><td style=\"text-align: right;\">         150.568</td><td style=\"text-align: right;\">   0.8224</td><td style=\"text-align: right;\">  0.39639 </td></tr>\n",
       "</tbody>\n",
       "</table><br><br>"
      ],
      "text/plain": [
       "<IPython.core.display.HTML object>"
      ]
     },
     "metadata": {},
     "output_type": "display_data"
    },
    {
     "name": "stdout",
     "output_type": "stream",
     "text": [
      "\u001b[2m\u001b[36m(pid=5076)\u001b[0m Epoch: 3/5... Step: 1200... Loss: 0.309486... Val Loss: 0.432410\n",
      "\u001b[2m\u001b[36m(pid=5076)\u001b[0m 3\n",
      "Result for train_net_83017_00001:\n",
      "  date: 2020-12-05_20-51-21\n",
      "  done: false\n",
      "  experiment_id: ef52b861ac84430a97c3bf4cb6114f71\n",
      "  experiment_tag: 1_dropout=0.5,epochs=5,lr=0.001\n",
      "  hostname: DESKTOP-LTLCMDK\n",
      "  iterations_since_restore: 13\n",
      "  node_ip: 192.168.0.20\n",
      "  pid: 5076\n",
      "  should_checkpoint: true\n",
      "  time_since_restore: 158.86844968795776\n",
      "  time_this_iter_s: 12.817278385162354\n",
      "  time_total_s: 158.86844968795776\n",
      "  timestamp: 1607197881\n",
      "  timesteps_since_restore: 0\n",
      "  training_iteration: 13\n",
      "  trial_id: '83017_00001'\n",
      "  val_acc: 0.8268\n",
      "  val_loss: 0.399471335709095\n",
      "  \n"
     ]
    },
    {
     "data": {
      "text/html": [
       "== Status ==<br>Memory usage on this node: 7.7/13.9 GiB<br>Using FIFO scheduling algorithm.<br>Resources requested: 1/8 CPUs, 1/1 GPUs, 0.0/5.18 GiB heap, 0.0/1.76 GiB objects<br>Result logdir: C:\\Users\\Tijana Vukovic\\ray_results\\train_net_2020-12-05_20-46-04<br>Number of trials: 3/6 (1 PENDING, 1 RUNNING, 1 TERMINATED)<br><table>\n",
       "<thead>\n",
       "<tr><th>Trial name           </th><th>status    </th><th>loc              </th><th style=\"text-align: right;\">  dropout</th><th style=\"text-align: right;\">  epochs</th><th style=\"text-align: right;\">   lr</th><th style=\"text-align: right;\">  iter</th><th style=\"text-align: right;\">  total time (s)</th><th style=\"text-align: right;\">  val_acc</th><th style=\"text-align: right;\">  val_loss</th></tr>\n",
       "</thead>\n",
       "<tbody>\n",
       "<tr><td>train_net_83017_00001</td><td>RUNNING   </td><td>192.168.0.20:5076</td><td style=\"text-align: right;\">      0.5</td><td style=\"text-align: right;\">       5</td><td style=\"text-align: right;\">0.001</td><td style=\"text-align: right;\">    13</td><td style=\"text-align: right;\">         158.868</td><td style=\"text-align: right;\">   0.8268</td><td style=\"text-align: right;\">  0.399471</td></tr>\n",
       "<tr><td>train_net_83017_00002</td><td>PENDING   </td><td>                 </td><td style=\"text-align: right;\">      0.5</td><td style=\"text-align: right;\">       3</td><td style=\"text-align: right;\">0.01 </td><td style=\"text-align: right;\">      </td><td style=\"text-align: right;\">                </td><td style=\"text-align: right;\">         </td><td style=\"text-align: right;\">          </td></tr>\n",
       "<tr><td>train_net_83017_00000</td><td>TERMINATED</td><td>                 </td><td style=\"text-align: right;\">      0.5</td><td style=\"text-align: right;\">       3</td><td style=\"text-align: right;\">0.001</td><td style=\"text-align: right;\">    12</td><td style=\"text-align: right;\">         150.568</td><td style=\"text-align: right;\">   0.8224</td><td style=\"text-align: right;\">  0.39639 </td></tr>\n",
       "</tbody>\n",
       "</table><br><br>"
      ],
      "text/plain": [
       "<IPython.core.display.HTML object>"
      ]
     },
     "metadata": {},
     "output_type": "display_data"
    },
    {
     "name": "stdout",
     "output_type": "stream",
     "text": [
      "\u001b[2m\u001b[36m(pid=5076)\u001b[0m Epoch: 4/5... Step: 1300... Loss: 0.226964... Val Loss: 0.399471\n",
      "Result for train_net_83017_00001:\n",
      "  date: 2020-12-05_20-51-31\n",
      "  done: false\n",
      "  experiment_id: ef52b861ac84430a97c3bf4cb6114f71\n",
      "  experiment_tag: 1_dropout=0.5,epochs=5,lr=0.001\n",
      "  hostname: DESKTOP-LTLCMDK\n",
      "  iterations_since_restore: 14\n",
      "  node_ip: 192.168.0.20\n",
      "  pid: 5076\n",
      "  time_since_restore: 169.71327686309814\n",
      "  time_this_iter_s: 10.84482717514038\n",
      "  time_total_s: 169.71327686309814\n",
      "  timestamp: 1607197891\n",
      "  timesteps_since_restore: 0\n",
      "  training_iteration: 14\n",
      "  trial_id: '83017_00001'\n",
      "  val_acc: 0.8268\n",
      "  val_loss: 0.399471335709095\n",
      "  \n"
     ]
    },
    {
     "data": {
      "text/html": [
       "== Status ==<br>Memory usage on this node: 7.7/13.9 GiB<br>Using FIFO scheduling algorithm.<br>Resources requested: 1/8 CPUs, 1/1 GPUs, 0.0/5.18 GiB heap, 0.0/1.76 GiB objects<br>Result logdir: C:\\Users\\Tijana Vukovic\\ray_results\\train_net_2020-12-05_20-46-04<br>Number of trials: 3/6 (1 PENDING, 1 RUNNING, 1 TERMINATED)<br><table>\n",
       "<thead>\n",
       "<tr><th>Trial name           </th><th>status    </th><th>loc              </th><th style=\"text-align: right;\">  dropout</th><th style=\"text-align: right;\">  epochs</th><th style=\"text-align: right;\">   lr</th><th style=\"text-align: right;\">  iter</th><th style=\"text-align: right;\">  total time (s)</th><th style=\"text-align: right;\">  val_acc</th><th style=\"text-align: right;\">  val_loss</th></tr>\n",
       "</thead>\n",
       "<tbody>\n",
       "<tr><td>train_net_83017_00001</td><td>RUNNING   </td><td>192.168.0.20:5076</td><td style=\"text-align: right;\">      0.5</td><td style=\"text-align: right;\">       5</td><td style=\"text-align: right;\">0.001</td><td style=\"text-align: right;\">    14</td><td style=\"text-align: right;\">         169.713</td><td style=\"text-align: right;\">   0.8268</td><td style=\"text-align: right;\">  0.399471</td></tr>\n",
       "<tr><td>train_net_83017_00002</td><td>PENDING   </td><td>                 </td><td style=\"text-align: right;\">      0.5</td><td style=\"text-align: right;\">       3</td><td style=\"text-align: right;\">0.01 </td><td style=\"text-align: right;\">      </td><td style=\"text-align: right;\">                </td><td style=\"text-align: right;\">         </td><td style=\"text-align: right;\">          </td></tr>\n",
       "<tr><td>train_net_83017_00000</td><td>TERMINATED</td><td>                 </td><td style=\"text-align: right;\">      0.5</td><td style=\"text-align: right;\">       3</td><td style=\"text-align: right;\">0.001</td><td style=\"text-align: right;\">    12</td><td style=\"text-align: right;\">         150.568</td><td style=\"text-align: right;\">   0.8224</td><td style=\"text-align: right;\">  0.39639 </td></tr>\n",
       "</tbody>\n",
       "</table><br><br>"
      ],
      "text/plain": [
       "<IPython.core.display.HTML object>"
      ]
     },
     "metadata": {},
     "output_type": "display_data"
    },
    {
     "name": "stdout",
     "output_type": "stream",
     "text": [
      "\u001b[2m\u001b[36m(pid=5076)\u001b[0m Epoch: 4/5... Step: 1400... Loss: 0.303025... Val Loss: 0.428970\n",
      "Result for train_net_83017_00001:\n",
      "  date: 2020-12-05_20-51-42\n",
      "  done: false\n",
      "  experiment_id: ef52b861ac84430a97c3bf4cb6114f71\n",
      "  experiment_tag: 1_dropout=0.5,epochs=5,lr=0.001\n",
      "  hostname: DESKTOP-LTLCMDK\n",
      "  iterations_since_restore: 15\n",
      "  node_ip: 192.168.0.20\n",
      "  pid: 5076\n",
      "  time_since_restore: 180.38062119483948\n",
      "  time_this_iter_s: 10.667344331741333\n",
      "  time_total_s: 180.38062119483948\n",
      "  timestamp: 1607197902\n",
      "  timesteps_since_restore: 0\n",
      "  training_iteration: 15\n",
      "  trial_id: '83017_00001'\n",
      "  val_acc: 0.8268\n",
      "  val_loss: 0.399471335709095\n",
      "  \n"
     ]
    },
    {
     "data": {
      "text/html": [
       "== Status ==<br>Memory usage on this node: 7.7/13.9 GiB<br>Using FIFO scheduling algorithm.<br>Resources requested: 1/8 CPUs, 1/1 GPUs, 0.0/5.18 GiB heap, 0.0/1.76 GiB objects<br>Result logdir: C:\\Users\\Tijana Vukovic\\ray_results\\train_net_2020-12-05_20-46-04<br>Number of trials: 3/6 (1 PENDING, 1 RUNNING, 1 TERMINATED)<br><table>\n",
       "<thead>\n",
       "<tr><th>Trial name           </th><th>status    </th><th>loc              </th><th style=\"text-align: right;\">  dropout</th><th style=\"text-align: right;\">  epochs</th><th style=\"text-align: right;\">   lr</th><th style=\"text-align: right;\">  iter</th><th style=\"text-align: right;\">  total time (s)</th><th style=\"text-align: right;\">  val_acc</th><th style=\"text-align: right;\">  val_loss</th></tr>\n",
       "</thead>\n",
       "<tbody>\n",
       "<tr><td>train_net_83017_00001</td><td>RUNNING   </td><td>192.168.0.20:5076</td><td style=\"text-align: right;\">      0.5</td><td style=\"text-align: right;\">       5</td><td style=\"text-align: right;\">0.001</td><td style=\"text-align: right;\">    15</td><td style=\"text-align: right;\">         180.381</td><td style=\"text-align: right;\">   0.8268</td><td style=\"text-align: right;\">  0.399471</td></tr>\n",
       "<tr><td>train_net_83017_00002</td><td>PENDING   </td><td>                 </td><td style=\"text-align: right;\">      0.5</td><td style=\"text-align: right;\">       3</td><td style=\"text-align: right;\">0.01 </td><td style=\"text-align: right;\">      </td><td style=\"text-align: right;\">                </td><td style=\"text-align: right;\">         </td><td style=\"text-align: right;\">          </td></tr>\n",
       "<tr><td>train_net_83017_00000</td><td>TERMINATED</td><td>                 </td><td style=\"text-align: right;\">      0.5</td><td style=\"text-align: right;\">       3</td><td style=\"text-align: right;\">0.001</td><td style=\"text-align: right;\">    12</td><td style=\"text-align: right;\">         150.568</td><td style=\"text-align: right;\">   0.8224</td><td style=\"text-align: right;\">  0.39639 </td></tr>\n",
       "</tbody>\n",
       "</table><br><br>"
      ],
      "text/plain": [
       "<IPython.core.display.HTML object>"
      ]
     },
     "metadata": {},
     "output_type": "display_data"
    },
    {
     "name": "stdout",
     "output_type": "stream",
     "text": [
      "\u001b[2m\u001b[36m(pid=5076)\u001b[0m Epoch: 4/5... Step: 1500... Loss: 0.211818... Val Loss: 0.414384\n",
      "Result for train_net_83017_00001:\n",
      "  date: 2020-12-05_20-51-53\n",
      "  done: false\n",
      "  experiment_id: ef52b861ac84430a97c3bf4cb6114f71\n",
      "  experiment_tag: 1_dropout=0.5,epochs=5,lr=0.001\n",
      "  hostname: DESKTOP-LTLCMDK\n",
      "  iterations_since_restore: 16\n",
      "  node_ip: 192.168.0.20\n",
      "  pid: 5076\n",
      "  time_since_restore: 191.00443148612976\n",
      "  time_this_iter_s: 10.623810291290283\n",
      "  time_total_s: 191.00443148612976\n",
      "  timestamp: 1607197913\n",
      "  timesteps_since_restore: 0\n",
      "  training_iteration: 16\n",
      "  trial_id: '83017_00001'\n",
      "  val_acc: 0.8268\n",
      "  val_loss: 0.399471335709095\n",
      "  \n"
     ]
    },
    {
     "data": {
      "text/html": [
       "== Status ==<br>Memory usage on this node: 7.7/13.9 GiB<br>Using FIFO scheduling algorithm.<br>Resources requested: 1/8 CPUs, 1/1 GPUs, 0.0/5.18 GiB heap, 0.0/1.76 GiB objects<br>Result logdir: C:\\Users\\Tijana Vukovic\\ray_results\\train_net_2020-12-05_20-46-04<br>Number of trials: 3/6 (1 PENDING, 1 RUNNING, 1 TERMINATED)<br><table>\n",
       "<thead>\n",
       "<tr><th>Trial name           </th><th>status    </th><th>loc              </th><th style=\"text-align: right;\">  dropout</th><th style=\"text-align: right;\">  epochs</th><th style=\"text-align: right;\">   lr</th><th style=\"text-align: right;\">  iter</th><th style=\"text-align: right;\">  total time (s)</th><th style=\"text-align: right;\">  val_acc</th><th style=\"text-align: right;\">  val_loss</th></tr>\n",
       "</thead>\n",
       "<tbody>\n",
       "<tr><td>train_net_83017_00001</td><td>RUNNING   </td><td>192.168.0.20:5076</td><td style=\"text-align: right;\">      0.5</td><td style=\"text-align: right;\">       5</td><td style=\"text-align: right;\">0.001</td><td style=\"text-align: right;\">    16</td><td style=\"text-align: right;\">         191.004</td><td style=\"text-align: right;\">   0.8268</td><td style=\"text-align: right;\">  0.399471</td></tr>\n",
       "<tr><td>train_net_83017_00002</td><td>PENDING   </td><td>                 </td><td style=\"text-align: right;\">      0.5</td><td style=\"text-align: right;\">       3</td><td style=\"text-align: right;\">0.01 </td><td style=\"text-align: right;\">      </td><td style=\"text-align: right;\">                </td><td style=\"text-align: right;\">         </td><td style=\"text-align: right;\">          </td></tr>\n",
       "<tr><td>train_net_83017_00000</td><td>TERMINATED</td><td>                 </td><td style=\"text-align: right;\">      0.5</td><td style=\"text-align: right;\">       3</td><td style=\"text-align: right;\">0.001</td><td style=\"text-align: right;\">    12</td><td style=\"text-align: right;\">         150.568</td><td style=\"text-align: right;\">   0.8224</td><td style=\"text-align: right;\">  0.39639 </td></tr>\n",
       "</tbody>\n",
       "</table><br><br>"
      ],
      "text/plain": [
       "<IPython.core.display.HTML object>"
      ]
     },
     "metadata": {},
     "output_type": "display_data"
    },
    {
     "name": "stdout",
     "output_type": "stream",
     "text": [
      "\u001b[2m\u001b[36m(pid=5076)\u001b[0m Epoch: 4/5... Step: 1600... Loss: 0.201654... Val Loss: 0.409416\n",
      "\u001b[2m\u001b[36m(pid=5076)\u001b[0m 4\n",
      "Result for train_net_83017_00001:\n",
      "  date: 2020-12-05_20-52-03\n",
      "  done: false\n",
      "  experiment_id: ef52b861ac84430a97c3bf4cb6114f71\n",
      "  experiment_tag: 1_dropout=0.5,epochs=5,lr=0.001\n",
      "  hostname: DESKTOP-LTLCMDK\n",
      "  iterations_since_restore: 17\n",
      "  node_ip: 192.168.0.20\n",
      "  pid: 5076\n",
      "  time_since_restore: 201.67024421691895\n",
      "  time_this_iter_s: 10.665812730789185\n",
      "  time_total_s: 201.67024421691895\n",
      "  timestamp: 1607197923\n",
      "  timesteps_since_restore: 0\n",
      "  training_iteration: 17\n",
      "  trial_id: '83017_00001'\n",
      "  val_acc: 0.8268\n",
      "  val_loss: 0.399471335709095\n",
      "  \n"
     ]
    },
    {
     "data": {
      "text/html": [
       "== Status ==<br>Memory usage on this node: 7.7/13.9 GiB<br>Using FIFO scheduling algorithm.<br>Resources requested: 1/8 CPUs, 1/1 GPUs, 0.0/5.18 GiB heap, 0.0/1.76 GiB objects<br>Result logdir: C:\\Users\\Tijana Vukovic\\ray_results\\train_net_2020-12-05_20-46-04<br>Number of trials: 3/6 (1 PENDING, 1 RUNNING, 1 TERMINATED)<br><table>\n",
       "<thead>\n",
       "<tr><th>Trial name           </th><th>status    </th><th>loc              </th><th style=\"text-align: right;\">  dropout</th><th style=\"text-align: right;\">  epochs</th><th style=\"text-align: right;\">   lr</th><th style=\"text-align: right;\">  iter</th><th style=\"text-align: right;\">  total time (s)</th><th style=\"text-align: right;\">  val_acc</th><th style=\"text-align: right;\">  val_loss</th></tr>\n",
       "</thead>\n",
       "<tbody>\n",
       "<tr><td>train_net_83017_00001</td><td>RUNNING   </td><td>192.168.0.20:5076</td><td style=\"text-align: right;\">      0.5</td><td style=\"text-align: right;\">       5</td><td style=\"text-align: right;\">0.001</td><td style=\"text-align: right;\">    17</td><td style=\"text-align: right;\">         201.67 </td><td style=\"text-align: right;\">   0.8268</td><td style=\"text-align: right;\">  0.399471</td></tr>\n",
       "<tr><td>train_net_83017_00002</td><td>PENDING   </td><td>                 </td><td style=\"text-align: right;\">      0.5</td><td style=\"text-align: right;\">       3</td><td style=\"text-align: right;\">0.01 </td><td style=\"text-align: right;\">      </td><td style=\"text-align: right;\">                </td><td style=\"text-align: right;\">         </td><td style=\"text-align: right;\">          </td></tr>\n",
       "<tr><td>train_net_83017_00000</td><td>TERMINATED</td><td>                 </td><td style=\"text-align: right;\">      0.5</td><td style=\"text-align: right;\">       3</td><td style=\"text-align: right;\">0.001</td><td style=\"text-align: right;\">    12</td><td style=\"text-align: right;\">         150.568</td><td style=\"text-align: right;\">   0.8224</td><td style=\"text-align: right;\">  0.39639 </td></tr>\n",
       "</tbody>\n",
       "</table><br><br>"
      ],
      "text/plain": [
       "<IPython.core.display.HTML object>"
      ]
     },
     "metadata": {},
     "output_type": "display_data"
    },
    {
     "name": "stdout",
     "output_type": "stream",
     "text": [
      "\u001b[2m\u001b[36m(pid=5076)\u001b[0m Epoch: 5/5... Step: 1700... Loss: 0.202283... Val Loss: 0.427636\n",
      "Result for train_net_83017_00001:\n",
      "  date: 2020-12-05_20-52-14\n",
      "  done: false\n",
      "  experiment_id: ef52b861ac84430a97c3bf4cb6114f71\n",
      "  experiment_tag: 1_dropout=0.5,epochs=5,lr=0.001\n",
      "  hostname: DESKTOP-LTLCMDK\n",
      "  iterations_since_restore: 18\n",
      "  node_ip: 192.168.0.20\n",
      "  pid: 5076\n",
      "  time_since_restore: 212.28105330467224\n",
      "  time_this_iter_s: 10.610809087753296\n",
      "  time_total_s: 212.28105330467224\n",
      "  timestamp: 1607197934\n",
      "  timesteps_since_restore: 0\n",
      "  training_iteration: 18\n",
      "  trial_id: '83017_00001'\n",
      "  val_acc: 0.8268\n",
      "  val_loss: 0.399471335709095\n",
      "  \n"
     ]
    },
    {
     "data": {
      "text/html": [
       "== Status ==<br>Memory usage on this node: 7.7/13.9 GiB<br>Using FIFO scheduling algorithm.<br>Resources requested: 1/8 CPUs, 1/1 GPUs, 0.0/5.18 GiB heap, 0.0/1.76 GiB objects<br>Result logdir: C:\\Users\\Tijana Vukovic\\ray_results\\train_net_2020-12-05_20-46-04<br>Number of trials: 3/6 (1 PENDING, 1 RUNNING, 1 TERMINATED)<br><table>\n",
       "<thead>\n",
       "<tr><th>Trial name           </th><th>status    </th><th>loc              </th><th style=\"text-align: right;\">  dropout</th><th style=\"text-align: right;\">  epochs</th><th style=\"text-align: right;\">   lr</th><th style=\"text-align: right;\">  iter</th><th style=\"text-align: right;\">  total time (s)</th><th style=\"text-align: right;\">  val_acc</th><th style=\"text-align: right;\">  val_loss</th></tr>\n",
       "</thead>\n",
       "<tbody>\n",
       "<tr><td>train_net_83017_00001</td><td>RUNNING   </td><td>192.168.0.20:5076</td><td style=\"text-align: right;\">      0.5</td><td style=\"text-align: right;\">       5</td><td style=\"text-align: right;\">0.001</td><td style=\"text-align: right;\">    18</td><td style=\"text-align: right;\">         212.281</td><td style=\"text-align: right;\">   0.8268</td><td style=\"text-align: right;\">  0.399471</td></tr>\n",
       "<tr><td>train_net_83017_00002</td><td>PENDING   </td><td>                 </td><td style=\"text-align: right;\">      0.5</td><td style=\"text-align: right;\">       3</td><td style=\"text-align: right;\">0.01 </td><td style=\"text-align: right;\">      </td><td style=\"text-align: right;\">                </td><td style=\"text-align: right;\">         </td><td style=\"text-align: right;\">          </td></tr>\n",
       "<tr><td>train_net_83017_00000</td><td>TERMINATED</td><td>                 </td><td style=\"text-align: right;\">      0.5</td><td style=\"text-align: right;\">       3</td><td style=\"text-align: right;\">0.001</td><td style=\"text-align: right;\">    12</td><td style=\"text-align: right;\">         150.568</td><td style=\"text-align: right;\">   0.8224</td><td style=\"text-align: right;\">  0.39639 </td></tr>\n",
       "</tbody>\n",
       "</table><br><br>"
      ],
      "text/plain": [
       "<IPython.core.display.HTML object>"
      ]
     },
     "metadata": {},
     "output_type": "display_data"
    },
    {
     "name": "stdout",
     "output_type": "stream",
     "text": [
      "\u001b[2m\u001b[36m(pid=5076)\u001b[0m Epoch: 5/5... Step: 1800... Loss: 0.246494... Val Loss: 0.447921\n",
      "Result for train_net_83017_00001:\n",
      "  date: 2020-12-05_20-52-25\n",
      "  done: false\n",
      "  experiment_id: ef52b861ac84430a97c3bf4cb6114f71\n",
      "  experiment_tag: 1_dropout=0.5,epochs=5,lr=0.001\n",
      "  hostname: DESKTOP-LTLCMDK\n",
      "  iterations_since_restore: 19\n",
      "  node_ip: 192.168.0.20\n",
      "  pid: 5076\n",
      "  time_since_restore: 222.93386578559875\n",
      "  time_this_iter_s: 10.652812480926514\n",
      "  time_total_s: 222.93386578559875\n",
      "  timestamp: 1607197945\n",
      "  timesteps_since_restore: 0\n",
      "  training_iteration: 19\n",
      "  trial_id: '83017_00001'\n",
      "  val_acc: 0.8268\n",
      "  val_loss: 0.399471335709095\n",
      "  \n"
     ]
    },
    {
     "data": {
      "text/html": [
       "== Status ==<br>Memory usage on this node: 7.7/13.9 GiB<br>Using FIFO scheduling algorithm.<br>Resources requested: 1/8 CPUs, 1/1 GPUs, 0.0/5.18 GiB heap, 0.0/1.76 GiB objects<br>Result logdir: C:\\Users\\Tijana Vukovic\\ray_results\\train_net_2020-12-05_20-46-04<br>Number of trials: 3/6 (1 PENDING, 1 RUNNING, 1 TERMINATED)<br><table>\n",
       "<thead>\n",
       "<tr><th>Trial name           </th><th>status    </th><th>loc              </th><th style=\"text-align: right;\">  dropout</th><th style=\"text-align: right;\">  epochs</th><th style=\"text-align: right;\">   lr</th><th style=\"text-align: right;\">  iter</th><th style=\"text-align: right;\">  total time (s)</th><th style=\"text-align: right;\">  val_acc</th><th style=\"text-align: right;\">  val_loss</th></tr>\n",
       "</thead>\n",
       "<tbody>\n",
       "<tr><td>train_net_83017_00001</td><td>RUNNING   </td><td>192.168.0.20:5076</td><td style=\"text-align: right;\">      0.5</td><td style=\"text-align: right;\">       5</td><td style=\"text-align: right;\">0.001</td><td style=\"text-align: right;\">    19</td><td style=\"text-align: right;\">         222.934</td><td style=\"text-align: right;\">   0.8268</td><td style=\"text-align: right;\">  0.399471</td></tr>\n",
       "<tr><td>train_net_83017_00002</td><td>PENDING   </td><td>                 </td><td style=\"text-align: right;\">      0.5</td><td style=\"text-align: right;\">       3</td><td style=\"text-align: right;\">0.01 </td><td style=\"text-align: right;\">      </td><td style=\"text-align: right;\">                </td><td style=\"text-align: right;\">         </td><td style=\"text-align: right;\">          </td></tr>\n",
       "<tr><td>train_net_83017_00000</td><td>TERMINATED</td><td>                 </td><td style=\"text-align: right;\">      0.5</td><td style=\"text-align: right;\">       3</td><td style=\"text-align: right;\">0.001</td><td style=\"text-align: right;\">    12</td><td style=\"text-align: right;\">         150.568</td><td style=\"text-align: right;\">   0.8224</td><td style=\"text-align: right;\">  0.39639 </td></tr>\n",
       "</tbody>\n",
       "</table><br><br>"
      ],
      "text/plain": [
       "<IPython.core.display.HTML object>"
      ]
     },
     "metadata": {},
     "output_type": "display_data"
    },
    {
     "name": "stdout",
     "output_type": "stream",
     "text": [
      "\u001b[2m\u001b[36m(pid=5076)\u001b[0m Epoch: 5/5... Step: 1900... Loss: 0.058835... Val Loss: 0.454853\n",
      "Result for train_net_83017_00001:\n",
      "  date: 2020-12-05_20-52-35\n",
      "  done: false\n",
      "  experiment_id: ef52b861ac84430a97c3bf4cb6114f71\n",
      "  experiment_tag: 1_dropout=0.5,epochs=5,lr=0.001\n",
      "  hostname: DESKTOP-LTLCMDK\n",
      "  iterations_since_restore: 20\n",
      "  node_ip: 192.168.0.20\n",
      "  pid: 5076\n",
      "  time_since_restore: 233.69168734550476\n",
      "  time_this_iter_s: 10.757821559906006\n",
      "  time_total_s: 233.69168734550476\n",
      "  timestamp: 1607197955\n",
      "  timesteps_since_restore: 0\n",
      "  training_iteration: 20\n",
      "  trial_id: '83017_00001'\n",
      "  val_acc: 0.8268\n",
      "  val_loss: 0.399471335709095\n",
      "  \n"
     ]
    },
    {
     "data": {
      "text/html": [
       "== Status ==<br>Memory usage on this node: 7.7/13.9 GiB<br>Using FIFO scheduling algorithm.<br>Resources requested: 1/8 CPUs, 1/1 GPUs, 0.0/5.18 GiB heap, 0.0/1.76 GiB objects<br>Result logdir: C:\\Users\\Tijana Vukovic\\ray_results\\train_net_2020-12-05_20-46-04<br>Number of trials: 3/6 (1 PENDING, 1 RUNNING, 1 TERMINATED)<br><table>\n",
       "<thead>\n",
       "<tr><th>Trial name           </th><th>status    </th><th>loc              </th><th style=\"text-align: right;\">  dropout</th><th style=\"text-align: right;\">  epochs</th><th style=\"text-align: right;\">   lr</th><th style=\"text-align: right;\">  iter</th><th style=\"text-align: right;\">  total time (s)</th><th style=\"text-align: right;\">  val_acc</th><th style=\"text-align: right;\">  val_loss</th></tr>\n",
       "</thead>\n",
       "<tbody>\n",
       "<tr><td>train_net_83017_00001</td><td>RUNNING   </td><td>192.168.0.20:5076</td><td style=\"text-align: right;\">      0.5</td><td style=\"text-align: right;\">       5</td><td style=\"text-align: right;\">0.001</td><td style=\"text-align: right;\">    20</td><td style=\"text-align: right;\">         233.692</td><td style=\"text-align: right;\">   0.8268</td><td style=\"text-align: right;\">  0.399471</td></tr>\n",
       "<tr><td>train_net_83017_00002</td><td>PENDING   </td><td>                 </td><td style=\"text-align: right;\">      0.5</td><td style=\"text-align: right;\">       3</td><td style=\"text-align: right;\">0.01 </td><td style=\"text-align: right;\">      </td><td style=\"text-align: right;\">                </td><td style=\"text-align: right;\">         </td><td style=\"text-align: right;\">          </td></tr>\n",
       "<tr><td>train_net_83017_00000</td><td>TERMINATED</td><td>                 </td><td style=\"text-align: right;\">      0.5</td><td style=\"text-align: right;\">       3</td><td style=\"text-align: right;\">0.001</td><td style=\"text-align: right;\">    12</td><td style=\"text-align: right;\">         150.568</td><td style=\"text-align: right;\">   0.8224</td><td style=\"text-align: right;\">  0.39639 </td></tr>\n",
       "</tbody>\n",
       "</table><br><br>"
      ],
      "text/plain": [
       "<IPython.core.display.HTML object>"
      ]
     },
     "metadata": {},
     "output_type": "display_data"
    },
    {
     "name": "stdout",
     "output_type": "stream",
     "text": [
      "\u001b[2m\u001b[36m(pid=5076)\u001b[0m Epoch: 5/5... Step: 2000... Loss: 0.199074... Val Loss: 0.433219\r\n"
     ]
    },
    {
     "name": "stderr",
     "output_type": "stream",
     "text": [
      "2020-12-05 20:52:36,420\tWARNING util.py:137 -- The `start_trial` operation took 0.5130412578582764 seconds to complete, which may be a performance bottleneck.\n"
     ]
    },
    {
     "name": "stdout",
     "output_type": "stream",
     "text": [
      "\u001b[2m\u001b[36m(pid=2524)\u001b[0m 0\n",
      "Result for train_net_83017_00002:\n",
      "  date: 2020-12-05_20-52-55\n",
      "  done: false\n",
      "  experiment_id: e5e8c388787d4bbea478724ebd6672f9\n",
      "  experiment_tag: 2_dropout=0.5,epochs=3,lr=0.01\n",
      "  hostname: DESKTOP-LTLCMDK\n",
      "  iterations_since_restore: 1\n",
      "  node_ip: 192.168.0.20\n",
      "  pid: 2524\n",
      "  should_checkpoint: true\n",
      "  time_since_restore: 16.85340642929077\n",
      "  time_this_iter_s: 16.85340642929077\n",
      "  time_total_s: 16.85340642929077\n",
      "  timestamp: 1607197975\n",
      "  timesteps_since_restore: 0\n",
      "  training_iteration: 1\n",
      "  trial_id: '83017_00002'\n",
      "  val_acc: 0.648\n",
      "  val_loss: 0.6301972258090973\n",
      "  \n"
     ]
    },
    {
     "data": {
      "text/html": [
       "== Status ==<br>Memory usage on this node: 7.7/13.9 GiB<br>Using FIFO scheduling algorithm.<br>Resources requested: 1/8 CPUs, 1/1 GPUs, 0.0/5.18 GiB heap, 0.0/1.76 GiB objects<br>Result logdir: C:\\Users\\Tijana Vukovic\\ray_results\\train_net_2020-12-05_20-46-04<br>Number of trials: 4/6 (1 PENDING, 1 RUNNING, 2 TERMINATED)<br><table>\n",
       "<thead>\n",
       "<tr><th>Trial name           </th><th>status    </th><th>loc              </th><th style=\"text-align: right;\">  dropout</th><th style=\"text-align: right;\">  epochs</th><th style=\"text-align: right;\">   lr</th><th style=\"text-align: right;\">  iter</th><th style=\"text-align: right;\">  total time (s)</th><th style=\"text-align: right;\">  val_acc</th><th style=\"text-align: right;\">  val_loss</th></tr>\n",
       "</thead>\n",
       "<tbody>\n",
       "<tr><td>train_net_83017_00002</td><td>RUNNING   </td><td>192.168.0.20:2524</td><td style=\"text-align: right;\">      0.5</td><td style=\"text-align: right;\">       3</td><td style=\"text-align: right;\">0.01 </td><td style=\"text-align: right;\">     1</td><td style=\"text-align: right;\">         16.8534</td><td style=\"text-align: right;\">   0.648 </td><td style=\"text-align: right;\">  0.630197</td></tr>\n",
       "<tr><td>train_net_83017_00003</td><td>PENDING   </td><td>                 </td><td style=\"text-align: right;\">      0.5</td><td style=\"text-align: right;\">       5</td><td style=\"text-align: right;\">0.01 </td><td style=\"text-align: right;\">      </td><td style=\"text-align: right;\">                </td><td style=\"text-align: right;\">         </td><td style=\"text-align: right;\">          </td></tr>\n",
       "<tr><td>train_net_83017_00000</td><td>TERMINATED</td><td>                 </td><td style=\"text-align: right;\">      0.5</td><td style=\"text-align: right;\">       3</td><td style=\"text-align: right;\">0.001</td><td style=\"text-align: right;\">    12</td><td style=\"text-align: right;\">        150.568 </td><td style=\"text-align: right;\">   0.8224</td><td style=\"text-align: right;\">  0.39639 </td></tr>\n",
       "<tr><td>train_net_83017_00001</td><td>TERMINATED</td><td>                 </td><td style=\"text-align: right;\">      0.5</td><td style=\"text-align: right;\">       5</td><td style=\"text-align: right;\">0.001</td><td style=\"text-align: right;\">    20</td><td style=\"text-align: right;\">        233.692 </td><td style=\"text-align: right;\">   0.8268</td><td style=\"text-align: right;\">  0.399471</td></tr>\n",
       "</tbody>\n",
       "</table><br><br>"
      ],
      "text/plain": [
       "<IPython.core.display.HTML object>"
      ]
     },
     "metadata": {},
     "output_type": "display_data"
    },
    {
     "name": "stdout",
     "output_type": "stream",
     "text": [
      "\u001b[2m\u001b[36m(pid=2524)\u001b[0m Epoch: 1/3... Step: 100... Loss: 0.658013... Val Loss: 0.630197\n",
      "Result for train_net_83017_00002:\n",
      "  date: 2020-12-05_20-53-08\n",
      "  done: false\n",
      "  experiment_id: e5e8c388787d4bbea478724ebd6672f9\n",
      "  experiment_tag: 2_dropout=0.5,epochs=3,lr=0.01\n",
      "  hostname: DESKTOP-LTLCMDK\n",
      "  iterations_since_restore: 2\n",
      "  node_ip: 192.168.0.20\n",
      "  pid: 2524\n",
      "  should_checkpoint: true\n",
      "  time_since_restore: 29.15003991127014\n",
      "  time_this_iter_s: 12.29663348197937\n",
      "  time_total_s: 29.15003991127014\n",
      "  timestamp: 1607197988\n",
      "  timesteps_since_restore: 0\n",
      "  training_iteration: 2\n",
      "  trial_id: '83017_00002'\n",
      "  val_acc: 0.6296\n",
      "  val_loss: 0.6226987648010254\n",
      "  \n"
     ]
    },
    {
     "data": {
      "text/html": [
       "== Status ==<br>Memory usage on this node: 7.7/13.9 GiB<br>Using FIFO scheduling algorithm.<br>Resources requested: 1/8 CPUs, 1/1 GPUs, 0.0/5.18 GiB heap, 0.0/1.76 GiB objects<br>Result logdir: C:\\Users\\Tijana Vukovic\\ray_results\\train_net_2020-12-05_20-46-04<br>Number of trials: 4/6 (1 PENDING, 1 RUNNING, 2 TERMINATED)<br><table>\n",
       "<thead>\n",
       "<tr><th>Trial name           </th><th>status    </th><th>loc              </th><th style=\"text-align: right;\">  dropout</th><th style=\"text-align: right;\">  epochs</th><th style=\"text-align: right;\">   lr</th><th style=\"text-align: right;\">  iter</th><th style=\"text-align: right;\">  total time (s)</th><th style=\"text-align: right;\">  val_acc</th><th style=\"text-align: right;\">  val_loss</th></tr>\n",
       "</thead>\n",
       "<tbody>\n",
       "<tr><td>train_net_83017_00002</td><td>RUNNING   </td><td>192.168.0.20:2524</td><td style=\"text-align: right;\">      0.5</td><td style=\"text-align: right;\">       3</td><td style=\"text-align: right;\">0.01 </td><td style=\"text-align: right;\">     2</td><td style=\"text-align: right;\">          29.15 </td><td style=\"text-align: right;\">   0.6296</td><td style=\"text-align: right;\">  0.622699</td></tr>\n",
       "<tr><td>train_net_83017_00003</td><td>PENDING   </td><td>                 </td><td style=\"text-align: right;\">      0.5</td><td style=\"text-align: right;\">       5</td><td style=\"text-align: right;\">0.01 </td><td style=\"text-align: right;\">      </td><td style=\"text-align: right;\">                </td><td style=\"text-align: right;\">         </td><td style=\"text-align: right;\">          </td></tr>\n",
       "<tr><td>train_net_83017_00000</td><td>TERMINATED</td><td>                 </td><td style=\"text-align: right;\">      0.5</td><td style=\"text-align: right;\">       3</td><td style=\"text-align: right;\">0.001</td><td style=\"text-align: right;\">    12</td><td style=\"text-align: right;\">         150.568</td><td style=\"text-align: right;\">   0.8224</td><td style=\"text-align: right;\">  0.39639 </td></tr>\n",
       "<tr><td>train_net_83017_00001</td><td>TERMINATED</td><td>                 </td><td style=\"text-align: right;\">      0.5</td><td style=\"text-align: right;\">       5</td><td style=\"text-align: right;\">0.001</td><td style=\"text-align: right;\">    20</td><td style=\"text-align: right;\">         233.692</td><td style=\"text-align: right;\">   0.8268</td><td style=\"text-align: right;\">  0.399471</td></tr>\n",
       "</tbody>\n",
       "</table><br><br>"
      ],
      "text/plain": [
       "<IPython.core.display.HTML object>"
      ]
     },
     "metadata": {},
     "output_type": "display_data"
    },
    {
     "name": "stdout",
     "output_type": "stream",
     "text": [
      "\u001b[2m\u001b[36m(pid=2524)\u001b[0m Epoch: 1/3... Step: 200... Loss: 0.731958... Val Loss: 0.622699\n",
      "Result for train_net_83017_00002:\n",
      "  date: 2020-12-05_20-53-20\n",
      "  done: false\n",
      "  experiment_id: e5e8c388787d4bbea478724ebd6672f9\n",
      "  experiment_tag: 2_dropout=0.5,epochs=3,lr=0.01\n",
      "  hostname: DESKTOP-LTLCMDK\n",
      "  iterations_since_restore: 3\n",
      "  node_ip: 192.168.0.20\n",
      "  pid: 2524\n",
      "  should_checkpoint: true\n",
      "  time_since_restore: 41.452298402786255\n",
      "  time_this_iter_s: 12.302258491516113\n",
      "  time_total_s: 41.452298402786255\n",
      "  timestamp: 1607198000\n",
      "  timesteps_since_restore: 0\n",
      "  training_iteration: 3\n",
      "  trial_id: '83017_00002'\n",
      "  val_acc: 0.788\n",
      "  val_loss: 0.4826195991039276\n",
      "  \n"
     ]
    },
    {
     "data": {
      "text/html": [
       "== Status ==<br>Memory usage on this node: 7.7/13.9 GiB<br>Using FIFO scheduling algorithm.<br>Resources requested: 1/8 CPUs, 1/1 GPUs, 0.0/5.18 GiB heap, 0.0/1.76 GiB objects<br>Result logdir: C:\\Users\\Tijana Vukovic\\ray_results\\train_net_2020-12-05_20-46-04<br>Number of trials: 4/6 (1 PENDING, 1 RUNNING, 2 TERMINATED)<br><table>\n",
       "<thead>\n",
       "<tr><th>Trial name           </th><th>status    </th><th>loc              </th><th style=\"text-align: right;\">  dropout</th><th style=\"text-align: right;\">  epochs</th><th style=\"text-align: right;\">   lr</th><th style=\"text-align: right;\">  iter</th><th style=\"text-align: right;\">  total time (s)</th><th style=\"text-align: right;\">  val_acc</th><th style=\"text-align: right;\">  val_loss</th></tr>\n",
       "</thead>\n",
       "<tbody>\n",
       "<tr><td>train_net_83017_00002</td><td>RUNNING   </td><td>192.168.0.20:2524</td><td style=\"text-align: right;\">      0.5</td><td style=\"text-align: right;\">       3</td><td style=\"text-align: right;\">0.01 </td><td style=\"text-align: right;\">     3</td><td style=\"text-align: right;\">         41.4523</td><td style=\"text-align: right;\">   0.788 </td><td style=\"text-align: right;\">  0.48262 </td></tr>\n",
       "<tr><td>train_net_83017_00003</td><td>PENDING   </td><td>                 </td><td style=\"text-align: right;\">      0.5</td><td style=\"text-align: right;\">       5</td><td style=\"text-align: right;\">0.01 </td><td style=\"text-align: right;\">      </td><td style=\"text-align: right;\">                </td><td style=\"text-align: right;\">         </td><td style=\"text-align: right;\">          </td></tr>\n",
       "<tr><td>train_net_83017_00000</td><td>TERMINATED</td><td>                 </td><td style=\"text-align: right;\">      0.5</td><td style=\"text-align: right;\">       3</td><td style=\"text-align: right;\">0.001</td><td style=\"text-align: right;\">    12</td><td style=\"text-align: right;\">        150.568 </td><td style=\"text-align: right;\">   0.8224</td><td style=\"text-align: right;\">  0.39639 </td></tr>\n",
       "<tr><td>train_net_83017_00001</td><td>TERMINATED</td><td>                 </td><td style=\"text-align: right;\">      0.5</td><td style=\"text-align: right;\">       5</td><td style=\"text-align: right;\">0.001</td><td style=\"text-align: right;\">    20</td><td style=\"text-align: right;\">        233.692 </td><td style=\"text-align: right;\">   0.8268</td><td style=\"text-align: right;\">  0.399471</td></tr>\n",
       "</tbody>\n",
       "</table><br><br>"
      ],
      "text/plain": [
       "<IPython.core.display.HTML object>"
      ]
     },
     "metadata": {},
     "output_type": "display_data"
    },
    {
     "name": "stdout",
     "output_type": "stream",
     "text": [
      "\u001b[2m\u001b[36m(pid=2524)\u001b[0m Epoch: 1/3... Step: 300... Loss: 0.457065... Val Loss: 0.482620\n",
      "Result for train_net_83017_00002:\n",
      "  date: 2020-12-05_20-53-32\n",
      "  done: false\n",
      "  experiment_id: e5e8c388787d4bbea478724ebd6672f9\n",
      "  experiment_tag: 2_dropout=0.5,epochs=3,lr=0.01\n",
      "  hostname: DESKTOP-LTLCMDK\n",
      "  iterations_since_restore: 4\n",
      "  node_ip: 192.168.0.20\n",
      "  pid: 2524\n",
      "  should_checkpoint: true\n",
      "  time_since_restore: 53.682679176330566\n",
      "  time_this_iter_s: 12.230380773544312\n",
      "  time_total_s: 53.682679176330566\n",
      "  timestamp: 1607198012\n",
      "  timesteps_since_restore: 0\n",
      "  training_iteration: 4\n",
      "  trial_id: '83017_00002'\n",
      "  val_acc: 0.8148\n",
      "  val_loss: 0.4272363394498825\n",
      "  \n"
     ]
    },
    {
     "data": {
      "text/html": [
       "== Status ==<br>Memory usage on this node: 7.7/13.9 GiB<br>Using FIFO scheduling algorithm.<br>Resources requested: 1/8 CPUs, 1/1 GPUs, 0.0/5.18 GiB heap, 0.0/1.76 GiB objects<br>Result logdir: C:\\Users\\Tijana Vukovic\\ray_results\\train_net_2020-12-05_20-46-04<br>Number of trials: 4/6 (1 PENDING, 1 RUNNING, 2 TERMINATED)<br><table>\n",
       "<thead>\n",
       "<tr><th>Trial name           </th><th>status    </th><th>loc              </th><th style=\"text-align: right;\">  dropout</th><th style=\"text-align: right;\">  epochs</th><th style=\"text-align: right;\">   lr</th><th style=\"text-align: right;\">  iter</th><th style=\"text-align: right;\">  total time (s)</th><th style=\"text-align: right;\">  val_acc</th><th style=\"text-align: right;\">  val_loss</th></tr>\n",
       "</thead>\n",
       "<tbody>\n",
       "<tr><td>train_net_83017_00002</td><td>RUNNING   </td><td>192.168.0.20:2524</td><td style=\"text-align: right;\">      0.5</td><td style=\"text-align: right;\">       3</td><td style=\"text-align: right;\">0.01 </td><td style=\"text-align: right;\">     4</td><td style=\"text-align: right;\">         53.6827</td><td style=\"text-align: right;\">   0.8148</td><td style=\"text-align: right;\">  0.427236</td></tr>\n",
       "<tr><td>train_net_83017_00003</td><td>PENDING   </td><td>                 </td><td style=\"text-align: right;\">      0.5</td><td style=\"text-align: right;\">       5</td><td style=\"text-align: right;\">0.01 </td><td style=\"text-align: right;\">      </td><td style=\"text-align: right;\">                </td><td style=\"text-align: right;\">         </td><td style=\"text-align: right;\">          </td></tr>\n",
       "<tr><td>train_net_83017_00000</td><td>TERMINATED</td><td>                 </td><td style=\"text-align: right;\">      0.5</td><td style=\"text-align: right;\">       3</td><td style=\"text-align: right;\">0.001</td><td style=\"text-align: right;\">    12</td><td style=\"text-align: right;\">        150.568 </td><td style=\"text-align: right;\">   0.8224</td><td style=\"text-align: right;\">  0.39639 </td></tr>\n",
       "<tr><td>train_net_83017_00001</td><td>TERMINATED</td><td>                 </td><td style=\"text-align: right;\">      0.5</td><td style=\"text-align: right;\">       5</td><td style=\"text-align: right;\">0.001</td><td style=\"text-align: right;\">    20</td><td style=\"text-align: right;\">        233.692 </td><td style=\"text-align: right;\">   0.8268</td><td style=\"text-align: right;\">  0.399471</td></tr>\n",
       "</tbody>\n",
       "</table><br><br>"
      ],
      "text/plain": [
       "<IPython.core.display.HTML object>"
      ]
     },
     "metadata": {},
     "output_type": "display_data"
    },
    {
     "name": "stdout",
     "output_type": "stream",
     "text": [
      "\u001b[2m\u001b[36m(pid=2524)\u001b[0m Epoch: 1/3... Step: 400... Loss: 0.365972... Val Loss: 0.427236\n",
      "\u001b[2m\u001b[36m(pid=2524)\u001b[0m 1\n",
      "Result for train_net_83017_00002:\n",
      "  date: 2020-12-05_20-53-45\n",
      "  done: false\n",
      "  experiment_id: e5e8c388787d4bbea478724ebd6672f9\n",
      "  experiment_tag: 2_dropout=0.5,epochs=3,lr=0.01\n",
      "  hostname: DESKTOP-LTLCMDK\n",
      "  iterations_since_restore: 5\n",
      "  node_ip: 192.168.0.20\n",
      "  pid: 2524\n",
      "  should_checkpoint: true\n",
      "  time_since_restore: 65.96107149124146\n",
      "  time_this_iter_s: 12.278392314910889\n",
      "  time_total_s: 65.96107149124146\n",
      "  timestamp: 1607198025\n",
      "  timesteps_since_restore: 0\n",
      "  training_iteration: 5\n",
      "  trial_id: '83017_00002'\n",
      "  val_acc: 0.8272\n",
      "  val_loss: 0.40452555269002916\n",
      "  \n"
     ]
    },
    {
     "data": {
      "text/html": [
       "== Status ==<br>Memory usage on this node: 7.8/13.9 GiB<br>Using FIFO scheduling algorithm.<br>Resources requested: 1/8 CPUs, 1/1 GPUs, 0.0/5.18 GiB heap, 0.0/1.76 GiB objects<br>Result logdir: C:\\Users\\Tijana Vukovic\\ray_results\\train_net_2020-12-05_20-46-04<br>Number of trials: 4/6 (1 PENDING, 1 RUNNING, 2 TERMINATED)<br><table>\n",
       "<thead>\n",
       "<tr><th>Trial name           </th><th>status    </th><th>loc              </th><th style=\"text-align: right;\">  dropout</th><th style=\"text-align: right;\">  epochs</th><th style=\"text-align: right;\">   lr</th><th style=\"text-align: right;\">  iter</th><th style=\"text-align: right;\">  total time (s)</th><th style=\"text-align: right;\">  val_acc</th><th style=\"text-align: right;\">  val_loss</th></tr>\n",
       "</thead>\n",
       "<tbody>\n",
       "<tr><td>train_net_83017_00002</td><td>RUNNING   </td><td>192.168.0.20:2524</td><td style=\"text-align: right;\">      0.5</td><td style=\"text-align: right;\">       3</td><td style=\"text-align: right;\">0.01 </td><td style=\"text-align: right;\">     5</td><td style=\"text-align: right;\">         65.9611</td><td style=\"text-align: right;\">   0.8272</td><td style=\"text-align: right;\">  0.404526</td></tr>\n",
       "<tr><td>train_net_83017_00003</td><td>PENDING   </td><td>                 </td><td style=\"text-align: right;\">      0.5</td><td style=\"text-align: right;\">       5</td><td style=\"text-align: right;\">0.01 </td><td style=\"text-align: right;\">      </td><td style=\"text-align: right;\">                </td><td style=\"text-align: right;\">         </td><td style=\"text-align: right;\">          </td></tr>\n",
       "<tr><td>train_net_83017_00000</td><td>TERMINATED</td><td>                 </td><td style=\"text-align: right;\">      0.5</td><td style=\"text-align: right;\">       3</td><td style=\"text-align: right;\">0.001</td><td style=\"text-align: right;\">    12</td><td style=\"text-align: right;\">        150.568 </td><td style=\"text-align: right;\">   0.8224</td><td style=\"text-align: right;\">  0.39639 </td></tr>\n",
       "<tr><td>train_net_83017_00001</td><td>TERMINATED</td><td>                 </td><td style=\"text-align: right;\">      0.5</td><td style=\"text-align: right;\">       5</td><td style=\"text-align: right;\">0.001</td><td style=\"text-align: right;\">    20</td><td style=\"text-align: right;\">        233.692 </td><td style=\"text-align: right;\">   0.8268</td><td style=\"text-align: right;\">  0.399471</td></tr>\n",
       "</tbody>\n",
       "</table><br><br>"
      ],
      "text/plain": [
       "<IPython.core.display.HTML object>"
      ]
     },
     "metadata": {},
     "output_type": "display_data"
    },
    {
     "name": "stdout",
     "output_type": "stream",
     "text": [
      "\u001b[2m\u001b[36m(pid=2524)\u001b[0m Epoch: 2/3... Step: 500... Loss: 0.304331... Val Loss: 0.404526\n",
      "Result for train_net_83017_00002:\n",
      "  date: 2020-12-05_20-53-57\n",
      "  done: false\n",
      "  experiment_id: e5e8c388787d4bbea478724ebd6672f9\n",
      "  experiment_tag: 2_dropout=0.5,epochs=3,lr=0.01\n",
      "  hostname: DESKTOP-LTLCMDK\n",
      "  iterations_since_restore: 6\n",
      "  node_ip: 192.168.0.20\n",
      "  pid: 2524\n",
      "  should_checkpoint: true\n",
      "  time_since_restore: 78.34265732765198\n",
      "  time_this_iter_s: 12.381585836410522\n",
      "  time_total_s: 78.34265732765198\n",
      "  timestamp: 1607198037\n",
      "  timesteps_since_restore: 0\n",
      "  training_iteration: 6\n",
      "  trial_id: '83017_00002'\n",
      "  val_acc: 0.8328\n",
      "  val_loss: 0.403305467069149\n",
      "  \n"
     ]
    },
    {
     "data": {
      "text/html": [
       "== Status ==<br>Memory usage on this node: 7.8/13.9 GiB<br>Using FIFO scheduling algorithm.<br>Resources requested: 1/8 CPUs, 1/1 GPUs, 0.0/5.18 GiB heap, 0.0/1.76 GiB objects<br>Result logdir: C:\\Users\\Tijana Vukovic\\ray_results\\train_net_2020-12-05_20-46-04<br>Number of trials: 4/6 (1 PENDING, 1 RUNNING, 2 TERMINATED)<br><table>\n",
       "<thead>\n",
       "<tr><th>Trial name           </th><th>status    </th><th>loc              </th><th style=\"text-align: right;\">  dropout</th><th style=\"text-align: right;\">  epochs</th><th style=\"text-align: right;\">   lr</th><th style=\"text-align: right;\">  iter</th><th style=\"text-align: right;\">  total time (s)</th><th style=\"text-align: right;\">  val_acc</th><th style=\"text-align: right;\">  val_loss</th></tr>\n",
       "</thead>\n",
       "<tbody>\n",
       "<tr><td>train_net_83017_00002</td><td>RUNNING   </td><td>192.168.0.20:2524</td><td style=\"text-align: right;\">      0.5</td><td style=\"text-align: right;\">       3</td><td style=\"text-align: right;\">0.01 </td><td style=\"text-align: right;\">     6</td><td style=\"text-align: right;\">         78.3427</td><td style=\"text-align: right;\">   0.8328</td><td style=\"text-align: right;\">  0.403305</td></tr>\n",
       "<tr><td>train_net_83017_00003</td><td>PENDING   </td><td>                 </td><td style=\"text-align: right;\">      0.5</td><td style=\"text-align: right;\">       5</td><td style=\"text-align: right;\">0.01 </td><td style=\"text-align: right;\">      </td><td style=\"text-align: right;\">                </td><td style=\"text-align: right;\">         </td><td style=\"text-align: right;\">          </td></tr>\n",
       "<tr><td>train_net_83017_00000</td><td>TERMINATED</td><td>                 </td><td style=\"text-align: right;\">      0.5</td><td style=\"text-align: right;\">       3</td><td style=\"text-align: right;\">0.001</td><td style=\"text-align: right;\">    12</td><td style=\"text-align: right;\">        150.568 </td><td style=\"text-align: right;\">   0.8224</td><td style=\"text-align: right;\">  0.39639 </td></tr>\n",
       "<tr><td>train_net_83017_00001</td><td>TERMINATED</td><td>                 </td><td style=\"text-align: right;\">      0.5</td><td style=\"text-align: right;\">       5</td><td style=\"text-align: right;\">0.001</td><td style=\"text-align: right;\">    20</td><td style=\"text-align: right;\">        233.692 </td><td style=\"text-align: right;\">   0.8268</td><td style=\"text-align: right;\">  0.399471</td></tr>\n",
       "</tbody>\n",
       "</table><br><br>"
      ],
      "text/plain": [
       "<IPython.core.display.HTML object>"
      ]
     },
     "metadata": {},
     "output_type": "display_data"
    },
    {
     "name": "stdout",
     "output_type": "stream",
     "text": [
      "\u001b[2m\u001b[36m(pid=2524)\u001b[0m Epoch: 2/3... Step: 600... Loss: 0.329491... Val Loss: 0.403305\n",
      "Result for train_net_83017_00002:\n",
      "  date: 2020-12-05_20-54-08\n",
      "  done: false\n",
      "  experiment_id: e5e8c388787d4bbea478724ebd6672f9\n",
      "  experiment_tag: 2_dropout=0.5,epochs=3,lr=0.01\n",
      "  hostname: DESKTOP-LTLCMDK\n",
      "  iterations_since_restore: 7\n",
      "  node_ip: 192.168.0.20\n",
      "  pid: 2524\n",
      "  time_since_restore: 89.12047791481018\n",
      "  time_this_iter_s: 10.777820587158203\n",
      "  time_total_s: 89.12047791481018\n",
      "  timestamp: 1607198048\n",
      "  timesteps_since_restore: 0\n",
      "  training_iteration: 7\n",
      "  trial_id: '83017_00002'\n",
      "  val_acc: 0.8328\n",
      "  val_loss: 0.403305467069149\n",
      "  \n"
     ]
    },
    {
     "data": {
      "text/html": [
       "== Status ==<br>Memory usage on this node: 7.7/13.9 GiB<br>Using FIFO scheduling algorithm.<br>Resources requested: 1/8 CPUs, 1/1 GPUs, 0.0/5.18 GiB heap, 0.0/1.76 GiB objects<br>Result logdir: C:\\Users\\Tijana Vukovic\\ray_results\\train_net_2020-12-05_20-46-04<br>Number of trials: 4/6 (1 PENDING, 1 RUNNING, 2 TERMINATED)<br><table>\n",
       "<thead>\n",
       "<tr><th>Trial name           </th><th>status    </th><th>loc              </th><th style=\"text-align: right;\">  dropout</th><th style=\"text-align: right;\">  epochs</th><th style=\"text-align: right;\">   lr</th><th style=\"text-align: right;\">  iter</th><th style=\"text-align: right;\">  total time (s)</th><th style=\"text-align: right;\">  val_acc</th><th style=\"text-align: right;\">  val_loss</th></tr>\n",
       "</thead>\n",
       "<tbody>\n",
       "<tr><td>train_net_83017_00002</td><td>RUNNING   </td><td>192.168.0.20:2524</td><td style=\"text-align: right;\">      0.5</td><td style=\"text-align: right;\">       3</td><td style=\"text-align: right;\">0.01 </td><td style=\"text-align: right;\">     7</td><td style=\"text-align: right;\">         89.1205</td><td style=\"text-align: right;\">   0.8328</td><td style=\"text-align: right;\">  0.403305</td></tr>\n",
       "<tr><td>train_net_83017_00003</td><td>PENDING   </td><td>                 </td><td style=\"text-align: right;\">      0.5</td><td style=\"text-align: right;\">       5</td><td style=\"text-align: right;\">0.01 </td><td style=\"text-align: right;\">      </td><td style=\"text-align: right;\">                </td><td style=\"text-align: right;\">         </td><td style=\"text-align: right;\">          </td></tr>\n",
       "<tr><td>train_net_83017_00000</td><td>TERMINATED</td><td>                 </td><td style=\"text-align: right;\">      0.5</td><td style=\"text-align: right;\">       3</td><td style=\"text-align: right;\">0.001</td><td style=\"text-align: right;\">    12</td><td style=\"text-align: right;\">        150.568 </td><td style=\"text-align: right;\">   0.8224</td><td style=\"text-align: right;\">  0.39639 </td></tr>\n",
       "<tr><td>train_net_83017_00001</td><td>TERMINATED</td><td>                 </td><td style=\"text-align: right;\">      0.5</td><td style=\"text-align: right;\">       5</td><td style=\"text-align: right;\">0.001</td><td style=\"text-align: right;\">    20</td><td style=\"text-align: right;\">        233.692 </td><td style=\"text-align: right;\">   0.8268</td><td style=\"text-align: right;\">  0.399471</td></tr>\n",
       "</tbody>\n",
       "</table><br><br>"
      ],
      "text/plain": [
       "<IPython.core.display.HTML object>"
      ]
     },
     "metadata": {},
     "output_type": "display_data"
    },
    {
     "name": "stdout",
     "output_type": "stream",
     "text": [
      "\u001b[2m\u001b[36m(pid=2524)\u001b[0m Epoch: 2/3... Step: 700... Loss: 0.418491... Val Loss: 0.455840\n",
      "Result for train_net_83017_00002:\n",
      "  date: 2020-12-05_20-54-18\n",
      "  done: false\n",
      "  experiment_id: e5e8c388787d4bbea478724ebd6672f9\n",
      "  experiment_tag: 2_dropout=0.5,epochs=3,lr=0.01\n",
      "  hostname: DESKTOP-LTLCMDK\n",
      "  iterations_since_restore: 8\n",
      "  node_ip: 192.168.0.20\n",
      "  pid: 2524\n",
      "  time_since_restore: 99.76597261428833\n",
      "  time_this_iter_s: 10.64549469947815\n",
      "  time_total_s: 99.76597261428833\n",
      "  timestamp: 1607198058\n",
      "  timesteps_since_restore: 0\n",
      "  training_iteration: 8\n",
      "  trial_id: '83017_00002'\n",
      "  val_acc: 0.8328\n",
      "  val_loss: 0.403305467069149\n",
      "  \n"
     ]
    },
    {
     "data": {
      "text/html": [
       "== Status ==<br>Memory usage on this node: 7.7/13.9 GiB<br>Using FIFO scheduling algorithm.<br>Resources requested: 1/8 CPUs, 1/1 GPUs, 0.0/5.18 GiB heap, 0.0/1.76 GiB objects<br>Result logdir: C:\\Users\\Tijana Vukovic\\ray_results\\train_net_2020-12-05_20-46-04<br>Number of trials: 4/6 (1 PENDING, 1 RUNNING, 2 TERMINATED)<br><table>\n",
       "<thead>\n",
       "<tr><th>Trial name           </th><th>status    </th><th>loc              </th><th style=\"text-align: right;\">  dropout</th><th style=\"text-align: right;\">  epochs</th><th style=\"text-align: right;\">   lr</th><th style=\"text-align: right;\">  iter</th><th style=\"text-align: right;\">  total time (s)</th><th style=\"text-align: right;\">  val_acc</th><th style=\"text-align: right;\">  val_loss</th></tr>\n",
       "</thead>\n",
       "<tbody>\n",
       "<tr><td>train_net_83017_00002</td><td>RUNNING   </td><td>192.168.0.20:2524</td><td style=\"text-align: right;\">      0.5</td><td style=\"text-align: right;\">       3</td><td style=\"text-align: right;\">0.01 </td><td style=\"text-align: right;\">     8</td><td style=\"text-align: right;\">          99.766</td><td style=\"text-align: right;\">   0.8328</td><td style=\"text-align: right;\">  0.403305</td></tr>\n",
       "<tr><td>train_net_83017_00003</td><td>PENDING   </td><td>                 </td><td style=\"text-align: right;\">      0.5</td><td style=\"text-align: right;\">       5</td><td style=\"text-align: right;\">0.01 </td><td style=\"text-align: right;\">      </td><td style=\"text-align: right;\">                </td><td style=\"text-align: right;\">         </td><td style=\"text-align: right;\">          </td></tr>\n",
       "<tr><td>train_net_83017_00000</td><td>TERMINATED</td><td>                 </td><td style=\"text-align: right;\">      0.5</td><td style=\"text-align: right;\">       3</td><td style=\"text-align: right;\">0.001</td><td style=\"text-align: right;\">    12</td><td style=\"text-align: right;\">         150.568</td><td style=\"text-align: right;\">   0.8224</td><td style=\"text-align: right;\">  0.39639 </td></tr>\n",
       "<tr><td>train_net_83017_00001</td><td>TERMINATED</td><td>                 </td><td style=\"text-align: right;\">      0.5</td><td style=\"text-align: right;\">       5</td><td style=\"text-align: right;\">0.001</td><td style=\"text-align: right;\">    20</td><td style=\"text-align: right;\">         233.692</td><td style=\"text-align: right;\">   0.8268</td><td style=\"text-align: right;\">  0.399471</td></tr>\n",
       "</tbody>\n",
       "</table><br><br>"
      ],
      "text/plain": [
       "<IPython.core.display.HTML object>"
      ]
     },
     "metadata": {},
     "output_type": "display_data"
    },
    {
     "name": "stdout",
     "output_type": "stream",
     "text": [
      "\u001b[2m\u001b[36m(pid=2524)\u001b[0m Epoch: 2/3... Step: 800... Loss: 0.450336... Val Loss: 0.459238\n",
      "\u001b[2m\u001b[36m(pid=2524)\u001b[0m 2\n",
      "Result for train_net_83017_00002:\n",
      "  date: 2020-12-05_20-54-30\n",
      "  done: false\n",
      "  experiment_id: e5e8c388787d4bbea478724ebd6672f9\n",
      "  experiment_tag: 2_dropout=0.5,epochs=3,lr=0.01\n",
      "  hostname: DESKTOP-LTLCMDK\n",
      "  iterations_since_restore: 9\n",
      "  node_ip: 192.168.0.20\n",
      "  pid: 2524\n",
      "  should_checkpoint: true\n",
      "  time_since_restore: 111.82975244522095\n",
      "  time_this_iter_s: 12.063779830932617\n",
      "  time_total_s: 111.82975244522095\n",
      "  timestamp: 1607198070\n",
      "  timesteps_since_restore: 0\n",
      "  training_iteration: 9\n",
      "  trial_id: '83017_00002'\n",
      "  val_acc: 0.8308\n",
      "  val_loss: 0.3923633821308613\n",
      "  \n"
     ]
    },
    {
     "data": {
      "text/html": [
       "== Status ==<br>Memory usage on this node: 7.8/13.9 GiB<br>Using FIFO scheduling algorithm.<br>Resources requested: 1/8 CPUs, 1/1 GPUs, 0.0/5.18 GiB heap, 0.0/1.76 GiB objects<br>Result logdir: C:\\Users\\Tijana Vukovic\\ray_results\\train_net_2020-12-05_20-46-04<br>Number of trials: 4/6 (1 PENDING, 1 RUNNING, 2 TERMINATED)<br><table>\n",
       "<thead>\n",
       "<tr><th>Trial name           </th><th>status    </th><th>loc              </th><th style=\"text-align: right;\">  dropout</th><th style=\"text-align: right;\">  epochs</th><th style=\"text-align: right;\">   lr</th><th style=\"text-align: right;\">  iter</th><th style=\"text-align: right;\">  total time (s)</th><th style=\"text-align: right;\">  val_acc</th><th style=\"text-align: right;\">  val_loss</th></tr>\n",
       "</thead>\n",
       "<tbody>\n",
       "<tr><td>train_net_83017_00002</td><td>RUNNING   </td><td>192.168.0.20:2524</td><td style=\"text-align: right;\">      0.5</td><td style=\"text-align: right;\">       3</td><td style=\"text-align: right;\">0.01 </td><td style=\"text-align: right;\">     9</td><td style=\"text-align: right;\">         111.83 </td><td style=\"text-align: right;\">   0.8308</td><td style=\"text-align: right;\">  0.392363</td></tr>\n",
       "<tr><td>train_net_83017_00003</td><td>PENDING   </td><td>                 </td><td style=\"text-align: right;\">      0.5</td><td style=\"text-align: right;\">       5</td><td style=\"text-align: right;\">0.01 </td><td style=\"text-align: right;\">      </td><td style=\"text-align: right;\">                </td><td style=\"text-align: right;\">         </td><td style=\"text-align: right;\">          </td></tr>\n",
       "<tr><td>train_net_83017_00000</td><td>TERMINATED</td><td>                 </td><td style=\"text-align: right;\">      0.5</td><td style=\"text-align: right;\">       3</td><td style=\"text-align: right;\">0.001</td><td style=\"text-align: right;\">    12</td><td style=\"text-align: right;\">         150.568</td><td style=\"text-align: right;\">   0.8224</td><td style=\"text-align: right;\">  0.39639 </td></tr>\n",
       "<tr><td>train_net_83017_00001</td><td>TERMINATED</td><td>                 </td><td style=\"text-align: right;\">      0.5</td><td style=\"text-align: right;\">       5</td><td style=\"text-align: right;\">0.001</td><td style=\"text-align: right;\">    20</td><td style=\"text-align: right;\">         233.692</td><td style=\"text-align: right;\">   0.8268</td><td style=\"text-align: right;\">  0.399471</td></tr>\n",
       "</tbody>\n",
       "</table><br><br>"
      ],
      "text/plain": [
       "<IPython.core.display.HTML object>"
      ]
     },
     "metadata": {},
     "output_type": "display_data"
    },
    {
     "name": "stdout",
     "output_type": "stream",
     "text": [
      "\u001b[2m\u001b[36m(pid=2524)\u001b[0m Epoch: 3/3... Step: 900... Loss: 0.197313... Val Loss: 0.392363\n",
      "Result for train_net_83017_00002:\n",
      "  date: 2020-12-05_20-54-41\n",
      "  done: false\n",
      "  experiment_id: e5e8c388787d4bbea478724ebd6672f9\n",
      "  experiment_tag: 2_dropout=0.5,epochs=3,lr=0.01\n",
      "  hostname: DESKTOP-LTLCMDK\n",
      "  iterations_since_restore: 10\n",
      "  node_ip: 192.168.0.20\n",
      "  pid: 2524\n",
      "  time_since_restore: 122.6715795993805\n",
      "  time_this_iter_s: 10.841827154159546\n",
      "  time_total_s: 122.6715795993805\n",
      "  timestamp: 1607198081\n",
      "  timesteps_since_restore: 0\n",
      "  training_iteration: 10\n",
      "  trial_id: '83017_00002'\n",
      "  val_acc: 0.8308\n",
      "  val_loss: 0.3923633821308613\n",
      "  \n"
     ]
    },
    {
     "data": {
      "text/html": [
       "== Status ==<br>Memory usage on this node: 7.8/13.9 GiB<br>Using FIFO scheduling algorithm.<br>Resources requested: 1/8 CPUs, 1/1 GPUs, 0.0/5.18 GiB heap, 0.0/1.76 GiB objects<br>Result logdir: C:\\Users\\Tijana Vukovic\\ray_results\\train_net_2020-12-05_20-46-04<br>Number of trials: 4/6 (1 PENDING, 1 RUNNING, 2 TERMINATED)<br><table>\n",
       "<thead>\n",
       "<tr><th>Trial name           </th><th>status    </th><th>loc              </th><th style=\"text-align: right;\">  dropout</th><th style=\"text-align: right;\">  epochs</th><th style=\"text-align: right;\">   lr</th><th style=\"text-align: right;\">  iter</th><th style=\"text-align: right;\">  total time (s)</th><th style=\"text-align: right;\">  val_acc</th><th style=\"text-align: right;\">  val_loss</th></tr>\n",
       "</thead>\n",
       "<tbody>\n",
       "<tr><td>train_net_83017_00002</td><td>RUNNING   </td><td>192.168.0.20:2524</td><td style=\"text-align: right;\">      0.5</td><td style=\"text-align: right;\">       3</td><td style=\"text-align: right;\">0.01 </td><td style=\"text-align: right;\">    10</td><td style=\"text-align: right;\">         122.672</td><td style=\"text-align: right;\">   0.8308</td><td style=\"text-align: right;\">  0.392363</td></tr>\n",
       "<tr><td>train_net_83017_00003</td><td>PENDING   </td><td>                 </td><td style=\"text-align: right;\">      0.5</td><td style=\"text-align: right;\">       5</td><td style=\"text-align: right;\">0.01 </td><td style=\"text-align: right;\">      </td><td style=\"text-align: right;\">                </td><td style=\"text-align: right;\">         </td><td style=\"text-align: right;\">          </td></tr>\n",
       "<tr><td>train_net_83017_00000</td><td>TERMINATED</td><td>                 </td><td style=\"text-align: right;\">      0.5</td><td style=\"text-align: right;\">       3</td><td style=\"text-align: right;\">0.001</td><td style=\"text-align: right;\">    12</td><td style=\"text-align: right;\">         150.568</td><td style=\"text-align: right;\">   0.8224</td><td style=\"text-align: right;\">  0.39639 </td></tr>\n",
       "<tr><td>train_net_83017_00001</td><td>TERMINATED</td><td>                 </td><td style=\"text-align: right;\">      0.5</td><td style=\"text-align: right;\">       5</td><td style=\"text-align: right;\">0.001</td><td style=\"text-align: right;\">    20</td><td style=\"text-align: right;\">         233.692</td><td style=\"text-align: right;\">   0.8268</td><td style=\"text-align: right;\">  0.399471</td></tr>\n",
       "</tbody>\n",
       "</table><br><br>"
      ],
      "text/plain": [
       "<IPython.core.display.HTML object>"
      ]
     },
     "metadata": {},
     "output_type": "display_data"
    },
    {
     "name": "stdout",
     "output_type": "stream",
     "text": [
      "\u001b[2m\u001b[36m(pid=2524)\u001b[0m Epoch: 3/3... Step: 1000... Loss: 0.234957... Val Loss: 0.396255\n",
      "Result for train_net_83017_00002:\n",
      "  date: 2020-12-05_20-54-52\n",
      "  done: false\n",
      "  experiment_id: e5e8c388787d4bbea478724ebd6672f9\n",
      "  experiment_tag: 2_dropout=0.5,epochs=3,lr=0.01\n",
      "  hostname: DESKTOP-LTLCMDK\n",
      "  iterations_since_restore: 11\n",
      "  node_ip: 192.168.0.20\n",
      "  pid: 2524\n",
      "  time_since_restore: 133.2563877105713\n",
      "  time_this_iter_s: 10.584808111190796\n",
      "  time_total_s: 133.2563877105713\n",
      "  timestamp: 1607198092\n",
      "  timesteps_since_restore: 0\n",
      "  training_iteration: 11\n",
      "  trial_id: '83017_00002'\n",
      "  val_acc: 0.8308\n",
      "  val_loss: 0.3923633821308613\n",
      "  \n"
     ]
    },
    {
     "data": {
      "text/html": [
       "== Status ==<br>Memory usage on this node: 7.7/13.9 GiB<br>Using FIFO scheduling algorithm.<br>Resources requested: 1/8 CPUs, 1/1 GPUs, 0.0/5.18 GiB heap, 0.0/1.76 GiB objects<br>Result logdir: C:\\Users\\Tijana Vukovic\\ray_results\\train_net_2020-12-05_20-46-04<br>Number of trials: 4/6 (1 PENDING, 1 RUNNING, 2 TERMINATED)<br><table>\n",
       "<thead>\n",
       "<tr><th>Trial name           </th><th>status    </th><th>loc              </th><th style=\"text-align: right;\">  dropout</th><th style=\"text-align: right;\">  epochs</th><th style=\"text-align: right;\">   lr</th><th style=\"text-align: right;\">  iter</th><th style=\"text-align: right;\">  total time (s)</th><th style=\"text-align: right;\">  val_acc</th><th style=\"text-align: right;\">  val_loss</th></tr>\n",
       "</thead>\n",
       "<tbody>\n",
       "<tr><td>train_net_83017_00002</td><td>RUNNING   </td><td>192.168.0.20:2524</td><td style=\"text-align: right;\">      0.5</td><td style=\"text-align: right;\">       3</td><td style=\"text-align: right;\">0.01 </td><td style=\"text-align: right;\">    11</td><td style=\"text-align: right;\">         133.256</td><td style=\"text-align: right;\">   0.8308</td><td style=\"text-align: right;\">  0.392363</td></tr>\n",
       "<tr><td>train_net_83017_00003</td><td>PENDING   </td><td>                 </td><td style=\"text-align: right;\">      0.5</td><td style=\"text-align: right;\">       5</td><td style=\"text-align: right;\">0.01 </td><td style=\"text-align: right;\">      </td><td style=\"text-align: right;\">                </td><td style=\"text-align: right;\">         </td><td style=\"text-align: right;\">          </td></tr>\n",
       "<tr><td>train_net_83017_00000</td><td>TERMINATED</td><td>                 </td><td style=\"text-align: right;\">      0.5</td><td style=\"text-align: right;\">       3</td><td style=\"text-align: right;\">0.001</td><td style=\"text-align: right;\">    12</td><td style=\"text-align: right;\">         150.568</td><td style=\"text-align: right;\">   0.8224</td><td style=\"text-align: right;\">  0.39639 </td></tr>\n",
       "<tr><td>train_net_83017_00001</td><td>TERMINATED</td><td>                 </td><td style=\"text-align: right;\">      0.5</td><td style=\"text-align: right;\">       5</td><td style=\"text-align: right;\">0.001</td><td style=\"text-align: right;\">    20</td><td style=\"text-align: right;\">         233.692</td><td style=\"text-align: right;\">   0.8268</td><td style=\"text-align: right;\">  0.399471</td></tr>\n",
       "</tbody>\n",
       "</table><br><br>"
      ],
      "text/plain": [
       "<IPython.core.display.HTML object>"
      ]
     },
     "metadata": {},
     "output_type": "display_data"
    },
    {
     "name": "stdout",
     "output_type": "stream",
     "text": [
      "\u001b[2m\u001b[36m(pid=2524)\u001b[0m Epoch: 3/3... Step: 1100... Loss: 0.211413... Val Loss: 0.427846\n",
      "Result for train_net_83017_00002:\n",
      "  date: 2020-12-05_20-55-03\n",
      "  done: false\n",
      "  experiment_id: e5e8c388787d4bbea478724ebd6672f9\n",
      "  experiment_tag: 2_dropout=0.5,epochs=3,lr=0.01\n",
      "  hostname: DESKTOP-LTLCMDK\n",
      "  iterations_since_restore: 12\n",
      "  node_ip: 192.168.0.20\n",
      "  pid: 2524\n",
      "  time_since_restore: 143.94120240211487\n",
      "  time_this_iter_s: 10.684814691543579\n",
      "  time_total_s: 143.94120240211487\n",
      "  timestamp: 1607198103\n",
      "  timesteps_since_restore: 0\n",
      "  training_iteration: 12\n",
      "  trial_id: '83017_00002'\n",
      "  val_acc: 0.8308\n",
      "  val_loss: 0.3923633821308613\n",
      "  \n"
     ]
    },
    {
     "data": {
      "text/html": [
       "== Status ==<br>Memory usage on this node: 7.7/13.9 GiB<br>Using FIFO scheduling algorithm.<br>Resources requested: 1/8 CPUs, 1/1 GPUs, 0.0/5.18 GiB heap, 0.0/1.76 GiB objects<br>Result logdir: C:\\Users\\Tijana Vukovic\\ray_results\\train_net_2020-12-05_20-46-04<br>Number of trials: 4/6 (1 PENDING, 1 RUNNING, 2 TERMINATED)<br><table>\n",
       "<thead>\n",
       "<tr><th>Trial name           </th><th>status    </th><th>loc              </th><th style=\"text-align: right;\">  dropout</th><th style=\"text-align: right;\">  epochs</th><th style=\"text-align: right;\">   lr</th><th style=\"text-align: right;\">  iter</th><th style=\"text-align: right;\">  total time (s)</th><th style=\"text-align: right;\">  val_acc</th><th style=\"text-align: right;\">  val_loss</th></tr>\n",
       "</thead>\n",
       "<tbody>\n",
       "<tr><td>train_net_83017_00002</td><td>RUNNING   </td><td>192.168.0.20:2524</td><td style=\"text-align: right;\">      0.5</td><td style=\"text-align: right;\">       3</td><td style=\"text-align: right;\">0.01 </td><td style=\"text-align: right;\">    12</td><td style=\"text-align: right;\">         143.941</td><td style=\"text-align: right;\">   0.8308</td><td style=\"text-align: right;\">  0.392363</td></tr>\n",
       "<tr><td>train_net_83017_00003</td><td>PENDING   </td><td>                 </td><td style=\"text-align: right;\">      0.5</td><td style=\"text-align: right;\">       5</td><td style=\"text-align: right;\">0.01 </td><td style=\"text-align: right;\">      </td><td style=\"text-align: right;\">                </td><td style=\"text-align: right;\">         </td><td style=\"text-align: right;\">          </td></tr>\n",
       "<tr><td>train_net_83017_00000</td><td>TERMINATED</td><td>                 </td><td style=\"text-align: right;\">      0.5</td><td style=\"text-align: right;\">       3</td><td style=\"text-align: right;\">0.001</td><td style=\"text-align: right;\">    12</td><td style=\"text-align: right;\">         150.568</td><td style=\"text-align: right;\">   0.8224</td><td style=\"text-align: right;\">  0.39639 </td></tr>\n",
       "<tr><td>train_net_83017_00001</td><td>TERMINATED</td><td>                 </td><td style=\"text-align: right;\">      0.5</td><td style=\"text-align: right;\">       5</td><td style=\"text-align: right;\">0.001</td><td style=\"text-align: right;\">    20</td><td style=\"text-align: right;\">         233.692</td><td style=\"text-align: right;\">   0.8268</td><td style=\"text-align: right;\">  0.399471</td></tr>\n",
       "</tbody>\n",
       "</table><br><br>"
      ],
      "text/plain": [
       "<IPython.core.display.HTML object>"
      ]
     },
     "metadata": {},
     "output_type": "display_data"
    },
    {
     "name": "stdout",
     "output_type": "stream",
     "text": [
      "\u001b[2m\u001b[36m(pid=2524)\u001b[0m Epoch: 3/3... Step: 1200... Loss: 0.335077... Val Loss: 0.440240\r\n"
     ]
    },
    {
     "name": "stderr",
     "output_type": "stream",
     "text": [
      "2020-12-05 20:55:03,602\tWARNING util.py:137 -- The `start_trial` operation took 0.5080387592315674 seconds to complete, which may be a performance bottleneck.\n"
     ]
    },
    {
     "name": "stdout",
     "output_type": "stream",
     "text": [
      "\u001b[2m\u001b[36m(pid=2284)\u001b[0m 0\n",
      "Result for train_net_83017_00003:\n",
      "  date: 2020-12-05_20-55-23\n",
      "  done: false\n",
      "  experiment_id: a07b686764ea4f228876416d1fc24503\n",
      "  experiment_tag: 3_dropout=0.5,epochs=5,lr=0.01\n",
      "  hostname: DESKTOP-LTLCMDK\n",
      "  iterations_since_restore: 1\n",
      "  node_ip: 192.168.0.20\n",
      "  pid: 2284\n",
      "  should_checkpoint: true\n",
      "  time_since_restore: 16.723140716552734\n",
      "  time_this_iter_s: 16.723140716552734\n",
      "  time_total_s: 16.723140716552734\n",
      "  timestamp: 1607198123\n",
      "  timesteps_since_restore: 0\n",
      "  training_iteration: 1\n",
      "  trial_id: '83017_00003'\n",
      "  val_acc: 0.6804\n",
      "  val_loss: 0.6133607709407807\n",
      "  \n"
     ]
    },
    {
     "data": {
      "text/html": [
       "== Status ==<br>Memory usage on this node: 7.7/13.9 GiB<br>Using FIFO scheduling algorithm.<br>Resources requested: 1/8 CPUs, 1/1 GPUs, 0.0/5.18 GiB heap, 0.0/1.76 GiB objects<br>Result logdir: C:\\Users\\Tijana Vukovic\\ray_results\\train_net_2020-12-05_20-46-04<br>Number of trials: 5/6 (1 PENDING, 1 RUNNING, 3 TERMINATED)<br><table>\n",
       "<thead>\n",
       "<tr><th>Trial name           </th><th>status    </th><th>loc              </th><th style=\"text-align: right;\">  dropout</th><th style=\"text-align: right;\">  epochs</th><th style=\"text-align: right;\">   lr</th><th style=\"text-align: right;\">  iter</th><th style=\"text-align: right;\">  total time (s)</th><th style=\"text-align: right;\">  val_acc</th><th style=\"text-align: right;\">  val_loss</th></tr>\n",
       "</thead>\n",
       "<tbody>\n",
       "<tr><td>train_net_83017_00003</td><td>RUNNING   </td><td>192.168.0.20:2284</td><td style=\"text-align: right;\">      0.5</td><td style=\"text-align: right;\">       5</td><td style=\"text-align: right;\">0.01 </td><td style=\"text-align: right;\">     1</td><td style=\"text-align: right;\">         16.7231</td><td style=\"text-align: right;\">   0.6804</td><td style=\"text-align: right;\">  0.613361</td></tr>\n",
       "<tr><td>train_net_83017_00004</td><td>PENDING   </td><td>                 </td><td style=\"text-align: right;\">      0.5</td><td style=\"text-align: right;\">       3</td><td style=\"text-align: right;\">0.1  </td><td style=\"text-align: right;\">      </td><td style=\"text-align: right;\">                </td><td style=\"text-align: right;\">         </td><td style=\"text-align: right;\">          </td></tr>\n",
       "<tr><td>train_net_83017_00000</td><td>TERMINATED</td><td>                 </td><td style=\"text-align: right;\">      0.5</td><td style=\"text-align: right;\">       3</td><td style=\"text-align: right;\">0.001</td><td style=\"text-align: right;\">    12</td><td style=\"text-align: right;\">        150.568 </td><td style=\"text-align: right;\">   0.8224</td><td style=\"text-align: right;\">  0.39639 </td></tr>\n",
       "<tr><td>train_net_83017_00001</td><td>TERMINATED</td><td>                 </td><td style=\"text-align: right;\">      0.5</td><td style=\"text-align: right;\">       5</td><td style=\"text-align: right;\">0.001</td><td style=\"text-align: right;\">    20</td><td style=\"text-align: right;\">        233.692 </td><td style=\"text-align: right;\">   0.8268</td><td style=\"text-align: right;\">  0.399471</td></tr>\n",
       "<tr><td>train_net_83017_00002</td><td>TERMINATED</td><td>                 </td><td style=\"text-align: right;\">      0.5</td><td style=\"text-align: right;\">       3</td><td style=\"text-align: right;\">0.01 </td><td style=\"text-align: right;\">    12</td><td style=\"text-align: right;\">        143.941 </td><td style=\"text-align: right;\">   0.8308</td><td style=\"text-align: right;\">  0.392363</td></tr>\n",
       "</tbody>\n",
       "</table><br><br>"
      ],
      "text/plain": [
       "<IPython.core.display.HTML object>"
      ]
     },
     "metadata": {},
     "output_type": "display_data"
    },
    {
     "name": "stdout",
     "output_type": "stream",
     "text": [
      "\u001b[2m\u001b[36m(pid=2284)\u001b[0m Epoch: 1/5... Step: 100... Loss: 0.644984... Val Loss: 0.613361\n",
      "Result for train_net_83017_00003:\n",
      "  date: 2020-12-05_20-55-35\n",
      "  done: false\n",
      "  experiment_id: a07b686764ea4f228876416d1fc24503\n",
      "  experiment_tag: 3_dropout=0.5,epochs=5,lr=0.01\n",
      "  hostname: DESKTOP-LTLCMDK\n",
      "  iterations_since_restore: 2\n",
      "  node_ip: 192.168.0.20\n",
      "  pid: 2284\n",
      "  should_checkpoint: true\n",
      "  time_since_restore: 29.61181092262268\n",
      "  time_this_iter_s: 12.888670206069946\n",
      "  time_total_s: 29.61181092262268\n",
      "  timestamp: 1607198135\n",
      "  timesteps_since_restore: 0\n",
      "  training_iteration: 2\n",
      "  trial_id: '83017_00003'\n",
      "  val_acc: 0.7524\n",
      "  val_loss: 0.5381426852941513\n",
      "  \n"
     ]
    },
    {
     "data": {
      "text/html": [
       "== Status ==<br>Memory usage on this node: 7.7/13.9 GiB<br>Using FIFO scheduling algorithm.<br>Resources requested: 1/8 CPUs, 1/1 GPUs, 0.0/5.18 GiB heap, 0.0/1.76 GiB objects<br>Result logdir: C:\\Users\\Tijana Vukovic\\ray_results\\train_net_2020-12-05_20-46-04<br>Number of trials: 5/6 (1 PENDING, 1 RUNNING, 3 TERMINATED)<br><table>\n",
       "<thead>\n",
       "<tr><th>Trial name           </th><th>status    </th><th>loc              </th><th style=\"text-align: right;\">  dropout</th><th style=\"text-align: right;\">  epochs</th><th style=\"text-align: right;\">   lr</th><th style=\"text-align: right;\">  iter</th><th style=\"text-align: right;\">  total time (s)</th><th style=\"text-align: right;\">  val_acc</th><th style=\"text-align: right;\">  val_loss</th></tr>\n",
       "</thead>\n",
       "<tbody>\n",
       "<tr><td>train_net_83017_00003</td><td>RUNNING   </td><td>192.168.0.20:2284</td><td style=\"text-align: right;\">      0.5</td><td style=\"text-align: right;\">       5</td><td style=\"text-align: right;\">0.01 </td><td style=\"text-align: right;\">     2</td><td style=\"text-align: right;\">         29.6118</td><td style=\"text-align: right;\">   0.7524</td><td style=\"text-align: right;\">  0.538143</td></tr>\n",
       "<tr><td>train_net_83017_00004</td><td>PENDING   </td><td>                 </td><td style=\"text-align: right;\">      0.5</td><td style=\"text-align: right;\">       3</td><td style=\"text-align: right;\">0.1  </td><td style=\"text-align: right;\">      </td><td style=\"text-align: right;\">                </td><td style=\"text-align: right;\">         </td><td style=\"text-align: right;\">          </td></tr>\n",
       "<tr><td>train_net_83017_00000</td><td>TERMINATED</td><td>                 </td><td style=\"text-align: right;\">      0.5</td><td style=\"text-align: right;\">       3</td><td style=\"text-align: right;\">0.001</td><td style=\"text-align: right;\">    12</td><td style=\"text-align: right;\">        150.568 </td><td style=\"text-align: right;\">   0.8224</td><td style=\"text-align: right;\">  0.39639 </td></tr>\n",
       "<tr><td>train_net_83017_00001</td><td>TERMINATED</td><td>                 </td><td style=\"text-align: right;\">      0.5</td><td style=\"text-align: right;\">       5</td><td style=\"text-align: right;\">0.001</td><td style=\"text-align: right;\">    20</td><td style=\"text-align: right;\">        233.692 </td><td style=\"text-align: right;\">   0.8268</td><td style=\"text-align: right;\">  0.399471</td></tr>\n",
       "<tr><td>train_net_83017_00002</td><td>TERMINATED</td><td>                 </td><td style=\"text-align: right;\">      0.5</td><td style=\"text-align: right;\">       3</td><td style=\"text-align: right;\">0.01 </td><td style=\"text-align: right;\">    12</td><td style=\"text-align: right;\">        143.941 </td><td style=\"text-align: right;\">   0.8308</td><td style=\"text-align: right;\">  0.392363</td></tr>\n",
       "</tbody>\n",
       "</table><br><br>"
      ],
      "text/plain": [
       "<IPython.core.display.HTML object>"
      ]
     },
     "metadata": {},
     "output_type": "display_data"
    },
    {
     "name": "stdout",
     "output_type": "stream",
     "text": [
      "\u001b[2m\u001b[36m(pid=2284)\u001b[0m Epoch: 1/5... Step: 200... Loss: 0.551386... Val Loss: 0.538143\n",
      "Result for train_net_83017_00003:\n",
      "  date: 2020-12-05_20-55-48\n",
      "  done: false\n",
      "  experiment_id: a07b686764ea4f228876416d1fc24503\n",
      "  experiment_tag: 3_dropout=0.5,epochs=5,lr=0.01\n",
      "  hostname: DESKTOP-LTLCMDK\n",
      "  iterations_since_restore: 3\n",
      "  node_ip: 192.168.0.20\n",
      "  pid: 2284\n",
      "  should_checkpoint: true\n",
      "  time_since_restore: 42.6208553314209\n",
      "  time_this_iter_s: 13.009044408798218\n",
      "  time_total_s: 42.6208553314209\n",
      "  timestamp: 1607198148\n",
      "  timesteps_since_restore: 0\n",
      "  training_iteration: 3\n",
      "  trial_id: '83017_00003'\n",
      "  val_acc: 0.7348\n",
      "  val_loss: 0.5349940437078476\n",
      "  \n"
     ]
    },
    {
     "data": {
      "text/html": [
       "== Status ==<br>Memory usage on this node: 7.8/13.9 GiB<br>Using FIFO scheduling algorithm.<br>Resources requested: 1/8 CPUs, 1/1 GPUs, 0.0/5.18 GiB heap, 0.0/1.76 GiB objects<br>Result logdir: C:\\Users\\Tijana Vukovic\\ray_results\\train_net_2020-12-05_20-46-04<br>Number of trials: 5/6 (1 PENDING, 1 RUNNING, 3 TERMINATED)<br><table>\n",
       "<thead>\n",
       "<tr><th>Trial name           </th><th>status    </th><th>loc              </th><th style=\"text-align: right;\">  dropout</th><th style=\"text-align: right;\">  epochs</th><th style=\"text-align: right;\">   lr</th><th style=\"text-align: right;\">  iter</th><th style=\"text-align: right;\">  total time (s)</th><th style=\"text-align: right;\">  val_acc</th><th style=\"text-align: right;\">  val_loss</th></tr>\n",
       "</thead>\n",
       "<tbody>\n",
       "<tr><td>train_net_83017_00003</td><td>RUNNING   </td><td>192.168.0.20:2284</td><td style=\"text-align: right;\">      0.5</td><td style=\"text-align: right;\">       5</td><td style=\"text-align: right;\">0.01 </td><td style=\"text-align: right;\">     3</td><td style=\"text-align: right;\">         42.6209</td><td style=\"text-align: right;\">   0.7348</td><td style=\"text-align: right;\">  0.534994</td></tr>\n",
       "<tr><td>train_net_83017_00004</td><td>PENDING   </td><td>                 </td><td style=\"text-align: right;\">      0.5</td><td style=\"text-align: right;\">       3</td><td style=\"text-align: right;\">0.1  </td><td style=\"text-align: right;\">      </td><td style=\"text-align: right;\">                </td><td style=\"text-align: right;\">         </td><td style=\"text-align: right;\">          </td></tr>\n",
       "<tr><td>train_net_83017_00000</td><td>TERMINATED</td><td>                 </td><td style=\"text-align: right;\">      0.5</td><td style=\"text-align: right;\">       3</td><td style=\"text-align: right;\">0.001</td><td style=\"text-align: right;\">    12</td><td style=\"text-align: right;\">        150.568 </td><td style=\"text-align: right;\">   0.8224</td><td style=\"text-align: right;\">  0.39639 </td></tr>\n",
       "<tr><td>train_net_83017_00001</td><td>TERMINATED</td><td>                 </td><td style=\"text-align: right;\">      0.5</td><td style=\"text-align: right;\">       5</td><td style=\"text-align: right;\">0.001</td><td style=\"text-align: right;\">    20</td><td style=\"text-align: right;\">        233.692 </td><td style=\"text-align: right;\">   0.8268</td><td style=\"text-align: right;\">  0.399471</td></tr>\n",
       "<tr><td>train_net_83017_00002</td><td>TERMINATED</td><td>                 </td><td style=\"text-align: right;\">      0.5</td><td style=\"text-align: right;\">       3</td><td style=\"text-align: right;\">0.01 </td><td style=\"text-align: right;\">    12</td><td style=\"text-align: right;\">        143.941 </td><td style=\"text-align: right;\">   0.8308</td><td style=\"text-align: right;\">  0.392363</td></tr>\n",
       "</tbody>\n",
       "</table><br><br>"
      ],
      "text/plain": [
       "<IPython.core.display.HTML object>"
      ]
     },
     "metadata": {},
     "output_type": "display_data"
    },
    {
     "name": "stdout",
     "output_type": "stream",
     "text": [
      "\u001b[2m\u001b[36m(pid=2284)\u001b[0m Epoch: 1/5... Step: 300... Loss: 0.554121... Val Loss: 0.534994\n",
      "Result for train_net_83017_00003:\n",
      "  date: 2020-12-05_20-56-01\n",
      "  done: false\n",
      "  experiment_id: a07b686764ea4f228876416d1fc24503\n",
      "  experiment_tag: 3_dropout=0.5,epochs=5,lr=0.01\n",
      "  hostname: DESKTOP-LTLCMDK\n",
      "  iterations_since_restore: 4\n",
      "  node_ip: 192.168.0.20\n",
      "  pid: 2284\n",
      "  should_checkpoint: true\n",
      "  time_since_restore: 54.9264452457428\n",
      "  time_this_iter_s: 12.3055899143219\n",
      "  time_total_s: 54.9264452457428\n",
      "  timestamp: 1607198161\n",
      "  timesteps_since_restore: 0\n",
      "  training_iteration: 4\n",
      "  trial_id: '83017_00003'\n",
      "  val_acc: 0.7908\n",
      "  val_loss: 0.4537876892089844\n",
      "  \n"
     ]
    },
    {
     "data": {
      "text/html": [
       "== Status ==<br>Memory usage on this node: 7.8/13.9 GiB<br>Using FIFO scheduling algorithm.<br>Resources requested: 1/8 CPUs, 1/1 GPUs, 0.0/5.18 GiB heap, 0.0/1.76 GiB objects<br>Result logdir: C:\\Users\\Tijana Vukovic\\ray_results\\train_net_2020-12-05_20-46-04<br>Number of trials: 5/6 (1 PENDING, 1 RUNNING, 3 TERMINATED)<br><table>\n",
       "<thead>\n",
       "<tr><th>Trial name           </th><th>status    </th><th>loc              </th><th style=\"text-align: right;\">  dropout</th><th style=\"text-align: right;\">  epochs</th><th style=\"text-align: right;\">   lr</th><th style=\"text-align: right;\">  iter</th><th style=\"text-align: right;\">  total time (s)</th><th style=\"text-align: right;\">  val_acc</th><th style=\"text-align: right;\">  val_loss</th></tr>\n",
       "</thead>\n",
       "<tbody>\n",
       "<tr><td>train_net_83017_00003</td><td>RUNNING   </td><td>192.168.0.20:2284</td><td style=\"text-align: right;\">      0.5</td><td style=\"text-align: right;\">       5</td><td style=\"text-align: right;\">0.01 </td><td style=\"text-align: right;\">     4</td><td style=\"text-align: right;\">         54.9264</td><td style=\"text-align: right;\">   0.7908</td><td style=\"text-align: right;\">  0.453788</td></tr>\n",
       "<tr><td>train_net_83017_00004</td><td>PENDING   </td><td>                 </td><td style=\"text-align: right;\">      0.5</td><td style=\"text-align: right;\">       3</td><td style=\"text-align: right;\">0.1  </td><td style=\"text-align: right;\">      </td><td style=\"text-align: right;\">                </td><td style=\"text-align: right;\">         </td><td style=\"text-align: right;\">          </td></tr>\n",
       "<tr><td>train_net_83017_00000</td><td>TERMINATED</td><td>                 </td><td style=\"text-align: right;\">      0.5</td><td style=\"text-align: right;\">       3</td><td style=\"text-align: right;\">0.001</td><td style=\"text-align: right;\">    12</td><td style=\"text-align: right;\">        150.568 </td><td style=\"text-align: right;\">   0.8224</td><td style=\"text-align: right;\">  0.39639 </td></tr>\n",
       "<tr><td>train_net_83017_00001</td><td>TERMINATED</td><td>                 </td><td style=\"text-align: right;\">      0.5</td><td style=\"text-align: right;\">       5</td><td style=\"text-align: right;\">0.001</td><td style=\"text-align: right;\">    20</td><td style=\"text-align: right;\">        233.692 </td><td style=\"text-align: right;\">   0.8268</td><td style=\"text-align: right;\">  0.399471</td></tr>\n",
       "<tr><td>train_net_83017_00002</td><td>TERMINATED</td><td>                 </td><td style=\"text-align: right;\">      0.5</td><td style=\"text-align: right;\">       3</td><td style=\"text-align: right;\">0.01 </td><td style=\"text-align: right;\">    12</td><td style=\"text-align: right;\">        143.941 </td><td style=\"text-align: right;\">   0.8308</td><td style=\"text-align: right;\">  0.392363</td></tr>\n",
       "</tbody>\n",
       "</table><br><br>"
      ],
      "text/plain": [
       "<IPython.core.display.HTML object>"
      ]
     },
     "metadata": {},
     "output_type": "display_data"
    },
    {
     "name": "stdout",
     "output_type": "stream",
     "text": [
      "\u001b[2m\u001b[36m(pid=2284)\u001b[0m Epoch: 1/5... Step: 400... Loss: 0.468589... Val Loss: 0.453788\n",
      "\u001b[2m\u001b[36m(pid=2284)\u001b[0m 1\n",
      "Result for train_net_83017_00003:\n",
      "  date: 2020-12-05_20-56-14\n",
      "  done: false\n",
      "  experiment_id: a07b686764ea4f228876416d1fc24503\n",
      "  experiment_tag: 3_dropout=0.5,epochs=5,lr=0.01\n",
      "  hostname: DESKTOP-LTLCMDK\n",
      "  iterations_since_restore: 5\n",
      "  node_ip: 192.168.0.20\n",
      "  pid: 2284\n",
      "  should_checkpoint: true\n",
      "  time_since_restore: 67.91897320747375\n",
      "  time_this_iter_s: 12.992527961730957\n",
      "  time_total_s: 67.91897320747375\n",
      "  timestamp: 1607198174\n",
      "  timesteps_since_restore: 0\n",
      "  training_iteration: 5\n",
      "  trial_id: '83017_00003'\n",
      "  val_acc: 0.8044\n",
      "  val_loss: 0.4478203111886978\n",
      "  \n"
     ]
    },
    {
     "data": {
      "text/html": [
       "== Status ==<br>Memory usage on this node: 7.5/13.9 GiB<br>Using FIFO scheduling algorithm.<br>Resources requested: 1/8 CPUs, 1/1 GPUs, 0.0/5.18 GiB heap, 0.0/1.76 GiB objects<br>Result logdir: C:\\Users\\Tijana Vukovic\\ray_results\\train_net_2020-12-05_20-46-04<br>Number of trials: 5/6 (1 PENDING, 1 RUNNING, 3 TERMINATED)<br><table>\n",
       "<thead>\n",
       "<tr><th>Trial name           </th><th>status    </th><th>loc              </th><th style=\"text-align: right;\">  dropout</th><th style=\"text-align: right;\">  epochs</th><th style=\"text-align: right;\">   lr</th><th style=\"text-align: right;\">  iter</th><th style=\"text-align: right;\">  total time (s)</th><th style=\"text-align: right;\">  val_acc</th><th style=\"text-align: right;\">  val_loss</th></tr>\n",
       "</thead>\n",
       "<tbody>\n",
       "<tr><td>train_net_83017_00003</td><td>RUNNING   </td><td>192.168.0.20:2284</td><td style=\"text-align: right;\">      0.5</td><td style=\"text-align: right;\">       5</td><td style=\"text-align: right;\">0.01 </td><td style=\"text-align: right;\">     5</td><td style=\"text-align: right;\">          67.919</td><td style=\"text-align: right;\">   0.8044</td><td style=\"text-align: right;\">  0.44782 </td></tr>\n",
       "<tr><td>train_net_83017_00004</td><td>PENDING   </td><td>                 </td><td style=\"text-align: right;\">      0.5</td><td style=\"text-align: right;\">       3</td><td style=\"text-align: right;\">0.1  </td><td style=\"text-align: right;\">      </td><td style=\"text-align: right;\">                </td><td style=\"text-align: right;\">         </td><td style=\"text-align: right;\">          </td></tr>\n",
       "<tr><td>train_net_83017_00000</td><td>TERMINATED</td><td>                 </td><td style=\"text-align: right;\">      0.5</td><td style=\"text-align: right;\">       3</td><td style=\"text-align: right;\">0.001</td><td style=\"text-align: right;\">    12</td><td style=\"text-align: right;\">         150.568</td><td style=\"text-align: right;\">   0.8224</td><td style=\"text-align: right;\">  0.39639 </td></tr>\n",
       "<tr><td>train_net_83017_00001</td><td>TERMINATED</td><td>                 </td><td style=\"text-align: right;\">      0.5</td><td style=\"text-align: right;\">       5</td><td style=\"text-align: right;\">0.001</td><td style=\"text-align: right;\">    20</td><td style=\"text-align: right;\">         233.692</td><td style=\"text-align: right;\">   0.8268</td><td style=\"text-align: right;\">  0.399471</td></tr>\n",
       "<tr><td>train_net_83017_00002</td><td>TERMINATED</td><td>                 </td><td style=\"text-align: right;\">      0.5</td><td style=\"text-align: right;\">       3</td><td style=\"text-align: right;\">0.01 </td><td style=\"text-align: right;\">    12</td><td style=\"text-align: right;\">         143.941</td><td style=\"text-align: right;\">   0.8308</td><td style=\"text-align: right;\">  0.392363</td></tr>\n",
       "</tbody>\n",
       "</table><br><br>"
      ],
      "text/plain": [
       "<IPython.core.display.HTML object>"
      ]
     },
     "metadata": {},
     "output_type": "display_data"
    },
    {
     "name": "stdout",
     "output_type": "stream",
     "text": [
      "\u001b[2m\u001b[36m(pid=2284)\u001b[0m Epoch: 2/5... Step: 500... Loss: 0.471800... Val Loss: 0.447820\n",
      "Result for train_net_83017_00003:\n",
      "  date: 2020-12-05_20-56-25\n",
      "  done: false\n",
      "  experiment_id: a07b686764ea4f228876416d1fc24503\n",
      "  experiment_tag: 3_dropout=0.5,epochs=5,lr=0.01\n",
      "  hostname: DESKTOP-LTLCMDK\n",
      "  iterations_since_restore: 6\n",
      "  node_ip: 192.168.0.20\n",
      "  pid: 2284\n",
      "  time_since_restore: 78.90981125831604\n",
      "  time_this_iter_s: 10.990838050842285\n",
      "  time_total_s: 78.90981125831604\n",
      "  timestamp: 1607198185\n",
      "  timesteps_since_restore: 0\n",
      "  training_iteration: 6\n",
      "  trial_id: '83017_00003'\n",
      "  val_acc: 0.8044\n",
      "  val_loss: 0.4478203111886978\n",
      "  \n"
     ]
    },
    {
     "data": {
      "text/html": [
       "== Status ==<br>Memory usage on this node: 7.5/13.9 GiB<br>Using FIFO scheduling algorithm.<br>Resources requested: 1/8 CPUs, 1/1 GPUs, 0.0/5.18 GiB heap, 0.0/1.76 GiB objects<br>Result logdir: C:\\Users\\Tijana Vukovic\\ray_results\\train_net_2020-12-05_20-46-04<br>Number of trials: 5/6 (1 PENDING, 1 RUNNING, 3 TERMINATED)<br><table>\n",
       "<thead>\n",
       "<tr><th>Trial name           </th><th>status    </th><th>loc              </th><th style=\"text-align: right;\">  dropout</th><th style=\"text-align: right;\">  epochs</th><th style=\"text-align: right;\">   lr</th><th style=\"text-align: right;\">  iter</th><th style=\"text-align: right;\">  total time (s)</th><th style=\"text-align: right;\">  val_acc</th><th style=\"text-align: right;\">  val_loss</th></tr>\n",
       "</thead>\n",
       "<tbody>\n",
       "<tr><td>train_net_83017_00003</td><td>RUNNING   </td><td>192.168.0.20:2284</td><td style=\"text-align: right;\">      0.5</td><td style=\"text-align: right;\">       5</td><td style=\"text-align: right;\">0.01 </td><td style=\"text-align: right;\">     6</td><td style=\"text-align: right;\">         78.9098</td><td style=\"text-align: right;\">   0.8044</td><td style=\"text-align: right;\">  0.44782 </td></tr>\n",
       "<tr><td>train_net_83017_00004</td><td>PENDING   </td><td>                 </td><td style=\"text-align: right;\">      0.5</td><td style=\"text-align: right;\">       3</td><td style=\"text-align: right;\">0.1  </td><td style=\"text-align: right;\">      </td><td style=\"text-align: right;\">                </td><td style=\"text-align: right;\">         </td><td style=\"text-align: right;\">          </td></tr>\n",
       "<tr><td>train_net_83017_00000</td><td>TERMINATED</td><td>                 </td><td style=\"text-align: right;\">      0.5</td><td style=\"text-align: right;\">       3</td><td style=\"text-align: right;\">0.001</td><td style=\"text-align: right;\">    12</td><td style=\"text-align: right;\">        150.568 </td><td style=\"text-align: right;\">   0.8224</td><td style=\"text-align: right;\">  0.39639 </td></tr>\n",
       "<tr><td>train_net_83017_00001</td><td>TERMINATED</td><td>                 </td><td style=\"text-align: right;\">      0.5</td><td style=\"text-align: right;\">       5</td><td style=\"text-align: right;\">0.001</td><td style=\"text-align: right;\">    20</td><td style=\"text-align: right;\">        233.692 </td><td style=\"text-align: right;\">   0.8268</td><td style=\"text-align: right;\">  0.399471</td></tr>\n",
       "<tr><td>train_net_83017_00002</td><td>TERMINATED</td><td>                 </td><td style=\"text-align: right;\">      0.5</td><td style=\"text-align: right;\">       3</td><td style=\"text-align: right;\">0.01 </td><td style=\"text-align: right;\">    12</td><td style=\"text-align: right;\">        143.941 </td><td style=\"text-align: right;\">   0.8308</td><td style=\"text-align: right;\">  0.392363</td></tr>\n",
       "</tbody>\n",
       "</table><br><br>"
      ],
      "text/plain": [
       "<IPython.core.display.HTML object>"
      ]
     },
     "metadata": {},
     "output_type": "display_data"
    },
    {
     "name": "stdout",
     "output_type": "stream",
     "text": [
      "\u001b[2m\u001b[36m(pid=2284)\u001b[0m Epoch: 2/5... Step: 600... Loss: 0.503447... Val Loss: 0.449765\n",
      "Result for train_net_83017_00003:\n",
      "  date: 2020-12-05_20-56-35\n",
      "  done: false\n",
      "  experiment_id: a07b686764ea4f228876416d1fc24503\n",
      "  experiment_tag: 3_dropout=0.5,epochs=5,lr=0.01\n",
      "  hostname: DESKTOP-LTLCMDK\n",
      "  iterations_since_restore: 7\n",
      "  node_ip: 192.168.0.20\n",
      "  pid: 2284\n",
      "  time_since_restore: 89.50216865539551\n",
      "  time_this_iter_s: 10.592357397079468\n",
      "  time_total_s: 89.50216865539551\n",
      "  timestamp: 1607198195\n",
      "  timesteps_since_restore: 0\n",
      "  training_iteration: 7\n",
      "  trial_id: '83017_00003'\n",
      "  val_acc: 0.8044\n",
      "  val_loss: 0.4478203111886978\n",
      "  \n"
     ]
    },
    {
     "data": {
      "text/html": [
       "== Status ==<br>Memory usage on this node: 7.5/13.9 GiB<br>Using FIFO scheduling algorithm.<br>Resources requested: 1/8 CPUs, 1/1 GPUs, 0.0/5.18 GiB heap, 0.0/1.76 GiB objects<br>Result logdir: C:\\Users\\Tijana Vukovic\\ray_results\\train_net_2020-12-05_20-46-04<br>Number of trials: 5/6 (1 PENDING, 1 RUNNING, 3 TERMINATED)<br><table>\n",
       "<thead>\n",
       "<tr><th>Trial name           </th><th>status    </th><th>loc              </th><th style=\"text-align: right;\">  dropout</th><th style=\"text-align: right;\">  epochs</th><th style=\"text-align: right;\">   lr</th><th style=\"text-align: right;\">  iter</th><th style=\"text-align: right;\">  total time (s)</th><th style=\"text-align: right;\">  val_acc</th><th style=\"text-align: right;\">  val_loss</th></tr>\n",
       "</thead>\n",
       "<tbody>\n",
       "<tr><td>train_net_83017_00003</td><td>RUNNING   </td><td>192.168.0.20:2284</td><td style=\"text-align: right;\">      0.5</td><td style=\"text-align: right;\">       5</td><td style=\"text-align: right;\">0.01 </td><td style=\"text-align: right;\">     7</td><td style=\"text-align: right;\">         89.5022</td><td style=\"text-align: right;\">   0.8044</td><td style=\"text-align: right;\">  0.44782 </td></tr>\n",
       "<tr><td>train_net_83017_00004</td><td>PENDING   </td><td>                 </td><td style=\"text-align: right;\">      0.5</td><td style=\"text-align: right;\">       3</td><td style=\"text-align: right;\">0.1  </td><td style=\"text-align: right;\">      </td><td style=\"text-align: right;\">                </td><td style=\"text-align: right;\">         </td><td style=\"text-align: right;\">          </td></tr>\n",
       "<tr><td>train_net_83017_00000</td><td>TERMINATED</td><td>                 </td><td style=\"text-align: right;\">      0.5</td><td style=\"text-align: right;\">       3</td><td style=\"text-align: right;\">0.001</td><td style=\"text-align: right;\">    12</td><td style=\"text-align: right;\">        150.568 </td><td style=\"text-align: right;\">   0.8224</td><td style=\"text-align: right;\">  0.39639 </td></tr>\n",
       "<tr><td>train_net_83017_00001</td><td>TERMINATED</td><td>                 </td><td style=\"text-align: right;\">      0.5</td><td style=\"text-align: right;\">       5</td><td style=\"text-align: right;\">0.001</td><td style=\"text-align: right;\">    20</td><td style=\"text-align: right;\">        233.692 </td><td style=\"text-align: right;\">   0.8268</td><td style=\"text-align: right;\">  0.399471</td></tr>\n",
       "<tr><td>train_net_83017_00002</td><td>TERMINATED</td><td>                 </td><td style=\"text-align: right;\">      0.5</td><td style=\"text-align: right;\">       3</td><td style=\"text-align: right;\">0.01 </td><td style=\"text-align: right;\">    12</td><td style=\"text-align: right;\">        143.941 </td><td style=\"text-align: right;\">   0.8308</td><td style=\"text-align: right;\">  0.392363</td></tr>\n",
       "</tbody>\n",
       "</table><br><br>"
      ],
      "text/plain": [
       "<IPython.core.display.HTML object>"
      ]
     },
     "metadata": {},
     "output_type": "display_data"
    },
    {
     "name": "stdout",
     "output_type": "stream",
     "text": [
      "\u001b[2m\u001b[36m(pid=2284)\u001b[0m Epoch: 2/5... Step: 700... Loss: 0.349609... Val Loss: 0.484217\n",
      "Result for train_net_83017_00003:\n",
      "  date: 2020-12-05_20-56-47\n",
      "  done: false\n",
      "  experiment_id: a07b686764ea4f228876416d1fc24503\n",
      "  experiment_tag: 3_dropout=0.5,epochs=5,lr=0.01\n",
      "  hostname: DESKTOP-LTLCMDK\n",
      "  iterations_since_restore: 8\n",
      "  node_ip: 192.168.0.20\n",
      "  pid: 2284\n",
      "  should_checkpoint: true\n",
      "  time_since_restore: 101.53506541252136\n",
      "  time_this_iter_s: 12.032896757125854\n",
      "  time_total_s: 101.53506541252136\n",
      "  timestamp: 1607198207\n",
      "  timesteps_since_restore: 0\n",
      "  training_iteration: 8\n",
      "  trial_id: '83017_00003'\n",
      "  val_acc: 0.7768\n",
      "  val_loss: 0.4425289997458458\n",
      "  \n"
     ]
    },
    {
     "data": {
      "text/html": [
       "== Status ==<br>Memory usage on this node: 7.5/13.9 GiB<br>Using FIFO scheduling algorithm.<br>Resources requested: 1/8 CPUs, 1/1 GPUs, 0.0/5.18 GiB heap, 0.0/1.76 GiB objects<br>Result logdir: C:\\Users\\Tijana Vukovic\\ray_results\\train_net_2020-12-05_20-46-04<br>Number of trials: 5/6 (1 PENDING, 1 RUNNING, 3 TERMINATED)<br><table>\n",
       "<thead>\n",
       "<tr><th>Trial name           </th><th>status    </th><th>loc              </th><th style=\"text-align: right;\">  dropout</th><th style=\"text-align: right;\">  epochs</th><th style=\"text-align: right;\">   lr</th><th style=\"text-align: right;\">  iter</th><th style=\"text-align: right;\">  total time (s)</th><th style=\"text-align: right;\">  val_acc</th><th style=\"text-align: right;\">  val_loss</th></tr>\n",
       "</thead>\n",
       "<tbody>\n",
       "<tr><td>train_net_83017_00003</td><td>RUNNING   </td><td>192.168.0.20:2284</td><td style=\"text-align: right;\">      0.5</td><td style=\"text-align: right;\">       5</td><td style=\"text-align: right;\">0.01 </td><td style=\"text-align: right;\">     8</td><td style=\"text-align: right;\">         101.535</td><td style=\"text-align: right;\">   0.7768</td><td style=\"text-align: right;\">  0.442529</td></tr>\n",
       "<tr><td>train_net_83017_00004</td><td>PENDING   </td><td>                 </td><td style=\"text-align: right;\">      0.5</td><td style=\"text-align: right;\">       3</td><td style=\"text-align: right;\">0.1  </td><td style=\"text-align: right;\">      </td><td style=\"text-align: right;\">                </td><td style=\"text-align: right;\">         </td><td style=\"text-align: right;\">          </td></tr>\n",
       "<tr><td>train_net_83017_00000</td><td>TERMINATED</td><td>                 </td><td style=\"text-align: right;\">      0.5</td><td style=\"text-align: right;\">       3</td><td style=\"text-align: right;\">0.001</td><td style=\"text-align: right;\">    12</td><td style=\"text-align: right;\">         150.568</td><td style=\"text-align: right;\">   0.8224</td><td style=\"text-align: right;\">  0.39639 </td></tr>\n",
       "<tr><td>train_net_83017_00001</td><td>TERMINATED</td><td>                 </td><td style=\"text-align: right;\">      0.5</td><td style=\"text-align: right;\">       5</td><td style=\"text-align: right;\">0.001</td><td style=\"text-align: right;\">    20</td><td style=\"text-align: right;\">         233.692</td><td style=\"text-align: right;\">   0.8268</td><td style=\"text-align: right;\">  0.399471</td></tr>\n",
       "<tr><td>train_net_83017_00002</td><td>TERMINATED</td><td>                 </td><td style=\"text-align: right;\">      0.5</td><td style=\"text-align: right;\">       3</td><td style=\"text-align: right;\">0.01 </td><td style=\"text-align: right;\">    12</td><td style=\"text-align: right;\">         143.941</td><td style=\"text-align: right;\">   0.8308</td><td style=\"text-align: right;\">  0.392363</td></tr>\n",
       "</tbody>\n",
       "</table><br><br>"
      ],
      "text/plain": [
       "<IPython.core.display.HTML object>"
      ]
     },
     "metadata": {},
     "output_type": "display_data"
    },
    {
     "name": "stdout",
     "output_type": "stream",
     "text": [
      "\u001b[2m\u001b[36m(pid=2284)\u001b[0m Epoch: 2/5... Step: 800... Loss: 0.332047... Val Loss: 0.442529\n",
      "\u001b[2m\u001b[36m(pid=2284)\u001b[0m 2\n",
      "Result for train_net_83017_00003:\n",
      "  date: 2020-12-05_20-56-58\n",
      "  done: false\n",
      "  experiment_id: a07b686764ea4f228876416d1fc24503\n",
      "  experiment_tag: 3_dropout=0.5,epochs=5,lr=0.01\n",
      "  hostname: DESKTOP-LTLCMDK\n",
      "  iterations_since_restore: 9\n",
      "  node_ip: 192.168.0.20\n",
      "  pid: 2284\n",
      "  time_since_restore: 112.35689115524292\n",
      "  time_this_iter_s: 10.821825742721558\n",
      "  time_total_s: 112.35689115524292\n",
      "  timestamp: 1607198218\n",
      "  timesteps_since_restore: 0\n",
      "  training_iteration: 9\n",
      "  trial_id: '83017_00003'\n",
      "  val_acc: 0.7768\n",
      "  val_loss: 0.4425289997458458\n",
      "  \n"
     ]
    },
    {
     "data": {
      "text/html": [
       "== Status ==<br>Memory usage on this node: 7.5/13.9 GiB<br>Using FIFO scheduling algorithm.<br>Resources requested: 1/8 CPUs, 1/1 GPUs, 0.0/5.18 GiB heap, 0.0/1.76 GiB objects<br>Result logdir: C:\\Users\\Tijana Vukovic\\ray_results\\train_net_2020-12-05_20-46-04<br>Number of trials: 5/6 (1 PENDING, 1 RUNNING, 3 TERMINATED)<br><table>\n",
       "<thead>\n",
       "<tr><th>Trial name           </th><th>status    </th><th>loc              </th><th style=\"text-align: right;\">  dropout</th><th style=\"text-align: right;\">  epochs</th><th style=\"text-align: right;\">   lr</th><th style=\"text-align: right;\">  iter</th><th style=\"text-align: right;\">  total time (s)</th><th style=\"text-align: right;\">  val_acc</th><th style=\"text-align: right;\">  val_loss</th></tr>\n",
       "</thead>\n",
       "<tbody>\n",
       "<tr><td>train_net_83017_00003</td><td>RUNNING   </td><td>192.168.0.20:2284</td><td style=\"text-align: right;\">      0.5</td><td style=\"text-align: right;\">       5</td><td style=\"text-align: right;\">0.01 </td><td style=\"text-align: right;\">     9</td><td style=\"text-align: right;\">         112.357</td><td style=\"text-align: right;\">   0.7768</td><td style=\"text-align: right;\">  0.442529</td></tr>\n",
       "<tr><td>train_net_83017_00004</td><td>PENDING   </td><td>                 </td><td style=\"text-align: right;\">      0.5</td><td style=\"text-align: right;\">       3</td><td style=\"text-align: right;\">0.1  </td><td style=\"text-align: right;\">      </td><td style=\"text-align: right;\">                </td><td style=\"text-align: right;\">         </td><td style=\"text-align: right;\">          </td></tr>\n",
       "<tr><td>train_net_83017_00000</td><td>TERMINATED</td><td>                 </td><td style=\"text-align: right;\">      0.5</td><td style=\"text-align: right;\">       3</td><td style=\"text-align: right;\">0.001</td><td style=\"text-align: right;\">    12</td><td style=\"text-align: right;\">         150.568</td><td style=\"text-align: right;\">   0.8224</td><td style=\"text-align: right;\">  0.39639 </td></tr>\n",
       "<tr><td>train_net_83017_00001</td><td>TERMINATED</td><td>                 </td><td style=\"text-align: right;\">      0.5</td><td style=\"text-align: right;\">       5</td><td style=\"text-align: right;\">0.001</td><td style=\"text-align: right;\">    20</td><td style=\"text-align: right;\">         233.692</td><td style=\"text-align: right;\">   0.8268</td><td style=\"text-align: right;\">  0.399471</td></tr>\n",
       "<tr><td>train_net_83017_00002</td><td>TERMINATED</td><td>                 </td><td style=\"text-align: right;\">      0.5</td><td style=\"text-align: right;\">       3</td><td style=\"text-align: right;\">0.01 </td><td style=\"text-align: right;\">    12</td><td style=\"text-align: right;\">         143.941</td><td style=\"text-align: right;\">   0.8308</td><td style=\"text-align: right;\">  0.392363</td></tr>\n",
       "</tbody>\n",
       "</table><br><br>"
      ],
      "text/plain": [
       "<IPython.core.display.HTML object>"
      ]
     },
     "metadata": {},
     "output_type": "display_data"
    },
    {
     "name": "stdout",
     "output_type": "stream",
     "text": [
      "\u001b[2m\u001b[36m(pid=2284)\u001b[0m Epoch: 3/5... Step: 900... Loss: 0.105431... Val Loss: 0.666775\n",
      "Result for train_net_83017_00003:\n",
      "  date: 2020-12-05_20-57-10\n",
      "  done: false\n",
      "  experiment_id: a07b686764ea4f228876416d1fc24503\n",
      "  experiment_tag: 3_dropout=0.5,epochs=5,lr=0.01\n",
      "  hostname: DESKTOP-LTLCMDK\n",
      "  iterations_since_restore: 10\n",
      "  node_ip: 192.168.0.20\n",
      "  pid: 2284\n",
      "  should_checkpoint: true\n",
      "  time_since_restore: 124.51783394813538\n",
      "  time_this_iter_s: 12.160942792892456\n",
      "  time_total_s: 124.51783394813538\n",
      "  timestamp: 1607198230\n",
      "  timesteps_since_restore: 0\n",
      "  training_iteration: 10\n",
      "  trial_id: '83017_00003'\n",
      "  val_acc: 0.8088\n",
      "  val_loss: 0.4354990035295486\n",
      "  \n"
     ]
    },
    {
     "data": {
      "text/html": [
       "== Status ==<br>Memory usage on this node: 7.5/13.9 GiB<br>Using FIFO scheduling algorithm.<br>Resources requested: 1/8 CPUs, 1/1 GPUs, 0.0/5.18 GiB heap, 0.0/1.76 GiB objects<br>Result logdir: C:\\Users\\Tijana Vukovic\\ray_results\\train_net_2020-12-05_20-46-04<br>Number of trials: 5/6 (1 PENDING, 1 RUNNING, 3 TERMINATED)<br><table>\n",
       "<thead>\n",
       "<tr><th>Trial name           </th><th>status    </th><th>loc              </th><th style=\"text-align: right;\">  dropout</th><th style=\"text-align: right;\">  epochs</th><th style=\"text-align: right;\">   lr</th><th style=\"text-align: right;\">  iter</th><th style=\"text-align: right;\">  total time (s)</th><th style=\"text-align: right;\">  val_acc</th><th style=\"text-align: right;\">  val_loss</th></tr>\n",
       "</thead>\n",
       "<tbody>\n",
       "<tr><td>train_net_83017_00003</td><td>RUNNING   </td><td>192.168.0.20:2284</td><td style=\"text-align: right;\">      0.5</td><td style=\"text-align: right;\">       5</td><td style=\"text-align: right;\">0.01 </td><td style=\"text-align: right;\">    10</td><td style=\"text-align: right;\">         124.518</td><td style=\"text-align: right;\">   0.8088</td><td style=\"text-align: right;\">  0.435499</td></tr>\n",
       "<tr><td>train_net_83017_00004</td><td>PENDING   </td><td>                 </td><td style=\"text-align: right;\">      0.5</td><td style=\"text-align: right;\">       3</td><td style=\"text-align: right;\">0.1  </td><td style=\"text-align: right;\">      </td><td style=\"text-align: right;\">                </td><td style=\"text-align: right;\">         </td><td style=\"text-align: right;\">          </td></tr>\n",
       "<tr><td>train_net_83017_00000</td><td>TERMINATED</td><td>                 </td><td style=\"text-align: right;\">      0.5</td><td style=\"text-align: right;\">       3</td><td style=\"text-align: right;\">0.001</td><td style=\"text-align: right;\">    12</td><td style=\"text-align: right;\">         150.568</td><td style=\"text-align: right;\">   0.8224</td><td style=\"text-align: right;\">  0.39639 </td></tr>\n",
       "<tr><td>train_net_83017_00001</td><td>TERMINATED</td><td>                 </td><td style=\"text-align: right;\">      0.5</td><td style=\"text-align: right;\">       5</td><td style=\"text-align: right;\">0.001</td><td style=\"text-align: right;\">    20</td><td style=\"text-align: right;\">         233.692</td><td style=\"text-align: right;\">   0.8268</td><td style=\"text-align: right;\">  0.399471</td></tr>\n",
       "<tr><td>train_net_83017_00002</td><td>TERMINATED</td><td>                 </td><td style=\"text-align: right;\">      0.5</td><td style=\"text-align: right;\">       3</td><td style=\"text-align: right;\">0.01 </td><td style=\"text-align: right;\">    12</td><td style=\"text-align: right;\">         143.941</td><td style=\"text-align: right;\">   0.8308</td><td style=\"text-align: right;\">  0.392363</td></tr>\n",
       "</tbody>\n",
       "</table><br><br>"
      ],
      "text/plain": [
       "<IPython.core.display.HTML object>"
      ]
     },
     "metadata": {},
     "output_type": "display_data"
    },
    {
     "name": "stdout",
     "output_type": "stream",
     "text": [
      "\u001b[2m\u001b[36m(pid=2284)\u001b[0m Epoch: 3/5... Step: 1000... Loss: 0.381784... Val Loss: 0.435499\n",
      "Result for train_net_83017_00003:\n",
      "  date: 2020-12-05_20-57-23\n",
      "  done: false\n",
      "  experiment_id: a07b686764ea4f228876416d1fc24503\n",
      "  experiment_tag: 3_dropout=0.5,epochs=5,lr=0.01\n",
      "  hostname: DESKTOP-LTLCMDK\n",
      "  iterations_since_restore: 11\n",
      "  node_ip: 192.168.0.20\n",
      "  pid: 2284\n",
      "  should_checkpoint: true\n",
      "  time_since_restore: 136.7603464126587\n",
      "  time_this_iter_s: 12.242512464523315\n",
      "  time_total_s: 136.7603464126587\n",
      "  timestamp: 1607198243\n",
      "  timesteps_since_restore: 0\n",
      "  training_iteration: 11\n",
      "  trial_id: '83017_00003'\n",
      "  val_acc: 0.8264\n",
      "  val_loss: 0.4233120757341385\n",
      "  \n"
     ]
    },
    {
     "data": {
      "text/html": [
       "== Status ==<br>Memory usage on this node: 7.5/13.9 GiB<br>Using FIFO scheduling algorithm.<br>Resources requested: 1/8 CPUs, 1/1 GPUs, 0.0/5.18 GiB heap, 0.0/1.76 GiB objects<br>Result logdir: C:\\Users\\Tijana Vukovic\\ray_results\\train_net_2020-12-05_20-46-04<br>Number of trials: 5/6 (1 PENDING, 1 RUNNING, 3 TERMINATED)<br><table>\n",
       "<thead>\n",
       "<tr><th>Trial name           </th><th>status    </th><th>loc              </th><th style=\"text-align: right;\">  dropout</th><th style=\"text-align: right;\">  epochs</th><th style=\"text-align: right;\">   lr</th><th style=\"text-align: right;\">  iter</th><th style=\"text-align: right;\">  total time (s)</th><th style=\"text-align: right;\">  val_acc</th><th style=\"text-align: right;\">  val_loss</th></tr>\n",
       "</thead>\n",
       "<tbody>\n",
       "<tr><td>train_net_83017_00003</td><td>RUNNING   </td><td>192.168.0.20:2284</td><td style=\"text-align: right;\">      0.5</td><td style=\"text-align: right;\">       5</td><td style=\"text-align: right;\">0.01 </td><td style=\"text-align: right;\">    11</td><td style=\"text-align: right;\">         136.76 </td><td style=\"text-align: right;\">   0.8264</td><td style=\"text-align: right;\">  0.423312</td></tr>\n",
       "<tr><td>train_net_83017_00004</td><td>PENDING   </td><td>                 </td><td style=\"text-align: right;\">      0.5</td><td style=\"text-align: right;\">       3</td><td style=\"text-align: right;\">0.1  </td><td style=\"text-align: right;\">      </td><td style=\"text-align: right;\">                </td><td style=\"text-align: right;\">         </td><td style=\"text-align: right;\">          </td></tr>\n",
       "<tr><td>train_net_83017_00000</td><td>TERMINATED</td><td>                 </td><td style=\"text-align: right;\">      0.5</td><td style=\"text-align: right;\">       3</td><td style=\"text-align: right;\">0.001</td><td style=\"text-align: right;\">    12</td><td style=\"text-align: right;\">         150.568</td><td style=\"text-align: right;\">   0.8224</td><td style=\"text-align: right;\">  0.39639 </td></tr>\n",
       "<tr><td>train_net_83017_00001</td><td>TERMINATED</td><td>                 </td><td style=\"text-align: right;\">      0.5</td><td style=\"text-align: right;\">       5</td><td style=\"text-align: right;\">0.001</td><td style=\"text-align: right;\">    20</td><td style=\"text-align: right;\">         233.692</td><td style=\"text-align: right;\">   0.8268</td><td style=\"text-align: right;\">  0.399471</td></tr>\n",
       "<tr><td>train_net_83017_00002</td><td>TERMINATED</td><td>                 </td><td style=\"text-align: right;\">      0.5</td><td style=\"text-align: right;\">       3</td><td style=\"text-align: right;\">0.01 </td><td style=\"text-align: right;\">    12</td><td style=\"text-align: right;\">         143.941</td><td style=\"text-align: right;\">   0.8308</td><td style=\"text-align: right;\">  0.392363</td></tr>\n",
       "</tbody>\n",
       "</table><br><br>"
      ],
      "text/plain": [
       "<IPython.core.display.HTML object>"
      ]
     },
     "metadata": {},
     "output_type": "display_data"
    },
    {
     "name": "stdout",
     "output_type": "stream",
     "text": [
      "\u001b[2m\u001b[36m(pid=2284)\u001b[0m Epoch: 3/5... Step: 1100... Loss: 0.372939... Val Loss: 0.423312\n",
      "Result for train_net_83017_00003:\n",
      "  date: 2020-12-05_20-57-33\n",
      "  done: false\n",
      "  experiment_id: a07b686764ea4f228876416d1fc24503\n",
      "  experiment_tag: 3_dropout=0.5,epochs=5,lr=0.01\n",
      "  hostname: DESKTOP-LTLCMDK\n",
      "  iterations_since_restore: 12\n",
      "  node_ip: 192.168.0.20\n",
      "  pid: 2284\n",
      "  time_since_restore: 147.60727429389954\n",
      "  time_this_iter_s: 10.846927881240845\n",
      "  time_total_s: 147.60727429389954\n",
      "  timestamp: 1607198253\n",
      "  timesteps_since_restore: 0\n",
      "  training_iteration: 12\n",
      "  trial_id: '83017_00003'\n",
      "  val_acc: 0.8264\n",
      "  val_loss: 0.4233120757341385\n",
      "  \n"
     ]
    },
    {
     "data": {
      "text/html": [
       "== Status ==<br>Memory usage on this node: 7.5/13.9 GiB<br>Using FIFO scheduling algorithm.<br>Resources requested: 1/8 CPUs, 1/1 GPUs, 0.0/5.18 GiB heap, 0.0/1.76 GiB objects<br>Result logdir: C:\\Users\\Tijana Vukovic\\ray_results\\train_net_2020-12-05_20-46-04<br>Number of trials: 5/6 (1 PENDING, 1 RUNNING, 3 TERMINATED)<br><table>\n",
       "<thead>\n",
       "<tr><th>Trial name           </th><th>status    </th><th>loc              </th><th style=\"text-align: right;\">  dropout</th><th style=\"text-align: right;\">  epochs</th><th style=\"text-align: right;\">   lr</th><th style=\"text-align: right;\">  iter</th><th style=\"text-align: right;\">  total time (s)</th><th style=\"text-align: right;\">  val_acc</th><th style=\"text-align: right;\">  val_loss</th></tr>\n",
       "</thead>\n",
       "<tbody>\n",
       "<tr><td>train_net_83017_00003</td><td>RUNNING   </td><td>192.168.0.20:2284</td><td style=\"text-align: right;\">      0.5</td><td style=\"text-align: right;\">       5</td><td style=\"text-align: right;\">0.01 </td><td style=\"text-align: right;\">    12</td><td style=\"text-align: right;\">         147.607</td><td style=\"text-align: right;\">   0.8264</td><td style=\"text-align: right;\">  0.423312</td></tr>\n",
       "<tr><td>train_net_83017_00004</td><td>PENDING   </td><td>                 </td><td style=\"text-align: right;\">      0.5</td><td style=\"text-align: right;\">       3</td><td style=\"text-align: right;\">0.1  </td><td style=\"text-align: right;\">      </td><td style=\"text-align: right;\">                </td><td style=\"text-align: right;\">         </td><td style=\"text-align: right;\">          </td></tr>\n",
       "<tr><td>train_net_83017_00000</td><td>TERMINATED</td><td>                 </td><td style=\"text-align: right;\">      0.5</td><td style=\"text-align: right;\">       3</td><td style=\"text-align: right;\">0.001</td><td style=\"text-align: right;\">    12</td><td style=\"text-align: right;\">         150.568</td><td style=\"text-align: right;\">   0.8224</td><td style=\"text-align: right;\">  0.39639 </td></tr>\n",
       "<tr><td>train_net_83017_00001</td><td>TERMINATED</td><td>                 </td><td style=\"text-align: right;\">      0.5</td><td style=\"text-align: right;\">       5</td><td style=\"text-align: right;\">0.001</td><td style=\"text-align: right;\">    20</td><td style=\"text-align: right;\">         233.692</td><td style=\"text-align: right;\">   0.8268</td><td style=\"text-align: right;\">  0.399471</td></tr>\n",
       "<tr><td>train_net_83017_00002</td><td>TERMINATED</td><td>                 </td><td style=\"text-align: right;\">      0.5</td><td style=\"text-align: right;\">       3</td><td style=\"text-align: right;\">0.01 </td><td style=\"text-align: right;\">    12</td><td style=\"text-align: right;\">         143.941</td><td style=\"text-align: right;\">   0.8308</td><td style=\"text-align: right;\">  0.392363</td></tr>\n",
       "</tbody>\n",
       "</table><br><br>"
      ],
      "text/plain": [
       "<IPython.core.display.HTML object>"
      ]
     },
     "metadata": {},
     "output_type": "display_data"
    },
    {
     "name": "stdout",
     "output_type": "stream",
     "text": [
      "\u001b[2m\u001b[36m(pid=2284)\u001b[0m Epoch: 3/5... Step: 1200... Loss: 0.167217... Val Loss: 0.472939\n",
      "\u001b[2m\u001b[36m(pid=2284)\u001b[0m 3\n",
      "Result for train_net_83017_00003:\n",
      "  date: 2020-12-05_20-57-44\n",
      "  done: false\n",
      "  experiment_id: a07b686764ea4f228876416d1fc24503\n",
      "  experiment_tag: 3_dropout=0.5,epochs=5,lr=0.01\n",
      "  hostname: DESKTOP-LTLCMDK\n",
      "  iterations_since_restore: 13\n",
      "  node_ip: 192.168.0.20\n",
      "  pid: 2284\n",
      "  time_since_restore: 158.36409640312195\n",
      "  time_this_iter_s: 10.756822109222412\n",
      "  time_total_s: 158.36409640312195\n",
      "  timestamp: 1607198264\n",
      "  timesteps_since_restore: 0\n",
      "  training_iteration: 13\n",
      "  trial_id: '83017_00003'\n",
      "  val_acc: 0.8264\n",
      "  val_loss: 0.4233120757341385\n",
      "  \n"
     ]
    },
    {
     "data": {
      "text/html": [
       "== Status ==<br>Memory usage on this node: 7.5/13.9 GiB<br>Using FIFO scheduling algorithm.<br>Resources requested: 1/8 CPUs, 1/1 GPUs, 0.0/5.18 GiB heap, 0.0/1.76 GiB objects<br>Result logdir: C:\\Users\\Tijana Vukovic\\ray_results\\train_net_2020-12-05_20-46-04<br>Number of trials: 5/6 (1 PENDING, 1 RUNNING, 3 TERMINATED)<br><table>\n",
       "<thead>\n",
       "<tr><th>Trial name           </th><th>status    </th><th>loc              </th><th style=\"text-align: right;\">  dropout</th><th style=\"text-align: right;\">  epochs</th><th style=\"text-align: right;\">   lr</th><th style=\"text-align: right;\">  iter</th><th style=\"text-align: right;\">  total time (s)</th><th style=\"text-align: right;\">  val_acc</th><th style=\"text-align: right;\">  val_loss</th></tr>\n",
       "</thead>\n",
       "<tbody>\n",
       "<tr><td>train_net_83017_00003</td><td>RUNNING   </td><td>192.168.0.20:2284</td><td style=\"text-align: right;\">      0.5</td><td style=\"text-align: right;\">       5</td><td style=\"text-align: right;\">0.01 </td><td style=\"text-align: right;\">    13</td><td style=\"text-align: right;\">         158.364</td><td style=\"text-align: right;\">   0.8264</td><td style=\"text-align: right;\">  0.423312</td></tr>\n",
       "<tr><td>train_net_83017_00004</td><td>PENDING   </td><td>                 </td><td style=\"text-align: right;\">      0.5</td><td style=\"text-align: right;\">       3</td><td style=\"text-align: right;\">0.1  </td><td style=\"text-align: right;\">      </td><td style=\"text-align: right;\">                </td><td style=\"text-align: right;\">         </td><td style=\"text-align: right;\">          </td></tr>\n",
       "<tr><td>train_net_83017_00000</td><td>TERMINATED</td><td>                 </td><td style=\"text-align: right;\">      0.5</td><td style=\"text-align: right;\">       3</td><td style=\"text-align: right;\">0.001</td><td style=\"text-align: right;\">    12</td><td style=\"text-align: right;\">         150.568</td><td style=\"text-align: right;\">   0.8224</td><td style=\"text-align: right;\">  0.39639 </td></tr>\n",
       "<tr><td>train_net_83017_00001</td><td>TERMINATED</td><td>                 </td><td style=\"text-align: right;\">      0.5</td><td style=\"text-align: right;\">       5</td><td style=\"text-align: right;\">0.001</td><td style=\"text-align: right;\">    20</td><td style=\"text-align: right;\">         233.692</td><td style=\"text-align: right;\">   0.8268</td><td style=\"text-align: right;\">  0.399471</td></tr>\n",
       "<tr><td>train_net_83017_00002</td><td>TERMINATED</td><td>                 </td><td style=\"text-align: right;\">      0.5</td><td style=\"text-align: right;\">       3</td><td style=\"text-align: right;\">0.01 </td><td style=\"text-align: right;\">    12</td><td style=\"text-align: right;\">         143.941</td><td style=\"text-align: right;\">   0.8308</td><td style=\"text-align: right;\">  0.392363</td></tr>\n",
       "</tbody>\n",
       "</table><br><br>"
      ],
      "text/plain": [
       "<IPython.core.display.HTML object>"
      ]
     },
     "metadata": {},
     "output_type": "display_data"
    },
    {
     "name": "stdout",
     "output_type": "stream",
     "text": [
      "\u001b[2m\u001b[36m(pid=2284)\u001b[0m Epoch: 4/5... Step: 1300... Loss: 0.088570... Val Loss: 0.480989\n",
      "Result for train_net_83017_00003:\n",
      "  date: 2020-12-05_20-57-55\n",
      "  done: false\n",
      "  experiment_id: a07b686764ea4f228876416d1fc24503\n",
      "  experiment_tag: 3_dropout=0.5,epochs=5,lr=0.01\n",
      "  hostname: DESKTOP-LTLCMDK\n",
      "  iterations_since_restore: 14\n",
      "  node_ip: 192.168.0.20\n",
      "  pid: 2284\n",
      "  time_since_restore: 168.95940685272217\n",
      "  time_this_iter_s: 10.59531044960022\n",
      "  time_total_s: 168.95940685272217\n",
      "  timestamp: 1607198275\n",
      "  timesteps_since_restore: 0\n",
      "  training_iteration: 14\n",
      "  trial_id: '83017_00003'\n",
      "  val_acc: 0.8264\n",
      "  val_loss: 0.4233120757341385\n",
      "  \n"
     ]
    },
    {
     "data": {
      "text/html": [
       "== Status ==<br>Memory usage on this node: 7.5/13.9 GiB<br>Using FIFO scheduling algorithm.<br>Resources requested: 1/8 CPUs, 1/1 GPUs, 0.0/5.18 GiB heap, 0.0/1.76 GiB objects<br>Result logdir: C:\\Users\\Tijana Vukovic\\ray_results\\train_net_2020-12-05_20-46-04<br>Number of trials: 5/6 (1 PENDING, 1 RUNNING, 3 TERMINATED)<br><table>\n",
       "<thead>\n",
       "<tr><th>Trial name           </th><th>status    </th><th>loc              </th><th style=\"text-align: right;\">  dropout</th><th style=\"text-align: right;\">  epochs</th><th style=\"text-align: right;\">   lr</th><th style=\"text-align: right;\">  iter</th><th style=\"text-align: right;\">  total time (s)</th><th style=\"text-align: right;\">  val_acc</th><th style=\"text-align: right;\">  val_loss</th></tr>\n",
       "</thead>\n",
       "<tbody>\n",
       "<tr><td>train_net_83017_00003</td><td>RUNNING   </td><td>192.168.0.20:2284</td><td style=\"text-align: right;\">      0.5</td><td style=\"text-align: right;\">       5</td><td style=\"text-align: right;\">0.01 </td><td style=\"text-align: right;\">    14</td><td style=\"text-align: right;\">         168.959</td><td style=\"text-align: right;\">   0.8264</td><td style=\"text-align: right;\">  0.423312</td></tr>\n",
       "<tr><td>train_net_83017_00004</td><td>PENDING   </td><td>                 </td><td style=\"text-align: right;\">      0.5</td><td style=\"text-align: right;\">       3</td><td style=\"text-align: right;\">0.1  </td><td style=\"text-align: right;\">      </td><td style=\"text-align: right;\">                </td><td style=\"text-align: right;\">         </td><td style=\"text-align: right;\">          </td></tr>\n",
       "<tr><td>train_net_83017_00000</td><td>TERMINATED</td><td>                 </td><td style=\"text-align: right;\">      0.5</td><td style=\"text-align: right;\">       3</td><td style=\"text-align: right;\">0.001</td><td style=\"text-align: right;\">    12</td><td style=\"text-align: right;\">         150.568</td><td style=\"text-align: right;\">   0.8224</td><td style=\"text-align: right;\">  0.39639 </td></tr>\n",
       "<tr><td>train_net_83017_00001</td><td>TERMINATED</td><td>                 </td><td style=\"text-align: right;\">      0.5</td><td style=\"text-align: right;\">       5</td><td style=\"text-align: right;\">0.001</td><td style=\"text-align: right;\">    20</td><td style=\"text-align: right;\">         233.692</td><td style=\"text-align: right;\">   0.8268</td><td style=\"text-align: right;\">  0.399471</td></tr>\n",
       "<tr><td>train_net_83017_00002</td><td>TERMINATED</td><td>                 </td><td style=\"text-align: right;\">      0.5</td><td style=\"text-align: right;\">       3</td><td style=\"text-align: right;\">0.01 </td><td style=\"text-align: right;\">    12</td><td style=\"text-align: right;\">         143.941</td><td style=\"text-align: right;\">   0.8308</td><td style=\"text-align: right;\">  0.392363</td></tr>\n",
       "</tbody>\n",
       "</table><br><br>"
      ],
      "text/plain": [
       "<IPython.core.display.HTML object>"
      ]
     },
     "metadata": {},
     "output_type": "display_data"
    },
    {
     "name": "stdout",
     "output_type": "stream",
     "text": [
      "\u001b[2m\u001b[36m(pid=2284)\u001b[0m Epoch: 4/5... Step: 1400... Loss: 0.178497... Val Loss: 0.447540\n",
      "Result for train_net_83017_00003:\n",
      "  date: 2020-12-05_20-58-05\n",
      "  done: false\n",
      "  experiment_id: a07b686764ea4f228876416d1fc24503\n",
      "  experiment_tag: 3_dropout=0.5,epochs=5,lr=0.01\n",
      "  hostname: DESKTOP-LTLCMDK\n",
      "  iterations_since_restore: 15\n",
      "  node_ip: 192.168.0.20\n",
      "  pid: 2284\n",
      "  time_since_restore: 179.66075015068054\n",
      "  time_this_iter_s: 10.701343297958374\n",
      "  time_total_s: 179.66075015068054\n",
      "  timestamp: 1607198285\n",
      "  timesteps_since_restore: 0\n",
      "  training_iteration: 15\n",
      "  trial_id: '83017_00003'\n",
      "  val_acc: 0.8264\n",
      "  val_loss: 0.4233120757341385\n",
      "  \n"
     ]
    },
    {
     "data": {
      "text/html": [
       "== Status ==<br>Memory usage on this node: 7.5/13.9 GiB<br>Using FIFO scheduling algorithm.<br>Resources requested: 1/8 CPUs, 1/1 GPUs, 0.0/5.18 GiB heap, 0.0/1.76 GiB objects<br>Result logdir: C:\\Users\\Tijana Vukovic\\ray_results\\train_net_2020-12-05_20-46-04<br>Number of trials: 5/6 (1 PENDING, 1 RUNNING, 3 TERMINATED)<br><table>\n",
       "<thead>\n",
       "<tr><th>Trial name           </th><th>status    </th><th>loc              </th><th style=\"text-align: right;\">  dropout</th><th style=\"text-align: right;\">  epochs</th><th style=\"text-align: right;\">   lr</th><th style=\"text-align: right;\">  iter</th><th style=\"text-align: right;\">  total time (s)</th><th style=\"text-align: right;\">  val_acc</th><th style=\"text-align: right;\">  val_loss</th></tr>\n",
       "</thead>\n",
       "<tbody>\n",
       "<tr><td>train_net_83017_00003</td><td>RUNNING   </td><td>192.168.0.20:2284</td><td style=\"text-align: right;\">      0.5</td><td style=\"text-align: right;\">       5</td><td style=\"text-align: right;\">0.01 </td><td style=\"text-align: right;\">    15</td><td style=\"text-align: right;\">         179.661</td><td style=\"text-align: right;\">   0.8264</td><td style=\"text-align: right;\">  0.423312</td></tr>\n",
       "<tr><td>train_net_83017_00004</td><td>PENDING   </td><td>                 </td><td style=\"text-align: right;\">      0.5</td><td style=\"text-align: right;\">       3</td><td style=\"text-align: right;\">0.1  </td><td style=\"text-align: right;\">      </td><td style=\"text-align: right;\">                </td><td style=\"text-align: right;\">         </td><td style=\"text-align: right;\">          </td></tr>\n",
       "<tr><td>train_net_83017_00000</td><td>TERMINATED</td><td>                 </td><td style=\"text-align: right;\">      0.5</td><td style=\"text-align: right;\">       3</td><td style=\"text-align: right;\">0.001</td><td style=\"text-align: right;\">    12</td><td style=\"text-align: right;\">         150.568</td><td style=\"text-align: right;\">   0.8224</td><td style=\"text-align: right;\">  0.39639 </td></tr>\n",
       "<tr><td>train_net_83017_00001</td><td>TERMINATED</td><td>                 </td><td style=\"text-align: right;\">      0.5</td><td style=\"text-align: right;\">       5</td><td style=\"text-align: right;\">0.001</td><td style=\"text-align: right;\">    20</td><td style=\"text-align: right;\">         233.692</td><td style=\"text-align: right;\">   0.8268</td><td style=\"text-align: right;\">  0.399471</td></tr>\n",
       "<tr><td>train_net_83017_00002</td><td>TERMINATED</td><td>                 </td><td style=\"text-align: right;\">      0.5</td><td style=\"text-align: right;\">       3</td><td style=\"text-align: right;\">0.01 </td><td style=\"text-align: right;\">    12</td><td style=\"text-align: right;\">         143.941</td><td style=\"text-align: right;\">   0.8308</td><td style=\"text-align: right;\">  0.392363</td></tr>\n",
       "</tbody>\n",
       "</table><br><br>"
      ],
      "text/plain": [
       "<IPython.core.display.HTML object>"
      ]
     },
     "metadata": {},
     "output_type": "display_data"
    },
    {
     "name": "stdout",
     "output_type": "stream",
     "text": [
      "\u001b[2m\u001b[36m(pid=2284)\u001b[0m Epoch: 4/5... Step: 1500... Loss: 0.216171... Val Loss: 0.462131\n",
      "Result for train_net_83017_00003:\n",
      "  date: 2020-12-05_20-58-16\n",
      "  done: false\n",
      "  experiment_id: a07b686764ea4f228876416d1fc24503\n",
      "  experiment_tag: 3_dropout=0.5,epochs=5,lr=0.01\n",
      "  hostname: DESKTOP-LTLCMDK\n",
      "  iterations_since_restore: 16\n",
      "  node_ip: 192.168.0.20\n",
      "  pid: 2284\n",
      "  time_since_restore: 190.33207321166992\n",
      "  time_this_iter_s: 10.67132306098938\n",
      "  time_total_s: 190.33207321166992\n",
      "  timestamp: 1607198296\n",
      "  timesteps_since_restore: 0\n",
      "  training_iteration: 16\n",
      "  trial_id: '83017_00003'\n",
      "  val_acc: 0.8264\n",
      "  val_loss: 0.4233120757341385\n",
      "  \n"
     ]
    },
    {
     "data": {
      "text/html": [
       "== Status ==<br>Memory usage on this node: 7.5/13.9 GiB<br>Using FIFO scheduling algorithm.<br>Resources requested: 1/8 CPUs, 1/1 GPUs, 0.0/5.18 GiB heap, 0.0/1.76 GiB objects<br>Result logdir: C:\\Users\\Tijana Vukovic\\ray_results\\train_net_2020-12-05_20-46-04<br>Number of trials: 5/6 (1 PENDING, 1 RUNNING, 3 TERMINATED)<br><table>\n",
       "<thead>\n",
       "<tr><th>Trial name           </th><th>status    </th><th>loc              </th><th style=\"text-align: right;\">  dropout</th><th style=\"text-align: right;\">  epochs</th><th style=\"text-align: right;\">   lr</th><th style=\"text-align: right;\">  iter</th><th style=\"text-align: right;\">  total time (s)</th><th style=\"text-align: right;\">  val_acc</th><th style=\"text-align: right;\">  val_loss</th></tr>\n",
       "</thead>\n",
       "<tbody>\n",
       "<tr><td>train_net_83017_00003</td><td>RUNNING   </td><td>192.168.0.20:2284</td><td style=\"text-align: right;\">      0.5</td><td style=\"text-align: right;\">       5</td><td style=\"text-align: right;\">0.01 </td><td style=\"text-align: right;\">    16</td><td style=\"text-align: right;\">         190.332</td><td style=\"text-align: right;\">   0.8264</td><td style=\"text-align: right;\">  0.423312</td></tr>\n",
       "<tr><td>train_net_83017_00004</td><td>PENDING   </td><td>                 </td><td style=\"text-align: right;\">      0.5</td><td style=\"text-align: right;\">       3</td><td style=\"text-align: right;\">0.1  </td><td style=\"text-align: right;\">      </td><td style=\"text-align: right;\">                </td><td style=\"text-align: right;\">         </td><td style=\"text-align: right;\">          </td></tr>\n",
       "<tr><td>train_net_83017_00000</td><td>TERMINATED</td><td>                 </td><td style=\"text-align: right;\">      0.5</td><td style=\"text-align: right;\">       3</td><td style=\"text-align: right;\">0.001</td><td style=\"text-align: right;\">    12</td><td style=\"text-align: right;\">         150.568</td><td style=\"text-align: right;\">   0.8224</td><td style=\"text-align: right;\">  0.39639 </td></tr>\n",
       "<tr><td>train_net_83017_00001</td><td>TERMINATED</td><td>                 </td><td style=\"text-align: right;\">      0.5</td><td style=\"text-align: right;\">       5</td><td style=\"text-align: right;\">0.001</td><td style=\"text-align: right;\">    20</td><td style=\"text-align: right;\">         233.692</td><td style=\"text-align: right;\">   0.8268</td><td style=\"text-align: right;\">  0.399471</td></tr>\n",
       "<tr><td>train_net_83017_00002</td><td>TERMINATED</td><td>                 </td><td style=\"text-align: right;\">      0.5</td><td style=\"text-align: right;\">       3</td><td style=\"text-align: right;\">0.01 </td><td style=\"text-align: right;\">    12</td><td style=\"text-align: right;\">         143.941</td><td style=\"text-align: right;\">   0.8308</td><td style=\"text-align: right;\">  0.392363</td></tr>\n",
       "</tbody>\n",
       "</table><br><br>"
      ],
      "text/plain": [
       "<IPython.core.display.HTML object>"
      ]
     },
     "metadata": {},
     "output_type": "display_data"
    },
    {
     "name": "stdout",
     "output_type": "stream",
     "text": [
      "\u001b[2m\u001b[36m(pid=2284)\u001b[0m Epoch: 4/5... Step: 1600... Loss: 0.188229... Val Loss: 0.542110\n",
      "\u001b[2m\u001b[36m(pid=2284)\u001b[0m 4\n",
      "Result for train_net_83017_00003:\n",
      "  date: 2020-12-05_20-58-27\n",
      "  done: false\n",
      "  experiment_id: a07b686764ea4f228876416d1fc24503\n",
      "  experiment_tag: 3_dropout=0.5,epochs=5,lr=0.01\n",
      "  hostname: DESKTOP-LTLCMDK\n",
      "  iterations_since_restore: 17\n",
      "  node_ip: 192.168.0.20\n",
      "  pid: 2284\n",
      "  time_since_restore: 201.01639103889465\n",
      "  time_this_iter_s: 10.684317827224731\n",
      "  time_total_s: 201.01639103889465\n",
      "  timestamp: 1607198307\n",
      "  timesteps_since_restore: 0\n",
      "  training_iteration: 17\n",
      "  trial_id: '83017_00003'\n",
      "  val_acc: 0.8264\n",
      "  val_loss: 0.4233120757341385\n",
      "  \n"
     ]
    },
    {
     "data": {
      "text/html": [
       "== Status ==<br>Memory usage on this node: 7.5/13.9 GiB<br>Using FIFO scheduling algorithm.<br>Resources requested: 1/8 CPUs, 1/1 GPUs, 0.0/5.18 GiB heap, 0.0/1.76 GiB objects<br>Result logdir: C:\\Users\\Tijana Vukovic\\ray_results\\train_net_2020-12-05_20-46-04<br>Number of trials: 5/6 (1 PENDING, 1 RUNNING, 3 TERMINATED)<br><table>\n",
       "<thead>\n",
       "<tr><th>Trial name           </th><th>status    </th><th>loc              </th><th style=\"text-align: right;\">  dropout</th><th style=\"text-align: right;\">  epochs</th><th style=\"text-align: right;\">   lr</th><th style=\"text-align: right;\">  iter</th><th style=\"text-align: right;\">  total time (s)</th><th style=\"text-align: right;\">  val_acc</th><th style=\"text-align: right;\">  val_loss</th></tr>\n",
       "</thead>\n",
       "<tbody>\n",
       "<tr><td>train_net_83017_00003</td><td>RUNNING   </td><td>192.168.0.20:2284</td><td style=\"text-align: right;\">      0.5</td><td style=\"text-align: right;\">       5</td><td style=\"text-align: right;\">0.01 </td><td style=\"text-align: right;\">    17</td><td style=\"text-align: right;\">         201.016</td><td style=\"text-align: right;\">   0.8264</td><td style=\"text-align: right;\">  0.423312</td></tr>\n",
       "<tr><td>train_net_83017_00004</td><td>PENDING   </td><td>                 </td><td style=\"text-align: right;\">      0.5</td><td style=\"text-align: right;\">       3</td><td style=\"text-align: right;\">0.1  </td><td style=\"text-align: right;\">      </td><td style=\"text-align: right;\">                </td><td style=\"text-align: right;\">         </td><td style=\"text-align: right;\">          </td></tr>\n",
       "<tr><td>train_net_83017_00000</td><td>TERMINATED</td><td>                 </td><td style=\"text-align: right;\">      0.5</td><td style=\"text-align: right;\">       3</td><td style=\"text-align: right;\">0.001</td><td style=\"text-align: right;\">    12</td><td style=\"text-align: right;\">         150.568</td><td style=\"text-align: right;\">   0.8224</td><td style=\"text-align: right;\">  0.39639 </td></tr>\n",
       "<tr><td>train_net_83017_00001</td><td>TERMINATED</td><td>                 </td><td style=\"text-align: right;\">      0.5</td><td style=\"text-align: right;\">       5</td><td style=\"text-align: right;\">0.001</td><td style=\"text-align: right;\">    20</td><td style=\"text-align: right;\">         233.692</td><td style=\"text-align: right;\">   0.8268</td><td style=\"text-align: right;\">  0.399471</td></tr>\n",
       "<tr><td>train_net_83017_00002</td><td>TERMINATED</td><td>                 </td><td style=\"text-align: right;\">      0.5</td><td style=\"text-align: right;\">       3</td><td style=\"text-align: right;\">0.01 </td><td style=\"text-align: right;\">    12</td><td style=\"text-align: right;\">         143.941</td><td style=\"text-align: right;\">   0.8308</td><td style=\"text-align: right;\">  0.392363</td></tr>\n",
       "</tbody>\n",
       "</table><br><br>"
      ],
      "text/plain": [
       "<IPython.core.display.HTML object>"
      ]
     },
     "metadata": {},
     "output_type": "display_data"
    },
    {
     "name": "stdout",
     "output_type": "stream",
     "text": [
      "\u001b[2m\u001b[36m(pid=2284)\u001b[0m Epoch: 5/5... Step: 1700... Loss: 0.117910... Val Loss: 0.494152\n",
      "Result for train_net_83017_00003:\n",
      "  date: 2020-12-05_20-58-37\n",
      "  done: false\n",
      "  experiment_id: a07b686764ea4f228876416d1fc24503\n",
      "  experiment_tag: 3_dropout=0.5,epochs=5,lr=0.01\n",
      "  hostname: DESKTOP-LTLCMDK\n",
      "  iterations_since_restore: 18\n",
      "  node_ip: 192.168.0.20\n",
      "  pid: 2284\n",
      "  time_since_restore: 211.66420316696167\n",
      "  time_this_iter_s: 10.647812128067017\n",
      "  time_total_s: 211.66420316696167\n",
      "  timestamp: 1607198317\n",
      "  timesteps_since_restore: 0\n",
      "  training_iteration: 18\n",
      "  trial_id: '83017_00003'\n",
      "  val_acc: 0.8264\n",
      "  val_loss: 0.4233120757341385\n",
      "  \n"
     ]
    },
    {
     "data": {
      "text/html": [
       "== Status ==<br>Memory usage on this node: 7.5/13.9 GiB<br>Using FIFO scheduling algorithm.<br>Resources requested: 1/8 CPUs, 1/1 GPUs, 0.0/5.18 GiB heap, 0.0/1.76 GiB objects<br>Result logdir: C:\\Users\\Tijana Vukovic\\ray_results\\train_net_2020-12-05_20-46-04<br>Number of trials: 5/6 (1 PENDING, 1 RUNNING, 3 TERMINATED)<br><table>\n",
       "<thead>\n",
       "<tr><th>Trial name           </th><th>status    </th><th>loc              </th><th style=\"text-align: right;\">  dropout</th><th style=\"text-align: right;\">  epochs</th><th style=\"text-align: right;\">   lr</th><th style=\"text-align: right;\">  iter</th><th style=\"text-align: right;\">  total time (s)</th><th style=\"text-align: right;\">  val_acc</th><th style=\"text-align: right;\">  val_loss</th></tr>\n",
       "</thead>\n",
       "<tbody>\n",
       "<tr><td>train_net_83017_00003</td><td>RUNNING   </td><td>192.168.0.20:2284</td><td style=\"text-align: right;\">      0.5</td><td style=\"text-align: right;\">       5</td><td style=\"text-align: right;\">0.01 </td><td style=\"text-align: right;\">    18</td><td style=\"text-align: right;\">         211.664</td><td style=\"text-align: right;\">   0.8264</td><td style=\"text-align: right;\">  0.423312</td></tr>\n",
       "<tr><td>train_net_83017_00004</td><td>PENDING   </td><td>                 </td><td style=\"text-align: right;\">      0.5</td><td style=\"text-align: right;\">       3</td><td style=\"text-align: right;\">0.1  </td><td style=\"text-align: right;\">      </td><td style=\"text-align: right;\">                </td><td style=\"text-align: right;\">         </td><td style=\"text-align: right;\">          </td></tr>\n",
       "<tr><td>train_net_83017_00000</td><td>TERMINATED</td><td>                 </td><td style=\"text-align: right;\">      0.5</td><td style=\"text-align: right;\">       3</td><td style=\"text-align: right;\">0.001</td><td style=\"text-align: right;\">    12</td><td style=\"text-align: right;\">         150.568</td><td style=\"text-align: right;\">   0.8224</td><td style=\"text-align: right;\">  0.39639 </td></tr>\n",
       "<tr><td>train_net_83017_00001</td><td>TERMINATED</td><td>                 </td><td style=\"text-align: right;\">      0.5</td><td style=\"text-align: right;\">       5</td><td style=\"text-align: right;\">0.001</td><td style=\"text-align: right;\">    20</td><td style=\"text-align: right;\">         233.692</td><td style=\"text-align: right;\">   0.8268</td><td style=\"text-align: right;\">  0.399471</td></tr>\n",
       "<tr><td>train_net_83017_00002</td><td>TERMINATED</td><td>                 </td><td style=\"text-align: right;\">      0.5</td><td style=\"text-align: right;\">       3</td><td style=\"text-align: right;\">0.01 </td><td style=\"text-align: right;\">    12</td><td style=\"text-align: right;\">         143.941</td><td style=\"text-align: right;\">   0.8308</td><td style=\"text-align: right;\">  0.392363</td></tr>\n",
       "</tbody>\n",
       "</table><br><br>"
      ],
      "text/plain": [
       "<IPython.core.display.HTML object>"
      ]
     },
     "metadata": {},
     "output_type": "display_data"
    },
    {
     "name": "stdout",
     "output_type": "stream",
     "text": [
      "\u001b[2m\u001b[36m(pid=2284)\u001b[0m Epoch: 5/5... Step: 1800... Loss: 0.078449... Val Loss: 0.471930\n",
      "Result for train_net_83017_00003:\n",
      "  date: 2020-12-05_20-58-48\n",
      "  done: false\n",
      "  experiment_id: a07b686764ea4f228876416d1fc24503\n",
      "  experiment_tag: 3_dropout=0.5,epochs=5,lr=0.01\n",
      "  hostname: DESKTOP-LTLCMDK\n",
      "  iterations_since_restore: 19\n",
      "  node_ip: 192.168.0.20\n",
      "  pid: 2284\n",
      "  time_since_restore: 222.35501885414124\n",
      "  time_this_iter_s: 10.690815687179565\n",
      "  time_total_s: 222.35501885414124\n",
      "  timestamp: 1607198328\n",
      "  timesteps_since_restore: 0\n",
      "  training_iteration: 19\n",
      "  trial_id: '83017_00003'\n",
      "  val_acc: 0.8264\n",
      "  val_loss: 0.4233120757341385\n",
      "  \n"
     ]
    },
    {
     "data": {
      "text/html": [
       "== Status ==<br>Memory usage on this node: 7.5/13.9 GiB<br>Using FIFO scheduling algorithm.<br>Resources requested: 1/8 CPUs, 1/1 GPUs, 0.0/5.18 GiB heap, 0.0/1.76 GiB objects<br>Result logdir: C:\\Users\\Tijana Vukovic\\ray_results\\train_net_2020-12-05_20-46-04<br>Number of trials: 5/6 (1 PENDING, 1 RUNNING, 3 TERMINATED)<br><table>\n",
       "<thead>\n",
       "<tr><th>Trial name           </th><th>status    </th><th>loc              </th><th style=\"text-align: right;\">  dropout</th><th style=\"text-align: right;\">  epochs</th><th style=\"text-align: right;\">   lr</th><th style=\"text-align: right;\">  iter</th><th style=\"text-align: right;\">  total time (s)</th><th style=\"text-align: right;\">  val_acc</th><th style=\"text-align: right;\">  val_loss</th></tr>\n",
       "</thead>\n",
       "<tbody>\n",
       "<tr><td>train_net_83017_00003</td><td>RUNNING   </td><td>192.168.0.20:2284</td><td style=\"text-align: right;\">      0.5</td><td style=\"text-align: right;\">       5</td><td style=\"text-align: right;\">0.01 </td><td style=\"text-align: right;\">    19</td><td style=\"text-align: right;\">         222.355</td><td style=\"text-align: right;\">   0.8264</td><td style=\"text-align: right;\">  0.423312</td></tr>\n",
       "<tr><td>train_net_83017_00004</td><td>PENDING   </td><td>                 </td><td style=\"text-align: right;\">      0.5</td><td style=\"text-align: right;\">       3</td><td style=\"text-align: right;\">0.1  </td><td style=\"text-align: right;\">      </td><td style=\"text-align: right;\">                </td><td style=\"text-align: right;\">         </td><td style=\"text-align: right;\">          </td></tr>\n",
       "<tr><td>train_net_83017_00000</td><td>TERMINATED</td><td>                 </td><td style=\"text-align: right;\">      0.5</td><td style=\"text-align: right;\">       3</td><td style=\"text-align: right;\">0.001</td><td style=\"text-align: right;\">    12</td><td style=\"text-align: right;\">         150.568</td><td style=\"text-align: right;\">   0.8224</td><td style=\"text-align: right;\">  0.39639 </td></tr>\n",
       "<tr><td>train_net_83017_00001</td><td>TERMINATED</td><td>                 </td><td style=\"text-align: right;\">      0.5</td><td style=\"text-align: right;\">       5</td><td style=\"text-align: right;\">0.001</td><td style=\"text-align: right;\">    20</td><td style=\"text-align: right;\">         233.692</td><td style=\"text-align: right;\">   0.8268</td><td style=\"text-align: right;\">  0.399471</td></tr>\n",
       "<tr><td>train_net_83017_00002</td><td>TERMINATED</td><td>                 </td><td style=\"text-align: right;\">      0.5</td><td style=\"text-align: right;\">       3</td><td style=\"text-align: right;\">0.01 </td><td style=\"text-align: right;\">    12</td><td style=\"text-align: right;\">         143.941</td><td style=\"text-align: right;\">   0.8308</td><td style=\"text-align: right;\">  0.392363</td></tr>\n",
       "</tbody>\n",
       "</table><br><br>"
      ],
      "text/plain": [
       "<IPython.core.display.HTML object>"
      ]
     },
     "metadata": {},
     "output_type": "display_data"
    },
    {
     "name": "stdout",
     "output_type": "stream",
     "text": [
      "\u001b[2m\u001b[36m(pid=2284)\u001b[0m Epoch: 5/5... Step: 1900... Loss: 0.168659... Val Loss: 0.445314\n",
      "Result for train_net_83017_00003:\n",
      "  date: 2020-12-05_20-58-59\n",
      "  done: false\n",
      "  experiment_id: a07b686764ea4f228876416d1fc24503\n",
      "  experiment_tag: 3_dropout=0.5,epochs=5,lr=0.01\n",
      "  hostname: DESKTOP-LTLCMDK\n",
      "  iterations_since_restore: 20\n",
      "  node_ip: 192.168.0.20\n",
      "  pid: 2284\n",
      "  time_since_restore: 233.19084548950195\n",
      "  time_this_iter_s: 10.835826635360718\n",
      "  time_total_s: 233.19084548950195\n",
      "  timestamp: 1607198339\n",
      "  timesteps_since_restore: 0\n",
      "  training_iteration: 20\n",
      "  trial_id: '83017_00003'\n",
      "  val_acc: 0.8264\n",
      "  val_loss: 0.4233120757341385\n",
      "  \n"
     ]
    },
    {
     "data": {
      "text/html": [
       "== Status ==<br>Memory usage on this node: 7.5/13.9 GiB<br>Using FIFO scheduling algorithm.<br>Resources requested: 1/8 CPUs, 1/1 GPUs, 0.0/5.18 GiB heap, 0.0/1.76 GiB objects<br>Result logdir: C:\\Users\\Tijana Vukovic\\ray_results\\train_net_2020-12-05_20-46-04<br>Number of trials: 5/6 (1 PENDING, 1 RUNNING, 3 TERMINATED)<br><table>\n",
       "<thead>\n",
       "<tr><th>Trial name           </th><th>status    </th><th>loc              </th><th style=\"text-align: right;\">  dropout</th><th style=\"text-align: right;\">  epochs</th><th style=\"text-align: right;\">   lr</th><th style=\"text-align: right;\">  iter</th><th style=\"text-align: right;\">  total time (s)</th><th style=\"text-align: right;\">  val_acc</th><th style=\"text-align: right;\">  val_loss</th></tr>\n",
       "</thead>\n",
       "<tbody>\n",
       "<tr><td>train_net_83017_00003</td><td>RUNNING   </td><td>192.168.0.20:2284</td><td style=\"text-align: right;\">      0.5</td><td style=\"text-align: right;\">       5</td><td style=\"text-align: right;\">0.01 </td><td style=\"text-align: right;\">    20</td><td style=\"text-align: right;\">         233.191</td><td style=\"text-align: right;\">   0.8264</td><td style=\"text-align: right;\">  0.423312</td></tr>\n",
       "<tr><td>train_net_83017_00004</td><td>PENDING   </td><td>                 </td><td style=\"text-align: right;\">      0.5</td><td style=\"text-align: right;\">       3</td><td style=\"text-align: right;\">0.1  </td><td style=\"text-align: right;\">      </td><td style=\"text-align: right;\">                </td><td style=\"text-align: right;\">         </td><td style=\"text-align: right;\">          </td></tr>\n",
       "<tr><td>train_net_83017_00000</td><td>TERMINATED</td><td>                 </td><td style=\"text-align: right;\">      0.5</td><td style=\"text-align: right;\">       3</td><td style=\"text-align: right;\">0.001</td><td style=\"text-align: right;\">    12</td><td style=\"text-align: right;\">         150.568</td><td style=\"text-align: right;\">   0.8224</td><td style=\"text-align: right;\">  0.39639 </td></tr>\n",
       "<tr><td>train_net_83017_00001</td><td>TERMINATED</td><td>                 </td><td style=\"text-align: right;\">      0.5</td><td style=\"text-align: right;\">       5</td><td style=\"text-align: right;\">0.001</td><td style=\"text-align: right;\">    20</td><td style=\"text-align: right;\">         233.692</td><td style=\"text-align: right;\">   0.8268</td><td style=\"text-align: right;\">  0.399471</td></tr>\n",
       "<tr><td>train_net_83017_00002</td><td>TERMINATED</td><td>                 </td><td style=\"text-align: right;\">      0.5</td><td style=\"text-align: right;\">       3</td><td style=\"text-align: right;\">0.01 </td><td style=\"text-align: right;\">    12</td><td style=\"text-align: right;\">         143.941</td><td style=\"text-align: right;\">   0.8308</td><td style=\"text-align: right;\">  0.392363</td></tr>\n",
       "</tbody>\n",
       "</table><br><br>"
      ],
      "text/plain": [
       "<IPython.core.display.HTML object>"
      ]
     },
     "metadata": {},
     "output_type": "display_data"
    },
    {
     "name": "stdout",
     "output_type": "stream",
     "text": [
      "\u001b[2m\u001b[36m(pid=2284)\u001b[0m Epoch: 5/5... Step: 2000... Loss: 0.121726... Val Loss: 0.485698\r\n"
     ]
    },
    {
     "name": "stderr",
     "output_type": "stream",
     "text": [
      "2020-12-05 20:59:00,095\tWARNING util.py:137 -- The `start_trial` operation took 0.5700421333312988 seconds to complete, which may be a performance bottleneck.\n"
     ]
    },
    {
     "name": "stdout",
     "output_type": "stream",
     "text": [
      "\u001b[2m\u001b[36m(pid=13160)\u001b[0m 0\n",
      "Result for train_net_83017_00004:\n",
      "  date: 2020-12-05_20-59-19\n",
      "  done: false\n",
      "  experiment_id: f5f5c46ca53849dd84a0f1008fceb97e\n",
      "  experiment_tag: 4_dropout=0.5,epochs=3,lr=0.1\n",
      "  hostname: DESKTOP-LTLCMDK\n",
      "  iterations_since_restore: 1\n",
      "  node_ip: 192.168.0.20\n",
      "  pid: 13160\n",
      "  should_checkpoint: true\n",
      "  time_since_restore: 16.966445922851562\n",
      "  time_this_iter_s: 16.966445922851562\n",
      "  time_total_s: 16.966445922851562\n",
      "  timestamp: 1607198359\n",
      "  timesteps_since_restore: 0\n",
      "  training_iteration: 1\n",
      "  trial_id: '83017_00004'\n",
      "  val_acc: 0.4976\n",
      "  val_loss: 0.7569001042842864\n",
      "  \n"
     ]
    },
    {
     "data": {
      "text/html": [
       "== Status ==<br>Memory usage on this node: 7.6/13.9 GiB<br>Using FIFO scheduling algorithm.<br>Resources requested: 1/8 CPUs, 1/1 GPUs, 0.0/5.18 GiB heap, 0.0/1.76 GiB objects<br>Result logdir: C:\\Users\\Tijana Vukovic\\ray_results\\train_net_2020-12-05_20-46-04<br>Number of trials: 6/6 (1 PENDING, 1 RUNNING, 4 TERMINATED)<br><table>\n",
       "<thead>\n",
       "<tr><th>Trial name           </th><th>status    </th><th>loc               </th><th style=\"text-align: right;\">  dropout</th><th style=\"text-align: right;\">  epochs</th><th style=\"text-align: right;\">   lr</th><th style=\"text-align: right;\">  iter</th><th style=\"text-align: right;\">  total time (s)</th><th style=\"text-align: right;\">  val_acc</th><th style=\"text-align: right;\">  val_loss</th></tr>\n",
       "</thead>\n",
       "<tbody>\n",
       "<tr><td>train_net_83017_00004</td><td>RUNNING   </td><td>192.168.0.20:13160</td><td style=\"text-align: right;\">      0.5</td><td style=\"text-align: right;\">       3</td><td style=\"text-align: right;\">0.1  </td><td style=\"text-align: right;\">     1</td><td style=\"text-align: right;\">         16.9664</td><td style=\"text-align: right;\">   0.4976</td><td style=\"text-align: right;\">  0.7569  </td></tr>\n",
       "<tr><td>train_net_83017_00005</td><td>PENDING   </td><td>                  </td><td style=\"text-align: right;\">      0.5</td><td style=\"text-align: right;\">       5</td><td style=\"text-align: right;\">0.1  </td><td style=\"text-align: right;\">      </td><td style=\"text-align: right;\">                </td><td style=\"text-align: right;\">         </td><td style=\"text-align: right;\">          </td></tr>\n",
       "<tr><td>train_net_83017_00000</td><td>TERMINATED</td><td>                  </td><td style=\"text-align: right;\">      0.5</td><td style=\"text-align: right;\">       3</td><td style=\"text-align: right;\">0.001</td><td style=\"text-align: right;\">    12</td><td style=\"text-align: right;\">        150.568 </td><td style=\"text-align: right;\">   0.8224</td><td style=\"text-align: right;\">  0.39639 </td></tr>\n",
       "<tr><td>train_net_83017_00001</td><td>TERMINATED</td><td>                  </td><td style=\"text-align: right;\">      0.5</td><td style=\"text-align: right;\">       5</td><td style=\"text-align: right;\">0.001</td><td style=\"text-align: right;\">    20</td><td style=\"text-align: right;\">        233.692 </td><td style=\"text-align: right;\">   0.8268</td><td style=\"text-align: right;\">  0.399471</td></tr>\n",
       "<tr><td>train_net_83017_00002</td><td>TERMINATED</td><td>                  </td><td style=\"text-align: right;\">      0.5</td><td style=\"text-align: right;\">       3</td><td style=\"text-align: right;\">0.01 </td><td style=\"text-align: right;\">    12</td><td style=\"text-align: right;\">        143.941 </td><td style=\"text-align: right;\">   0.8308</td><td style=\"text-align: right;\">  0.392363</td></tr>\n",
       "<tr><td>train_net_83017_00003</td><td>TERMINATED</td><td>                  </td><td style=\"text-align: right;\">      0.5</td><td style=\"text-align: right;\">       5</td><td style=\"text-align: right;\">0.01 </td><td style=\"text-align: right;\">    20</td><td style=\"text-align: right;\">        233.191 </td><td style=\"text-align: right;\">   0.8264</td><td style=\"text-align: right;\">  0.423312</td></tr>\n",
       "</tbody>\n",
       "</table><br><br>"
      ],
      "text/plain": [
       "<IPython.core.display.HTML object>"
      ]
     },
     "metadata": {},
     "output_type": "display_data"
    },
    {
     "name": "stdout",
     "output_type": "stream",
     "text": [
      "\u001b[2m\u001b[36m(pid=13160)\u001b[0m Epoch: 1/3... Step: 100... Loss: 0.698953... Val Loss: 0.756900\n",
      "Result for train_net_83017_00004:\n",
      "  date: 2020-12-05_20-59-30\n",
      "  done: false\n",
      "  experiment_id: f5f5c46ca53849dd84a0f1008fceb97e\n",
      "  experiment_tag: 4_dropout=0.5,epochs=3,lr=0.1\n",
      "  hostname: DESKTOP-LTLCMDK\n",
      "  iterations_since_restore: 2\n",
      "  node_ip: 192.168.0.20\n",
      "  pid: 13160\n",
      "  time_since_restore: 27.867799758911133\n",
      "  time_this_iter_s: 10.90135383605957\n",
      "  time_total_s: 27.867799758911133\n",
      "  timestamp: 1607198370\n",
      "  timesteps_since_restore: 0\n",
      "  training_iteration: 2\n",
      "  trial_id: '83017_00004'\n",
      "  val_acc: 0.4976\n",
      "  val_loss: 0.7569001042842864\n",
      "  \n"
     ]
    },
    {
     "data": {
      "text/html": [
       "== Status ==<br>Memory usage on this node: 7.6/13.9 GiB<br>Using FIFO scheduling algorithm.<br>Resources requested: 1/8 CPUs, 1/1 GPUs, 0.0/5.18 GiB heap, 0.0/1.76 GiB objects<br>Result logdir: C:\\Users\\Tijana Vukovic\\ray_results\\train_net_2020-12-05_20-46-04<br>Number of trials: 6/6 (1 PENDING, 1 RUNNING, 4 TERMINATED)<br><table>\n",
       "<thead>\n",
       "<tr><th>Trial name           </th><th>status    </th><th>loc               </th><th style=\"text-align: right;\">  dropout</th><th style=\"text-align: right;\">  epochs</th><th style=\"text-align: right;\">   lr</th><th style=\"text-align: right;\">  iter</th><th style=\"text-align: right;\">  total time (s)</th><th style=\"text-align: right;\">  val_acc</th><th style=\"text-align: right;\">  val_loss</th></tr>\n",
       "</thead>\n",
       "<tbody>\n",
       "<tr><td>train_net_83017_00004</td><td>RUNNING   </td><td>192.168.0.20:13160</td><td style=\"text-align: right;\">      0.5</td><td style=\"text-align: right;\">       3</td><td style=\"text-align: right;\">0.1  </td><td style=\"text-align: right;\">     2</td><td style=\"text-align: right;\">         27.8678</td><td style=\"text-align: right;\">   0.4976</td><td style=\"text-align: right;\">  0.7569  </td></tr>\n",
       "<tr><td>train_net_83017_00005</td><td>PENDING   </td><td>                  </td><td style=\"text-align: right;\">      0.5</td><td style=\"text-align: right;\">       5</td><td style=\"text-align: right;\">0.1  </td><td style=\"text-align: right;\">      </td><td style=\"text-align: right;\">                </td><td style=\"text-align: right;\">         </td><td style=\"text-align: right;\">          </td></tr>\n",
       "<tr><td>train_net_83017_00000</td><td>TERMINATED</td><td>                  </td><td style=\"text-align: right;\">      0.5</td><td style=\"text-align: right;\">       3</td><td style=\"text-align: right;\">0.001</td><td style=\"text-align: right;\">    12</td><td style=\"text-align: right;\">        150.568 </td><td style=\"text-align: right;\">   0.8224</td><td style=\"text-align: right;\">  0.39639 </td></tr>\n",
       "<tr><td>train_net_83017_00001</td><td>TERMINATED</td><td>                  </td><td style=\"text-align: right;\">      0.5</td><td style=\"text-align: right;\">       5</td><td style=\"text-align: right;\">0.001</td><td style=\"text-align: right;\">    20</td><td style=\"text-align: right;\">        233.692 </td><td style=\"text-align: right;\">   0.8268</td><td style=\"text-align: right;\">  0.399471</td></tr>\n",
       "<tr><td>train_net_83017_00002</td><td>TERMINATED</td><td>                  </td><td style=\"text-align: right;\">      0.5</td><td style=\"text-align: right;\">       3</td><td style=\"text-align: right;\">0.01 </td><td style=\"text-align: right;\">    12</td><td style=\"text-align: right;\">        143.941 </td><td style=\"text-align: right;\">   0.8308</td><td style=\"text-align: right;\">  0.392363</td></tr>\n",
       "<tr><td>train_net_83017_00003</td><td>TERMINATED</td><td>                  </td><td style=\"text-align: right;\">      0.5</td><td style=\"text-align: right;\">       5</td><td style=\"text-align: right;\">0.01 </td><td style=\"text-align: right;\">    20</td><td style=\"text-align: right;\">        233.191 </td><td style=\"text-align: right;\">   0.8264</td><td style=\"text-align: right;\">  0.423312</td></tr>\n",
       "</tbody>\n",
       "</table><br><br>"
      ],
      "text/plain": [
       "<IPython.core.display.HTML object>"
      ]
     },
     "metadata": {},
     "output_type": "display_data"
    },
    {
     "name": "stdout",
     "output_type": "stream",
     "text": [
      "\u001b[2m\u001b[36m(pid=13160)\u001b[0m Epoch: 1/3... Step: 200... Loss: 1.032440... Val Loss: 0.763177\n",
      "Result for train_net_83017_00004:\n",
      "  date: 2020-12-05_20-59-41\n",
      "  done: false\n",
      "  experiment_id: f5f5c46ca53849dd84a0f1008fceb97e\n",
      "  experiment_tag: 4_dropout=0.5,epochs=3,lr=0.1\n",
      "  hostname: DESKTOP-LTLCMDK\n",
      "  iterations_since_restore: 3\n",
      "  node_ip: 192.168.0.20\n",
      "  pid: 13160\n",
      "  time_since_restore: 38.519572496414185\n",
      "  time_this_iter_s: 10.651772737503052\n",
      "  time_total_s: 38.519572496414185\n",
      "  timestamp: 1607198381\n",
      "  timesteps_since_restore: 0\n",
      "  training_iteration: 3\n",
      "  trial_id: '83017_00004'\n",
      "  val_acc: 0.4976\n",
      "  val_loss: 0.7569001042842864\n",
      "  \n"
     ]
    },
    {
     "data": {
      "text/html": [
       "== Status ==<br>Memory usage on this node: 7.6/13.9 GiB<br>Using FIFO scheduling algorithm.<br>Resources requested: 1/8 CPUs, 1/1 GPUs, 0.0/5.18 GiB heap, 0.0/1.76 GiB objects<br>Result logdir: C:\\Users\\Tijana Vukovic\\ray_results\\train_net_2020-12-05_20-46-04<br>Number of trials: 6/6 (1 PENDING, 1 RUNNING, 4 TERMINATED)<br><table>\n",
       "<thead>\n",
       "<tr><th>Trial name           </th><th>status    </th><th>loc               </th><th style=\"text-align: right;\">  dropout</th><th style=\"text-align: right;\">  epochs</th><th style=\"text-align: right;\">   lr</th><th style=\"text-align: right;\">  iter</th><th style=\"text-align: right;\">  total time (s)</th><th style=\"text-align: right;\">  val_acc</th><th style=\"text-align: right;\">  val_loss</th></tr>\n",
       "</thead>\n",
       "<tbody>\n",
       "<tr><td>train_net_83017_00004</td><td>RUNNING   </td><td>192.168.0.20:13160</td><td style=\"text-align: right;\">      0.5</td><td style=\"text-align: right;\">       3</td><td style=\"text-align: right;\">0.1  </td><td style=\"text-align: right;\">     3</td><td style=\"text-align: right;\">         38.5196</td><td style=\"text-align: right;\">   0.4976</td><td style=\"text-align: right;\">  0.7569  </td></tr>\n",
       "<tr><td>train_net_83017_00005</td><td>PENDING   </td><td>                  </td><td style=\"text-align: right;\">      0.5</td><td style=\"text-align: right;\">       5</td><td style=\"text-align: right;\">0.1  </td><td style=\"text-align: right;\">      </td><td style=\"text-align: right;\">                </td><td style=\"text-align: right;\">         </td><td style=\"text-align: right;\">          </td></tr>\n",
       "<tr><td>train_net_83017_00000</td><td>TERMINATED</td><td>                  </td><td style=\"text-align: right;\">      0.5</td><td style=\"text-align: right;\">       3</td><td style=\"text-align: right;\">0.001</td><td style=\"text-align: right;\">    12</td><td style=\"text-align: right;\">        150.568 </td><td style=\"text-align: right;\">   0.8224</td><td style=\"text-align: right;\">  0.39639 </td></tr>\n",
       "<tr><td>train_net_83017_00001</td><td>TERMINATED</td><td>                  </td><td style=\"text-align: right;\">      0.5</td><td style=\"text-align: right;\">       5</td><td style=\"text-align: right;\">0.001</td><td style=\"text-align: right;\">    20</td><td style=\"text-align: right;\">        233.692 </td><td style=\"text-align: right;\">   0.8268</td><td style=\"text-align: right;\">  0.399471</td></tr>\n",
       "<tr><td>train_net_83017_00002</td><td>TERMINATED</td><td>                  </td><td style=\"text-align: right;\">      0.5</td><td style=\"text-align: right;\">       3</td><td style=\"text-align: right;\">0.01 </td><td style=\"text-align: right;\">    12</td><td style=\"text-align: right;\">        143.941 </td><td style=\"text-align: right;\">   0.8308</td><td style=\"text-align: right;\">  0.392363</td></tr>\n",
       "<tr><td>train_net_83017_00003</td><td>TERMINATED</td><td>                  </td><td style=\"text-align: right;\">      0.5</td><td style=\"text-align: right;\">       5</td><td style=\"text-align: right;\">0.01 </td><td style=\"text-align: right;\">    20</td><td style=\"text-align: right;\">        233.191 </td><td style=\"text-align: right;\">   0.8264</td><td style=\"text-align: right;\">  0.423312</td></tr>\n",
       "</tbody>\n",
       "</table><br><br>"
      ],
      "text/plain": [
       "<IPython.core.display.HTML object>"
      ]
     },
     "metadata": {},
     "output_type": "display_data"
    },
    {
     "name": "stdout",
     "output_type": "stream",
     "text": [
      "\u001b[2m\u001b[36m(pid=13160)\u001b[0m Epoch: 1/3... Step: 300... Loss: 0.747048... Val Loss: 0.960149\n",
      "Result for train_net_83017_00004:\n",
      "  date: 2020-12-05_20-59-53\n",
      "  done: false\n",
      "  experiment_id: f5f5c46ca53849dd84a0f1008fceb97e\n",
      "  experiment_tag: 4_dropout=0.5,epochs=3,lr=0.1\n",
      "  hostname: DESKTOP-LTLCMDK\n",
      "  iterations_since_restore: 4\n",
      "  node_ip: 192.168.0.20\n",
      "  pid: 13160\n",
      "  should_checkpoint: true\n",
      "  time_since_restore: 51.10131359100342\n",
      "  time_this_iter_s: 12.581741094589233\n",
      "  time_total_s: 51.10131359100342\n",
      "  timestamp: 1607198393\n",
      "  timesteps_since_restore: 0\n",
      "  training_iteration: 4\n",
      "  trial_id: '83017_00004'\n",
      "  val_acc: 0.4972\n",
      "  val_loss: 0.7015749776363372\n",
      "  \n"
     ]
    },
    {
     "data": {
      "text/html": [
       "== Status ==<br>Memory usage on this node: 7.6/13.9 GiB<br>Using FIFO scheduling algorithm.<br>Resources requested: 1/8 CPUs, 1/1 GPUs, 0.0/5.18 GiB heap, 0.0/1.76 GiB objects<br>Result logdir: C:\\Users\\Tijana Vukovic\\ray_results\\train_net_2020-12-05_20-46-04<br>Number of trials: 6/6 (1 PENDING, 1 RUNNING, 4 TERMINATED)<br><table>\n",
       "<thead>\n",
       "<tr><th>Trial name           </th><th>status    </th><th>loc               </th><th style=\"text-align: right;\">  dropout</th><th style=\"text-align: right;\">  epochs</th><th style=\"text-align: right;\">   lr</th><th style=\"text-align: right;\">  iter</th><th style=\"text-align: right;\">  total time (s)</th><th style=\"text-align: right;\">  val_acc</th><th style=\"text-align: right;\">  val_loss</th></tr>\n",
       "</thead>\n",
       "<tbody>\n",
       "<tr><td>train_net_83017_00004</td><td>RUNNING   </td><td>192.168.0.20:13160</td><td style=\"text-align: right;\">      0.5</td><td style=\"text-align: right;\">       3</td><td style=\"text-align: right;\">0.1  </td><td style=\"text-align: right;\">     4</td><td style=\"text-align: right;\">         51.1013</td><td style=\"text-align: right;\">   0.4972</td><td style=\"text-align: right;\">  0.701575</td></tr>\n",
       "<tr><td>train_net_83017_00005</td><td>PENDING   </td><td>                  </td><td style=\"text-align: right;\">      0.5</td><td style=\"text-align: right;\">       5</td><td style=\"text-align: right;\">0.1  </td><td style=\"text-align: right;\">      </td><td style=\"text-align: right;\">                </td><td style=\"text-align: right;\">         </td><td style=\"text-align: right;\">          </td></tr>\n",
       "<tr><td>train_net_83017_00000</td><td>TERMINATED</td><td>                  </td><td style=\"text-align: right;\">      0.5</td><td style=\"text-align: right;\">       3</td><td style=\"text-align: right;\">0.001</td><td style=\"text-align: right;\">    12</td><td style=\"text-align: right;\">        150.568 </td><td style=\"text-align: right;\">   0.8224</td><td style=\"text-align: right;\">  0.39639 </td></tr>\n",
       "<tr><td>train_net_83017_00001</td><td>TERMINATED</td><td>                  </td><td style=\"text-align: right;\">      0.5</td><td style=\"text-align: right;\">       5</td><td style=\"text-align: right;\">0.001</td><td style=\"text-align: right;\">    20</td><td style=\"text-align: right;\">        233.692 </td><td style=\"text-align: right;\">   0.8268</td><td style=\"text-align: right;\">  0.399471</td></tr>\n",
       "<tr><td>train_net_83017_00002</td><td>TERMINATED</td><td>                  </td><td style=\"text-align: right;\">      0.5</td><td style=\"text-align: right;\">       3</td><td style=\"text-align: right;\">0.01 </td><td style=\"text-align: right;\">    12</td><td style=\"text-align: right;\">        143.941 </td><td style=\"text-align: right;\">   0.8308</td><td style=\"text-align: right;\">  0.392363</td></tr>\n",
       "<tr><td>train_net_83017_00003</td><td>TERMINATED</td><td>                  </td><td style=\"text-align: right;\">      0.5</td><td style=\"text-align: right;\">       5</td><td style=\"text-align: right;\">0.01 </td><td style=\"text-align: right;\">    20</td><td style=\"text-align: right;\">        233.191 </td><td style=\"text-align: right;\">   0.8264</td><td style=\"text-align: right;\">  0.423312</td></tr>\n",
       "</tbody>\n",
       "</table><br><br>"
      ],
      "text/plain": [
       "<IPython.core.display.HTML object>"
      ]
     },
     "metadata": {},
     "output_type": "display_data"
    },
    {
     "name": "stdout",
     "output_type": "stream",
     "text": [
      "\u001b[2m\u001b[36m(pid=13160)\u001b[0m Epoch: 1/3... Step: 400... Loss: 1.114623... Val Loss: 0.701575\n",
      "\u001b[2m\u001b[36m(pid=13160)\u001b[0m 1\n",
      "Result for train_net_83017_00004:\n",
      "  date: 2020-12-05_21-00-07\n",
      "  done: false\n",
      "  experiment_id: f5f5c46ca53849dd84a0f1008fceb97e\n",
      "  experiment_tag: 4_dropout=0.5,epochs=3,lr=0.1\n",
      "  hostname: DESKTOP-LTLCMDK\n",
      "  iterations_since_restore: 5\n",
      "  node_ip: 192.168.0.20\n",
      "  pid: 13160\n",
      "  should_checkpoint: true\n",
      "  time_since_restore: 64.1573212146759\n",
      "  time_this_iter_s: 13.056007623672485\n",
      "  time_total_s: 64.1573212146759\n",
      "  timestamp: 1607198407\n",
      "  timesteps_since_restore: 0\n",
      "  training_iteration: 5\n",
      "  trial_id: '83017_00004'\n",
      "  val_acc: 0.4976\n",
      "  val_loss: 0.6934365284442902\n",
      "  \n"
     ]
    },
    {
     "data": {
      "text/html": [
       "== Status ==<br>Memory usage on this node: 7.7/13.9 GiB<br>Using FIFO scheduling algorithm.<br>Resources requested: 1/8 CPUs, 1/1 GPUs, 0.0/5.18 GiB heap, 0.0/1.76 GiB objects<br>Result logdir: C:\\Users\\Tijana Vukovic\\ray_results\\train_net_2020-12-05_20-46-04<br>Number of trials: 6/6 (1 PENDING, 1 RUNNING, 4 TERMINATED)<br><table>\n",
       "<thead>\n",
       "<tr><th>Trial name           </th><th>status    </th><th>loc               </th><th style=\"text-align: right;\">  dropout</th><th style=\"text-align: right;\">  epochs</th><th style=\"text-align: right;\">   lr</th><th style=\"text-align: right;\">  iter</th><th style=\"text-align: right;\">  total time (s)</th><th style=\"text-align: right;\">  val_acc</th><th style=\"text-align: right;\">  val_loss</th></tr>\n",
       "</thead>\n",
       "<tbody>\n",
       "<tr><td>train_net_83017_00004</td><td>RUNNING   </td><td>192.168.0.20:13160</td><td style=\"text-align: right;\">      0.5</td><td style=\"text-align: right;\">       3</td><td style=\"text-align: right;\">0.1  </td><td style=\"text-align: right;\">     5</td><td style=\"text-align: right;\">         64.1573</td><td style=\"text-align: right;\">   0.4976</td><td style=\"text-align: right;\">  0.693437</td></tr>\n",
       "<tr><td>train_net_83017_00005</td><td>PENDING   </td><td>                  </td><td style=\"text-align: right;\">      0.5</td><td style=\"text-align: right;\">       5</td><td style=\"text-align: right;\">0.1  </td><td style=\"text-align: right;\">      </td><td style=\"text-align: right;\">                </td><td style=\"text-align: right;\">         </td><td style=\"text-align: right;\">          </td></tr>\n",
       "<tr><td>train_net_83017_00000</td><td>TERMINATED</td><td>                  </td><td style=\"text-align: right;\">      0.5</td><td style=\"text-align: right;\">       3</td><td style=\"text-align: right;\">0.001</td><td style=\"text-align: right;\">    12</td><td style=\"text-align: right;\">        150.568 </td><td style=\"text-align: right;\">   0.8224</td><td style=\"text-align: right;\">  0.39639 </td></tr>\n",
       "<tr><td>train_net_83017_00001</td><td>TERMINATED</td><td>                  </td><td style=\"text-align: right;\">      0.5</td><td style=\"text-align: right;\">       5</td><td style=\"text-align: right;\">0.001</td><td style=\"text-align: right;\">    20</td><td style=\"text-align: right;\">        233.692 </td><td style=\"text-align: right;\">   0.8268</td><td style=\"text-align: right;\">  0.399471</td></tr>\n",
       "<tr><td>train_net_83017_00002</td><td>TERMINATED</td><td>                  </td><td style=\"text-align: right;\">      0.5</td><td style=\"text-align: right;\">       3</td><td style=\"text-align: right;\">0.01 </td><td style=\"text-align: right;\">    12</td><td style=\"text-align: right;\">        143.941 </td><td style=\"text-align: right;\">   0.8308</td><td style=\"text-align: right;\">  0.392363</td></tr>\n",
       "<tr><td>train_net_83017_00003</td><td>TERMINATED</td><td>                  </td><td style=\"text-align: right;\">      0.5</td><td style=\"text-align: right;\">       5</td><td style=\"text-align: right;\">0.01 </td><td style=\"text-align: right;\">    20</td><td style=\"text-align: right;\">        233.191 </td><td style=\"text-align: right;\">   0.8264</td><td style=\"text-align: right;\">  0.423312</td></tr>\n",
       "</tbody>\n",
       "</table><br><br>"
      ],
      "text/plain": [
       "<IPython.core.display.HTML object>"
      ]
     },
     "metadata": {},
     "output_type": "display_data"
    },
    {
     "name": "stdout",
     "output_type": "stream",
     "text": [
      "\u001b[2m\u001b[36m(pid=13160)\u001b[0m Epoch: 2/3... Step: 500... Loss: 0.641133... Val Loss: 0.693437\n",
      "Result for train_net_83017_00004:\n",
      "  date: 2020-12-05_21-00-17\n",
      "  done: false\n",
      "  experiment_id: f5f5c46ca53849dd84a0f1008fceb97e\n",
      "  experiment_tag: 4_dropout=0.5,epochs=3,lr=0.1\n",
      "  hostname: DESKTOP-LTLCMDK\n",
      "  iterations_since_restore: 6\n",
      "  node_ip: 192.168.0.20\n",
      "  pid: 13160\n",
      "  time_since_restore: 75.10115551948547\n",
      "  time_this_iter_s: 10.94383430480957\n",
      "  time_total_s: 75.10115551948547\n",
      "  timestamp: 1607198417\n",
      "  timesteps_since_restore: 0\n",
      "  training_iteration: 6\n",
      "  trial_id: '83017_00004'\n",
      "  val_acc: 0.4976\n",
      "  val_loss: 0.6934365284442902\n",
      "  \n"
     ]
    },
    {
     "data": {
      "text/html": [
       "== Status ==<br>Memory usage on this node: 7.7/13.9 GiB<br>Using FIFO scheduling algorithm.<br>Resources requested: 1/8 CPUs, 1/1 GPUs, 0.0/5.18 GiB heap, 0.0/1.76 GiB objects<br>Result logdir: C:\\Users\\Tijana Vukovic\\ray_results\\train_net_2020-12-05_20-46-04<br>Number of trials: 6/6 (1 PENDING, 1 RUNNING, 4 TERMINATED)<br><table>\n",
       "<thead>\n",
       "<tr><th>Trial name           </th><th>status    </th><th>loc               </th><th style=\"text-align: right;\">  dropout</th><th style=\"text-align: right;\">  epochs</th><th style=\"text-align: right;\">   lr</th><th style=\"text-align: right;\">  iter</th><th style=\"text-align: right;\">  total time (s)</th><th style=\"text-align: right;\">  val_acc</th><th style=\"text-align: right;\">  val_loss</th></tr>\n",
       "</thead>\n",
       "<tbody>\n",
       "<tr><td>train_net_83017_00004</td><td>RUNNING   </td><td>192.168.0.20:13160</td><td style=\"text-align: right;\">      0.5</td><td style=\"text-align: right;\">       3</td><td style=\"text-align: right;\">0.1  </td><td style=\"text-align: right;\">     6</td><td style=\"text-align: right;\">         75.1012</td><td style=\"text-align: right;\">   0.4976</td><td style=\"text-align: right;\">  0.693437</td></tr>\n",
       "<tr><td>train_net_83017_00005</td><td>PENDING   </td><td>                  </td><td style=\"text-align: right;\">      0.5</td><td style=\"text-align: right;\">       5</td><td style=\"text-align: right;\">0.1  </td><td style=\"text-align: right;\">      </td><td style=\"text-align: right;\">                </td><td style=\"text-align: right;\">         </td><td style=\"text-align: right;\">          </td></tr>\n",
       "<tr><td>train_net_83017_00000</td><td>TERMINATED</td><td>                  </td><td style=\"text-align: right;\">      0.5</td><td style=\"text-align: right;\">       3</td><td style=\"text-align: right;\">0.001</td><td style=\"text-align: right;\">    12</td><td style=\"text-align: right;\">        150.568 </td><td style=\"text-align: right;\">   0.8224</td><td style=\"text-align: right;\">  0.39639 </td></tr>\n",
       "<tr><td>train_net_83017_00001</td><td>TERMINATED</td><td>                  </td><td style=\"text-align: right;\">      0.5</td><td style=\"text-align: right;\">       5</td><td style=\"text-align: right;\">0.001</td><td style=\"text-align: right;\">    20</td><td style=\"text-align: right;\">        233.692 </td><td style=\"text-align: right;\">   0.8268</td><td style=\"text-align: right;\">  0.399471</td></tr>\n",
       "<tr><td>train_net_83017_00002</td><td>TERMINATED</td><td>                  </td><td style=\"text-align: right;\">      0.5</td><td style=\"text-align: right;\">       3</td><td style=\"text-align: right;\">0.01 </td><td style=\"text-align: right;\">    12</td><td style=\"text-align: right;\">        143.941 </td><td style=\"text-align: right;\">   0.8308</td><td style=\"text-align: right;\">  0.392363</td></tr>\n",
       "<tr><td>train_net_83017_00003</td><td>TERMINATED</td><td>                  </td><td style=\"text-align: right;\">      0.5</td><td style=\"text-align: right;\">       5</td><td style=\"text-align: right;\">0.01 </td><td style=\"text-align: right;\">    20</td><td style=\"text-align: right;\">        233.191 </td><td style=\"text-align: right;\">   0.8264</td><td style=\"text-align: right;\">  0.423312</td></tr>\n",
       "</tbody>\n",
       "</table><br><br>"
      ],
      "text/plain": [
       "<IPython.core.display.HTML object>"
      ]
     },
     "metadata": {},
     "output_type": "display_data"
    },
    {
     "name": "stdout",
     "output_type": "stream",
     "text": [
      "\u001b[2m\u001b[36m(pid=13160)\u001b[0m Epoch: 2/3... Step: 600... Loss: 0.753286... Val Loss: 0.693518\n",
      "Result for train_net_83017_00004:\n",
      "  date: 2020-12-05_21-00-28\n",
      "  done: false\n",
      "  experiment_id: f5f5c46ca53849dd84a0f1008fceb97e\n",
      "  experiment_tag: 4_dropout=0.5,epochs=3,lr=0.1\n",
      "  hostname: DESKTOP-LTLCMDK\n",
      "  iterations_since_restore: 7\n",
      "  node_ip: 192.168.0.20\n",
      "  pid: 13160\n",
      "  time_since_restore: 85.69837045669556\n",
      "  time_this_iter_s: 10.597214937210083\n",
      "  time_total_s: 85.69837045669556\n",
      "  timestamp: 1607198428\n",
      "  timesteps_since_restore: 0\n",
      "  training_iteration: 7\n",
      "  trial_id: '83017_00004'\n",
      "  val_acc: 0.4976\n",
      "  val_loss: 0.6934365284442902\n",
      "  \n"
     ]
    },
    {
     "data": {
      "text/html": [
       "== Status ==<br>Memory usage on this node: 7.7/13.9 GiB<br>Using FIFO scheduling algorithm.<br>Resources requested: 1/8 CPUs, 1/1 GPUs, 0.0/5.18 GiB heap, 0.0/1.76 GiB objects<br>Result logdir: C:\\Users\\Tijana Vukovic\\ray_results\\train_net_2020-12-05_20-46-04<br>Number of trials: 6/6 (1 PENDING, 1 RUNNING, 4 TERMINATED)<br><table>\n",
       "<thead>\n",
       "<tr><th>Trial name           </th><th>status    </th><th>loc               </th><th style=\"text-align: right;\">  dropout</th><th style=\"text-align: right;\">  epochs</th><th style=\"text-align: right;\">   lr</th><th style=\"text-align: right;\">  iter</th><th style=\"text-align: right;\">  total time (s)</th><th style=\"text-align: right;\">  val_acc</th><th style=\"text-align: right;\">  val_loss</th></tr>\n",
       "</thead>\n",
       "<tbody>\n",
       "<tr><td>train_net_83017_00004</td><td>RUNNING   </td><td>192.168.0.20:13160</td><td style=\"text-align: right;\">      0.5</td><td style=\"text-align: right;\">       3</td><td style=\"text-align: right;\">0.1  </td><td style=\"text-align: right;\">     7</td><td style=\"text-align: right;\">         85.6984</td><td style=\"text-align: right;\">   0.4976</td><td style=\"text-align: right;\">  0.693437</td></tr>\n",
       "<tr><td>train_net_83017_00005</td><td>PENDING   </td><td>                  </td><td style=\"text-align: right;\">      0.5</td><td style=\"text-align: right;\">       5</td><td style=\"text-align: right;\">0.1  </td><td style=\"text-align: right;\">      </td><td style=\"text-align: right;\">                </td><td style=\"text-align: right;\">         </td><td style=\"text-align: right;\">          </td></tr>\n",
       "<tr><td>train_net_83017_00000</td><td>TERMINATED</td><td>                  </td><td style=\"text-align: right;\">      0.5</td><td style=\"text-align: right;\">       3</td><td style=\"text-align: right;\">0.001</td><td style=\"text-align: right;\">    12</td><td style=\"text-align: right;\">        150.568 </td><td style=\"text-align: right;\">   0.8224</td><td style=\"text-align: right;\">  0.39639 </td></tr>\n",
       "<tr><td>train_net_83017_00001</td><td>TERMINATED</td><td>                  </td><td style=\"text-align: right;\">      0.5</td><td style=\"text-align: right;\">       5</td><td style=\"text-align: right;\">0.001</td><td style=\"text-align: right;\">    20</td><td style=\"text-align: right;\">        233.692 </td><td style=\"text-align: right;\">   0.8268</td><td style=\"text-align: right;\">  0.399471</td></tr>\n",
       "<tr><td>train_net_83017_00002</td><td>TERMINATED</td><td>                  </td><td style=\"text-align: right;\">      0.5</td><td style=\"text-align: right;\">       3</td><td style=\"text-align: right;\">0.01 </td><td style=\"text-align: right;\">    12</td><td style=\"text-align: right;\">        143.941 </td><td style=\"text-align: right;\">   0.8308</td><td style=\"text-align: right;\">  0.392363</td></tr>\n",
       "<tr><td>train_net_83017_00003</td><td>TERMINATED</td><td>                  </td><td style=\"text-align: right;\">      0.5</td><td style=\"text-align: right;\">       5</td><td style=\"text-align: right;\">0.01 </td><td style=\"text-align: right;\">    20</td><td style=\"text-align: right;\">        233.191 </td><td style=\"text-align: right;\">   0.8264</td><td style=\"text-align: right;\">  0.423312</td></tr>\n",
       "</tbody>\n",
       "</table><br><br>"
      ],
      "text/plain": [
       "<IPython.core.display.HTML object>"
      ]
     },
     "metadata": {},
     "output_type": "display_data"
    },
    {
     "name": "stdout",
     "output_type": "stream",
     "text": [
      "\u001b[2m\u001b[36m(pid=13160)\u001b[0m Epoch: 2/3... Step: 700... Loss: 0.774137... Val Loss: 0.700250\n",
      "Result for train_net_83017_00004:\n",
      "  date: 2020-12-05_21-00-39\n",
      "  done: false\n",
      "  experiment_id: f5f5c46ca53849dd84a0f1008fceb97e\n",
      "  experiment_tag: 4_dropout=0.5,epochs=3,lr=0.1\n",
      "  hostname: DESKTOP-LTLCMDK\n",
      "  iterations_since_restore: 8\n",
      "  node_ip: 192.168.0.20\n",
      "  pid: 13160\n",
      "  time_since_restore: 96.30821228027344\n",
      "  time_this_iter_s: 10.60984182357788\n",
      "  time_total_s: 96.30821228027344\n",
      "  timestamp: 1607198439\n",
      "  timesteps_since_restore: 0\n",
      "  training_iteration: 8\n",
      "  trial_id: '83017_00004'\n",
      "  val_acc: 0.4976\n",
      "  val_loss: 0.6934365284442902\n",
      "  \n"
     ]
    },
    {
     "data": {
      "text/html": [
       "== Status ==<br>Memory usage on this node: 7.7/13.9 GiB<br>Using FIFO scheduling algorithm.<br>Resources requested: 1/8 CPUs, 1/1 GPUs, 0.0/5.18 GiB heap, 0.0/1.76 GiB objects<br>Result logdir: C:\\Users\\Tijana Vukovic\\ray_results\\train_net_2020-12-05_20-46-04<br>Number of trials: 6/6 (1 PENDING, 1 RUNNING, 4 TERMINATED)<br><table>\n",
       "<thead>\n",
       "<tr><th>Trial name           </th><th>status    </th><th>loc               </th><th style=\"text-align: right;\">  dropout</th><th style=\"text-align: right;\">  epochs</th><th style=\"text-align: right;\">   lr</th><th style=\"text-align: right;\">  iter</th><th style=\"text-align: right;\">  total time (s)</th><th style=\"text-align: right;\">  val_acc</th><th style=\"text-align: right;\">  val_loss</th></tr>\n",
       "</thead>\n",
       "<tbody>\n",
       "<tr><td>train_net_83017_00004</td><td>RUNNING   </td><td>192.168.0.20:13160</td><td style=\"text-align: right;\">      0.5</td><td style=\"text-align: right;\">       3</td><td style=\"text-align: right;\">0.1  </td><td style=\"text-align: right;\">     8</td><td style=\"text-align: right;\">         96.3082</td><td style=\"text-align: right;\">   0.4976</td><td style=\"text-align: right;\">  0.693437</td></tr>\n",
       "<tr><td>train_net_83017_00005</td><td>PENDING   </td><td>                  </td><td style=\"text-align: right;\">      0.5</td><td style=\"text-align: right;\">       5</td><td style=\"text-align: right;\">0.1  </td><td style=\"text-align: right;\">      </td><td style=\"text-align: right;\">                </td><td style=\"text-align: right;\">         </td><td style=\"text-align: right;\">          </td></tr>\n",
       "<tr><td>train_net_83017_00000</td><td>TERMINATED</td><td>                  </td><td style=\"text-align: right;\">      0.5</td><td style=\"text-align: right;\">       3</td><td style=\"text-align: right;\">0.001</td><td style=\"text-align: right;\">    12</td><td style=\"text-align: right;\">        150.568 </td><td style=\"text-align: right;\">   0.8224</td><td style=\"text-align: right;\">  0.39639 </td></tr>\n",
       "<tr><td>train_net_83017_00001</td><td>TERMINATED</td><td>                  </td><td style=\"text-align: right;\">      0.5</td><td style=\"text-align: right;\">       5</td><td style=\"text-align: right;\">0.001</td><td style=\"text-align: right;\">    20</td><td style=\"text-align: right;\">        233.692 </td><td style=\"text-align: right;\">   0.8268</td><td style=\"text-align: right;\">  0.399471</td></tr>\n",
       "<tr><td>train_net_83017_00002</td><td>TERMINATED</td><td>                  </td><td style=\"text-align: right;\">      0.5</td><td style=\"text-align: right;\">       3</td><td style=\"text-align: right;\">0.01 </td><td style=\"text-align: right;\">    12</td><td style=\"text-align: right;\">        143.941 </td><td style=\"text-align: right;\">   0.8308</td><td style=\"text-align: right;\">  0.392363</td></tr>\n",
       "<tr><td>train_net_83017_00003</td><td>TERMINATED</td><td>                  </td><td style=\"text-align: right;\">      0.5</td><td style=\"text-align: right;\">       5</td><td style=\"text-align: right;\">0.01 </td><td style=\"text-align: right;\">    20</td><td style=\"text-align: right;\">        233.191 </td><td style=\"text-align: right;\">   0.8264</td><td style=\"text-align: right;\">  0.423312</td></tr>\n",
       "</tbody>\n",
       "</table><br><br>"
      ],
      "text/plain": [
       "<IPython.core.display.HTML object>"
      ]
     },
     "metadata": {},
     "output_type": "display_data"
    },
    {
     "name": "stdout",
     "output_type": "stream",
     "text": [
      "\u001b[2m\u001b[36m(pid=13160)\u001b[0m Epoch: 2/3... Step: 800... Loss: 0.975467... Val Loss: 0.891068\n",
      "\u001b[2m\u001b[36m(pid=13160)\u001b[0m 2\n",
      "Result for train_net_83017_00004:\n",
      "  date: 2020-12-05_21-00-49\n",
      "  done: false\n",
      "  experiment_id: f5f5c46ca53849dd84a0f1008fceb97e\n",
      "  experiment_tag: 4_dropout=0.5,epochs=3,lr=0.1\n",
      "  hostname: DESKTOP-LTLCMDK\n",
      "  iterations_since_restore: 9\n",
      "  node_ip: 192.168.0.20\n",
      "  pid: 13160\n",
      "  time_since_restore: 106.92902278900146\n",
      "  time_this_iter_s: 10.620810508728027\n",
      "  time_total_s: 106.92902278900146\n",
      "  timestamp: 1607198449\n",
      "  timesteps_since_restore: 0\n",
      "  training_iteration: 9\n",
      "  trial_id: '83017_00004'\n",
      "  val_acc: 0.4976\n",
      "  val_loss: 0.6934365284442902\n",
      "  \n"
     ]
    },
    {
     "data": {
      "text/html": [
       "== Status ==<br>Memory usage on this node: 7.6/13.9 GiB<br>Using FIFO scheduling algorithm.<br>Resources requested: 1/8 CPUs, 1/1 GPUs, 0.0/5.18 GiB heap, 0.0/1.76 GiB objects<br>Result logdir: C:\\Users\\Tijana Vukovic\\ray_results\\train_net_2020-12-05_20-46-04<br>Number of trials: 6/6 (1 PENDING, 1 RUNNING, 4 TERMINATED)<br><table>\n",
       "<thead>\n",
       "<tr><th>Trial name           </th><th>status    </th><th>loc               </th><th style=\"text-align: right;\">  dropout</th><th style=\"text-align: right;\">  epochs</th><th style=\"text-align: right;\">   lr</th><th style=\"text-align: right;\">  iter</th><th style=\"text-align: right;\">  total time (s)</th><th style=\"text-align: right;\">  val_acc</th><th style=\"text-align: right;\">  val_loss</th></tr>\n",
       "</thead>\n",
       "<tbody>\n",
       "<tr><td>train_net_83017_00004</td><td>RUNNING   </td><td>192.168.0.20:13160</td><td style=\"text-align: right;\">      0.5</td><td style=\"text-align: right;\">       3</td><td style=\"text-align: right;\">0.1  </td><td style=\"text-align: right;\">     9</td><td style=\"text-align: right;\">         106.929</td><td style=\"text-align: right;\">   0.4976</td><td style=\"text-align: right;\">  0.693437</td></tr>\n",
       "<tr><td>train_net_83017_00005</td><td>PENDING   </td><td>                  </td><td style=\"text-align: right;\">      0.5</td><td style=\"text-align: right;\">       5</td><td style=\"text-align: right;\">0.1  </td><td style=\"text-align: right;\">      </td><td style=\"text-align: right;\">                </td><td style=\"text-align: right;\">         </td><td style=\"text-align: right;\">          </td></tr>\n",
       "<tr><td>train_net_83017_00000</td><td>TERMINATED</td><td>                  </td><td style=\"text-align: right;\">      0.5</td><td style=\"text-align: right;\">       3</td><td style=\"text-align: right;\">0.001</td><td style=\"text-align: right;\">    12</td><td style=\"text-align: right;\">         150.568</td><td style=\"text-align: right;\">   0.8224</td><td style=\"text-align: right;\">  0.39639 </td></tr>\n",
       "<tr><td>train_net_83017_00001</td><td>TERMINATED</td><td>                  </td><td style=\"text-align: right;\">      0.5</td><td style=\"text-align: right;\">       5</td><td style=\"text-align: right;\">0.001</td><td style=\"text-align: right;\">    20</td><td style=\"text-align: right;\">         233.692</td><td style=\"text-align: right;\">   0.8268</td><td style=\"text-align: right;\">  0.399471</td></tr>\n",
       "<tr><td>train_net_83017_00002</td><td>TERMINATED</td><td>                  </td><td style=\"text-align: right;\">      0.5</td><td style=\"text-align: right;\">       3</td><td style=\"text-align: right;\">0.01 </td><td style=\"text-align: right;\">    12</td><td style=\"text-align: right;\">         143.941</td><td style=\"text-align: right;\">   0.8308</td><td style=\"text-align: right;\">  0.392363</td></tr>\n",
       "<tr><td>train_net_83017_00003</td><td>TERMINATED</td><td>                  </td><td style=\"text-align: right;\">      0.5</td><td style=\"text-align: right;\">       5</td><td style=\"text-align: right;\">0.01 </td><td style=\"text-align: right;\">    20</td><td style=\"text-align: right;\">         233.191</td><td style=\"text-align: right;\">   0.8264</td><td style=\"text-align: right;\">  0.423312</td></tr>\n",
       "</tbody>\n",
       "</table><br><br>"
      ],
      "text/plain": [
       "<IPython.core.display.HTML object>"
      ]
     },
     "metadata": {},
     "output_type": "display_data"
    },
    {
     "name": "stdout",
     "output_type": "stream",
     "text": [
      "\u001b[2m\u001b[36m(pid=13160)\u001b[0m Epoch: 3/3... Step: 900... Loss: 0.731670... Val Loss: 0.734140\n",
      "Result for train_net_83017_00004:\n",
      "  date: 2020-12-05_21-01-00\n",
      "  done: false\n",
      "  experiment_id: f5f5c46ca53849dd84a0f1008fceb97e\n",
      "  experiment_tag: 4_dropout=0.5,epochs=3,lr=0.1\n",
      "  hostname: DESKTOP-LTLCMDK\n",
      "  iterations_since_restore: 10\n",
      "  node_ip: 192.168.0.20\n",
      "  pid: 13160\n",
      "  time_since_restore: 117.59483623504639\n",
      "  time_this_iter_s: 10.665813446044922\n",
      "  time_total_s: 117.59483623504639\n",
      "  timestamp: 1607198460\n",
      "  timesteps_since_restore: 0\n",
      "  training_iteration: 10\n",
      "  trial_id: '83017_00004'\n",
      "  val_acc: 0.4976\n",
      "  val_loss: 0.6934365284442902\n",
      "  \n"
     ]
    },
    {
     "data": {
      "text/html": [
       "== Status ==<br>Memory usage on this node: 7.6/13.9 GiB<br>Using FIFO scheduling algorithm.<br>Resources requested: 1/8 CPUs, 1/1 GPUs, 0.0/5.18 GiB heap, 0.0/1.76 GiB objects<br>Result logdir: C:\\Users\\Tijana Vukovic\\ray_results\\train_net_2020-12-05_20-46-04<br>Number of trials: 6/6 (1 PENDING, 1 RUNNING, 4 TERMINATED)<br><table>\n",
       "<thead>\n",
       "<tr><th>Trial name           </th><th>status    </th><th>loc               </th><th style=\"text-align: right;\">  dropout</th><th style=\"text-align: right;\">  epochs</th><th style=\"text-align: right;\">   lr</th><th style=\"text-align: right;\">  iter</th><th style=\"text-align: right;\">  total time (s)</th><th style=\"text-align: right;\">  val_acc</th><th style=\"text-align: right;\">  val_loss</th></tr>\n",
       "</thead>\n",
       "<tbody>\n",
       "<tr><td>train_net_83017_00004</td><td>RUNNING   </td><td>192.168.0.20:13160</td><td style=\"text-align: right;\">      0.5</td><td style=\"text-align: right;\">       3</td><td style=\"text-align: right;\">0.1  </td><td style=\"text-align: right;\">    10</td><td style=\"text-align: right;\">         117.595</td><td style=\"text-align: right;\">   0.4976</td><td style=\"text-align: right;\">  0.693437</td></tr>\n",
       "<tr><td>train_net_83017_00005</td><td>PENDING   </td><td>                  </td><td style=\"text-align: right;\">      0.5</td><td style=\"text-align: right;\">       5</td><td style=\"text-align: right;\">0.1  </td><td style=\"text-align: right;\">      </td><td style=\"text-align: right;\">                </td><td style=\"text-align: right;\">         </td><td style=\"text-align: right;\">          </td></tr>\n",
       "<tr><td>train_net_83017_00000</td><td>TERMINATED</td><td>                  </td><td style=\"text-align: right;\">      0.5</td><td style=\"text-align: right;\">       3</td><td style=\"text-align: right;\">0.001</td><td style=\"text-align: right;\">    12</td><td style=\"text-align: right;\">         150.568</td><td style=\"text-align: right;\">   0.8224</td><td style=\"text-align: right;\">  0.39639 </td></tr>\n",
       "<tr><td>train_net_83017_00001</td><td>TERMINATED</td><td>                  </td><td style=\"text-align: right;\">      0.5</td><td style=\"text-align: right;\">       5</td><td style=\"text-align: right;\">0.001</td><td style=\"text-align: right;\">    20</td><td style=\"text-align: right;\">         233.692</td><td style=\"text-align: right;\">   0.8268</td><td style=\"text-align: right;\">  0.399471</td></tr>\n",
       "<tr><td>train_net_83017_00002</td><td>TERMINATED</td><td>                  </td><td style=\"text-align: right;\">      0.5</td><td style=\"text-align: right;\">       3</td><td style=\"text-align: right;\">0.01 </td><td style=\"text-align: right;\">    12</td><td style=\"text-align: right;\">         143.941</td><td style=\"text-align: right;\">   0.8308</td><td style=\"text-align: right;\">  0.392363</td></tr>\n",
       "<tr><td>train_net_83017_00003</td><td>TERMINATED</td><td>                  </td><td style=\"text-align: right;\">      0.5</td><td style=\"text-align: right;\">       5</td><td style=\"text-align: right;\">0.01 </td><td style=\"text-align: right;\">    20</td><td style=\"text-align: right;\">         233.191</td><td style=\"text-align: right;\">   0.8264</td><td style=\"text-align: right;\">  0.423312</td></tr>\n",
       "</tbody>\n",
       "</table><br><br>"
      ],
      "text/plain": [
       "<IPython.core.display.HTML object>"
      ]
     },
     "metadata": {},
     "output_type": "display_data"
    },
    {
     "name": "stdout",
     "output_type": "stream",
     "text": [
      "\u001b[2m\u001b[36m(pid=13160)\u001b[0m Epoch: 3/3... Step: 1000... Loss: 0.739034... Val Loss: 0.701091\n",
      "Result for train_net_83017_00004:\n",
      "  date: 2020-12-05_21-01-11\n",
      "  done: false\n",
      "  experiment_id: f5f5c46ca53849dd84a0f1008fceb97e\n",
      "  experiment_tag: 4_dropout=0.5,epochs=3,lr=0.1\n",
      "  hostname: DESKTOP-LTLCMDK\n",
      "  iterations_since_restore: 11\n",
      "  node_ip: 192.168.0.20\n",
      "  pid: 13160\n",
      "  time_since_restore: 128.24064993858337\n",
      "  time_this_iter_s: 10.645813703536987\n",
      "  time_total_s: 128.24064993858337\n",
      "  timestamp: 1607198471\n",
      "  timesteps_since_restore: 0\n",
      "  training_iteration: 11\n",
      "  trial_id: '83017_00004'\n",
      "  val_acc: 0.4976\n",
      "  val_loss: 0.6934365284442902\n",
      "  \n"
     ]
    },
    {
     "data": {
      "text/html": [
       "== Status ==<br>Memory usage on this node: 7.7/13.9 GiB<br>Using FIFO scheduling algorithm.<br>Resources requested: 1/8 CPUs, 1/1 GPUs, 0.0/5.18 GiB heap, 0.0/1.76 GiB objects<br>Result logdir: C:\\Users\\Tijana Vukovic\\ray_results\\train_net_2020-12-05_20-46-04<br>Number of trials: 6/6 (1 PENDING, 1 RUNNING, 4 TERMINATED)<br><table>\n",
       "<thead>\n",
       "<tr><th>Trial name           </th><th>status    </th><th>loc               </th><th style=\"text-align: right;\">  dropout</th><th style=\"text-align: right;\">  epochs</th><th style=\"text-align: right;\">   lr</th><th style=\"text-align: right;\">  iter</th><th style=\"text-align: right;\">  total time (s)</th><th style=\"text-align: right;\">  val_acc</th><th style=\"text-align: right;\">  val_loss</th></tr>\n",
       "</thead>\n",
       "<tbody>\n",
       "<tr><td>train_net_83017_00004</td><td>RUNNING   </td><td>192.168.0.20:13160</td><td style=\"text-align: right;\">      0.5</td><td style=\"text-align: right;\">       3</td><td style=\"text-align: right;\">0.1  </td><td style=\"text-align: right;\">    11</td><td style=\"text-align: right;\">         128.241</td><td style=\"text-align: right;\">   0.4976</td><td style=\"text-align: right;\">  0.693437</td></tr>\n",
       "<tr><td>train_net_83017_00005</td><td>PENDING   </td><td>                  </td><td style=\"text-align: right;\">      0.5</td><td style=\"text-align: right;\">       5</td><td style=\"text-align: right;\">0.1  </td><td style=\"text-align: right;\">      </td><td style=\"text-align: right;\">                </td><td style=\"text-align: right;\">         </td><td style=\"text-align: right;\">          </td></tr>\n",
       "<tr><td>train_net_83017_00000</td><td>TERMINATED</td><td>                  </td><td style=\"text-align: right;\">      0.5</td><td style=\"text-align: right;\">       3</td><td style=\"text-align: right;\">0.001</td><td style=\"text-align: right;\">    12</td><td style=\"text-align: right;\">         150.568</td><td style=\"text-align: right;\">   0.8224</td><td style=\"text-align: right;\">  0.39639 </td></tr>\n",
       "<tr><td>train_net_83017_00001</td><td>TERMINATED</td><td>                  </td><td style=\"text-align: right;\">      0.5</td><td style=\"text-align: right;\">       5</td><td style=\"text-align: right;\">0.001</td><td style=\"text-align: right;\">    20</td><td style=\"text-align: right;\">         233.692</td><td style=\"text-align: right;\">   0.8268</td><td style=\"text-align: right;\">  0.399471</td></tr>\n",
       "<tr><td>train_net_83017_00002</td><td>TERMINATED</td><td>                  </td><td style=\"text-align: right;\">      0.5</td><td style=\"text-align: right;\">       3</td><td style=\"text-align: right;\">0.01 </td><td style=\"text-align: right;\">    12</td><td style=\"text-align: right;\">         143.941</td><td style=\"text-align: right;\">   0.8308</td><td style=\"text-align: right;\">  0.392363</td></tr>\n",
       "<tr><td>train_net_83017_00003</td><td>TERMINATED</td><td>                  </td><td style=\"text-align: right;\">      0.5</td><td style=\"text-align: right;\">       5</td><td style=\"text-align: right;\">0.01 </td><td style=\"text-align: right;\">    20</td><td style=\"text-align: right;\">         233.191</td><td style=\"text-align: right;\">   0.8264</td><td style=\"text-align: right;\">  0.423312</td></tr>\n",
       "</tbody>\n",
       "</table><br><br>"
      ],
      "text/plain": [
       "<IPython.core.display.HTML object>"
      ]
     },
     "metadata": {},
     "output_type": "display_data"
    },
    {
     "name": "stdout",
     "output_type": "stream",
     "text": [
      "\u001b[2m\u001b[36m(pid=13160)\u001b[0m Epoch: 3/3... Step: 1100... Loss: 0.898623... Val Loss: 0.695190\n",
      "Result for train_net_83017_00004:\n",
      "  date: 2020-12-05_21-01-21\n",
      "  done: false\n",
      "  experiment_id: f5f5c46ca53849dd84a0f1008fceb97e\n",
      "  experiment_tag: 4_dropout=0.5,epochs=3,lr=0.1\n",
      "  hostname: DESKTOP-LTLCMDK\n",
      "  iterations_since_restore: 12\n",
      "  node_ip: 192.168.0.20\n",
      "  pid: 13160\n",
      "  time_since_restore: 138.90446281433105\n",
      "  time_this_iter_s: 10.66381287574768\n",
      "  time_total_s: 138.90446281433105\n",
      "  timestamp: 1607198481\n",
      "  timesteps_since_restore: 0\n",
      "  training_iteration: 12\n",
      "  trial_id: '83017_00004'\n",
      "  val_acc: 0.4976\n",
      "  val_loss: 0.6934365284442902\n",
      "  \n"
     ]
    },
    {
     "data": {
      "text/html": [
       "== Status ==<br>Memory usage on this node: 7.6/13.9 GiB<br>Using FIFO scheduling algorithm.<br>Resources requested: 1/8 CPUs, 1/1 GPUs, 0.0/5.18 GiB heap, 0.0/1.76 GiB objects<br>Result logdir: C:\\Users\\Tijana Vukovic\\ray_results\\train_net_2020-12-05_20-46-04<br>Number of trials: 6/6 (1 PENDING, 1 RUNNING, 4 TERMINATED)<br><table>\n",
       "<thead>\n",
       "<tr><th>Trial name           </th><th>status    </th><th>loc               </th><th style=\"text-align: right;\">  dropout</th><th style=\"text-align: right;\">  epochs</th><th style=\"text-align: right;\">   lr</th><th style=\"text-align: right;\">  iter</th><th style=\"text-align: right;\">  total time (s)</th><th style=\"text-align: right;\">  val_acc</th><th style=\"text-align: right;\">  val_loss</th></tr>\n",
       "</thead>\n",
       "<tbody>\n",
       "<tr><td>train_net_83017_00004</td><td>RUNNING   </td><td>192.168.0.20:13160</td><td style=\"text-align: right;\">      0.5</td><td style=\"text-align: right;\">       3</td><td style=\"text-align: right;\">0.1  </td><td style=\"text-align: right;\">    12</td><td style=\"text-align: right;\">         138.904</td><td style=\"text-align: right;\">   0.4976</td><td style=\"text-align: right;\">  0.693437</td></tr>\n",
       "<tr><td>train_net_83017_00005</td><td>PENDING   </td><td>                  </td><td style=\"text-align: right;\">      0.5</td><td style=\"text-align: right;\">       5</td><td style=\"text-align: right;\">0.1  </td><td style=\"text-align: right;\">      </td><td style=\"text-align: right;\">                </td><td style=\"text-align: right;\">         </td><td style=\"text-align: right;\">          </td></tr>\n",
       "<tr><td>train_net_83017_00000</td><td>TERMINATED</td><td>                  </td><td style=\"text-align: right;\">      0.5</td><td style=\"text-align: right;\">       3</td><td style=\"text-align: right;\">0.001</td><td style=\"text-align: right;\">    12</td><td style=\"text-align: right;\">         150.568</td><td style=\"text-align: right;\">   0.8224</td><td style=\"text-align: right;\">  0.39639 </td></tr>\n",
       "<tr><td>train_net_83017_00001</td><td>TERMINATED</td><td>                  </td><td style=\"text-align: right;\">      0.5</td><td style=\"text-align: right;\">       5</td><td style=\"text-align: right;\">0.001</td><td style=\"text-align: right;\">    20</td><td style=\"text-align: right;\">         233.692</td><td style=\"text-align: right;\">   0.8268</td><td style=\"text-align: right;\">  0.399471</td></tr>\n",
       "<tr><td>train_net_83017_00002</td><td>TERMINATED</td><td>                  </td><td style=\"text-align: right;\">      0.5</td><td style=\"text-align: right;\">       3</td><td style=\"text-align: right;\">0.01 </td><td style=\"text-align: right;\">    12</td><td style=\"text-align: right;\">         143.941</td><td style=\"text-align: right;\">   0.8308</td><td style=\"text-align: right;\">  0.392363</td></tr>\n",
       "<tr><td>train_net_83017_00003</td><td>TERMINATED</td><td>                  </td><td style=\"text-align: right;\">      0.5</td><td style=\"text-align: right;\">       5</td><td style=\"text-align: right;\">0.01 </td><td style=\"text-align: right;\">    20</td><td style=\"text-align: right;\">         233.191</td><td style=\"text-align: right;\">   0.8264</td><td style=\"text-align: right;\">  0.423312</td></tr>\n",
       "</tbody>\n",
       "</table><br><br>"
      ],
      "text/plain": [
       "<IPython.core.display.HTML object>"
      ]
     },
     "metadata": {},
     "output_type": "display_data"
    },
    {
     "name": "stdout",
     "output_type": "stream",
     "text": [
      "\u001b[2m\u001b[36m(pid=13160)\u001b[0m Epoch: 3/3... Step: 1200... Loss: 0.720653... Val Loss: 0.694008\r\n"
     ]
    },
    {
     "name": "stderr",
     "output_type": "stream",
     "text": [
      "2020-12-05 21:01:22,400\tWARNING util.py:137 -- The `start_trial` operation took 0.5780460834503174 seconds to complete, which may be a performance bottleneck.\n"
     ]
    },
    {
     "name": "stdout",
     "output_type": "stream",
     "text": [
      "\u001b[2m\u001b[36m(pid=13408)\u001b[0m 0\n",
      "Result for train_net_83017_00005:\n",
      "  date: 2020-12-05_21-01-41\n",
      "  done: false\n",
      "  experiment_id: a69247b02f714f479be5d9dd89bb6dd2\n",
      "  experiment_tag: 5_dropout=0.5,epochs=5,lr=0.1\n",
      "  hostname: DESKTOP-LTLCMDK\n",
      "  iterations_since_restore: 1\n",
      "  node_ip: 192.168.0.20\n",
      "  pid: 13408\n",
      "  should_checkpoint: true\n",
      "  time_since_restore: 16.801066875457764\n",
      "  time_this_iter_s: 16.801066875457764\n",
      "  time_total_s: 16.801066875457764\n",
      "  timestamp: 1607198501\n",
      "  timesteps_since_restore: 0\n",
      "  training_iteration: 1\n",
      "  trial_id: '83017_00005'\n",
      "  val_acc: 0.5024\n",
      "  val_loss: 1.022018232345581\n",
      "  \n"
     ]
    },
    {
     "data": {
      "text/html": [
       "== Status ==<br>Memory usage on this node: 7.7/13.9 GiB<br>Using FIFO scheduling algorithm.<br>Resources requested: 1/8 CPUs, 1/1 GPUs, 0.0/5.18 GiB heap, 0.0/1.76 GiB objects<br>Result logdir: C:\\Users\\Tijana Vukovic\\ray_results\\train_net_2020-12-05_20-46-04<br>Number of trials: 6/6 (1 RUNNING, 5 TERMINATED)<br><table>\n",
       "<thead>\n",
       "<tr><th>Trial name           </th><th>status    </th><th>loc               </th><th style=\"text-align: right;\">  dropout</th><th style=\"text-align: right;\">  epochs</th><th style=\"text-align: right;\">   lr</th><th style=\"text-align: right;\">  iter</th><th style=\"text-align: right;\">  total time (s)</th><th style=\"text-align: right;\">  val_acc</th><th style=\"text-align: right;\">  val_loss</th></tr>\n",
       "</thead>\n",
       "<tbody>\n",
       "<tr><td>train_net_83017_00005</td><td>RUNNING   </td><td>192.168.0.20:13408</td><td style=\"text-align: right;\">      0.5</td><td style=\"text-align: right;\">       5</td><td style=\"text-align: right;\">0.1  </td><td style=\"text-align: right;\">     1</td><td style=\"text-align: right;\">         16.8011</td><td style=\"text-align: right;\">   0.5024</td><td style=\"text-align: right;\">  1.02202 </td></tr>\n",
       "<tr><td>train_net_83017_00000</td><td>TERMINATED</td><td>                  </td><td style=\"text-align: right;\">      0.5</td><td style=\"text-align: right;\">       3</td><td style=\"text-align: right;\">0.001</td><td style=\"text-align: right;\">    12</td><td style=\"text-align: right;\">        150.568 </td><td style=\"text-align: right;\">   0.8224</td><td style=\"text-align: right;\">  0.39639 </td></tr>\n",
       "<tr><td>train_net_83017_00001</td><td>TERMINATED</td><td>                  </td><td style=\"text-align: right;\">      0.5</td><td style=\"text-align: right;\">       5</td><td style=\"text-align: right;\">0.001</td><td style=\"text-align: right;\">    20</td><td style=\"text-align: right;\">        233.692 </td><td style=\"text-align: right;\">   0.8268</td><td style=\"text-align: right;\">  0.399471</td></tr>\n",
       "<tr><td>train_net_83017_00002</td><td>TERMINATED</td><td>                  </td><td style=\"text-align: right;\">      0.5</td><td style=\"text-align: right;\">       3</td><td style=\"text-align: right;\">0.01 </td><td style=\"text-align: right;\">    12</td><td style=\"text-align: right;\">        143.941 </td><td style=\"text-align: right;\">   0.8308</td><td style=\"text-align: right;\">  0.392363</td></tr>\n",
       "<tr><td>train_net_83017_00003</td><td>TERMINATED</td><td>                  </td><td style=\"text-align: right;\">      0.5</td><td style=\"text-align: right;\">       5</td><td style=\"text-align: right;\">0.01 </td><td style=\"text-align: right;\">    20</td><td style=\"text-align: right;\">        233.191 </td><td style=\"text-align: right;\">   0.8264</td><td style=\"text-align: right;\">  0.423312</td></tr>\n",
       "<tr><td>train_net_83017_00004</td><td>TERMINATED</td><td>                  </td><td style=\"text-align: right;\">      0.5</td><td style=\"text-align: right;\">       3</td><td style=\"text-align: right;\">0.1  </td><td style=\"text-align: right;\">    12</td><td style=\"text-align: right;\">        138.904 </td><td style=\"text-align: right;\">   0.4976</td><td style=\"text-align: right;\">  0.693437</td></tr>\n",
       "</tbody>\n",
       "</table><br><br>"
      ],
      "text/plain": [
       "<IPython.core.display.HTML object>"
      ]
     },
     "metadata": {},
     "output_type": "display_data"
    },
    {
     "name": "stdout",
     "output_type": "stream",
     "text": [
      "\u001b[2m\u001b[36m(pid=13408)\u001b[0m Epoch: 1/5... Step: 100... Loss: 0.710576... Val Loss: 1.022018\n",
      "Result for train_net_83017_00005:\n",
      "  date: 2020-12-05_21-01-54\n",
      "  done: false\n",
      "  experiment_id: a69247b02f714f479be5d9dd89bb6dd2\n",
      "  experiment_tag: 5_dropout=0.5,epochs=5,lr=0.1\n",
      "  hostname: DESKTOP-LTLCMDK\n",
      "  iterations_since_restore: 2\n",
      "  node_ip: 192.168.0.20\n",
      "  pid: 13408\n",
      "  should_checkpoint: true\n",
      "  time_since_restore: 29.703909873962402\n",
      "  time_this_iter_s: 12.902842998504639\n",
      "  time_total_s: 29.703909873962402\n",
      "  timestamp: 1607198514\n",
      "  timesteps_since_restore: 0\n",
      "  training_iteration: 2\n",
      "  trial_id: '83017_00005'\n",
      "  val_acc: 0.4976\n",
      "  val_loss: 0.7088124382495881\n",
      "  \n"
     ]
    },
    {
     "data": {
      "text/html": [
       "== Status ==<br>Memory usage on this node: 7.7/13.9 GiB<br>Using FIFO scheduling algorithm.<br>Resources requested: 1/8 CPUs, 1/1 GPUs, 0.0/5.18 GiB heap, 0.0/1.76 GiB objects<br>Result logdir: C:\\Users\\Tijana Vukovic\\ray_results\\train_net_2020-12-05_20-46-04<br>Number of trials: 6/6 (1 RUNNING, 5 TERMINATED)<br><table>\n",
       "<thead>\n",
       "<tr><th>Trial name           </th><th>status    </th><th>loc               </th><th style=\"text-align: right;\">  dropout</th><th style=\"text-align: right;\">  epochs</th><th style=\"text-align: right;\">   lr</th><th style=\"text-align: right;\">  iter</th><th style=\"text-align: right;\">  total time (s)</th><th style=\"text-align: right;\">  val_acc</th><th style=\"text-align: right;\">  val_loss</th></tr>\n",
       "</thead>\n",
       "<tbody>\n",
       "<tr><td>train_net_83017_00005</td><td>RUNNING   </td><td>192.168.0.20:13408</td><td style=\"text-align: right;\">      0.5</td><td style=\"text-align: right;\">       5</td><td style=\"text-align: right;\">0.1  </td><td style=\"text-align: right;\">     2</td><td style=\"text-align: right;\">         29.7039</td><td style=\"text-align: right;\">   0.4976</td><td style=\"text-align: right;\">  0.708812</td></tr>\n",
       "<tr><td>train_net_83017_00000</td><td>TERMINATED</td><td>                  </td><td style=\"text-align: right;\">      0.5</td><td style=\"text-align: right;\">       3</td><td style=\"text-align: right;\">0.001</td><td style=\"text-align: right;\">    12</td><td style=\"text-align: right;\">        150.568 </td><td style=\"text-align: right;\">   0.8224</td><td style=\"text-align: right;\">  0.39639 </td></tr>\n",
       "<tr><td>train_net_83017_00001</td><td>TERMINATED</td><td>                  </td><td style=\"text-align: right;\">      0.5</td><td style=\"text-align: right;\">       5</td><td style=\"text-align: right;\">0.001</td><td style=\"text-align: right;\">    20</td><td style=\"text-align: right;\">        233.692 </td><td style=\"text-align: right;\">   0.8268</td><td style=\"text-align: right;\">  0.399471</td></tr>\n",
       "<tr><td>train_net_83017_00002</td><td>TERMINATED</td><td>                  </td><td style=\"text-align: right;\">      0.5</td><td style=\"text-align: right;\">       3</td><td style=\"text-align: right;\">0.01 </td><td style=\"text-align: right;\">    12</td><td style=\"text-align: right;\">        143.941 </td><td style=\"text-align: right;\">   0.8308</td><td style=\"text-align: right;\">  0.392363</td></tr>\n",
       "<tr><td>train_net_83017_00003</td><td>TERMINATED</td><td>                  </td><td style=\"text-align: right;\">      0.5</td><td style=\"text-align: right;\">       5</td><td style=\"text-align: right;\">0.01 </td><td style=\"text-align: right;\">    20</td><td style=\"text-align: right;\">        233.191 </td><td style=\"text-align: right;\">   0.8264</td><td style=\"text-align: right;\">  0.423312</td></tr>\n",
       "<tr><td>train_net_83017_00004</td><td>TERMINATED</td><td>                  </td><td style=\"text-align: right;\">      0.5</td><td style=\"text-align: right;\">       3</td><td style=\"text-align: right;\">0.1  </td><td style=\"text-align: right;\">    12</td><td style=\"text-align: right;\">        138.904 </td><td style=\"text-align: right;\">   0.4976</td><td style=\"text-align: right;\">  0.693437</td></tr>\n",
       "</tbody>\n",
       "</table><br><br>"
      ],
      "text/plain": [
       "<IPython.core.display.HTML object>"
      ]
     },
     "metadata": {},
     "output_type": "display_data"
    },
    {
     "name": "stdout",
     "output_type": "stream",
     "text": [
      "\u001b[2m\u001b[36m(pid=13408)\u001b[0m Epoch: 1/5... Step: 200... Loss: 0.777386... Val Loss: 0.708812\n",
      "Result for train_net_83017_00005:\n",
      "  date: 2020-12-05_21-02-05\n",
      "  done: false\n",
      "  experiment_id: a69247b02f714f479be5d9dd89bb6dd2\n",
      "  experiment_tag: 5_dropout=0.5,epochs=5,lr=0.1\n",
      "  hostname: DESKTOP-LTLCMDK\n",
      "  iterations_since_restore: 3\n",
      "  node_ip: 192.168.0.20\n",
      "  pid: 13408\n",
      "  time_since_restore: 40.55850553512573\n",
      "  time_this_iter_s: 10.85459566116333\n",
      "  time_total_s: 40.55850553512573\n",
      "  timestamp: 1607198525\n",
      "  timesteps_since_restore: 0\n",
      "  training_iteration: 3\n",
      "  trial_id: '83017_00005'\n",
      "  val_acc: 0.4976\n",
      "  val_loss: 0.7088124382495881\n",
      "  \n"
     ]
    },
    {
     "data": {
      "text/html": [
       "== Status ==<br>Memory usage on this node: 7.6/13.9 GiB<br>Using FIFO scheduling algorithm.<br>Resources requested: 1/8 CPUs, 1/1 GPUs, 0.0/5.18 GiB heap, 0.0/1.76 GiB objects<br>Result logdir: C:\\Users\\Tijana Vukovic\\ray_results\\train_net_2020-12-05_20-46-04<br>Number of trials: 6/6 (1 RUNNING, 5 TERMINATED)<br><table>\n",
       "<thead>\n",
       "<tr><th>Trial name           </th><th>status    </th><th>loc               </th><th style=\"text-align: right;\">  dropout</th><th style=\"text-align: right;\">  epochs</th><th style=\"text-align: right;\">   lr</th><th style=\"text-align: right;\">  iter</th><th style=\"text-align: right;\">  total time (s)</th><th style=\"text-align: right;\">  val_acc</th><th style=\"text-align: right;\">  val_loss</th></tr>\n",
       "</thead>\n",
       "<tbody>\n",
       "<tr><td>train_net_83017_00005</td><td>RUNNING   </td><td>192.168.0.20:13408</td><td style=\"text-align: right;\">      0.5</td><td style=\"text-align: right;\">       5</td><td style=\"text-align: right;\">0.1  </td><td style=\"text-align: right;\">     3</td><td style=\"text-align: right;\">         40.5585</td><td style=\"text-align: right;\">   0.4976</td><td style=\"text-align: right;\">  0.708812</td></tr>\n",
       "<tr><td>train_net_83017_00000</td><td>TERMINATED</td><td>                  </td><td style=\"text-align: right;\">      0.5</td><td style=\"text-align: right;\">       3</td><td style=\"text-align: right;\">0.001</td><td style=\"text-align: right;\">    12</td><td style=\"text-align: right;\">        150.568 </td><td style=\"text-align: right;\">   0.8224</td><td style=\"text-align: right;\">  0.39639 </td></tr>\n",
       "<tr><td>train_net_83017_00001</td><td>TERMINATED</td><td>                  </td><td style=\"text-align: right;\">      0.5</td><td style=\"text-align: right;\">       5</td><td style=\"text-align: right;\">0.001</td><td style=\"text-align: right;\">    20</td><td style=\"text-align: right;\">        233.692 </td><td style=\"text-align: right;\">   0.8268</td><td style=\"text-align: right;\">  0.399471</td></tr>\n",
       "<tr><td>train_net_83017_00002</td><td>TERMINATED</td><td>                  </td><td style=\"text-align: right;\">      0.5</td><td style=\"text-align: right;\">       3</td><td style=\"text-align: right;\">0.01 </td><td style=\"text-align: right;\">    12</td><td style=\"text-align: right;\">        143.941 </td><td style=\"text-align: right;\">   0.8308</td><td style=\"text-align: right;\">  0.392363</td></tr>\n",
       "<tr><td>train_net_83017_00003</td><td>TERMINATED</td><td>                  </td><td style=\"text-align: right;\">      0.5</td><td style=\"text-align: right;\">       5</td><td style=\"text-align: right;\">0.01 </td><td style=\"text-align: right;\">    20</td><td style=\"text-align: right;\">        233.191 </td><td style=\"text-align: right;\">   0.8264</td><td style=\"text-align: right;\">  0.423312</td></tr>\n",
       "<tr><td>train_net_83017_00004</td><td>TERMINATED</td><td>                  </td><td style=\"text-align: right;\">      0.5</td><td style=\"text-align: right;\">       3</td><td style=\"text-align: right;\">0.1  </td><td style=\"text-align: right;\">    12</td><td style=\"text-align: right;\">        138.904 </td><td style=\"text-align: right;\">   0.4976</td><td style=\"text-align: right;\">  0.693437</td></tr>\n",
       "</tbody>\n",
       "</table><br><br>"
      ],
      "text/plain": [
       "<IPython.core.display.HTML object>"
      ]
     },
     "metadata": {},
     "output_type": "display_data"
    },
    {
     "name": "stdout",
     "output_type": "stream",
     "text": [
      "\u001b[2m\u001b[36m(pid=13408)\u001b[0m Epoch: 1/5... Step: 300... Loss: 0.767025... Val Loss: 0.772752\n",
      "Result for train_net_83017_00005:\n",
      "  date: 2020-12-05_21-02-16\n",
      "  done: false\n",
      "  experiment_id: a69247b02f714f479be5d9dd89bb6dd2\n",
      "  experiment_tag: 5_dropout=0.5,epochs=5,lr=0.1\n",
      "  hostname: DESKTOP-LTLCMDK\n",
      "  iterations_since_restore: 4\n",
      "  node_ip: 192.168.0.20\n",
      "  pid: 13408\n",
      "  time_since_restore: 51.10781383514404\n",
      "  time_this_iter_s: 10.54930830001831\n",
      "  time_total_s: 51.10781383514404\n",
      "  timestamp: 1607198536\n",
      "  timesteps_since_restore: 0\n",
      "  training_iteration: 4\n",
      "  trial_id: '83017_00005'\n",
      "  val_acc: 0.4976\n",
      "  val_loss: 0.7088124382495881\n",
      "  \n",
      "\u001b[2m\u001b[36m(pid=13408)\u001b[0m Epoch: 1/5... Step: 400... Loss: 1.212024... Val Loss: 1.074645\n",
      "\u001b[2m\u001b[36m(pid=13408)\u001b[0m 1\n"
     ]
    },
    {
     "data": {
      "text/html": [
       "== Status ==<br>Memory usage on this node: 7.6/13.9 GiB<br>Using FIFO scheduling algorithm.<br>Resources requested: 1/8 CPUs, 1/1 GPUs, 0.0/5.18 GiB heap, 0.0/1.76 GiB objects<br>Result logdir: C:\\Users\\Tijana Vukovic\\ray_results\\train_net_2020-12-05_20-46-04<br>Number of trials: 6/6 (1 RUNNING, 5 TERMINATED)<br><table>\n",
       "<thead>\n",
       "<tr><th>Trial name           </th><th>status    </th><th>loc               </th><th style=\"text-align: right;\">  dropout</th><th style=\"text-align: right;\">  epochs</th><th style=\"text-align: right;\">   lr</th><th style=\"text-align: right;\">  iter</th><th style=\"text-align: right;\">  total time (s)</th><th style=\"text-align: right;\">  val_acc</th><th style=\"text-align: right;\">  val_loss</th></tr>\n",
       "</thead>\n",
       "<tbody>\n",
       "<tr><td>train_net_83017_00005</td><td>RUNNING   </td><td>192.168.0.20:13408</td><td style=\"text-align: right;\">      0.5</td><td style=\"text-align: right;\">       5</td><td style=\"text-align: right;\">0.1  </td><td style=\"text-align: right;\">     4</td><td style=\"text-align: right;\">         51.1078</td><td style=\"text-align: right;\">   0.4976</td><td style=\"text-align: right;\">  0.708812</td></tr>\n",
       "<tr><td>train_net_83017_00000</td><td>TERMINATED</td><td>                  </td><td style=\"text-align: right;\">      0.5</td><td style=\"text-align: right;\">       3</td><td style=\"text-align: right;\">0.001</td><td style=\"text-align: right;\">    12</td><td style=\"text-align: right;\">        150.568 </td><td style=\"text-align: right;\">   0.8224</td><td style=\"text-align: right;\">  0.39639 </td></tr>\n",
       "<tr><td>train_net_83017_00001</td><td>TERMINATED</td><td>                  </td><td style=\"text-align: right;\">      0.5</td><td style=\"text-align: right;\">       5</td><td style=\"text-align: right;\">0.001</td><td style=\"text-align: right;\">    20</td><td style=\"text-align: right;\">        233.692 </td><td style=\"text-align: right;\">   0.8268</td><td style=\"text-align: right;\">  0.399471</td></tr>\n",
       "<tr><td>train_net_83017_00002</td><td>TERMINATED</td><td>                  </td><td style=\"text-align: right;\">      0.5</td><td style=\"text-align: right;\">       3</td><td style=\"text-align: right;\">0.01 </td><td style=\"text-align: right;\">    12</td><td style=\"text-align: right;\">        143.941 </td><td style=\"text-align: right;\">   0.8308</td><td style=\"text-align: right;\">  0.392363</td></tr>\n",
       "<tr><td>train_net_83017_00003</td><td>TERMINATED</td><td>                  </td><td style=\"text-align: right;\">      0.5</td><td style=\"text-align: right;\">       5</td><td style=\"text-align: right;\">0.01 </td><td style=\"text-align: right;\">    20</td><td style=\"text-align: right;\">        233.191 </td><td style=\"text-align: right;\">   0.8264</td><td style=\"text-align: right;\">  0.423312</td></tr>\n",
       "<tr><td>train_net_83017_00004</td><td>TERMINATED</td><td>                  </td><td style=\"text-align: right;\">      0.5</td><td style=\"text-align: right;\">       3</td><td style=\"text-align: right;\">0.1  </td><td style=\"text-align: right;\">    12</td><td style=\"text-align: right;\">        138.904 </td><td style=\"text-align: right;\">   0.4976</td><td style=\"text-align: right;\">  0.693437</td></tr>\n",
       "</tbody>\n",
       "</table><br><br>"
      ],
      "text/plain": [
       "<IPython.core.display.HTML object>"
      ]
     },
     "metadata": {},
     "output_type": "display_data"
    },
    {
     "name": "stdout",
     "output_type": "stream",
     "text": [
      "Result for train_net_83017_00005:\n",
      "  date: 2020-12-05_21-02-26\n",
      "  done: false\n",
      "  experiment_id: a69247b02f714f479be5d9dd89bb6dd2\n",
      "  experiment_tag: 5_dropout=0.5,epochs=5,lr=0.1\n",
      "  hostname: DESKTOP-LTLCMDK\n",
      "  iterations_since_restore: 5\n",
      "  node_ip: 192.168.0.20\n",
      "  pid: 13408\n",
      "  time_since_restore: 61.709622621536255\n",
      "  time_this_iter_s: 10.601808786392212\n",
      "  time_total_s: 61.709622621536255\n",
      "  timestamp: 1607198546\n",
      "  timesteps_since_restore: 0\n",
      "  training_iteration: 5\n",
      "  trial_id: '83017_00005'\n",
      "  val_acc: 0.4976\n",
      "  val_loss: 0.7088124382495881\n",
      "  \n"
     ]
    },
    {
     "data": {
      "text/html": [
       "== Status ==<br>Memory usage on this node: 7.6/13.9 GiB<br>Using FIFO scheduling algorithm.<br>Resources requested: 1/8 CPUs, 1/1 GPUs, 0.0/5.18 GiB heap, 0.0/1.76 GiB objects<br>Result logdir: C:\\Users\\Tijana Vukovic\\ray_results\\train_net_2020-12-05_20-46-04<br>Number of trials: 6/6 (1 RUNNING, 5 TERMINATED)<br><table>\n",
       "<thead>\n",
       "<tr><th>Trial name           </th><th>status    </th><th>loc               </th><th style=\"text-align: right;\">  dropout</th><th style=\"text-align: right;\">  epochs</th><th style=\"text-align: right;\">   lr</th><th style=\"text-align: right;\">  iter</th><th style=\"text-align: right;\">  total time (s)</th><th style=\"text-align: right;\">  val_acc</th><th style=\"text-align: right;\">  val_loss</th></tr>\n",
       "</thead>\n",
       "<tbody>\n",
       "<tr><td>train_net_83017_00005</td><td>RUNNING   </td><td>192.168.0.20:13408</td><td style=\"text-align: right;\">      0.5</td><td style=\"text-align: right;\">       5</td><td style=\"text-align: right;\">0.1  </td><td style=\"text-align: right;\">     5</td><td style=\"text-align: right;\">         61.7096</td><td style=\"text-align: right;\">   0.4976</td><td style=\"text-align: right;\">  0.708812</td></tr>\n",
       "<tr><td>train_net_83017_00000</td><td>TERMINATED</td><td>                  </td><td style=\"text-align: right;\">      0.5</td><td style=\"text-align: right;\">       3</td><td style=\"text-align: right;\">0.001</td><td style=\"text-align: right;\">    12</td><td style=\"text-align: right;\">        150.568 </td><td style=\"text-align: right;\">   0.8224</td><td style=\"text-align: right;\">  0.39639 </td></tr>\n",
       "<tr><td>train_net_83017_00001</td><td>TERMINATED</td><td>                  </td><td style=\"text-align: right;\">      0.5</td><td style=\"text-align: right;\">       5</td><td style=\"text-align: right;\">0.001</td><td style=\"text-align: right;\">    20</td><td style=\"text-align: right;\">        233.692 </td><td style=\"text-align: right;\">   0.8268</td><td style=\"text-align: right;\">  0.399471</td></tr>\n",
       "<tr><td>train_net_83017_00002</td><td>TERMINATED</td><td>                  </td><td style=\"text-align: right;\">      0.5</td><td style=\"text-align: right;\">       3</td><td style=\"text-align: right;\">0.01 </td><td style=\"text-align: right;\">    12</td><td style=\"text-align: right;\">        143.941 </td><td style=\"text-align: right;\">   0.8308</td><td style=\"text-align: right;\">  0.392363</td></tr>\n",
       "<tr><td>train_net_83017_00003</td><td>TERMINATED</td><td>                  </td><td style=\"text-align: right;\">      0.5</td><td style=\"text-align: right;\">       5</td><td style=\"text-align: right;\">0.01 </td><td style=\"text-align: right;\">    20</td><td style=\"text-align: right;\">        233.191 </td><td style=\"text-align: right;\">   0.8264</td><td style=\"text-align: right;\">  0.423312</td></tr>\n",
       "<tr><td>train_net_83017_00004</td><td>TERMINATED</td><td>                  </td><td style=\"text-align: right;\">      0.5</td><td style=\"text-align: right;\">       3</td><td style=\"text-align: right;\">0.1  </td><td style=\"text-align: right;\">    12</td><td style=\"text-align: right;\">        138.904 </td><td style=\"text-align: right;\">   0.4976</td><td style=\"text-align: right;\">  0.693437</td></tr>\n",
       "</tbody>\n",
       "</table><br><br>"
      ],
      "text/plain": [
       "<IPython.core.display.HTML object>"
      ]
     },
     "metadata": {},
     "output_type": "display_data"
    },
    {
     "name": "stdout",
     "output_type": "stream",
     "text": [
      "\u001b[2m\u001b[36m(pid=13408)\u001b[0m Epoch: 2/5... Step: 500... Loss: 0.837952... Val Loss: 1.030121\n",
      "Result for train_net_83017_00005:\n",
      "  date: 2020-12-05_21-02-37\n",
      "  done: false\n",
      "  experiment_id: a69247b02f714f479be5d9dd89bb6dd2\n",
      "  experiment_tag: 5_dropout=0.5,epochs=5,lr=0.1\n",
      "  hostname: DESKTOP-LTLCMDK\n",
      "  iterations_since_restore: 6\n",
      "  node_ip: 192.168.0.20\n",
      "  pid: 13408\n",
      "  time_since_restore: 72.38343572616577\n",
      "  time_this_iter_s: 10.673813104629517\n",
      "  time_total_s: 72.38343572616577\n",
      "  timestamp: 1607198557\n",
      "  timesteps_since_restore: 0\n",
      "  training_iteration: 6\n",
      "  trial_id: '83017_00005'\n",
      "  val_acc: 0.4976\n",
      "  val_loss: 0.7088124382495881\n",
      "  \n"
     ]
    },
    {
     "data": {
      "text/html": [
       "== Status ==<br>Memory usage on this node: 7.6/13.9 GiB<br>Using FIFO scheduling algorithm.<br>Resources requested: 1/8 CPUs, 1/1 GPUs, 0.0/5.18 GiB heap, 0.0/1.76 GiB objects<br>Result logdir: C:\\Users\\Tijana Vukovic\\ray_results\\train_net_2020-12-05_20-46-04<br>Number of trials: 6/6 (1 RUNNING, 5 TERMINATED)<br><table>\n",
       "<thead>\n",
       "<tr><th>Trial name           </th><th>status    </th><th>loc               </th><th style=\"text-align: right;\">  dropout</th><th style=\"text-align: right;\">  epochs</th><th style=\"text-align: right;\">   lr</th><th style=\"text-align: right;\">  iter</th><th style=\"text-align: right;\">  total time (s)</th><th style=\"text-align: right;\">  val_acc</th><th style=\"text-align: right;\">  val_loss</th></tr>\n",
       "</thead>\n",
       "<tbody>\n",
       "<tr><td>train_net_83017_00005</td><td>RUNNING   </td><td>192.168.0.20:13408</td><td style=\"text-align: right;\">      0.5</td><td style=\"text-align: right;\">       5</td><td style=\"text-align: right;\">0.1  </td><td style=\"text-align: right;\">     6</td><td style=\"text-align: right;\">         72.3834</td><td style=\"text-align: right;\">   0.4976</td><td style=\"text-align: right;\">  0.708812</td></tr>\n",
       "<tr><td>train_net_83017_00000</td><td>TERMINATED</td><td>                  </td><td style=\"text-align: right;\">      0.5</td><td style=\"text-align: right;\">       3</td><td style=\"text-align: right;\">0.001</td><td style=\"text-align: right;\">    12</td><td style=\"text-align: right;\">        150.568 </td><td style=\"text-align: right;\">   0.8224</td><td style=\"text-align: right;\">  0.39639 </td></tr>\n",
       "<tr><td>train_net_83017_00001</td><td>TERMINATED</td><td>                  </td><td style=\"text-align: right;\">      0.5</td><td style=\"text-align: right;\">       5</td><td style=\"text-align: right;\">0.001</td><td style=\"text-align: right;\">    20</td><td style=\"text-align: right;\">        233.692 </td><td style=\"text-align: right;\">   0.8268</td><td style=\"text-align: right;\">  0.399471</td></tr>\n",
       "<tr><td>train_net_83017_00002</td><td>TERMINATED</td><td>                  </td><td style=\"text-align: right;\">      0.5</td><td style=\"text-align: right;\">       3</td><td style=\"text-align: right;\">0.01 </td><td style=\"text-align: right;\">    12</td><td style=\"text-align: right;\">        143.941 </td><td style=\"text-align: right;\">   0.8308</td><td style=\"text-align: right;\">  0.392363</td></tr>\n",
       "<tr><td>train_net_83017_00003</td><td>TERMINATED</td><td>                  </td><td style=\"text-align: right;\">      0.5</td><td style=\"text-align: right;\">       5</td><td style=\"text-align: right;\">0.01 </td><td style=\"text-align: right;\">    20</td><td style=\"text-align: right;\">        233.191 </td><td style=\"text-align: right;\">   0.8264</td><td style=\"text-align: right;\">  0.423312</td></tr>\n",
       "<tr><td>train_net_83017_00004</td><td>TERMINATED</td><td>                  </td><td style=\"text-align: right;\">      0.5</td><td style=\"text-align: right;\">       3</td><td style=\"text-align: right;\">0.1  </td><td style=\"text-align: right;\">    12</td><td style=\"text-align: right;\">        138.904 </td><td style=\"text-align: right;\">   0.4976</td><td style=\"text-align: right;\">  0.693437</td></tr>\n",
       "</tbody>\n",
       "</table><br><br>"
      ],
      "text/plain": [
       "<IPython.core.display.HTML object>"
      ]
     },
     "metadata": {},
     "output_type": "display_data"
    },
    {
     "name": "stdout",
     "output_type": "stream",
     "text": [
      "\u001b[2m\u001b[36m(pid=13408)\u001b[0m Epoch: 2/5... Step: 600... Loss: 1.542255... Val Loss: 1.510734\n",
      "Result for train_net_83017_00005:\n",
      "  date: 2020-12-05_21-02-48\n",
      "  done: false\n",
      "  experiment_id: a69247b02f714f479be5d9dd89bb6dd2\n",
      "  experiment_tag: 5_dropout=0.5,epochs=5,lr=0.1\n",
      "  hostname: DESKTOP-LTLCMDK\n",
      "  iterations_since_restore: 7\n",
      "  node_ip: 192.168.0.20\n",
      "  pid: 13408\n",
      "  time_since_restore: 82.96924448013306\n",
      "  time_this_iter_s: 10.585808753967285\n",
      "  time_total_s: 82.96924448013306\n",
      "  timestamp: 1607198568\n",
      "  timesteps_since_restore: 0\n",
      "  training_iteration: 7\n",
      "  trial_id: '83017_00005'\n",
      "  val_acc: 0.4976\n",
      "  val_loss: 0.7088124382495881\n",
      "  \n"
     ]
    },
    {
     "data": {
      "text/html": [
       "== Status ==<br>Memory usage on this node: 7.6/13.9 GiB<br>Using FIFO scheduling algorithm.<br>Resources requested: 1/8 CPUs, 1/1 GPUs, 0.0/5.18 GiB heap, 0.0/1.76 GiB objects<br>Result logdir: C:\\Users\\Tijana Vukovic\\ray_results\\train_net_2020-12-05_20-46-04<br>Number of trials: 6/6 (1 RUNNING, 5 TERMINATED)<br><table>\n",
       "<thead>\n",
       "<tr><th>Trial name           </th><th>status    </th><th>loc               </th><th style=\"text-align: right;\">  dropout</th><th style=\"text-align: right;\">  epochs</th><th style=\"text-align: right;\">   lr</th><th style=\"text-align: right;\">  iter</th><th style=\"text-align: right;\">  total time (s)</th><th style=\"text-align: right;\">  val_acc</th><th style=\"text-align: right;\">  val_loss</th></tr>\n",
       "</thead>\n",
       "<tbody>\n",
       "<tr><td>train_net_83017_00005</td><td>RUNNING   </td><td>192.168.0.20:13408</td><td style=\"text-align: right;\">      0.5</td><td style=\"text-align: right;\">       5</td><td style=\"text-align: right;\">0.1  </td><td style=\"text-align: right;\">     7</td><td style=\"text-align: right;\">         82.9692</td><td style=\"text-align: right;\">   0.4976</td><td style=\"text-align: right;\">  0.708812</td></tr>\n",
       "<tr><td>train_net_83017_00000</td><td>TERMINATED</td><td>                  </td><td style=\"text-align: right;\">      0.5</td><td style=\"text-align: right;\">       3</td><td style=\"text-align: right;\">0.001</td><td style=\"text-align: right;\">    12</td><td style=\"text-align: right;\">        150.568 </td><td style=\"text-align: right;\">   0.8224</td><td style=\"text-align: right;\">  0.39639 </td></tr>\n",
       "<tr><td>train_net_83017_00001</td><td>TERMINATED</td><td>                  </td><td style=\"text-align: right;\">      0.5</td><td style=\"text-align: right;\">       5</td><td style=\"text-align: right;\">0.001</td><td style=\"text-align: right;\">    20</td><td style=\"text-align: right;\">        233.692 </td><td style=\"text-align: right;\">   0.8268</td><td style=\"text-align: right;\">  0.399471</td></tr>\n",
       "<tr><td>train_net_83017_00002</td><td>TERMINATED</td><td>                  </td><td style=\"text-align: right;\">      0.5</td><td style=\"text-align: right;\">       3</td><td style=\"text-align: right;\">0.01 </td><td style=\"text-align: right;\">    12</td><td style=\"text-align: right;\">        143.941 </td><td style=\"text-align: right;\">   0.8308</td><td style=\"text-align: right;\">  0.392363</td></tr>\n",
       "<tr><td>train_net_83017_00003</td><td>TERMINATED</td><td>                  </td><td style=\"text-align: right;\">      0.5</td><td style=\"text-align: right;\">       5</td><td style=\"text-align: right;\">0.01 </td><td style=\"text-align: right;\">    20</td><td style=\"text-align: right;\">        233.191 </td><td style=\"text-align: right;\">   0.8264</td><td style=\"text-align: right;\">  0.423312</td></tr>\n",
       "<tr><td>train_net_83017_00004</td><td>TERMINATED</td><td>                  </td><td style=\"text-align: right;\">      0.5</td><td style=\"text-align: right;\">       3</td><td style=\"text-align: right;\">0.1  </td><td style=\"text-align: right;\">    12</td><td style=\"text-align: right;\">        138.904 </td><td style=\"text-align: right;\">   0.4976</td><td style=\"text-align: right;\">  0.693437</td></tr>\n",
       "</tbody>\n",
       "</table><br><br>"
      ],
      "text/plain": [
       "<IPython.core.display.HTML object>"
      ]
     },
     "metadata": {},
     "output_type": "display_data"
    },
    {
     "name": "stdout",
     "output_type": "stream",
     "text": [
      "\u001b[2m\u001b[36m(pid=13408)\u001b[0m Epoch: 2/5... Step: 700... Loss: 1.118904... Val Loss: 0.712959\n",
      "Result for train_net_83017_00005:\n",
      "  date: 2020-12-05_21-02-58\n",
      "  done: false\n",
      "  experiment_id: a69247b02f714f479be5d9dd89bb6dd2\n",
      "  experiment_tag: 5_dropout=0.5,epochs=5,lr=0.1\n",
      "  hostname: DESKTOP-LTLCMDK\n",
      "  iterations_since_restore: 8\n",
      "  node_ip: 192.168.0.20\n",
      "  pid: 13408\n",
      "  time_since_restore: 93.6065616607666\n",
      "  time_this_iter_s: 10.637317180633545\n",
      "  time_total_s: 93.6065616607666\n",
      "  timestamp: 1607198578\n",
      "  timesteps_since_restore: 0\n",
      "  training_iteration: 8\n",
      "  trial_id: '83017_00005'\n",
      "  val_acc: 0.4976\n",
      "  val_loss: 0.7088124382495881\n",
      "  \n"
     ]
    },
    {
     "data": {
      "text/html": [
       "== Status ==<br>Memory usage on this node: 7.6/13.9 GiB<br>Using FIFO scheduling algorithm.<br>Resources requested: 1/8 CPUs, 1/1 GPUs, 0.0/5.18 GiB heap, 0.0/1.76 GiB objects<br>Result logdir: C:\\Users\\Tijana Vukovic\\ray_results\\train_net_2020-12-05_20-46-04<br>Number of trials: 6/6 (1 RUNNING, 5 TERMINATED)<br><table>\n",
       "<thead>\n",
       "<tr><th>Trial name           </th><th>status    </th><th>loc               </th><th style=\"text-align: right;\">  dropout</th><th style=\"text-align: right;\">  epochs</th><th style=\"text-align: right;\">   lr</th><th style=\"text-align: right;\">  iter</th><th style=\"text-align: right;\">  total time (s)</th><th style=\"text-align: right;\">  val_acc</th><th style=\"text-align: right;\">  val_loss</th></tr>\n",
       "</thead>\n",
       "<tbody>\n",
       "<tr><td>train_net_83017_00005</td><td>RUNNING   </td><td>192.168.0.20:13408</td><td style=\"text-align: right;\">      0.5</td><td style=\"text-align: right;\">       5</td><td style=\"text-align: right;\">0.1  </td><td style=\"text-align: right;\">     8</td><td style=\"text-align: right;\">         93.6066</td><td style=\"text-align: right;\">   0.4976</td><td style=\"text-align: right;\">  0.708812</td></tr>\n",
       "<tr><td>train_net_83017_00000</td><td>TERMINATED</td><td>                  </td><td style=\"text-align: right;\">      0.5</td><td style=\"text-align: right;\">       3</td><td style=\"text-align: right;\">0.001</td><td style=\"text-align: right;\">    12</td><td style=\"text-align: right;\">        150.568 </td><td style=\"text-align: right;\">   0.8224</td><td style=\"text-align: right;\">  0.39639 </td></tr>\n",
       "<tr><td>train_net_83017_00001</td><td>TERMINATED</td><td>                  </td><td style=\"text-align: right;\">      0.5</td><td style=\"text-align: right;\">       5</td><td style=\"text-align: right;\">0.001</td><td style=\"text-align: right;\">    20</td><td style=\"text-align: right;\">        233.692 </td><td style=\"text-align: right;\">   0.8268</td><td style=\"text-align: right;\">  0.399471</td></tr>\n",
       "<tr><td>train_net_83017_00002</td><td>TERMINATED</td><td>                  </td><td style=\"text-align: right;\">      0.5</td><td style=\"text-align: right;\">       3</td><td style=\"text-align: right;\">0.01 </td><td style=\"text-align: right;\">    12</td><td style=\"text-align: right;\">        143.941 </td><td style=\"text-align: right;\">   0.8308</td><td style=\"text-align: right;\">  0.392363</td></tr>\n",
       "<tr><td>train_net_83017_00003</td><td>TERMINATED</td><td>                  </td><td style=\"text-align: right;\">      0.5</td><td style=\"text-align: right;\">       5</td><td style=\"text-align: right;\">0.01 </td><td style=\"text-align: right;\">    20</td><td style=\"text-align: right;\">        233.191 </td><td style=\"text-align: right;\">   0.8264</td><td style=\"text-align: right;\">  0.423312</td></tr>\n",
       "<tr><td>train_net_83017_00004</td><td>TERMINATED</td><td>                  </td><td style=\"text-align: right;\">      0.5</td><td style=\"text-align: right;\">       3</td><td style=\"text-align: right;\">0.1  </td><td style=\"text-align: right;\">    12</td><td style=\"text-align: right;\">        138.904 </td><td style=\"text-align: right;\">   0.4976</td><td style=\"text-align: right;\">  0.693437</td></tr>\n",
       "</tbody>\n",
       "</table><br><br>"
      ],
      "text/plain": [
       "<IPython.core.display.HTML object>"
      ]
     },
     "metadata": {},
     "output_type": "display_data"
    },
    {
     "name": "stdout",
     "output_type": "stream",
     "text": [
      "\u001b[2m\u001b[36m(pid=13408)\u001b[0m Epoch: 2/5... Step: 800... Loss: 0.822758... Val Loss: 0.923694\n",
      "\u001b[2m\u001b[36m(pid=13408)\u001b[0m 2\n",
      "Result for train_net_83017_00005:\n",
      "  date: 2020-12-05_21-03-11\n",
      "  done: false\n",
      "  experiment_id: a69247b02f714f479be5d9dd89bb6dd2\n",
      "  experiment_tag: 5_dropout=0.5,epochs=5,lr=0.1\n",
      "  hostname: DESKTOP-LTLCMDK\n",
      "  iterations_since_restore: 9\n",
      "  node_ip: 192.168.0.20\n",
      "  pid: 13408\n",
      "  should_checkpoint: true\n",
      "  time_since_restore: 106.36999201774597\n",
      "  time_this_iter_s: 12.76343035697937\n",
      "  time_total_s: 106.36999201774597\n",
      "  timestamp: 1607198591\n",
      "  timesteps_since_restore: 0\n",
      "  training_iteration: 9\n",
      "  trial_id: '83017_00005'\n",
      "  val_acc: 0.4976\n",
      "  val_loss: 0.7036105585098267\n",
      "  \n"
     ]
    },
    {
     "data": {
      "text/html": [
       "== Status ==<br>Memory usage on this node: 7.6/13.9 GiB<br>Using FIFO scheduling algorithm.<br>Resources requested: 1/8 CPUs, 1/1 GPUs, 0.0/5.18 GiB heap, 0.0/1.76 GiB objects<br>Result logdir: C:\\Users\\Tijana Vukovic\\ray_results\\train_net_2020-12-05_20-46-04<br>Number of trials: 6/6 (1 RUNNING, 5 TERMINATED)<br><table>\n",
       "<thead>\n",
       "<tr><th>Trial name           </th><th>status    </th><th>loc               </th><th style=\"text-align: right;\">  dropout</th><th style=\"text-align: right;\">  epochs</th><th style=\"text-align: right;\">   lr</th><th style=\"text-align: right;\">  iter</th><th style=\"text-align: right;\">  total time (s)</th><th style=\"text-align: right;\">  val_acc</th><th style=\"text-align: right;\">  val_loss</th></tr>\n",
       "</thead>\n",
       "<tbody>\n",
       "<tr><td>train_net_83017_00005</td><td>RUNNING   </td><td>192.168.0.20:13408</td><td style=\"text-align: right;\">      0.5</td><td style=\"text-align: right;\">       5</td><td style=\"text-align: right;\">0.1  </td><td style=\"text-align: right;\">     9</td><td style=\"text-align: right;\">         106.37 </td><td style=\"text-align: right;\">   0.4976</td><td style=\"text-align: right;\">  0.703611</td></tr>\n",
       "<tr><td>train_net_83017_00000</td><td>TERMINATED</td><td>                  </td><td style=\"text-align: right;\">      0.5</td><td style=\"text-align: right;\">       3</td><td style=\"text-align: right;\">0.001</td><td style=\"text-align: right;\">    12</td><td style=\"text-align: right;\">         150.568</td><td style=\"text-align: right;\">   0.8224</td><td style=\"text-align: right;\">  0.39639 </td></tr>\n",
       "<tr><td>train_net_83017_00001</td><td>TERMINATED</td><td>                  </td><td style=\"text-align: right;\">      0.5</td><td style=\"text-align: right;\">       5</td><td style=\"text-align: right;\">0.001</td><td style=\"text-align: right;\">    20</td><td style=\"text-align: right;\">         233.692</td><td style=\"text-align: right;\">   0.8268</td><td style=\"text-align: right;\">  0.399471</td></tr>\n",
       "<tr><td>train_net_83017_00002</td><td>TERMINATED</td><td>                  </td><td style=\"text-align: right;\">      0.5</td><td style=\"text-align: right;\">       3</td><td style=\"text-align: right;\">0.01 </td><td style=\"text-align: right;\">    12</td><td style=\"text-align: right;\">         143.941</td><td style=\"text-align: right;\">   0.8308</td><td style=\"text-align: right;\">  0.392363</td></tr>\n",
       "<tr><td>train_net_83017_00003</td><td>TERMINATED</td><td>                  </td><td style=\"text-align: right;\">      0.5</td><td style=\"text-align: right;\">       5</td><td style=\"text-align: right;\">0.01 </td><td style=\"text-align: right;\">    20</td><td style=\"text-align: right;\">         233.191</td><td style=\"text-align: right;\">   0.8264</td><td style=\"text-align: right;\">  0.423312</td></tr>\n",
       "<tr><td>train_net_83017_00004</td><td>TERMINATED</td><td>                  </td><td style=\"text-align: right;\">      0.5</td><td style=\"text-align: right;\">       3</td><td style=\"text-align: right;\">0.1  </td><td style=\"text-align: right;\">    12</td><td style=\"text-align: right;\">         138.904</td><td style=\"text-align: right;\">   0.4976</td><td style=\"text-align: right;\">  0.693437</td></tr>\n",
       "</tbody>\n",
       "</table><br><br>"
      ],
      "text/plain": [
       "<IPython.core.display.HTML object>"
      ]
     },
     "metadata": {},
     "output_type": "display_data"
    },
    {
     "name": "stdout",
     "output_type": "stream",
     "text": [
      "\u001b[2m\u001b[36m(pid=13408)\u001b[0m Epoch: 3/5... Step: 900... Loss: 0.769752... Val Loss: 0.703611\n",
      "Result for train_net_83017_00005:\n",
      "  date: 2020-12-05_21-03-22\n",
      "  done: false\n",
      "  experiment_id: a69247b02f714f479be5d9dd89bb6dd2\n",
      "  experiment_tag: 5_dropout=0.5,epochs=5,lr=0.1\n",
      "  hostname: DESKTOP-LTLCMDK\n",
      "  iterations_since_restore: 10\n",
      "  node_ip: 192.168.0.20\n",
      "  pid: 13408\n",
      "  time_since_restore: 117.32682943344116\n",
      "  time_this_iter_s: 10.95683741569519\n",
      "  time_total_s: 117.32682943344116\n",
      "  timestamp: 1607198602\n",
      "  timesteps_since_restore: 0\n",
      "  training_iteration: 10\n",
      "  trial_id: '83017_00005'\n",
      "  val_acc: 0.4976\n",
      "  val_loss: 0.7036105585098267\n",
      "  \n"
     ]
    },
    {
     "data": {
      "text/html": [
       "== Status ==<br>Memory usage on this node: 7.6/13.9 GiB<br>Using FIFO scheduling algorithm.<br>Resources requested: 1/8 CPUs, 1/1 GPUs, 0.0/5.18 GiB heap, 0.0/1.76 GiB objects<br>Result logdir: C:\\Users\\Tijana Vukovic\\ray_results\\train_net_2020-12-05_20-46-04<br>Number of trials: 6/6 (1 RUNNING, 5 TERMINATED)<br><table>\n",
       "<thead>\n",
       "<tr><th>Trial name           </th><th>status    </th><th>loc               </th><th style=\"text-align: right;\">  dropout</th><th style=\"text-align: right;\">  epochs</th><th style=\"text-align: right;\">   lr</th><th style=\"text-align: right;\">  iter</th><th style=\"text-align: right;\">  total time (s)</th><th style=\"text-align: right;\">  val_acc</th><th style=\"text-align: right;\">  val_loss</th></tr>\n",
       "</thead>\n",
       "<tbody>\n",
       "<tr><td>train_net_83017_00005</td><td>RUNNING   </td><td>192.168.0.20:13408</td><td style=\"text-align: right;\">      0.5</td><td style=\"text-align: right;\">       5</td><td style=\"text-align: right;\">0.1  </td><td style=\"text-align: right;\">    10</td><td style=\"text-align: right;\">         117.327</td><td style=\"text-align: right;\">   0.4976</td><td style=\"text-align: right;\">  0.703611</td></tr>\n",
       "<tr><td>train_net_83017_00000</td><td>TERMINATED</td><td>                  </td><td style=\"text-align: right;\">      0.5</td><td style=\"text-align: right;\">       3</td><td style=\"text-align: right;\">0.001</td><td style=\"text-align: right;\">    12</td><td style=\"text-align: right;\">         150.568</td><td style=\"text-align: right;\">   0.8224</td><td style=\"text-align: right;\">  0.39639 </td></tr>\n",
       "<tr><td>train_net_83017_00001</td><td>TERMINATED</td><td>                  </td><td style=\"text-align: right;\">      0.5</td><td style=\"text-align: right;\">       5</td><td style=\"text-align: right;\">0.001</td><td style=\"text-align: right;\">    20</td><td style=\"text-align: right;\">         233.692</td><td style=\"text-align: right;\">   0.8268</td><td style=\"text-align: right;\">  0.399471</td></tr>\n",
       "<tr><td>train_net_83017_00002</td><td>TERMINATED</td><td>                  </td><td style=\"text-align: right;\">      0.5</td><td style=\"text-align: right;\">       3</td><td style=\"text-align: right;\">0.01 </td><td style=\"text-align: right;\">    12</td><td style=\"text-align: right;\">         143.941</td><td style=\"text-align: right;\">   0.8308</td><td style=\"text-align: right;\">  0.392363</td></tr>\n",
       "<tr><td>train_net_83017_00003</td><td>TERMINATED</td><td>                  </td><td style=\"text-align: right;\">      0.5</td><td style=\"text-align: right;\">       5</td><td style=\"text-align: right;\">0.01 </td><td style=\"text-align: right;\">    20</td><td style=\"text-align: right;\">         233.191</td><td style=\"text-align: right;\">   0.8264</td><td style=\"text-align: right;\">  0.423312</td></tr>\n",
       "<tr><td>train_net_83017_00004</td><td>TERMINATED</td><td>                  </td><td style=\"text-align: right;\">      0.5</td><td style=\"text-align: right;\">       3</td><td style=\"text-align: right;\">0.1  </td><td style=\"text-align: right;\">    12</td><td style=\"text-align: right;\">         138.904</td><td style=\"text-align: right;\">   0.4976</td><td style=\"text-align: right;\">  0.693437</td></tr>\n",
       "</tbody>\n",
       "</table><br><br>"
      ],
      "text/plain": [
       "<IPython.core.display.HTML object>"
      ]
     },
     "metadata": {},
     "output_type": "display_data"
    },
    {
     "name": "stdout",
     "output_type": "stream",
     "text": [
      "\u001b[2m\u001b[36m(pid=13408)\u001b[0m Epoch: 3/5... Step: 1000... Loss: 0.874066... Val Loss: 0.704165\n",
      "Result for train_net_83017_00005:\n",
      "  date: 2020-12-05_21-03-35\n",
      "  done: false\n",
      "  experiment_id: a69247b02f714f479be5d9dd89bb6dd2\n",
      "  experiment_tag: 5_dropout=0.5,epochs=5,lr=0.1\n",
      "  hostname: DESKTOP-LTLCMDK\n",
      "  iterations_since_restore: 11\n",
      "  node_ip: 192.168.0.20\n",
      "  pid: 13408\n",
      "  should_checkpoint: true\n",
      "  time_since_restore: 130.02674627304077\n",
      "  time_this_iter_s: 12.69991683959961\n",
      "  time_total_s: 130.02674627304077\n",
      "  timestamp: 1607198615\n",
      "  timesteps_since_restore: 0\n",
      "  training_iteration: 11\n",
      "  trial_id: '83017_00005'\n",
      "  val_acc: 0.4976\n",
      "  val_loss: 0.6941364085674286\n",
      "  \n"
     ]
    },
    {
     "data": {
      "text/html": [
       "== Status ==<br>Memory usage on this node: 7.6/13.9 GiB<br>Using FIFO scheduling algorithm.<br>Resources requested: 1/8 CPUs, 1/1 GPUs, 0.0/5.18 GiB heap, 0.0/1.76 GiB objects<br>Result logdir: C:\\Users\\Tijana Vukovic\\ray_results\\train_net_2020-12-05_20-46-04<br>Number of trials: 6/6 (1 RUNNING, 5 TERMINATED)<br><table>\n",
       "<thead>\n",
       "<tr><th>Trial name           </th><th>status    </th><th>loc               </th><th style=\"text-align: right;\">  dropout</th><th style=\"text-align: right;\">  epochs</th><th style=\"text-align: right;\">   lr</th><th style=\"text-align: right;\">  iter</th><th style=\"text-align: right;\">  total time (s)</th><th style=\"text-align: right;\">  val_acc</th><th style=\"text-align: right;\">  val_loss</th></tr>\n",
       "</thead>\n",
       "<tbody>\n",
       "<tr><td>train_net_83017_00005</td><td>RUNNING   </td><td>192.168.0.20:13408</td><td style=\"text-align: right;\">      0.5</td><td style=\"text-align: right;\">       5</td><td style=\"text-align: right;\">0.1  </td><td style=\"text-align: right;\">    11</td><td style=\"text-align: right;\">         130.027</td><td style=\"text-align: right;\">   0.4976</td><td style=\"text-align: right;\">  0.694136</td></tr>\n",
       "<tr><td>train_net_83017_00000</td><td>TERMINATED</td><td>                  </td><td style=\"text-align: right;\">      0.5</td><td style=\"text-align: right;\">       3</td><td style=\"text-align: right;\">0.001</td><td style=\"text-align: right;\">    12</td><td style=\"text-align: right;\">         150.568</td><td style=\"text-align: right;\">   0.8224</td><td style=\"text-align: right;\">  0.39639 </td></tr>\n",
       "<tr><td>train_net_83017_00001</td><td>TERMINATED</td><td>                  </td><td style=\"text-align: right;\">      0.5</td><td style=\"text-align: right;\">       5</td><td style=\"text-align: right;\">0.001</td><td style=\"text-align: right;\">    20</td><td style=\"text-align: right;\">         233.692</td><td style=\"text-align: right;\">   0.8268</td><td style=\"text-align: right;\">  0.399471</td></tr>\n",
       "<tr><td>train_net_83017_00002</td><td>TERMINATED</td><td>                  </td><td style=\"text-align: right;\">      0.5</td><td style=\"text-align: right;\">       3</td><td style=\"text-align: right;\">0.01 </td><td style=\"text-align: right;\">    12</td><td style=\"text-align: right;\">         143.941</td><td style=\"text-align: right;\">   0.8308</td><td style=\"text-align: right;\">  0.392363</td></tr>\n",
       "<tr><td>train_net_83017_00003</td><td>TERMINATED</td><td>                  </td><td style=\"text-align: right;\">      0.5</td><td style=\"text-align: right;\">       5</td><td style=\"text-align: right;\">0.01 </td><td style=\"text-align: right;\">    20</td><td style=\"text-align: right;\">         233.191</td><td style=\"text-align: right;\">   0.8264</td><td style=\"text-align: right;\">  0.423312</td></tr>\n",
       "<tr><td>train_net_83017_00004</td><td>TERMINATED</td><td>                  </td><td style=\"text-align: right;\">      0.5</td><td style=\"text-align: right;\">       3</td><td style=\"text-align: right;\">0.1  </td><td style=\"text-align: right;\">    12</td><td style=\"text-align: right;\">         138.904</td><td style=\"text-align: right;\">   0.4976</td><td style=\"text-align: right;\">  0.693437</td></tr>\n",
       "</tbody>\n",
       "</table><br><br>"
      ],
      "text/plain": [
       "<IPython.core.display.HTML object>"
      ]
     },
     "metadata": {},
     "output_type": "display_data"
    },
    {
     "name": "stdout",
     "output_type": "stream",
     "text": [
      "\u001b[2m\u001b[36m(pid=13408)\u001b[0m Epoch: 3/5... Step: 1100... Loss: 0.861329... Val Loss: 0.694136\n",
      "Result for train_net_83017_00005:\n",
      "  date: 2020-12-05_21-03-45\n",
      "  done: false\n",
      "  experiment_id: a69247b02f714f479be5d9dd89bb6dd2\n",
      "  experiment_tag: 5_dropout=0.5,epochs=5,lr=0.1\n",
      "  hostname: DESKTOP-LTLCMDK\n",
      "  iterations_since_restore: 12\n",
      "  node_ip: 192.168.0.20\n",
      "  pid: 13408\n",
      "  time_since_restore: 140.86457228660583\n",
      "  time_this_iter_s: 10.837826013565063\n",
      "  time_total_s: 140.86457228660583\n",
      "  timestamp: 1607198625\n",
      "  timesteps_since_restore: 0\n",
      "  training_iteration: 12\n",
      "  trial_id: '83017_00005'\n",
      "  val_acc: 0.4976\n",
      "  val_loss: 0.6941364085674286\n",
      "  \n"
     ]
    },
    {
     "data": {
      "text/html": [
       "== Status ==<br>Memory usage on this node: 7.6/13.9 GiB<br>Using FIFO scheduling algorithm.<br>Resources requested: 1/8 CPUs, 1/1 GPUs, 0.0/5.18 GiB heap, 0.0/1.76 GiB objects<br>Result logdir: C:\\Users\\Tijana Vukovic\\ray_results\\train_net_2020-12-05_20-46-04<br>Number of trials: 6/6 (1 RUNNING, 5 TERMINATED)<br><table>\n",
       "<thead>\n",
       "<tr><th>Trial name           </th><th>status    </th><th>loc               </th><th style=\"text-align: right;\">  dropout</th><th style=\"text-align: right;\">  epochs</th><th style=\"text-align: right;\">   lr</th><th style=\"text-align: right;\">  iter</th><th style=\"text-align: right;\">  total time (s)</th><th style=\"text-align: right;\">  val_acc</th><th style=\"text-align: right;\">  val_loss</th></tr>\n",
       "</thead>\n",
       "<tbody>\n",
       "<tr><td>train_net_83017_00005</td><td>RUNNING   </td><td>192.168.0.20:13408</td><td style=\"text-align: right;\">      0.5</td><td style=\"text-align: right;\">       5</td><td style=\"text-align: right;\">0.1  </td><td style=\"text-align: right;\">    12</td><td style=\"text-align: right;\">         140.865</td><td style=\"text-align: right;\">   0.4976</td><td style=\"text-align: right;\">  0.694136</td></tr>\n",
       "<tr><td>train_net_83017_00000</td><td>TERMINATED</td><td>                  </td><td style=\"text-align: right;\">      0.5</td><td style=\"text-align: right;\">       3</td><td style=\"text-align: right;\">0.001</td><td style=\"text-align: right;\">    12</td><td style=\"text-align: right;\">         150.568</td><td style=\"text-align: right;\">   0.8224</td><td style=\"text-align: right;\">  0.39639 </td></tr>\n",
       "<tr><td>train_net_83017_00001</td><td>TERMINATED</td><td>                  </td><td style=\"text-align: right;\">      0.5</td><td style=\"text-align: right;\">       5</td><td style=\"text-align: right;\">0.001</td><td style=\"text-align: right;\">    20</td><td style=\"text-align: right;\">         233.692</td><td style=\"text-align: right;\">   0.8268</td><td style=\"text-align: right;\">  0.399471</td></tr>\n",
       "<tr><td>train_net_83017_00002</td><td>TERMINATED</td><td>                  </td><td style=\"text-align: right;\">      0.5</td><td style=\"text-align: right;\">       3</td><td style=\"text-align: right;\">0.01 </td><td style=\"text-align: right;\">    12</td><td style=\"text-align: right;\">         143.941</td><td style=\"text-align: right;\">   0.8308</td><td style=\"text-align: right;\">  0.392363</td></tr>\n",
       "<tr><td>train_net_83017_00003</td><td>TERMINATED</td><td>                  </td><td style=\"text-align: right;\">      0.5</td><td style=\"text-align: right;\">       5</td><td style=\"text-align: right;\">0.01 </td><td style=\"text-align: right;\">    20</td><td style=\"text-align: right;\">         233.191</td><td style=\"text-align: right;\">   0.8264</td><td style=\"text-align: right;\">  0.423312</td></tr>\n",
       "<tr><td>train_net_83017_00004</td><td>TERMINATED</td><td>                  </td><td style=\"text-align: right;\">      0.5</td><td style=\"text-align: right;\">       3</td><td style=\"text-align: right;\">0.1  </td><td style=\"text-align: right;\">    12</td><td style=\"text-align: right;\">         138.904</td><td style=\"text-align: right;\">   0.4976</td><td style=\"text-align: right;\">  0.693437</td></tr>\n",
       "</tbody>\n",
       "</table><br><br>"
      ],
      "text/plain": [
       "<IPython.core.display.HTML object>"
      ]
     },
     "metadata": {},
     "output_type": "display_data"
    },
    {
     "name": "stdout",
     "output_type": "stream",
     "text": [
      "\u001b[2m\u001b[36m(pid=13408)\u001b[0m Epoch: 3/5... Step: 1200... Loss: 0.829714... Val Loss: 0.758446\n",
      "\u001b[2m\u001b[36m(pid=13408)\u001b[0m 3\n",
      "Result for train_net_83017_00005:\n",
      "  date: 2020-12-05_21-03-56\n",
      "  done: false\n",
      "  experiment_id: a69247b02f714f479be5d9dd89bb6dd2\n",
      "  experiment_tag: 5_dropout=0.5,epochs=5,lr=0.1\n",
      "  hostname: DESKTOP-LTLCMDK\n",
      "  iterations_since_restore: 13\n",
      "  node_ip: 192.168.0.20\n",
      "  pid: 13408\n",
      "  time_since_restore: 151.533385515213\n",
      "  time_this_iter_s: 10.668813228607178\n",
      "  time_total_s: 151.533385515213\n",
      "  timestamp: 1607198636\n",
      "  timesteps_since_restore: 0\n",
      "  training_iteration: 13\n",
      "  trial_id: '83017_00005'\n",
      "  val_acc: 0.4976\n",
      "  val_loss: 0.6941364085674286\n",
      "  \n"
     ]
    },
    {
     "data": {
      "text/html": [
       "== Status ==<br>Memory usage on this node: 7.5/13.9 GiB<br>Using FIFO scheduling algorithm.<br>Resources requested: 1/8 CPUs, 1/1 GPUs, 0.0/5.18 GiB heap, 0.0/1.76 GiB objects<br>Result logdir: C:\\Users\\Tijana Vukovic\\ray_results\\train_net_2020-12-05_20-46-04<br>Number of trials: 6/6 (1 RUNNING, 5 TERMINATED)<br><table>\n",
       "<thead>\n",
       "<tr><th>Trial name           </th><th>status    </th><th>loc               </th><th style=\"text-align: right;\">  dropout</th><th style=\"text-align: right;\">  epochs</th><th style=\"text-align: right;\">   lr</th><th style=\"text-align: right;\">  iter</th><th style=\"text-align: right;\">  total time (s)</th><th style=\"text-align: right;\">  val_acc</th><th style=\"text-align: right;\">  val_loss</th></tr>\n",
       "</thead>\n",
       "<tbody>\n",
       "<tr><td>train_net_83017_00005</td><td>RUNNING   </td><td>192.168.0.20:13408</td><td style=\"text-align: right;\">      0.5</td><td style=\"text-align: right;\">       5</td><td style=\"text-align: right;\">0.1  </td><td style=\"text-align: right;\">    13</td><td style=\"text-align: right;\">         151.533</td><td style=\"text-align: right;\">   0.4976</td><td style=\"text-align: right;\">  0.694136</td></tr>\n",
       "<tr><td>train_net_83017_00000</td><td>TERMINATED</td><td>                  </td><td style=\"text-align: right;\">      0.5</td><td style=\"text-align: right;\">       3</td><td style=\"text-align: right;\">0.001</td><td style=\"text-align: right;\">    12</td><td style=\"text-align: right;\">         150.568</td><td style=\"text-align: right;\">   0.8224</td><td style=\"text-align: right;\">  0.39639 </td></tr>\n",
       "<tr><td>train_net_83017_00001</td><td>TERMINATED</td><td>                  </td><td style=\"text-align: right;\">      0.5</td><td style=\"text-align: right;\">       5</td><td style=\"text-align: right;\">0.001</td><td style=\"text-align: right;\">    20</td><td style=\"text-align: right;\">         233.692</td><td style=\"text-align: right;\">   0.8268</td><td style=\"text-align: right;\">  0.399471</td></tr>\n",
       "<tr><td>train_net_83017_00002</td><td>TERMINATED</td><td>                  </td><td style=\"text-align: right;\">      0.5</td><td style=\"text-align: right;\">       3</td><td style=\"text-align: right;\">0.01 </td><td style=\"text-align: right;\">    12</td><td style=\"text-align: right;\">         143.941</td><td style=\"text-align: right;\">   0.8308</td><td style=\"text-align: right;\">  0.392363</td></tr>\n",
       "<tr><td>train_net_83017_00003</td><td>TERMINATED</td><td>                  </td><td style=\"text-align: right;\">      0.5</td><td style=\"text-align: right;\">       5</td><td style=\"text-align: right;\">0.01 </td><td style=\"text-align: right;\">    20</td><td style=\"text-align: right;\">         233.191</td><td style=\"text-align: right;\">   0.8264</td><td style=\"text-align: right;\">  0.423312</td></tr>\n",
       "<tr><td>train_net_83017_00004</td><td>TERMINATED</td><td>                  </td><td style=\"text-align: right;\">      0.5</td><td style=\"text-align: right;\">       3</td><td style=\"text-align: right;\">0.1  </td><td style=\"text-align: right;\">    12</td><td style=\"text-align: right;\">         138.904</td><td style=\"text-align: right;\">   0.4976</td><td style=\"text-align: right;\">  0.693437</td></tr>\n",
       "</tbody>\n",
       "</table><br><br>"
      ],
      "text/plain": [
       "<IPython.core.display.HTML object>"
      ]
     },
     "metadata": {},
     "output_type": "display_data"
    },
    {
     "name": "stdout",
     "output_type": "stream",
     "text": [
      "\u001b[2m\u001b[36m(pid=13408)\u001b[0m Epoch: 4/5... Step: 1300... Loss: 0.710675... Val Loss: 0.755231\n",
      "Result for train_net_83017_00005:\n",
      "  date: 2020-12-05_21-04-07\n",
      "  done: false\n",
      "  experiment_id: a69247b02f714f479be5d9dd89bb6dd2\n",
      "  experiment_tag: 5_dropout=0.5,epochs=5,lr=0.1\n",
      "  hostname: DESKTOP-LTLCMDK\n",
      "  iterations_since_restore: 14\n",
      "  node_ip: 192.168.0.20\n",
      "  pid: 13408\n",
      "  time_since_restore: 162.07819199562073\n",
      "  time_this_iter_s: 10.544806480407715\n",
      "  time_total_s: 162.07819199562073\n",
      "  timestamp: 1607198647\n",
      "  timesteps_since_restore: 0\n",
      "  training_iteration: 14\n",
      "  trial_id: '83017_00005'\n",
      "  val_acc: 0.4976\n",
      "  val_loss: 0.6941364085674286\n",
      "  \n"
     ]
    },
    {
     "data": {
      "text/html": [
       "== Status ==<br>Memory usage on this node: 7.5/13.9 GiB<br>Using FIFO scheduling algorithm.<br>Resources requested: 1/8 CPUs, 1/1 GPUs, 0.0/5.18 GiB heap, 0.0/1.76 GiB objects<br>Result logdir: C:\\Users\\Tijana Vukovic\\ray_results\\train_net_2020-12-05_20-46-04<br>Number of trials: 6/6 (1 RUNNING, 5 TERMINATED)<br><table>\n",
       "<thead>\n",
       "<tr><th>Trial name           </th><th>status    </th><th>loc               </th><th style=\"text-align: right;\">  dropout</th><th style=\"text-align: right;\">  epochs</th><th style=\"text-align: right;\">   lr</th><th style=\"text-align: right;\">  iter</th><th style=\"text-align: right;\">  total time (s)</th><th style=\"text-align: right;\">  val_acc</th><th style=\"text-align: right;\">  val_loss</th></tr>\n",
       "</thead>\n",
       "<tbody>\n",
       "<tr><td>train_net_83017_00005</td><td>RUNNING   </td><td>192.168.0.20:13408</td><td style=\"text-align: right;\">      0.5</td><td style=\"text-align: right;\">       5</td><td style=\"text-align: right;\">0.1  </td><td style=\"text-align: right;\">    14</td><td style=\"text-align: right;\">         162.078</td><td style=\"text-align: right;\">   0.4976</td><td style=\"text-align: right;\">  0.694136</td></tr>\n",
       "<tr><td>train_net_83017_00000</td><td>TERMINATED</td><td>                  </td><td style=\"text-align: right;\">      0.5</td><td style=\"text-align: right;\">       3</td><td style=\"text-align: right;\">0.001</td><td style=\"text-align: right;\">    12</td><td style=\"text-align: right;\">         150.568</td><td style=\"text-align: right;\">   0.8224</td><td style=\"text-align: right;\">  0.39639 </td></tr>\n",
       "<tr><td>train_net_83017_00001</td><td>TERMINATED</td><td>                  </td><td style=\"text-align: right;\">      0.5</td><td style=\"text-align: right;\">       5</td><td style=\"text-align: right;\">0.001</td><td style=\"text-align: right;\">    20</td><td style=\"text-align: right;\">         233.692</td><td style=\"text-align: right;\">   0.8268</td><td style=\"text-align: right;\">  0.399471</td></tr>\n",
       "<tr><td>train_net_83017_00002</td><td>TERMINATED</td><td>                  </td><td style=\"text-align: right;\">      0.5</td><td style=\"text-align: right;\">       3</td><td style=\"text-align: right;\">0.01 </td><td style=\"text-align: right;\">    12</td><td style=\"text-align: right;\">         143.941</td><td style=\"text-align: right;\">   0.8308</td><td style=\"text-align: right;\">  0.392363</td></tr>\n",
       "<tr><td>train_net_83017_00003</td><td>TERMINATED</td><td>                  </td><td style=\"text-align: right;\">      0.5</td><td style=\"text-align: right;\">       5</td><td style=\"text-align: right;\">0.01 </td><td style=\"text-align: right;\">    20</td><td style=\"text-align: right;\">         233.191</td><td style=\"text-align: right;\">   0.8264</td><td style=\"text-align: right;\">  0.423312</td></tr>\n",
       "<tr><td>train_net_83017_00004</td><td>TERMINATED</td><td>                  </td><td style=\"text-align: right;\">      0.5</td><td style=\"text-align: right;\">       3</td><td style=\"text-align: right;\">0.1  </td><td style=\"text-align: right;\">    12</td><td style=\"text-align: right;\">         138.904</td><td style=\"text-align: right;\">   0.4976</td><td style=\"text-align: right;\">  0.693437</td></tr>\n",
       "</tbody>\n",
       "</table><br><br>"
      ],
      "text/plain": [
       "<IPython.core.display.HTML object>"
      ]
     },
     "metadata": {},
     "output_type": "display_data"
    },
    {
     "name": "stdout",
     "output_type": "stream",
     "text": [
      "\u001b[2m\u001b[36m(pid=13408)\u001b[0m Epoch: 4/5... Step: 1400... Loss: 0.769230... Val Loss: 0.695345\n",
      "Result for train_net_83017_00005:\n",
      "  date: 2020-12-05_21-04-17\n",
      "  done: false\n",
      "  experiment_id: a69247b02f714f479be5d9dd89bb6dd2\n",
      "  experiment_tag: 5_dropout=0.5,epochs=5,lr=0.1\n",
      "  hostname: DESKTOP-LTLCMDK\n",
      "  iterations_since_restore: 15\n",
      "  node_ip: 192.168.0.20\n",
      "  pid: 13408\n",
      "  time_since_restore: 172.62899565696716\n",
      "  time_this_iter_s: 10.550803661346436\n",
      "  time_total_s: 172.62899565696716\n",
      "  timestamp: 1607198657\n",
      "  timesteps_since_restore: 0\n",
      "  training_iteration: 15\n",
      "  trial_id: '83017_00005'\n",
      "  val_acc: 0.4976\n",
      "  val_loss: 0.6941364085674286\n",
      "  \n"
     ]
    },
    {
     "data": {
      "text/html": [
       "== Status ==<br>Memory usage on this node: 7.5/13.9 GiB<br>Using FIFO scheduling algorithm.<br>Resources requested: 1/8 CPUs, 1/1 GPUs, 0.0/5.18 GiB heap, 0.0/1.76 GiB objects<br>Result logdir: C:\\Users\\Tijana Vukovic\\ray_results\\train_net_2020-12-05_20-46-04<br>Number of trials: 6/6 (1 RUNNING, 5 TERMINATED)<br><table>\n",
       "<thead>\n",
       "<tr><th>Trial name           </th><th>status    </th><th>loc               </th><th style=\"text-align: right;\">  dropout</th><th style=\"text-align: right;\">  epochs</th><th style=\"text-align: right;\">   lr</th><th style=\"text-align: right;\">  iter</th><th style=\"text-align: right;\">  total time (s)</th><th style=\"text-align: right;\">  val_acc</th><th style=\"text-align: right;\">  val_loss</th></tr>\n",
       "</thead>\n",
       "<tbody>\n",
       "<tr><td>train_net_83017_00005</td><td>RUNNING   </td><td>192.168.0.20:13408</td><td style=\"text-align: right;\">      0.5</td><td style=\"text-align: right;\">       5</td><td style=\"text-align: right;\">0.1  </td><td style=\"text-align: right;\">    15</td><td style=\"text-align: right;\">         172.629</td><td style=\"text-align: right;\">   0.4976</td><td style=\"text-align: right;\">  0.694136</td></tr>\n",
       "<tr><td>train_net_83017_00000</td><td>TERMINATED</td><td>                  </td><td style=\"text-align: right;\">      0.5</td><td style=\"text-align: right;\">       3</td><td style=\"text-align: right;\">0.001</td><td style=\"text-align: right;\">    12</td><td style=\"text-align: right;\">         150.568</td><td style=\"text-align: right;\">   0.8224</td><td style=\"text-align: right;\">  0.39639 </td></tr>\n",
       "<tr><td>train_net_83017_00001</td><td>TERMINATED</td><td>                  </td><td style=\"text-align: right;\">      0.5</td><td style=\"text-align: right;\">       5</td><td style=\"text-align: right;\">0.001</td><td style=\"text-align: right;\">    20</td><td style=\"text-align: right;\">         233.692</td><td style=\"text-align: right;\">   0.8268</td><td style=\"text-align: right;\">  0.399471</td></tr>\n",
       "<tr><td>train_net_83017_00002</td><td>TERMINATED</td><td>                  </td><td style=\"text-align: right;\">      0.5</td><td style=\"text-align: right;\">       3</td><td style=\"text-align: right;\">0.01 </td><td style=\"text-align: right;\">    12</td><td style=\"text-align: right;\">         143.941</td><td style=\"text-align: right;\">   0.8308</td><td style=\"text-align: right;\">  0.392363</td></tr>\n",
       "<tr><td>train_net_83017_00003</td><td>TERMINATED</td><td>                  </td><td style=\"text-align: right;\">      0.5</td><td style=\"text-align: right;\">       5</td><td style=\"text-align: right;\">0.01 </td><td style=\"text-align: right;\">    20</td><td style=\"text-align: right;\">         233.191</td><td style=\"text-align: right;\">   0.8264</td><td style=\"text-align: right;\">  0.423312</td></tr>\n",
       "<tr><td>train_net_83017_00004</td><td>TERMINATED</td><td>                  </td><td style=\"text-align: right;\">      0.5</td><td style=\"text-align: right;\">       3</td><td style=\"text-align: right;\">0.1  </td><td style=\"text-align: right;\">    12</td><td style=\"text-align: right;\">         138.904</td><td style=\"text-align: right;\">   0.4976</td><td style=\"text-align: right;\">  0.693437</td></tr>\n",
       "</tbody>\n",
       "</table><br><br>"
      ],
      "text/plain": [
       "<IPython.core.display.HTML object>"
      ]
     },
     "metadata": {},
     "output_type": "display_data"
    },
    {
     "name": "stdout",
     "output_type": "stream",
     "text": [
      "\u001b[2m\u001b[36m(pid=13408)\u001b[0m Epoch: 4/5... Step: 1500... Loss: 0.939007... Val Loss: 0.779570\n",
      "Result for train_net_83017_00005:\n",
      "  date: 2020-12-05_21-04-30\n",
      "  done: false\n",
      "  experiment_id: a69247b02f714f479be5d9dd89bb6dd2\n",
      "  experiment_tag: 5_dropout=0.5,epochs=5,lr=0.1\n",
      "  hostname: DESKTOP-LTLCMDK\n",
      "  iterations_since_restore: 16\n",
      "  node_ip: 192.168.0.20\n",
      "  pid: 13408\n",
      "  should_checkpoint: true\n",
      "  time_since_restore: 185.33844304084778\n",
      "  time_this_iter_s: 12.709447383880615\n",
      "  time_total_s: 185.33844304084778\n",
      "  timestamp: 1607198670\n",
      "  timesteps_since_restore: 0\n",
      "  training_iteration: 16\n",
      "  trial_id: '83017_00005'\n",
      "  val_acc: 0.4976\n",
      "  val_loss: 0.6933684945106506\n",
      "  \n"
     ]
    },
    {
     "data": {
      "text/html": [
       "== Status ==<br>Memory usage on this node: 7.6/13.9 GiB<br>Using FIFO scheduling algorithm.<br>Resources requested: 1/8 CPUs, 1/1 GPUs, 0.0/5.18 GiB heap, 0.0/1.76 GiB objects<br>Result logdir: C:\\Users\\Tijana Vukovic\\ray_results\\train_net_2020-12-05_20-46-04<br>Number of trials: 6/6 (1 RUNNING, 5 TERMINATED)<br><table>\n",
       "<thead>\n",
       "<tr><th>Trial name           </th><th>status    </th><th>loc               </th><th style=\"text-align: right;\">  dropout</th><th style=\"text-align: right;\">  epochs</th><th style=\"text-align: right;\">   lr</th><th style=\"text-align: right;\">  iter</th><th style=\"text-align: right;\">  total time (s)</th><th style=\"text-align: right;\">  val_acc</th><th style=\"text-align: right;\">  val_loss</th></tr>\n",
       "</thead>\n",
       "<tbody>\n",
       "<tr><td>train_net_83017_00005</td><td>RUNNING   </td><td>192.168.0.20:13408</td><td style=\"text-align: right;\">      0.5</td><td style=\"text-align: right;\">       5</td><td style=\"text-align: right;\">0.1  </td><td style=\"text-align: right;\">    16</td><td style=\"text-align: right;\">         185.338</td><td style=\"text-align: right;\">   0.4976</td><td style=\"text-align: right;\">  0.693368</td></tr>\n",
       "<tr><td>train_net_83017_00000</td><td>TERMINATED</td><td>                  </td><td style=\"text-align: right;\">      0.5</td><td style=\"text-align: right;\">       3</td><td style=\"text-align: right;\">0.001</td><td style=\"text-align: right;\">    12</td><td style=\"text-align: right;\">         150.568</td><td style=\"text-align: right;\">   0.8224</td><td style=\"text-align: right;\">  0.39639 </td></tr>\n",
       "<tr><td>train_net_83017_00001</td><td>TERMINATED</td><td>                  </td><td style=\"text-align: right;\">      0.5</td><td style=\"text-align: right;\">       5</td><td style=\"text-align: right;\">0.001</td><td style=\"text-align: right;\">    20</td><td style=\"text-align: right;\">         233.692</td><td style=\"text-align: right;\">   0.8268</td><td style=\"text-align: right;\">  0.399471</td></tr>\n",
       "<tr><td>train_net_83017_00002</td><td>TERMINATED</td><td>                  </td><td style=\"text-align: right;\">      0.5</td><td style=\"text-align: right;\">       3</td><td style=\"text-align: right;\">0.01 </td><td style=\"text-align: right;\">    12</td><td style=\"text-align: right;\">         143.941</td><td style=\"text-align: right;\">   0.8308</td><td style=\"text-align: right;\">  0.392363</td></tr>\n",
       "<tr><td>train_net_83017_00003</td><td>TERMINATED</td><td>                  </td><td style=\"text-align: right;\">      0.5</td><td style=\"text-align: right;\">       5</td><td style=\"text-align: right;\">0.01 </td><td style=\"text-align: right;\">    20</td><td style=\"text-align: right;\">         233.191</td><td style=\"text-align: right;\">   0.8264</td><td style=\"text-align: right;\">  0.423312</td></tr>\n",
       "<tr><td>train_net_83017_00004</td><td>TERMINATED</td><td>                  </td><td style=\"text-align: right;\">      0.5</td><td style=\"text-align: right;\">       3</td><td style=\"text-align: right;\">0.1  </td><td style=\"text-align: right;\">    12</td><td style=\"text-align: right;\">         138.904</td><td style=\"text-align: right;\">   0.4976</td><td style=\"text-align: right;\">  0.693437</td></tr>\n",
       "</tbody>\n",
       "</table><br><br>"
      ],
      "text/plain": [
       "<IPython.core.display.HTML object>"
      ]
     },
     "metadata": {},
     "output_type": "display_data"
    },
    {
     "name": "stdout",
     "output_type": "stream",
     "text": [
      "\u001b[2m\u001b[36m(pid=13408)\u001b[0m Epoch: 4/5... Step: 1600... Loss: 0.823576... Val Loss: 0.693368\n",
      "\u001b[2m\u001b[36m(pid=13408)\u001b[0m 4\n",
      "Result for train_net_83017_00005:\n",
      "  date: 2020-12-05_21-04-41\n",
      "  done: false\n",
      "  experiment_id: a69247b02f714f479be5d9dd89bb6dd2\n",
      "  experiment_tag: 5_dropout=0.5,epochs=5,lr=0.1\n",
      "  hostname: DESKTOP-LTLCMDK\n",
      "  iterations_since_restore: 17\n",
      "  node_ip: 192.168.0.20\n",
      "  pid: 13408\n",
      "  time_since_restore: 196.1712725162506\n",
      "  time_this_iter_s: 10.832829475402832\n",
      "  time_total_s: 196.1712725162506\n",
      "  timestamp: 1607198681\n",
      "  timesteps_since_restore: 0\n",
      "  training_iteration: 17\n",
      "  trial_id: '83017_00005'\n",
      "  val_acc: 0.4976\n",
      "  val_loss: 0.6933684945106506\n",
      "  \n"
     ]
    },
    {
     "data": {
      "text/html": [
       "== Status ==<br>Memory usage on this node: 7.5/13.9 GiB<br>Using FIFO scheduling algorithm.<br>Resources requested: 1/8 CPUs, 1/1 GPUs, 0.0/5.18 GiB heap, 0.0/1.76 GiB objects<br>Result logdir: C:\\Users\\Tijana Vukovic\\ray_results\\train_net_2020-12-05_20-46-04<br>Number of trials: 6/6 (1 RUNNING, 5 TERMINATED)<br><table>\n",
       "<thead>\n",
       "<tr><th>Trial name           </th><th>status    </th><th>loc               </th><th style=\"text-align: right;\">  dropout</th><th style=\"text-align: right;\">  epochs</th><th style=\"text-align: right;\">   lr</th><th style=\"text-align: right;\">  iter</th><th style=\"text-align: right;\">  total time (s)</th><th style=\"text-align: right;\">  val_acc</th><th style=\"text-align: right;\">  val_loss</th></tr>\n",
       "</thead>\n",
       "<tbody>\n",
       "<tr><td>train_net_83017_00005</td><td>RUNNING   </td><td>192.168.0.20:13408</td><td style=\"text-align: right;\">      0.5</td><td style=\"text-align: right;\">       5</td><td style=\"text-align: right;\">0.1  </td><td style=\"text-align: right;\">    17</td><td style=\"text-align: right;\">         196.171</td><td style=\"text-align: right;\">   0.4976</td><td style=\"text-align: right;\">  0.693368</td></tr>\n",
       "<tr><td>train_net_83017_00000</td><td>TERMINATED</td><td>                  </td><td style=\"text-align: right;\">      0.5</td><td style=\"text-align: right;\">       3</td><td style=\"text-align: right;\">0.001</td><td style=\"text-align: right;\">    12</td><td style=\"text-align: right;\">         150.568</td><td style=\"text-align: right;\">   0.8224</td><td style=\"text-align: right;\">  0.39639 </td></tr>\n",
       "<tr><td>train_net_83017_00001</td><td>TERMINATED</td><td>                  </td><td style=\"text-align: right;\">      0.5</td><td style=\"text-align: right;\">       5</td><td style=\"text-align: right;\">0.001</td><td style=\"text-align: right;\">    20</td><td style=\"text-align: right;\">         233.692</td><td style=\"text-align: right;\">   0.8268</td><td style=\"text-align: right;\">  0.399471</td></tr>\n",
       "<tr><td>train_net_83017_00002</td><td>TERMINATED</td><td>                  </td><td style=\"text-align: right;\">      0.5</td><td style=\"text-align: right;\">       3</td><td style=\"text-align: right;\">0.01 </td><td style=\"text-align: right;\">    12</td><td style=\"text-align: right;\">         143.941</td><td style=\"text-align: right;\">   0.8308</td><td style=\"text-align: right;\">  0.392363</td></tr>\n",
       "<tr><td>train_net_83017_00003</td><td>TERMINATED</td><td>                  </td><td style=\"text-align: right;\">      0.5</td><td style=\"text-align: right;\">       5</td><td style=\"text-align: right;\">0.01 </td><td style=\"text-align: right;\">    20</td><td style=\"text-align: right;\">         233.191</td><td style=\"text-align: right;\">   0.8264</td><td style=\"text-align: right;\">  0.423312</td></tr>\n",
       "<tr><td>train_net_83017_00004</td><td>TERMINATED</td><td>                  </td><td style=\"text-align: right;\">      0.5</td><td style=\"text-align: right;\">       3</td><td style=\"text-align: right;\">0.1  </td><td style=\"text-align: right;\">    12</td><td style=\"text-align: right;\">         138.904</td><td style=\"text-align: right;\">   0.4976</td><td style=\"text-align: right;\">  0.693437</td></tr>\n",
       "</tbody>\n",
       "</table><br><br>"
      ],
      "text/plain": [
       "<IPython.core.display.HTML object>"
      ]
     },
     "metadata": {},
     "output_type": "display_data"
    },
    {
     "name": "stdout",
     "output_type": "stream",
     "text": [
      "\u001b[2m\u001b[36m(pid=13408)\u001b[0m Epoch: 5/5... Step: 1700... Loss: 0.819316... Val Loss: 0.761798\n",
      "Result for train_net_83017_00005:\n",
      "  date: 2020-12-05_21-04-53\n",
      "  done: false\n",
      "  experiment_id: a69247b02f714f479be5d9dd89bb6dd2\n",
      "  experiment_tag: 5_dropout=0.5,epochs=5,lr=0.1\n",
      "  hostname: DESKTOP-LTLCMDK\n",
      "  iterations_since_restore: 18\n",
      "  node_ip: 192.168.0.20\n",
      "  pid: 13408\n",
      "  should_checkpoint: true\n",
      "  time_since_restore: 208.77879428863525\n",
      "  time_this_iter_s: 12.607521772384644\n",
      "  time_total_s: 208.77879428863525\n",
      "  timestamp: 1607198693\n",
      "  timesteps_since_restore: 0\n",
      "  training_iteration: 18\n",
      "  trial_id: '83017_00005'\n",
      "  val_acc: 0.4952\n",
      "  val_loss: 0.6931797075271606\n",
      "  \n"
     ]
    },
    {
     "data": {
      "text/html": [
       "== Status ==<br>Memory usage on this node: 7.6/13.9 GiB<br>Using FIFO scheduling algorithm.<br>Resources requested: 1/8 CPUs, 1/1 GPUs, 0.0/5.18 GiB heap, 0.0/1.76 GiB objects<br>Result logdir: C:\\Users\\Tijana Vukovic\\ray_results\\train_net_2020-12-05_20-46-04<br>Number of trials: 6/6 (1 RUNNING, 5 TERMINATED)<br><table>\n",
       "<thead>\n",
       "<tr><th>Trial name           </th><th>status    </th><th>loc               </th><th style=\"text-align: right;\">  dropout</th><th style=\"text-align: right;\">  epochs</th><th style=\"text-align: right;\">   lr</th><th style=\"text-align: right;\">  iter</th><th style=\"text-align: right;\">  total time (s)</th><th style=\"text-align: right;\">  val_acc</th><th style=\"text-align: right;\">  val_loss</th></tr>\n",
       "</thead>\n",
       "<tbody>\n",
       "<tr><td>train_net_83017_00005</td><td>RUNNING   </td><td>192.168.0.20:13408</td><td style=\"text-align: right;\">      0.5</td><td style=\"text-align: right;\">       5</td><td style=\"text-align: right;\">0.1  </td><td style=\"text-align: right;\">    18</td><td style=\"text-align: right;\">         208.779</td><td style=\"text-align: right;\">   0.4952</td><td style=\"text-align: right;\">  0.69318 </td></tr>\n",
       "<tr><td>train_net_83017_00000</td><td>TERMINATED</td><td>                  </td><td style=\"text-align: right;\">      0.5</td><td style=\"text-align: right;\">       3</td><td style=\"text-align: right;\">0.001</td><td style=\"text-align: right;\">    12</td><td style=\"text-align: right;\">         150.568</td><td style=\"text-align: right;\">   0.8224</td><td style=\"text-align: right;\">  0.39639 </td></tr>\n",
       "<tr><td>train_net_83017_00001</td><td>TERMINATED</td><td>                  </td><td style=\"text-align: right;\">      0.5</td><td style=\"text-align: right;\">       5</td><td style=\"text-align: right;\">0.001</td><td style=\"text-align: right;\">    20</td><td style=\"text-align: right;\">         233.692</td><td style=\"text-align: right;\">   0.8268</td><td style=\"text-align: right;\">  0.399471</td></tr>\n",
       "<tr><td>train_net_83017_00002</td><td>TERMINATED</td><td>                  </td><td style=\"text-align: right;\">      0.5</td><td style=\"text-align: right;\">       3</td><td style=\"text-align: right;\">0.01 </td><td style=\"text-align: right;\">    12</td><td style=\"text-align: right;\">         143.941</td><td style=\"text-align: right;\">   0.8308</td><td style=\"text-align: right;\">  0.392363</td></tr>\n",
       "<tr><td>train_net_83017_00003</td><td>TERMINATED</td><td>                  </td><td style=\"text-align: right;\">      0.5</td><td style=\"text-align: right;\">       5</td><td style=\"text-align: right;\">0.01 </td><td style=\"text-align: right;\">    20</td><td style=\"text-align: right;\">         233.191</td><td style=\"text-align: right;\">   0.8264</td><td style=\"text-align: right;\">  0.423312</td></tr>\n",
       "<tr><td>train_net_83017_00004</td><td>TERMINATED</td><td>                  </td><td style=\"text-align: right;\">      0.5</td><td style=\"text-align: right;\">       3</td><td style=\"text-align: right;\">0.1  </td><td style=\"text-align: right;\">    12</td><td style=\"text-align: right;\">         138.904</td><td style=\"text-align: right;\">   0.4976</td><td style=\"text-align: right;\">  0.693437</td></tr>\n",
       "</tbody>\n",
       "</table><br><br>"
      ],
      "text/plain": [
       "<IPython.core.display.HTML object>"
      ]
     },
     "metadata": {},
     "output_type": "display_data"
    },
    {
     "name": "stdout",
     "output_type": "stream",
     "text": [
      "\u001b[2m\u001b[36m(pid=13408)\u001b[0m Epoch: 5/5... Step: 1800... Loss: 0.845638... Val Loss: 0.693180\n",
      "Result for train_net_83017_00005:\n",
      "  date: 2020-12-05_21-05-06\n",
      "  done: false\n",
      "  experiment_id: a69247b02f714f479be5d9dd89bb6dd2\n",
      "  experiment_tag: 5_dropout=0.5,epochs=5,lr=0.1\n",
      "  hostname: DESKTOP-LTLCMDK\n",
      "  iterations_since_restore: 19\n",
      "  node_ip: 192.168.0.20\n",
      "  pid: 13408\n",
      "  should_checkpoint: true\n",
      "  time_since_restore: 221.63579082489014\n",
      "  time_this_iter_s: 12.856996536254883\n",
      "  time_total_s: 221.63579082489014\n",
      "  timestamp: 1607198706\n",
      "  timesteps_since_restore: 0\n",
      "  training_iteration: 19\n",
      "  trial_id: '83017_00005'\n",
      "  val_acc: 0.5036\n",
      "  val_loss: 0.6930728399753571\n",
      "  \n"
     ]
    },
    {
     "data": {
      "text/html": [
       "== Status ==<br>Memory usage on this node: 7.6/13.9 GiB<br>Using FIFO scheduling algorithm.<br>Resources requested: 1/8 CPUs, 1/1 GPUs, 0.0/5.18 GiB heap, 0.0/1.76 GiB objects<br>Result logdir: C:\\Users\\Tijana Vukovic\\ray_results\\train_net_2020-12-05_20-46-04<br>Number of trials: 6/6 (1 RUNNING, 5 TERMINATED)<br><table>\n",
       "<thead>\n",
       "<tr><th>Trial name           </th><th>status    </th><th>loc               </th><th style=\"text-align: right;\">  dropout</th><th style=\"text-align: right;\">  epochs</th><th style=\"text-align: right;\">   lr</th><th style=\"text-align: right;\">  iter</th><th style=\"text-align: right;\">  total time (s)</th><th style=\"text-align: right;\">  val_acc</th><th style=\"text-align: right;\">  val_loss</th></tr>\n",
       "</thead>\n",
       "<tbody>\n",
       "<tr><td>train_net_83017_00005</td><td>RUNNING   </td><td>192.168.0.20:13408</td><td style=\"text-align: right;\">      0.5</td><td style=\"text-align: right;\">       5</td><td style=\"text-align: right;\">0.1  </td><td style=\"text-align: right;\">    19</td><td style=\"text-align: right;\">         221.636</td><td style=\"text-align: right;\">   0.5036</td><td style=\"text-align: right;\">  0.693073</td></tr>\n",
       "<tr><td>train_net_83017_00000</td><td>TERMINATED</td><td>                  </td><td style=\"text-align: right;\">      0.5</td><td style=\"text-align: right;\">       3</td><td style=\"text-align: right;\">0.001</td><td style=\"text-align: right;\">    12</td><td style=\"text-align: right;\">         150.568</td><td style=\"text-align: right;\">   0.8224</td><td style=\"text-align: right;\">  0.39639 </td></tr>\n",
       "<tr><td>train_net_83017_00001</td><td>TERMINATED</td><td>                  </td><td style=\"text-align: right;\">      0.5</td><td style=\"text-align: right;\">       5</td><td style=\"text-align: right;\">0.001</td><td style=\"text-align: right;\">    20</td><td style=\"text-align: right;\">         233.692</td><td style=\"text-align: right;\">   0.8268</td><td style=\"text-align: right;\">  0.399471</td></tr>\n",
       "<tr><td>train_net_83017_00002</td><td>TERMINATED</td><td>                  </td><td style=\"text-align: right;\">      0.5</td><td style=\"text-align: right;\">       3</td><td style=\"text-align: right;\">0.01 </td><td style=\"text-align: right;\">    12</td><td style=\"text-align: right;\">         143.941</td><td style=\"text-align: right;\">   0.8308</td><td style=\"text-align: right;\">  0.392363</td></tr>\n",
       "<tr><td>train_net_83017_00003</td><td>TERMINATED</td><td>                  </td><td style=\"text-align: right;\">      0.5</td><td style=\"text-align: right;\">       5</td><td style=\"text-align: right;\">0.01 </td><td style=\"text-align: right;\">    20</td><td style=\"text-align: right;\">         233.191</td><td style=\"text-align: right;\">   0.8264</td><td style=\"text-align: right;\">  0.423312</td></tr>\n",
       "<tr><td>train_net_83017_00004</td><td>TERMINATED</td><td>                  </td><td style=\"text-align: right;\">      0.5</td><td style=\"text-align: right;\">       3</td><td style=\"text-align: right;\">0.1  </td><td style=\"text-align: right;\">    12</td><td style=\"text-align: right;\">         138.904</td><td style=\"text-align: right;\">   0.4976</td><td style=\"text-align: right;\">  0.693437</td></tr>\n",
       "</tbody>\n",
       "</table><br><br>"
      ],
      "text/plain": [
       "<IPython.core.display.HTML object>"
      ]
     },
     "metadata": {},
     "output_type": "display_data"
    },
    {
     "name": "stdout",
     "output_type": "stream",
     "text": [
      "\u001b[2m\u001b[36m(pid=13408)\u001b[0m Epoch: 5/5... Step: 1900... Loss: 0.694481... Val Loss: 0.693073\n",
      "Result for train_net_83017_00005:\n",
      "  date: 2020-12-05_21-05-17\n",
      "  done: false\n",
      "  experiment_id: a69247b02f714f479be5d9dd89bb6dd2\n",
      "  experiment_tag: 5_dropout=0.5,epochs=5,lr=0.1\n",
      "  hostname: DESKTOP-LTLCMDK\n",
      "  iterations_since_restore: 20\n",
      "  node_ip: 192.168.0.20\n",
      "  pid: 13408\n",
      "  time_since_restore: 232.56262588500977\n",
      "  time_this_iter_s: 10.926835060119629\n",
      "  time_total_s: 232.56262588500977\n",
      "  timestamp: 1607198717\n",
      "  timesteps_since_restore: 0\n",
      "  training_iteration: 20\n",
      "  trial_id: '83017_00005'\n",
      "  val_acc: 0.5036\n",
      "  val_loss: 0.6930728399753571\n",
      "  \n"
     ]
    },
    {
     "data": {
      "text/html": [
       "== Status ==<br>Memory usage on this node: 7.5/13.9 GiB<br>Using FIFO scheduling algorithm.<br>Resources requested: 1/8 CPUs, 1/1 GPUs, 0.0/5.18 GiB heap, 0.0/1.76 GiB objects<br>Result logdir: C:\\Users\\Tijana Vukovic\\ray_results\\train_net_2020-12-05_20-46-04<br>Number of trials: 6/6 (1 RUNNING, 5 TERMINATED)<br><table>\n",
       "<thead>\n",
       "<tr><th>Trial name           </th><th>status    </th><th>loc               </th><th style=\"text-align: right;\">  dropout</th><th style=\"text-align: right;\">  epochs</th><th style=\"text-align: right;\">   lr</th><th style=\"text-align: right;\">  iter</th><th style=\"text-align: right;\">  total time (s)</th><th style=\"text-align: right;\">  val_acc</th><th style=\"text-align: right;\">  val_loss</th></tr>\n",
       "</thead>\n",
       "<tbody>\n",
       "<tr><td>train_net_83017_00005</td><td>RUNNING   </td><td>192.168.0.20:13408</td><td style=\"text-align: right;\">      0.5</td><td style=\"text-align: right;\">       5</td><td style=\"text-align: right;\">0.1  </td><td style=\"text-align: right;\">    20</td><td style=\"text-align: right;\">         232.563</td><td style=\"text-align: right;\">   0.5036</td><td style=\"text-align: right;\">  0.693073</td></tr>\n",
       "<tr><td>train_net_83017_00000</td><td>TERMINATED</td><td>                  </td><td style=\"text-align: right;\">      0.5</td><td style=\"text-align: right;\">       3</td><td style=\"text-align: right;\">0.001</td><td style=\"text-align: right;\">    12</td><td style=\"text-align: right;\">         150.568</td><td style=\"text-align: right;\">   0.8224</td><td style=\"text-align: right;\">  0.39639 </td></tr>\n",
       "<tr><td>train_net_83017_00001</td><td>TERMINATED</td><td>                  </td><td style=\"text-align: right;\">      0.5</td><td style=\"text-align: right;\">       5</td><td style=\"text-align: right;\">0.001</td><td style=\"text-align: right;\">    20</td><td style=\"text-align: right;\">         233.692</td><td style=\"text-align: right;\">   0.8268</td><td style=\"text-align: right;\">  0.399471</td></tr>\n",
       "<tr><td>train_net_83017_00002</td><td>TERMINATED</td><td>                  </td><td style=\"text-align: right;\">      0.5</td><td style=\"text-align: right;\">       3</td><td style=\"text-align: right;\">0.01 </td><td style=\"text-align: right;\">    12</td><td style=\"text-align: right;\">         143.941</td><td style=\"text-align: right;\">   0.8308</td><td style=\"text-align: right;\">  0.392363</td></tr>\n",
       "<tr><td>train_net_83017_00003</td><td>TERMINATED</td><td>                  </td><td style=\"text-align: right;\">      0.5</td><td style=\"text-align: right;\">       5</td><td style=\"text-align: right;\">0.01 </td><td style=\"text-align: right;\">    20</td><td style=\"text-align: right;\">         233.191</td><td style=\"text-align: right;\">   0.8264</td><td style=\"text-align: right;\">  0.423312</td></tr>\n",
       "<tr><td>train_net_83017_00004</td><td>TERMINATED</td><td>                  </td><td style=\"text-align: right;\">      0.5</td><td style=\"text-align: right;\">       3</td><td style=\"text-align: right;\">0.1  </td><td style=\"text-align: right;\">    12</td><td style=\"text-align: right;\">         138.904</td><td style=\"text-align: right;\">   0.4976</td><td style=\"text-align: right;\">  0.693437</td></tr>\n",
       "</tbody>\n",
       "</table><br><br>"
      ],
      "text/plain": [
       "<IPython.core.display.HTML object>"
      ]
     },
     "metadata": {},
     "output_type": "display_data"
    },
    {
     "data": {
      "text/html": [
       "== Status ==<br>Memory usage on this node: 7.5/13.9 GiB<br>Using FIFO scheduling algorithm.<br>Resources requested: 0/8 CPUs, 0/1 GPUs, 0.0/5.18 GiB heap, 0.0/1.76 GiB objects<br>Result logdir: C:\\Users\\Tijana Vukovic\\ray_results\\train_net_2020-12-05_20-46-04<br>Number of trials: 6/6 (6 TERMINATED)<br><table>\n",
       "<thead>\n",
       "<tr><th>Trial name           </th><th>status    </th><th>loc  </th><th style=\"text-align: right;\">  dropout</th><th style=\"text-align: right;\">  epochs</th><th style=\"text-align: right;\">   lr</th><th style=\"text-align: right;\">  iter</th><th style=\"text-align: right;\">  total time (s)</th><th style=\"text-align: right;\">  val_acc</th><th style=\"text-align: right;\">  val_loss</th></tr>\n",
       "</thead>\n",
       "<tbody>\n",
       "<tr><td>train_net_83017_00000</td><td>TERMINATED</td><td>     </td><td style=\"text-align: right;\">      0.5</td><td style=\"text-align: right;\">       3</td><td style=\"text-align: right;\">0.001</td><td style=\"text-align: right;\">    12</td><td style=\"text-align: right;\">         150.568</td><td style=\"text-align: right;\">   0.8224</td><td style=\"text-align: right;\">  0.39639 </td></tr>\n",
       "<tr><td>train_net_83017_00001</td><td>TERMINATED</td><td>     </td><td style=\"text-align: right;\">      0.5</td><td style=\"text-align: right;\">       5</td><td style=\"text-align: right;\">0.001</td><td style=\"text-align: right;\">    20</td><td style=\"text-align: right;\">         233.692</td><td style=\"text-align: right;\">   0.8268</td><td style=\"text-align: right;\">  0.399471</td></tr>\n",
       "<tr><td>train_net_83017_00002</td><td>TERMINATED</td><td>     </td><td style=\"text-align: right;\">      0.5</td><td style=\"text-align: right;\">       3</td><td style=\"text-align: right;\">0.01 </td><td style=\"text-align: right;\">    12</td><td style=\"text-align: right;\">         143.941</td><td style=\"text-align: right;\">   0.8308</td><td style=\"text-align: right;\">  0.392363</td></tr>\n",
       "<tr><td>train_net_83017_00003</td><td>TERMINATED</td><td>     </td><td style=\"text-align: right;\">      0.5</td><td style=\"text-align: right;\">       5</td><td style=\"text-align: right;\">0.01 </td><td style=\"text-align: right;\">    20</td><td style=\"text-align: right;\">         233.191</td><td style=\"text-align: right;\">   0.8264</td><td style=\"text-align: right;\">  0.423312</td></tr>\n",
       "<tr><td>train_net_83017_00004</td><td>TERMINATED</td><td>     </td><td style=\"text-align: right;\">      0.5</td><td style=\"text-align: right;\">       3</td><td style=\"text-align: right;\">0.1  </td><td style=\"text-align: right;\">    12</td><td style=\"text-align: right;\">         138.904</td><td style=\"text-align: right;\">   0.4976</td><td style=\"text-align: right;\">  0.693437</td></tr>\n",
       "<tr><td>train_net_83017_00005</td><td>TERMINATED</td><td>     </td><td style=\"text-align: right;\">      0.5</td><td style=\"text-align: right;\">       5</td><td style=\"text-align: right;\">0.1  </td><td style=\"text-align: right;\">    20</td><td style=\"text-align: right;\">         232.563</td><td style=\"text-align: right;\">   0.5036</td><td style=\"text-align: right;\">  0.693073</td></tr>\n",
       "</tbody>\n",
       "</table><br><br>"
      ],
      "text/plain": [
       "<IPython.core.display.HTML object>"
      ]
     },
     "metadata": {},
     "output_type": "display_data"
    },
    {
     "name": "stderr",
     "output_type": "stream",
     "text": [
      "2020-12-05 21:05:17,693\tINFO tune.py:439 -- Total run time: 1162.59 seconds (1152.59 seconds for the tuning loop).\n"
     ]
    },
    {
     "name": "stdout",
     "output_type": "stream",
     "text": [
      "\u001b[2m\u001b[36m(pid=13408)\u001b[0m Epoch: 5/5... Step: 2000... Loss: 0.836307... Val Loss: 0.859200\r\n"
     ]
    }
   ],
   "source": [
    "analysis=tune.run(\n",
    "    train_net,\n",
    "    config=config,\n",
    "    resources_per_trial={'gpu': 1}\n",
    "    )"
   ]
  },
  {
   "cell_type": "markdown",
   "metadata": {},
   "source": [
    "Getting config with best minimum mean loss on validation set"
   ]
  },
  {
   "cell_type": "code",
   "execution_count": 22,
   "metadata": {},
   "outputs": [],
   "source": [
    "best_conf=analysis.get_best_config(metric=\"val_loss\", mode=\"min\")"
   ]
  },
  {
   "cell_type": "code",
   "execution_count": 23,
   "metadata": {},
   "outputs": [
    {
     "data": {
      "text/plain": [
       "{'lr': 0.01, 'epochs': 3, 'dropout': 0.5}"
      ]
     },
     "execution_count": 23,
     "metadata": {},
     "output_type": "execute_result"
    }
   ],
   "source": [
    "best_conf"
   ]
  },
  {
   "cell_type": "markdown",
   "metadata": {},
   "source": [
    "## Loading saved network with optimal parameters\n",
    "\n",
    "Making constructor for network with optimal parameters and then loding best saved checkpoint for that model."
   ]
  },
  {
   "cell_type": "code",
   "execution_count": 24,
   "metadata": {},
   "outputs": [
    {
     "data": {
      "text/plain": [
       "<All keys matched successfully>"
      ]
     },
     "execution_count": 24,
     "metadata": {},
     "output_type": "execute_result"
    }
   ],
   "source": [
    "best_trial = analysis.get_best_trial(\"val_loss\", \"min\", \"last\")\n",
    "best_trained_model = (best_trial.config[\"lr\"])    \n",
    "best_trained_model=SentimentRNN(vocab_size,hidden_size,output_size,n_layers,embedding_size)#\n",
    "\n",
    "best_checkpoint_dir = best_trial.checkpoint.value\n",
    "model_state, optimizer_state = torch.load(os.path.join(\n",
    "    best_checkpoint_dir, \"checkpoint\"))\n",
    "best_trained_model.load_state_dict(model_state)\n"
   ]
  },
  {
   "cell_type": "markdown",
   "metadata": {},
   "source": [
    "## Testing the network"
   ]
  },
  {
   "cell_type": "code",
   "execution_count": 25,
   "metadata": {},
   "outputs": [],
   "source": [
    "def test(model):\n",
    "\n",
    "    # Get test data loss and accuracy\n",
    "\n",
    "    test_losses = [] # track loss\n",
    "    num_correct = 0\n",
    "    net=model.cuda()\n",
    "    criterion=nn.BCELoss()\n",
    "    optimizer=torch.optim.Adam(net.parameters(),lr=best_trial.config[\"lr\"])\n",
    "    # init hidden state\n",
    "    h = net.init_hidden(batch_size)\n",
    "\n",
    "    net.eval()\n",
    "    # iterate over test data\n",
    "    for inputs, labels in testloader:\n",
    "        inputs,labels=inputs.cuda(),labels.cuda()\n",
    "        # Creating new variables for the hidden state, otherwise\n",
    "        # we'd backprop through the entire training history\n",
    "        h = tuple([each.data for each in h])\n",
    "\n",
    "        # get predicted outputs\n",
    "        output, h = net(inputs, h)\n",
    "\n",
    "        # calculate loss\n",
    "        test_loss = criterion(output.squeeze(), labels.float())\n",
    "        test_losses.append(test_loss.item())\n",
    "\n",
    "        # convert output probabilities to predicted class (0 or 1)\n",
    "        pred = torch.round(output.squeeze())  # rounds to the nearest integer\n",
    "\n",
    "        # compare predictions to true label\n",
    "        correct_tensor = pred.eq(labels.float().view_as(pred))\n",
    "        correct = np.squeeze(correct_tensor.cpu().numpy()) \n",
    "        num_correct += np.sum(correct)\n",
    "\n",
    "\n",
    "    # -- stats! -- ##\n",
    "    # avg test loss\n",
    "    print(\"Test loss: {:.3f}\".format(np.mean(test_losses)))\n",
    "\n",
    "    # accuracy over all test data\n",
    "    test_acc = num_correct/len(testloader.dataset)\n",
    "    print(\"Test accuracy: {:.3f}\".format(test_acc))"
   ]
  },
  {
   "cell_type": "code",
   "execution_count": 26,
   "metadata": {},
   "outputs": [
    {
     "name": "stdout",
     "output_type": "stream",
     "text": [
      "Test loss: 0.394\n",
      "Test accuracy: 0.836\n"
     ]
    }
   ],
   "source": [
    "test(best_trained_model)"
   ]
  },
  {
   "cell_type": "markdown",
   "metadata": {},
   "source": [
    "## We are taking our example of review and testing it on LSTM\n",
    "\n",
    "First we need to preprocess our sentence, tokenize it, convert to Tensor and then forward it to the input of the LSTM to make sentiment prediction of the sentence."
   ]
  },
  {
   "cell_type": "code",
   "execution_count": 27,
   "metadata": {},
   "outputs": [],
   "source": [
    "test_review_pos = 'This movie had the best acting and the dialogue was so good. I loved it.'\n"
   ]
  },
  {
   "cell_type": "code",
   "execution_count": 28,
   "metadata": {},
   "outputs": [],
   "source": [
    "def prepare_for_network(text, sequence_length):\n",
    "    text=text.lower()\n",
    "    text_without_punctuation=''.join([c for c in text if c not in punctuation])\n",
    "    test_words=text_without_punctuation.split()\n",
    "    test_ints=[]\n",
    "    test_ints.append([pairs[w] for w in test_words])\n",
    "    test_input=fixed_size_features(test_ints,sequence_length)\n",
    "    return test_input"
   ]
  },
  {
   "cell_type": "code",
   "execution_count": 29,
   "metadata": {},
   "outputs": [],
   "source": [
    "inputs=prepare_for_network(test_review_pos,200)"
   ]
  },
  {
   "cell_type": "code",
   "execution_count": 30,
   "metadata": {},
   "outputs": [
    {
     "data": {
      "text/plain": [
       "array([[    0,     0,     0,     0,     0,     0,     0,     0,     0,\n",
       "            0,     0,     0,     0,     0,     0,     0,     0,     0,\n",
       "            0,     0,     0,     0,     0,     0,     0,     0,     0,\n",
       "            0,     0,     0,     0,     0,     0,     0,     0,     0,\n",
       "            0,     0,     0,     0,     0,     0,     0,     0,     0,\n",
       "            0,     0,     0,     0,     0,     0,     0,     0,     0,\n",
       "            0,     0,     0,     0,     0,     0,     0,     0,     0,\n",
       "            0,     0,     0,     0,     0,     0,     0,     0,     0,\n",
       "            0,     0,     0,     0,     0,     0,     0,     0,     0,\n",
       "            0,     0,     0,     0,     0,     0,     0,     0,     0,\n",
       "            0,     0,     0,     0,     0,     0,     0,     0,     0,\n",
       "            0,     0,     0,     0,     0,     0,     0,     0,     0,\n",
       "            0,     0,     0,     0,     0,     0,     0,     0,     0,\n",
       "            0,     0,     0,     0,     0,     0,     0,     0,     0,\n",
       "            0,     0,     0,     0,     0,     0,     0,     0,     0,\n",
       "            0,     0,     0,     0,     0,     0,     0,     0,     0,\n",
       "            0,     0,     0,     0,     0,     0,     0,     0,     0,\n",
       "            0,     0,     0,     0,     0,     0,     0,     0,     0,\n",
       "            0,     0,     0,     0,     0,     0,     0,     0,     0,\n",
       "            0,     0,     0,     0,     0,     0,     0,     0,     0,\n",
       "            0,     0,     0,     0,     0, 52546, 29805, 73141, 56308,\n",
       "        58267,   574, 58131, 56308, 26576, 16054, 58233, 44809, 36249,\n",
       "         3964,   616]])"
      ]
     },
     "execution_count": 30,
     "metadata": {},
     "output_type": "execute_result"
    }
   ],
   "source": [
    "inputs"
   ]
  },
  {
   "cell_type": "code",
   "execution_count": 31,
   "metadata": {},
   "outputs": [],
   "source": [
    "def predict_sentiment(net,sequence):\n",
    "    seq=torch.tensor(sequence)\n",
    "    batch_size=seq.shape[0]\n",
    "    h=net.init_hidden(batch_size)\n",
    "    seq=seq.cuda()\n",
    "    out,h=net(seq,h)\n",
    "    print(out.item())\n",
    "    pred=round(out.item())\n",
    "    if(pred==1.0):\n",
    "        print(\"Positive\")\n",
    "    else:\n",
    "        print(\"Negative\")"
   ]
  },
  {
   "cell_type": "code",
   "execution_count": 32,
   "metadata": {},
   "outputs": [
    {
     "name": "stdout",
     "output_type": "stream",
     "text": [
      "0.822012722492218\n",
      "Positive\n"
     ]
    }
   ],
   "source": [
    "predict_sentiment(best_trained_model,inputs)"
   ]
  },
  {
   "cell_type": "code",
   "execution_count": 33,
   "metadata": {},
   "outputs": [],
   "source": [
    "test_review_neg = \"This movie had terrible actors, I didn't like it at all.\"\n",
    "inputs1=prepare_for_network(test_review_neg,200)"
   ]
  },
  {
   "cell_type": "code",
   "execution_count": 34,
   "metadata": {},
   "outputs": [
    {
     "name": "stdout",
     "output_type": "stream",
     "text": [
      "0.022622698917984962\n",
      "Negative\n"
     ]
    }
   ],
   "source": [
    "predict_sentiment(best_trained_model,inputs1)"
   ]
  },
  {
   "cell_type": "code",
   "execution_count": null,
   "metadata": {},
   "outputs": [],
   "source": []
  }
 ],
 "metadata": {
  "kernelspec": {
   "display_name": "Python 3",
   "language": "python",
   "name": "python3"
  },
  "language_info": {
   "codemirror_mode": {
    "name": "ipython",
    "version": 3
   },
   "file_extension": ".py",
   "mimetype": "text/x-python",
   "name": "python",
   "nbconvert_exporter": "python",
   "pygments_lexer": "ipython3",
   "version": "3.8.5"
  }
 },
 "nbformat": 4,
 "nbformat_minor": 4
}
